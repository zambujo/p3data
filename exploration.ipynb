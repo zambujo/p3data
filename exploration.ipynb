{
 "metadata": {
  "language_info": {
   "codemirror_mode": {
    "name": "ipython",
    "version": 3
   },
   "file_extension": ".py",
   "mimetype": "text/x-python",
   "name": "python",
   "nbconvert_exporter": "python",
   "pygments_lexer": "ipython3",
   "version": 3
  },
  "orig_nbformat": 2
 },
 "nbformat": 4,
 "nbformat_minor": 2,
 "cells": [
  {
   "source": [
    "# Exploring SNSF Public Data"
   ],
   "cell_type": "markdown",
   "metadata": {}
  },
  {
   "source": [
    "## Foreword\n",
    "\n",
    "The [Swiss National Science Foundation (SNSF)](http://www.snf.ch/en/Pages/default.aspx) is the leading public science funding agency in Switzerland.  In _GrantExport_, the SNSF provides detailed information about their approved grants.  In _PersonExport_, it also provides some information about the people associated to the grants.  Other tables provide further data about scientific publications, outputs, and collaborations reported by the grant applicants.  Please find the datasets and documentation [here](http://p3.snf.ch/Pages/DataAndDocumentation.aspx).\n",
    "\n",
    "Prior to exploring the data, I performed a number of cleaning and tidying operations on the _GrantExport_ and _PersonExport_ datasets (see [cleaning.html](./cleaning.html))."
   ],
   "cell_type": "markdown",
   "metadata": {}
  },
  {
   "cell_type": "code",
   "execution_count": null,
   "metadata": {},
   "outputs": [],
   "source": [
    "# boilerplate\n",
    "import numpy as np\n",
    "import pandas as pd\n",
    "import matplotlib as plt\n",
    "import seaborn as sns\n",
    "from plotnine import *\n",
    "sns.set_style('whitegrid')\n",
    "\n",
    "# open tidy datasets\n",
    "grants=pd.read_feather('data/grant.feather')\n",
    "grantees=pd.read_feather('data/grantee.feather')\n",
    "people=pd.read_feather('data/person.feather')"
   ]
  },
  {
   "cell_type": "code",
   "execution_count": null,
   "metadata": {},
   "outputs": [],
   "source": []
  },
  {
   "cell_type": "code",
   "execution_count": null,
   "metadata": {},
   "outputs": [],
   "source": []
  },
  {
   "cell_type": "code",
   "execution_count": null,
   "metadata": {},
   "outputs": [],
   "source": []
  },
  {
   "cell_type": "code",
   "execution_count": null,
   "metadata": {},
   "outputs": [],
   "source": []
  },
  {
   "cell_type": "code",
   "execution_count": null,
   "metadata": {},
   "outputs": [],
   "source": []
  },
  {
   "cell_type": "code",
   "execution_count": null,
   "metadata": {},
   "outputs": [],
   "source": []
  },
  {
   "cell_type": "code",
   "execution_count": null,
   "metadata": {},
   "outputs": [],
   "source": []
  }
 ]
}