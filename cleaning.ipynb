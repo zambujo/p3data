{
 "cells": [
  {
   "cell_type": "markdown",
   "metadata": {},
   "source": [
    "# Pre-processing SNSF Public Data"
   ]
  },
  {
   "cell_type": "code",
   "execution_count": 5,
   "metadata": {},
   "outputs": [],
   "source": [
    "import os\n",
    "import numpy as np\n",
    "import pandas as pd\n",
    "import matplotlib.pyplot as plt\n",
    "import seaborn as sns\n",
    "import requests"
   ]
  },
  {
   "cell_type": "markdown",
   "metadata": {},
   "source": [
    "## Gather"
   ]
  },
  {
   "cell_type": "code",
   "execution_count": 7,
   "metadata": {},
   "outputs": [],
   "source": [
    "UPDATE_DATA = False\n",
    "folder_name = 'rawdata'\n",
    "if not os.path.exists(folder_name):\n",
    "    os.makedirs(folder_name)"
   ]
  },
  {
   "source": [
    "file_names = [\"P3_GrantExport.csv\", \"P3_PersonExport.csv\", \"P3_PublicationExport.csv\", \"P3_GrantOutputDataExport.csv\"]\n",
    "\n",
    "if UPDATE_DATA:\n",
    "    for k in file_names:\n",
    "        url_grant = \"http://p3.snf.ch/P3Export/\" + k\n",
    "        print(url_grant)\n",
    "        response = requests.get(url_grant)\n",
    "        assert response.status_code == 200, \"status code for\" + k + \" not ok\"\n",
    "        \n",
    "        with open(os.path.join(folder_name, k), mode=\"wb\") as file:\n",
    "                file.write(response.content)"
   ],
   "cell_type": "code",
   "metadata": {},
   "execution_count": 9,
   "outputs": []
  },
  {
   "cell_type": "code",
   "execution_count": 11,
   "metadata": {},
   "outputs": [],
   "source": [
    "grants = pd.read_csv(os.path.join(folder_name, file_names[0]), sep=';')\n",
    "people = pd.read_csv(os.path.join(folder_name, file_names[1]), sep=';')\n",
    "publications = pd.read_csv(os.path.join(folder_name, file_names[2]), sep=';')\n",
    "output_data = pd.read_csv(os.path.join(folder_name, file_names[3]), sep=';')"
   ]
  },
  {
   "cell_type": "markdown",
   "metadata": {},
   "source": [
    "## Assess"
   ]
  },
  {
   "cell_type": "code",
   "execution_count": 13,
   "metadata": {},
   "outputs": [
    {
     "output_type": "execute_result",
     "data": {
      "text/plain": "       Project Number Project Number String  \\\n10269           25470           1113-025470   \n1502             1993           1000-001993   \n63923          166485         CR23I3_166485   \n\n                                           Project Title  \\\n10269  Lehrerethos als positive Einstellung, Verpflic...   \n1502   Dal carcere alla cattedra, genesi, innovazioni...   \n63923  Magnetic Resonance Imaging-Guided Computationa...   \n\n                                   Project Title English  \\\n10269                                                NaN   \n1502                                                 NaN   \n63923  Magnetic Resonance Imaging-Guided Computationa...   \n\n      Responsible Applicant            Funding Instrument  \\\n10269            Oser Fritz  Project funding (Div. I-III)   \n1502      López José Manuel  Project funding (Div. I-III)   \n63923     Kozerke Sebastian    Interdisciplinary projects   \n\n      Funding Instrument Hierarchy  \\\n10269              Project funding   \n1502               Project funding   \n63923              Project funding   \n\n                                             Institution Institution Country  \\\n10269       Institut de pédagogie Université de Fribourg         Switzerland   \n1502   Departement für Sprach- und Literaturwissensch...         Switzerland   \n63923  Institut für Biomedizinische Technik Universit...         Switzerland   \n\n                        University  Discipline Number  \\\n10269  University of Fribourg - FR              10104   \n1502      University of Berne - BE              10502   \n63923            ETH Zurich - ETHZ              30714   \n\n                        Discipline Name  \\\n10269  Educational science and Pedagogy   \n1502   Romance languages and literature   \n63923            Biomedical Engineering   \n\n                               Discipline Name Hierarchy    All disciplines  \\\n10269  Humanities and Social Sciences;Psychology, edu...              10104   \n1502   Humanities and Social Sciences;Linguistics and...              10502   \n63923             Biology and Medicine;Clinical Medicine  30714/30715/20502   \n\n       Start Date    End Date Approved Amount  \\\n10269  01.12.1989  30.11.1990        78950.00   \n1502   01.10.1986  31.08.1988        49350.00   \n63923  01.07.2016  30.06.2020       648688.00   \n\n                                                Keywords  \n10269                                                 1D  \n1502                                                 NaN  \n63923  Heart Failure; Computational Modelling; Comput...  ",
      "text/html": "<div>\n<style scoped>\n    .dataframe tbody tr th:only-of-type {\n        vertical-align: middle;\n    }\n\n    .dataframe tbody tr th {\n        vertical-align: top;\n    }\n\n    .dataframe thead th {\n        text-align: right;\n    }\n</style>\n<table border=\"1\" class=\"dataframe\">\n  <thead>\n    <tr style=\"text-align: right;\">\n      <th></th>\n      <th>Project Number</th>\n      <th>Project Number String</th>\n      <th>Project Title</th>\n      <th>Project Title English</th>\n      <th>Responsible Applicant</th>\n      <th>Funding Instrument</th>\n      <th>Funding Instrument Hierarchy</th>\n      <th>Institution</th>\n      <th>Institution Country</th>\n      <th>University</th>\n      <th>Discipline Number</th>\n      <th>Discipline Name</th>\n      <th>Discipline Name Hierarchy</th>\n      <th>All disciplines</th>\n      <th>Start Date</th>\n      <th>End Date</th>\n      <th>Approved Amount</th>\n      <th>Keywords</th>\n    </tr>\n  </thead>\n  <tbody>\n    <tr>\n      <th>10269</th>\n      <td>25470</td>\n      <td>1113-025470</td>\n      <td>Lehrerethos als positive Einstellung, Verpflic...</td>\n      <td>NaN</td>\n      <td>Oser Fritz</td>\n      <td>Project funding (Div. I-III)</td>\n      <td>Project funding</td>\n      <td>Institut de pédagogie Université de Fribourg</td>\n      <td>Switzerland</td>\n      <td>University of Fribourg - FR</td>\n      <td>10104</td>\n      <td>Educational science and Pedagogy</td>\n      <td>Humanities and Social Sciences;Psychology, edu...</td>\n      <td>10104</td>\n      <td>01.12.1989</td>\n      <td>30.11.1990</td>\n      <td>78950.00</td>\n      <td>1D</td>\n    </tr>\n    <tr>\n      <th>1502</th>\n      <td>1993</td>\n      <td>1000-001993</td>\n      <td>Dal carcere alla cattedra, genesi, innovazioni...</td>\n      <td>NaN</td>\n      <td>López José Manuel</td>\n      <td>Project funding (Div. I-III)</td>\n      <td>Project funding</td>\n      <td>Departement für Sprach- und Literaturwissensch...</td>\n      <td>Switzerland</td>\n      <td>University of Berne - BE</td>\n      <td>10502</td>\n      <td>Romance languages and literature</td>\n      <td>Humanities and Social Sciences;Linguistics and...</td>\n      <td>10502</td>\n      <td>01.10.1986</td>\n      <td>31.08.1988</td>\n      <td>49350.00</td>\n      <td>NaN</td>\n    </tr>\n    <tr>\n      <th>63923</th>\n      <td>166485</td>\n      <td>CR23I3_166485</td>\n      <td>Magnetic Resonance Imaging-Guided Computationa...</td>\n      <td>Magnetic Resonance Imaging-Guided Computationa...</td>\n      <td>Kozerke Sebastian</td>\n      <td>Interdisciplinary projects</td>\n      <td>Project funding</td>\n      <td>Institut für Biomedizinische Technik Universit...</td>\n      <td>Switzerland</td>\n      <td>ETH Zurich - ETHZ</td>\n      <td>30714</td>\n      <td>Biomedical Engineering</td>\n      <td>Biology and Medicine;Clinical Medicine</td>\n      <td>30714/30715/20502</td>\n      <td>01.07.2016</td>\n      <td>30.06.2020</td>\n      <td>648688.00</td>\n      <td>Heart Failure; Computational Modelling; Comput...</td>\n    </tr>\n  </tbody>\n</table>\n</div>"
     },
     "metadata": {},
     "execution_count": 13
    }
   ],
   "source": [
    "grants.sample(3)"
   ]
  },
  {
   "cell_type": "code",
   "execution_count": 15,
   "metadata": {
    "tags": []
   },
   "outputs": [
    {
     "output_type": "stream",
     "name": "stdout",
     "text": "<class 'pandas.core.frame.DataFrame'>\nRangeIndex: 74519 entries, 0 to 74518\nData columns (total 18 columns):\n #   Column                        Non-Null Count  Dtype \n---  ------                        --------------  ----- \n 0   Project Number                74519 non-null  int64 \n 1   Project Number String         74519 non-null  object\n 2   Project Title                 74519 non-null  object\n 3   Project Title English         31400 non-null  object\n 4   Responsible Applicant         74519 non-null  object\n 5   Funding Instrument            74519 non-null  object\n 6   Funding Instrument Hierarchy  74479 non-null  object\n 7   Institution                   68860 non-null  object\n 8   Institution Country           68794 non-null  object\n 9   University                    74514 non-null  object\n 10  Discipline Number             74519 non-null  int64 \n 11  Discipline Name               74519 non-null  object\n 12  Discipline Name Hierarchy     74020 non-null  object\n 13  All disciplines               74519 non-null  object\n 14  Start Date                    74517 non-null  object\n 15  End Date                      74517 non-null  object\n 16  Approved Amount               74519 non-null  object\n 17  Keywords                      49409 non-null  object\ndtypes: int64(2), object(16)\nmemory usage: 10.2+ MB\n"
    }
   ],
   "source": [
    "grants.info()"
   ]
  },
  {
   "cell_type": "code",
   "execution_count": 17,
   "metadata": {},
   "outputs": [
    {
     "output_type": "execute_result",
     "data": {
      "text/plain": "        Last Name    First Name  Gender  \\\n4727       Ballif    Christophe    male   \n75979  Pfammatter        Tamara  female   \n66401        Miss  Fabia Mirjam  female   \n\n                                          Institute Name Institute Place  \\\n4727   Laboratoire de photovoltaïque et couches mince...     Neuchâtel 2   \n75979                                                NaN             NaN   \n66401                                                NaN             NaN   \n\n       Person ID SNSF OCRID  \\\n4727            67065   NaN   \n75979          584876   NaN   \n66401          700071   NaN   \n\n                       Projects as responsible Applicant  \\\n4727   62444;107469;116630;125177;126926;128762;13383...   \n75979                                                NaN   \n66401                                                NaN   \n\n                                   Projects as Applicant Projects as Partner  \\\n4727   137833;141563;153728;153952;153965;153976;1625...                 NaN   \n75979                                                NaN                 NaN   \n66401                                                NaN                 NaN   \n\n      Projects as Practice Partner Projects as Employee  \\\n4727                           NaN    33630;40283;45660   \n75979                          NaN               129694   \n66401                          NaN        149796;172979   \n\n      Projects as Contact Person  \n4727                      141563  \n75979                        NaN  \n66401                        NaN  ",
      "text/html": "<div>\n<style scoped>\n    .dataframe tbody tr th:only-of-type {\n        vertical-align: middle;\n    }\n\n    .dataframe tbody tr th {\n        vertical-align: top;\n    }\n\n    .dataframe thead th {\n        text-align: right;\n    }\n</style>\n<table border=\"1\" class=\"dataframe\">\n  <thead>\n    <tr style=\"text-align: right;\">\n      <th></th>\n      <th>Last Name</th>\n      <th>First Name</th>\n      <th>Gender</th>\n      <th>Institute Name</th>\n      <th>Institute Place</th>\n      <th>Person ID SNSF</th>\n      <th>OCRID</th>\n      <th>Projects as responsible Applicant</th>\n      <th>Projects as Applicant</th>\n      <th>Projects as Partner</th>\n      <th>Projects as Practice Partner</th>\n      <th>Projects as Employee</th>\n      <th>Projects as Contact Person</th>\n    </tr>\n  </thead>\n  <tbody>\n    <tr>\n      <th>4727</th>\n      <td>Ballif</td>\n      <td>Christophe</td>\n      <td>male</td>\n      <td>Laboratoire de photovoltaïque et couches mince...</td>\n      <td>Neuchâtel 2</td>\n      <td>67065</td>\n      <td>NaN</td>\n      <td>62444;107469;116630;125177;126926;128762;13383...</td>\n      <td>137833;141563;153728;153952;153965;153976;1625...</td>\n      <td>NaN</td>\n      <td>NaN</td>\n      <td>33630;40283;45660</td>\n      <td>141563</td>\n    </tr>\n    <tr>\n      <th>75979</th>\n      <td>Pfammatter</td>\n      <td>Tamara</td>\n      <td>female</td>\n      <td>NaN</td>\n      <td>NaN</td>\n      <td>584876</td>\n      <td>NaN</td>\n      <td>NaN</td>\n      <td>NaN</td>\n      <td>NaN</td>\n      <td>NaN</td>\n      <td>129694</td>\n      <td>NaN</td>\n    </tr>\n    <tr>\n      <th>66401</th>\n      <td>Miss</td>\n      <td>Fabia Mirjam</td>\n      <td>female</td>\n      <td>NaN</td>\n      <td>NaN</td>\n      <td>700071</td>\n      <td>NaN</td>\n      <td>NaN</td>\n      <td>NaN</td>\n      <td>NaN</td>\n      <td>NaN</td>\n      <td>149796;172979</td>\n      <td>NaN</td>\n    </tr>\n  </tbody>\n</table>\n</div>"
     },
     "metadata": {},
     "execution_count": 17
    }
   ],
   "source": [
    "people.sample(3)"
   ]
  },
  {
   "cell_type": "code",
   "execution_count": 19,
   "metadata": {
    "tags": []
   },
   "outputs": [
    {
     "output_type": "stream",
     "name": "stdout",
     "text": "<class 'pandas.core.frame.DataFrame'>\nRangeIndex: 111903 entries, 0 to 111902\nData columns (total 13 columns):\n #   Column                             Non-Null Count   Dtype \n---  ------                             --------------   ----- \n 0   Last Name                          111903 non-null  object\n 1   First Name                         111896 non-null  object\n 2   Gender                             111903 non-null  object\n 3   Institute Name                     54186 non-null   object\n 4   Institute Place                    54083 non-null   object\n 5   Person ID SNSF                     111903 non-null  int64 \n 6   OCRID                              7092 non-null    object\n 7   Projects as responsible Applicant  28898 non-null   object\n 8   Projects as Applicant              18934 non-null   object\n 9   Projects as Partner                5300 non-null    object\n 10  Projects as Practice Partner       735 non-null     object\n 11  Projects as Employee               82000 non-null   object\n 12  Projects as Contact Person         766 non-null     object\ndtypes: int64(1), object(12)\nmemory usage: 11.1+ MB\n"
    }
   ],
   "source": [
    "people.info()"
   ]
  },
  {
   "cell_type": "code",
   "execution_count": 21,
   "metadata": {},
   "outputs": [
    {
     "output_type": "execute_result",
     "data": {
      "text/plain": "                          Publication ID SNSF  Project Number  \\\n66589  {40A46ECB-7186-4D9D-819C-B7E9BDCB2F1E}          144646   \n9372   {06E2F6B9-9E4A-4942-A3A8-C3BBA3DDE33B}          123501   \n23087  {08CFECF5-4622-4442-8F47-CACC5257CD96}          129708   \n\n      Peer Review Status               Type of Publication  \\\n66589      Peer-reviewed       Proceedings (peer-reviewed)   \n9372       Peer-reviewed  Original article (peer-reviewed)   \n23087      Peer-reviewed  Original article (peer-reviewed)   \n\n                                    Title of Publication  \\\n66589  Properties of self-assembled nanostructures: g...   \n9372   Measurement of the Inclusive Z Cross Section v...   \n23087  Environmental versatility promotes modularity ...   \n\n                                                 Authors     Status  \\\n66589  Reguera Javier,  Malachosky Edward,  Martin Ma...  Published   \n9372                         Chatrchyan Serguei,  others  Published   \n23087            Samal A.,  Wagner Andreas,  Martin O.C.  Published   \n\n       Publication Year ISBN  \\\n66589            2015.0  NaN   \n9372             2011.0  NaN   \n23087            2011.0  NaN   \n\n                                                     DOI  ...  \\\n66589                                 10.1039/c5fd90042e  ...   \n9372   10.1007/JHEP08(2011)117                       ...  ...   \n23087                            10.1186/1752-0509-5-135  ...   \n\n                                      Publisher  Editors  \\\n66589  Royal Socitey of Chemistry,Cambridge, UK      NaN   \n9372                                        NaN      NaN   \n23087                                       NaN      NaN   \n\n                   Journal Title Volume Issue / Number Page from Page to  \\\n66589  Faraday Discussions, ,181    NaN            NaN       NaN     NaN   \n9372                        JHEP   1108            NaN       117     117   \n23087        BMC Systems Biology      5            NaN       135     135   \n\n                Proceeding Title Proceeding Place Abstract  \n66589  Faraday Discussions, ,181              NaN      NaN  \n9372                        JHEP              NaN      NaN  \n23087        BMC Systems Biology              NaN      NaN  \n\n[3 rows x 26 columns]",
      "text/html": "<div>\n<style scoped>\n    .dataframe tbody tr th:only-of-type {\n        vertical-align: middle;\n    }\n\n    .dataframe tbody tr th {\n        vertical-align: top;\n    }\n\n    .dataframe thead th {\n        text-align: right;\n    }\n</style>\n<table border=\"1\" class=\"dataframe\">\n  <thead>\n    <tr style=\"text-align: right;\">\n      <th></th>\n      <th>Publication ID SNSF</th>\n      <th>Project Number</th>\n      <th>Peer Review Status</th>\n      <th>Type of Publication</th>\n      <th>Title of Publication</th>\n      <th>Authors</th>\n      <th>Status</th>\n      <th>Publication Year</th>\n      <th>ISBN</th>\n      <th>DOI</th>\n      <th>...</th>\n      <th>Publisher</th>\n      <th>Editors</th>\n      <th>Journal Title</th>\n      <th>Volume</th>\n      <th>Issue / Number</th>\n      <th>Page from</th>\n      <th>Page to</th>\n      <th>Proceeding Title</th>\n      <th>Proceeding Place</th>\n      <th>Abstract</th>\n    </tr>\n  </thead>\n  <tbody>\n    <tr>\n      <th>66589</th>\n      <td>{40A46ECB-7186-4D9D-819C-B7E9BDCB2F1E}</td>\n      <td>144646</td>\n      <td>Peer-reviewed</td>\n      <td>Proceedings (peer-reviewed)</td>\n      <td>Properties of self-assembled nanostructures: g...</td>\n      <td>Reguera Javier,  Malachosky Edward,  Martin Ma...</td>\n      <td>Published</td>\n      <td>2015.0</td>\n      <td>NaN</td>\n      <td>10.1039/c5fd90042e</td>\n      <td>...</td>\n      <td>Royal Socitey of Chemistry,Cambridge, UK</td>\n      <td>NaN</td>\n      <td>Faraday Discussions, ,181</td>\n      <td>NaN</td>\n      <td>NaN</td>\n      <td>NaN</td>\n      <td>NaN</td>\n      <td>Faraday Discussions, ,181</td>\n      <td>NaN</td>\n      <td>NaN</td>\n    </tr>\n    <tr>\n      <th>9372</th>\n      <td>{06E2F6B9-9E4A-4942-A3A8-C3BBA3DDE33B}</td>\n      <td>123501</td>\n      <td>Peer-reviewed</td>\n      <td>Original article (peer-reviewed)</td>\n      <td>Measurement of the Inclusive Z Cross Section v...</td>\n      <td>Chatrchyan Serguei,  others</td>\n      <td>Published</td>\n      <td>2011.0</td>\n      <td>NaN</td>\n      <td>10.1007/JHEP08(2011)117                       ...</td>\n      <td>...</td>\n      <td>NaN</td>\n      <td>NaN</td>\n      <td>JHEP</td>\n      <td>1108</td>\n      <td>NaN</td>\n      <td>117</td>\n      <td>117</td>\n      <td>JHEP</td>\n      <td>NaN</td>\n      <td>NaN</td>\n    </tr>\n    <tr>\n      <th>23087</th>\n      <td>{08CFECF5-4622-4442-8F47-CACC5257CD96}</td>\n      <td>129708</td>\n      <td>Peer-reviewed</td>\n      <td>Original article (peer-reviewed)</td>\n      <td>Environmental versatility promotes modularity ...</td>\n      <td>Samal A.,  Wagner Andreas,  Martin O.C.</td>\n      <td>Published</td>\n      <td>2011.0</td>\n      <td>NaN</td>\n      <td>10.1186/1752-0509-5-135</td>\n      <td>...</td>\n      <td>NaN</td>\n      <td>NaN</td>\n      <td>BMC Systems Biology</td>\n      <td>5</td>\n      <td>NaN</td>\n      <td>135</td>\n      <td>135</td>\n      <td>BMC Systems Biology</td>\n      <td>NaN</td>\n      <td>NaN</td>\n    </tr>\n  </tbody>\n</table>\n<p>3 rows × 26 columns</p>\n</div>"
     },
     "metadata": {},
     "execution_count": 21
    }
   ],
   "source": [
    "publications.sample(3)"
   ]
  },
  {
   "cell_type": "code",
   "execution_count": 23,
   "metadata": {
    "tags": []
   },
   "outputs": [
    {
     "output_type": "stream",
     "name": "stdout",
     "text": "<class 'pandas.core.frame.DataFrame'>\nRangeIndex: 133541 entries, 0 to 133540\nData columns (total 26 columns):\n #   Column                     Non-Null Count   Dtype  \n---  ------                     --------------   -----  \n 0   Publication ID SNSF        133541 non-null  object \n 1   Project Number             133541 non-null  int64  \n 2   Peer Review Status         133541 non-null  object \n 3   Type of Publication        128867 non-null  object \n 4   Title of Publication       133504 non-null  object \n 5   Authors                    131026 non-null  object \n 6   Status                     133541 non-null  object \n 7   Publication Year           118806 non-null  float64\n 8   ISBN                       15201 non-null   object \n 9   DOI                        78871 non-null   object \n 10  Import Source              107910 non-null  object \n 11  Last Change of Outputdata  0 non-null       float64\n 12  Open Access Status         133541 non-null  int64  \n 13  Open Access Type           42630 non-null   object \n 14  Open Access URL            42623 non-null   object \n 15  Book Title                 124917 non-null  object \n 16  Publisher                  26593 non-null   object \n 17  Editors                    13569 non-null   object \n 18  Journal Title              124917 non-null  object \n 19  Volume                     88179 non-null   object \n 20  Issue / Number             60739 non-null   object \n 21  Page from                  106093 non-null  object \n 22  Page to                    91351 non-null   object \n 23  Proceeding Title           124908 non-null  object \n 24  Proceeding Place           5854 non-null    object \n 25  Abstract                   69181 non-null   object \ndtypes: float64(2), int64(2), object(22)\nmemory usage: 26.5+ MB\n"
    }
   ],
   "source": [
    "publications.info()"
   ]
  },
  {
   "cell_type": "code",
   "execution_count": 25,
   "metadata": {},
   "outputs": [
    {
     "output_type": "execute_result",
     "data": {
      "text/plain": "Publisher (Gold Open Access)                                           18131\nRepository (Green Open Access)                                         12349\nWebsite                                                                10359\nGreen OA Embargo (Freely available via Repository after an embargo)     1791\nName: Open Access Type, dtype: int64"
     },
     "metadata": {},
     "execution_count": 25
    }
   ],
   "source": [
    "publications['Open Access Type'].value_counts()"
   ]
  },
  {
   "cell_type": "code",
   "execution_count": 27,
   "metadata": {},
   "outputs": [
    {
     "output_type": "execute_result",
     "data": {
      "text/plain": "Published    118975\nAccepted      14464\nNotSet          102\nName: Status, dtype: int64"
     },
     "metadata": {},
     "execution_count": 27
    }
   ],
   "source": [
    "publications['Status'].value_counts()"
   ]
  },
  {
   "cell_type": "code",
   "execution_count": null,
   "metadata": {},
   "outputs": [],
   "source": [
    "publications['Volume'].value_counts()"
   ]
  },
  {
   "cell_type": "code",
   "execution_count": 30,
   "metadata": {},
   "outputs": [
    {
     "output_type": "execute_result",
     "data": {
      "text/plain": "1                       8688\n2                       6471\n3                       5426\n4                       5071\n5                       3638\n                        ... \n867                        1\nHerbst                     1\n7611                       1\nNuméros thématiques        1\nn° 7                       1\nName: Issue / Number, Length: 2720, dtype: int64"
     },
     "metadata": {},
     "execution_count": 30
    }
   ],
   "source": [
    "publications['Issue / Number'].value_counts()"
   ]
  },
  {
   "cell_type": "code",
   "execution_count": 32,
   "metadata": {},
   "outputs": [
    {
     "output_type": "execute_result",
     "data": {
      "text/plain": "(1724, 26)"
     },
     "metadata": {},
     "execution_count": 32
    }
   ],
   "source": [
    "publications[(publications.DOI.isna() == False) & (publications[['DOI', 'Project Number']].duplicated())].shape"
   ]
  },
  {
   "cell_type": "code",
   "execution_count": 37,
   "metadata": {},
   "outputs": [
    {
     "output_type": "execute_result",
     "data": {
      "text/plain": "       Project Number                                 Output Type  \\\n28359          184485          Print (books, brochures, leaflets)   \n24859          170645                    Talks/events/exhibitions   \n27608          178636  Media relations: print media, online media   \n\n                                            Output Title  \\\n28359  How horizontal inequalities lead to conflict i...   \n24859  Film Screening and Panel Discussion “In Our Ha...   \n27608                          Des films contre l'âgisme   \n\n                                                     Url    Year  \n28359  https://doi.org/10.46446/Publication_r4d.2019....  2019.0  \n24859                                                NaN  2018.0  \n27608                                                NaN  2019.0  ",
      "text/html": "<div>\n<style scoped>\n    .dataframe tbody tr th:only-of-type {\n        vertical-align: middle;\n    }\n\n    .dataframe tbody tr th {\n        vertical-align: top;\n    }\n\n    .dataframe thead th {\n        text-align: right;\n    }\n</style>\n<table border=\"1\" class=\"dataframe\">\n  <thead>\n    <tr style=\"text-align: right;\">\n      <th></th>\n      <th>Project Number</th>\n      <th>Output Type</th>\n      <th>Output Title</th>\n      <th>Url</th>\n      <th>Year</th>\n    </tr>\n  </thead>\n  <tbody>\n    <tr>\n      <th>28359</th>\n      <td>184485</td>\n      <td>Print (books, brochures, leaflets)</td>\n      <td>How horizontal inequalities lead to conflict i...</td>\n      <td>https://doi.org/10.46446/Publication_r4d.2019....</td>\n      <td>2019.0</td>\n    </tr>\n    <tr>\n      <th>24859</th>\n      <td>170645</td>\n      <td>Talks/events/exhibitions</td>\n      <td>Film Screening and Panel Discussion “In Our Ha...</td>\n      <td>NaN</td>\n      <td>2018.0</td>\n    </tr>\n    <tr>\n      <th>27608</th>\n      <td>178636</td>\n      <td>Media relations: print media, online media</td>\n      <td>Des films contre l'âgisme</td>\n      <td>NaN</td>\n      <td>2019.0</td>\n    </tr>\n  </tbody>\n</table>\n</div>"
     },
     "metadata": {},
     "execution_count": 37
    }
   ],
   "source": [
    "output_data.sample(3)"
   ]
  },
  {
   "cell_type": "code",
   "execution_count": 39,
   "metadata": {
    "tags": []
   },
   "outputs": [
    {
     "output_type": "stream",
     "name": "stdout",
     "text": "<class 'pandas.core.frame.DataFrame'>\nRangeIndex: 28730 entries, 0 to 28729\nData columns (total 5 columns):\n #   Column          Non-Null Count  Dtype  \n---  ------          --------------  -----  \n 0   Project Number  28730 non-null  int64  \n 1   Output Type     28730 non-null  object \n 2   Output Title    28726 non-null  object \n 3   Url             18712 non-null  object \n 4   Year            28487 non-null  float64\ndtypes: float64(1), int64(1), object(3)\nmemory usage: 1.1+ MB\n"
    }
   ],
   "source": [
    "output_data.info()"
   ]
  },
  {
   "cell_type": "code",
   "execution_count": 41,
   "metadata": {},
   "outputs": [
    {
     "output_type": "execute_result",
     "data": {
      "text/plain": "Media relations: print media, online media           10709\nTalks/events/exhibitions                              7201\nNew media (web, blogs, podcasts, news feeds etc.)     3679\nMedia relations: radio, television                    3623\nPrint (books, brochures, leaflets)                    1413\nOther activities                                      1003\nVideo/Film                                             680\nSoftware                                               286\nStart-up                                               136\nName: Output Type, dtype: int64"
     },
     "metadata": {},
     "execution_count": 41
    }
   ],
   "source": [
    "output_data['Output Type'].value_counts()"
   ]
  },
  {
   "cell_type": "code",
   "execution_count": null,
   "metadata": {},
   "outputs": [],
   "source": []
  },
  {
   "source": [
    "#### Tidiness\n",
    "\n",
    "##### `grants` (ie. `GrantExport`) table\n",
    "\n",
    "- `Funding Instrument`, `Funding Instrument Hierarchy` are confusing\n",
    "- `Discipline`, ... `Discipline Name Hierarchy` are confusing\n",
    "- Details about `Institute` out of scope\n",
    "- `University` contains both long and short names: details out of scope\n",
    "\n",
    "##### `people` (ie. `PersonExport`) table\n",
    "\n",
    "- **`Project as...` contain mixed variables and observations for grant and role**\n",
    "- Details about `Institute` out of scope\n",
    "\n",
    "##### `publications` table\n",
    "\n",
    "- `Authors` contains multiple observations\n",
    "\n",
    "##### `collaborations` table\n",
    "\n",
    "- `Types of collaboration` contains multiple observations\n",
    "\n",
    "#### Quality\n",
    "\n",
    "- spaces in column names\n",
    "\n",
    "##### `grants` (ie. `GrantExport`) table\n",
    "\n",
    "- **`Project Number` and `Project Number String` are redundant**\n",
    "- **`Project Number String` encodes division information?**\n",
    "- **`Responsible Applicant` not an uid**\n",
    "- **`Start Date` and `End Date` string, not date type**\n",
    "- **`Aproved Amount` not numeric**\n",
    "- `Project Title English` often redundant or null\n",
    "- `Institution` free text? if yes, is it relevant? better named as department?\n",
    "- `Keywords` not consistent (see keyword extraction from abstracts)\n",
    "\n",
    "##### `people` (ie. `PersonExport`) table\n",
    "\n",
    "- typo in col name for `ORCID`\n",
    "- gender not categorical variable\n",
    "\n",
    "##### `publications` table\n",
    "\n",
    "- Missing DOIs\n",
    "- `Last Change of Outputdata` empty\n",
    "- `Publication Year` shows as float\n",
    "- `Status`, `Peer Review Status`, `Type of Publication`, and `Open Acces Type` strings, not categories\n",
    "- `Volume`, `Issue / Number`, `Page from`, `Page to` strings, not numeric\n",
    "- `[..] Title` show inconsistencies re capitalization\n",
    "- Duplicated entries: 1'724 duplicated non null DOIs and project numbers\n",
    "Í\n",
    "##### `output_data` table\n",
    "\n",
    "- `Output Type` string, not category\n",
    "- `Year` float, not integer"
   ],
   "cell_type": "markdown",
   "metadata": {}
  },
  {
   "cell_type": "markdown",
   "metadata": {},
   "source": [
    "## Clean"
   ]
  },
  {
   "cell_type": "code",
   "execution_count": 131,
   "metadata": {
    "tags": []
   },
   "outputs": [],
   "source": [
    "# good practice to work on copies of the raw data\n",
    "df_grants = grants.copy()\n",
    "df_grants.columns = df_grants.columns.str.lower().str.replace(' ', '_')\n",
    "df_people = people.copy()\n",
    "df_people.columns = df_people.columns.str.lower().str.replace(' ', '_')"
   ]
  },
  {
   "cell_type": "code",
   "execution_count": null,
   "metadata": {},
   "outputs": [],
   "source": []
  },
  {
   "cell_type": "code",
   "execution_count": 126,
   "metadata": {},
   "outputs": [],
   "source": [
    "# https://github.com/zambujo/p3data/issues/4\n",
    "# grantee table\n",
    "grantee = (df_people\n",
    "    .melt('person_id_snsf', \n",
    "          var_name='role', \n",
    "          value_name='project_number', \n",
    "          value_vars=['projects_as_responsible_applicant', \n",
    "                      'projects_as_applicant', \n",
    "                      'projects_as_partner', \n",
    "                      'projects_as_practice_partner', \n",
    "                      'projects_as_employee', \n",
    "                      'projects_as_contact_person']).dropna())\n",
    "grantee = grantee.assign(project_number=grantee.project_number.str.split(';')).explode('project_number').reset_index(drop=True)\n",
    "grantee['role'] = grantee.role.str[12:]\n",
    "grantee.drop_duplicates(inplace=True)\n",
    "grantee['project_number'] = pd.to_numeric(grantee['project_number'], errors='coerce')\n",
    "grantee=grantee.dropna()\n",
    "grantee['project_number'] = grantee['project_number'].astype(int)\n",
    "\n"
   ]
  },
  {
   "cell_type": "code",
   "execution_count": 141,
   "metadata": {
    "tags": []
   },
   "outputs": [],
   "source": [
    "# person table\n",
    "person = df_people[['person_id_snsf', 'gender', 'first_name', 'last_name']]"
   ]
  },
  {
   "cell_type": "code",
   "execution_count": 143,
   "metadata": {
    "tags": []
   },
   "outputs": [
    {
     "output_type": "stream",
     "name": "stdout",
     "text": "<class 'pandas.core.frame.DataFrame'>\nInt64Index: 255507 entries, 0 to 258790\nData columns (total 3 columns):\n #   Column          Non-Null Count   Dtype \n---  ------          --------------   ----- \n 0   person_id_snsf  255507 non-null  int64 \n 1   role            255507 non-null  object\n 2   project_number  255507 non-null  int64 \ndtypes: int64(2), object(1)\nmemory usage: 7.8+ MB\n<class 'pandas.core.frame.DataFrame'>\nRangeIndex: 111903 entries, 0 to 111902\nData columns (total 4 columns):\n #   Column          Non-Null Count   Dtype \n---  ------          --------------   ----- \n 0   person_id_snsf  111903 non-null  int64 \n 1   gender          111903 non-null  object\n 2   first_name      111896 non-null  object\n 3   last_name       111903 non-null  object\ndtypes: int64(1), object(3)\nmemory usage: 3.4+ MB\n"
    }
   ],
   "source": [
    "grantee.info()\n",
    "person.info()"
   ]
  },
  {
   "cell_type": "code",
   "execution_count": 129,
   "metadata": {
    "tags": []
   },
   "outputs": [
    {
     "output_type": "execute_result",
     "data": {
      "text/plain": "person_id_snsf    111120\nrole                   6\nproject_number     74494\ndtype: int64"
     },
     "metadata": {},
     "execution_count": 129
    }
   ],
   "source": [
    "grantee.nunique()"
   ]
  },
  {
   "cell_type": "code",
   "execution_count": 145,
   "metadata": {},
   "outputs": [
    {
     "output_type": "execute_result",
     "data": {
      "text/plain": "employee                 127500\nresponsible_applicant     73608\napplicant                 46609\npartner                    5961\ncontact_person             1033\npractice_partner            796\nName: role, dtype: int64"
     },
     "metadata": {},
     "execution_count": 145
    }
   ],
   "source": [
    "grantee.role.value_counts()"
   ]
  },
  {
   "cell_type": "code",
   "execution_count": 146,
   "metadata": {},
   "outputs": [
    {
     "output_type": "execute_result",
     "data": {
      "text/plain": "male      70007\nfemale    41896\nName: gender, dtype: int64"
     },
     "metadata": {},
     "execution_count": 146
    }
   ],
   "source": [
    "person.gender.value_counts()"
   ]
  },
  {
   "cell_type": "code",
   "execution_count": 44,
   "metadata": {
    "tags": []
   },
   "outputs": [],
   "source": [
    "# https://github.com/zambujo/p3data/issues/1\n",
    "df_grants['string_code'] = df_grants.project_number_string.str[:-6]\n",
    "df_grants['string_code'] = df_grants.string_code.str.replace('[-_ ]', '')\n",
    "df_grants = df_grants.drop('project_number_string', 1)"
   ]
  },
  {
   "source": [
    "_Acceptance tests_"
   ],
   "cell_type": "markdown",
   "metadata": {}
  },
  {
   "cell_type": "code",
   "execution_count": 45,
   "metadata": {},
   "outputs": [
    {
     "output_type": "execute_result",
     "data": {
      "text/plain": "2000       6072\n3100       4997\n200020     3506\n200021     3306\n31003A     2677\n           ... \n20ED21        1\n32NM30        1\nK33K0         1\n315130        1\nCR32I3L       1\nName: string_code, Length: 1102, dtype: int64"
     },
     "metadata": {},
     "execution_count": 45
    }
   ],
   "source": [
    "df_grants.string_code.value_counts()"
   ]
  },
  {
   "cell_type": "code",
   "execution_count": 46,
   "metadata": {},
   "outputs": [
    {
     "output_type": "execute_result",
     "data": {
      "text/plain": "    string_code            funding_instrument  count\n181        2000  Project funding (Div. I-III)   6072\n286        3100  Project funding (Div. I-III)   4997\n183      200020  Project funding (Div. I-III)   3506\n188      200021  Project funding (Div. I-III)   3306\n292      31003A  Project funding (Div. I-III)   2677",
      "text/html": "<div>\n<style scoped>\n    .dataframe tbody tr th:only-of-type {\n        vertical-align: middle;\n    }\n\n    .dataframe tbody tr th {\n        vertical-align: top;\n    }\n\n    .dataframe thead th {\n        text-align: right;\n    }\n</style>\n<table border=\"1\" class=\"dataframe\">\n  <thead>\n    <tr style=\"text-align: right;\">\n      <th></th>\n      <th>string_code</th>\n      <th>funding_instrument</th>\n      <th>count</th>\n    </tr>\n  </thead>\n  <tbody>\n    <tr>\n      <th>181</th>\n      <td>2000</td>\n      <td>Project funding (Div. I-III)</td>\n      <td>6072</td>\n    </tr>\n    <tr>\n      <th>286</th>\n      <td>3100</td>\n      <td>Project funding (Div. I-III)</td>\n      <td>4997</td>\n    </tr>\n    <tr>\n      <th>183</th>\n      <td>200020</td>\n      <td>Project funding (Div. I-III)</td>\n      <td>3506</td>\n    </tr>\n    <tr>\n      <th>188</th>\n      <td>200021</td>\n      <td>Project funding (Div. I-III)</td>\n      <td>3306</td>\n    </tr>\n    <tr>\n      <th>292</th>\n      <td>31003A</td>\n      <td>Project funding (Div. I-III)</td>\n      <td>2677</td>\n    </tr>\n  </tbody>\n</table>\n</div>"
     },
     "metadata": {},
     "execution_count": 46
    }
   ],
   "source": [
    "df_grants.groupby([\"string_code\", \"funding_instrument\"]).size().reset_index().rename(columns={0: \"count\"}).sort_values(by='count', ascending=False).head()"
   ]
  },
  {
   "cell_type": "code",
   "execution_count": 148,
   "metadata": {},
   "outputs": [],
   "source": [
    "person['gender'] = person['gender'].astype('category')"
   ]
  },
  {
   "cell_type": "code",
   "execution_count": 170,
   "metadata": {
    "tags": []
   },
   "outputs": [],
   "source": [
    "assert person.gender.dtype.name == 'category', 'gender column not a category'"
   ]
  },
  {
   "cell_type": "code",
   "execution_count": 157,
   "metadata": {},
   "outputs": [],
   "source": [
    "# https://github.com/zambujo/p3data/issues/6\n",
    "df_grants['approved_amount'] = pd.to_numeric(df_grants['approved_amount'], errors='coerce')"
   ]
  },
  {
   "cell_type": "code",
   "execution_count": 161,
   "metadata": {},
   "outputs": [],
   "source": [
    "df_grants['start_date'] = pd.to_datetime(df_grants.start_date)\n",
    "df_grants['end_date'] = pd.to_datetime(df_grants.end_date)"
   ]
  },
  {
   "cell_type": "code",
   "execution_count": 169,
   "metadata": {},
   "outputs": [
    {
     "output_type": "execute_result",
     "data": {
      "text/plain": "      start_date   end_date\n39234 2007-01-10 2010-09-30\n69898 2018-01-09 2020-02-29\n16860 1993-03-09 1993-02-12",
      "text/html": "<div>\n<style scoped>\n    .dataframe tbody tr th:only-of-type {\n        vertical-align: middle;\n    }\n\n    .dataframe tbody tr th {\n        vertical-align: top;\n    }\n\n    .dataframe thead th {\n        text-align: right;\n    }\n</style>\n<table border=\"1\" class=\"dataframe\">\n  <thead>\n    <tr style=\"text-align: right;\">\n      <th></th>\n      <th>start_date</th>\n      <th>end_date</th>\n    </tr>\n  </thead>\n  <tbody>\n    <tr>\n      <th>39234</th>\n      <td>2007-01-10</td>\n      <td>2010-09-30</td>\n    </tr>\n    <tr>\n      <th>69898</th>\n      <td>2018-01-09</td>\n      <td>2020-02-29</td>\n    </tr>\n    <tr>\n      <th>16860</th>\n      <td>1993-03-09</td>\n      <td>1993-02-12</td>\n    </tr>\n  </tbody>\n</table>\n</div>"
     },
     "metadata": {},
     "execution_count": 169
    }
   ],
   "source": [
    "assert df_grants.start_date.dtype.name == 'datetime64[ns]', 'start_date not datetime type'\n",
    "assert df_grants.end_date.dtype.name == 'datetime64[ns]', 'end_date not datetime type'\n",
    "df_grants[['start_date', 'end_date']].sample(3)"
   ]
  }
 ],
 "metadata": {
  "kernelspec": {
   "display_name": "Python 3",
   "language": "python",
   "name": "python3"
  },
  "language_info": {
   "codemirror_mode": {
    "name": "ipython",
    "version": 3
   },
   "file_extension": ".py",
   "mimetype": "text/x-python",
   "name": "python",
   "nbconvert_exporter": "python",
   "pygments_lexer": "ipython3",
   "version": "3.8.5-final"
  }
 },
 "nbformat": 4,
 "nbformat_minor": 4
}