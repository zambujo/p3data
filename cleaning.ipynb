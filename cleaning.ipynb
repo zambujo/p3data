{
 "cells": [
  {
   "cell_type": "markdown",
   "metadata": {},
   "source": [
    "# Preprocessing SNSF Public Data"
   ]
  },
  {
   "cell_type": "code",
   "execution_count": 1,
   "metadata": {},
   "outputs": [],
   "source": [
    "import os\n",
    "import numpy as np\n",
    "import pandas as pd\n",
    "import feather\n",
    "import matplotlib.pyplot as plt\n",
    "import seaborn as sns\n",
    "import requests"
   ]
  },
  {
   "cell_type": "markdown",
   "metadata": {},
   "source": [
    "## Gather"
   ]
  },
  {
   "cell_type": "code",
   "execution_count": 2,
   "metadata": {},
   "outputs": [],
   "source": [
    "# no need live updates...\n",
    "UPDATE_DATA = False\n",
    "\n",
    "folder_name = 'rawdata'\n",
    "if not os.path.exists(folder_name):\n",
    "    os.makedirs(folder_name)"
   ]
  },
  {
   "cell_type": "code",
   "execution_count": 3,
   "metadata": {},
   "outputs": [],
   "source": [
    "# grants and grantees\n",
    "file_names = [\"P3_GrantExport.csv\", \"P3_PersonExport.csv\"]\n",
    "\n",
    "if UPDATE_DATA:\n",
    "    for k in file_names:\n",
    "        url_grant = \"http://p3.snf.ch/P3Export/\" + k\n",
    "        print(url_grant)\n",
    "        response = requests.get(url_grant)\n",
    "        assert response.status_code == 200, \"status code for\" + k + \" not ok\"\n",
    "        \n",
    "        with open(os.path.join(folder_name, k), mode=\"wb\") as file:\n",
    "                file.write(response.content)"
   ]
  },
  {
   "cell_type": "code",
   "execution_count": 4,
   "metadata": {},
   "outputs": [],
   "source": [
    "grants_raw = pd.read_csv(os.path.join(folder_name, file_names[0]), sep=';')\n",
    "person_raw = pd.read_csv(os.path.join(folder_name, file_names[1]), sep=';')"
   ]
  },
  {
   "cell_type": "markdown",
   "metadata": {},
   "source": [
    "## Assess"
   ]
  },
  {
   "cell_type": "code",
   "execution_count": 5,
   "metadata": {},
   "outputs": [
    {
     "data": {
      "text/html": [
       "<div>\n",
       "<style scoped>\n",
       "    .dataframe tbody tr th:only-of-type {\n",
       "        vertical-align: middle;\n",
       "    }\n",
       "\n",
       "    .dataframe tbody tr th {\n",
       "        vertical-align: top;\n",
       "    }\n",
       "\n",
       "    .dataframe thead th {\n",
       "        text-align: right;\n",
       "    }\n",
       "</style>\n",
       "<table border=\"1\" class=\"dataframe\">\n",
       "  <thead>\n",
       "    <tr style=\"text-align: right;\">\n",
       "      <th></th>\n",
       "      <th>Project Number</th>\n",
       "      <th>Project Number String</th>\n",
       "      <th>Project Title</th>\n",
       "      <th>Project Title English</th>\n",
       "      <th>Responsible Applicant</th>\n",
       "      <th>Funding Instrument</th>\n",
       "      <th>Funding Instrument Hierarchy</th>\n",
       "      <th>Institution</th>\n",
       "      <th>Institution Country</th>\n",
       "      <th>University</th>\n",
       "      <th>Discipline Number</th>\n",
       "      <th>Discipline Name</th>\n",
       "      <th>Discipline Name Hierarchy</th>\n",
       "      <th>All disciplines</th>\n",
       "      <th>Start Date</th>\n",
       "      <th>End Date</th>\n",
       "      <th>Approved Amount</th>\n",
       "      <th>Keywords</th>\n",
       "    </tr>\n",
       "  </thead>\n",
       "  <tbody>\n",
       "    <tr>\n",
       "      <th>27749</th>\n",
       "      <td>63687</td>\n",
       "      <td>1114-063687</td>\n",
       "      <td>The Development and Functions of Shakespeare's...</td>\n",
       "      <td>NaN</td>\n",
       "      <td>Vickers Brian</td>\n",
       "      <td>Project funding (Div. I-III)</td>\n",
       "      <td>Project funding</td>\n",
       "      <td>Chair of English Literature ETH-Zentrum</td>\n",
       "      <td>Switzerland</td>\n",
       "      <td>ETH Zurich - ETHZ</td>\n",
       "      <td>10501</td>\n",
       "      <td>German and English languages and literature</td>\n",
       "      <td>Humanities and Social Sciences;Linguistics and...</td>\n",
       "      <td>10501</td>\n",
       "      <td>01.04.2001</td>\n",
       "      <td>31.03.2003</td>\n",
       "      <td>84799.00</td>\n",
       "      <td>SHAKESPEARE; RHETORIK</td>\n",
       "    </tr>\n",
       "    <tr>\n",
       "      <th>60632</th>\n",
       "      <td>159235</td>\n",
       "      <td>200020_159235</td>\n",
       "      <td>Mathematical research: combinatorics, discrete...</td>\n",
       "      <td>NaN</td>\n",
       "      <td>Rivière Tristan</td>\n",
       "      <td>Project funding (Div. I-III)</td>\n",
       "      <td>Project funding</td>\n",
       "      <td>Departement Mathematik ETH Zürich</td>\n",
       "      <td>Switzerland</td>\n",
       "      <td>ETH Zurich - ETHZ</td>\n",
       "      <td>20100</td>\n",
       "      <td>Mathematics</td>\n",
       "      <td>Mathematics, Natural- and Engineering Sciences</td>\n",
       "      <td>20100</td>\n",
       "      <td>01.07.2015</td>\n",
       "      <td>30.06.2017</td>\n",
       "      <td>450000.00</td>\n",
       "      <td>geometric measure theory; probability; number ...</td>\n",
       "    </tr>\n",
       "    <tr>\n",
       "      <th>23850</th>\n",
       "      <td>53721</td>\n",
       "      <td>3100-053721</td>\n",
       "      <td>Molecular and functional analysis of Na,K-ATPa...</td>\n",
       "      <td>NaN</td>\n",
       "      <td>Geering Käthi</td>\n",
       "      <td>Project funding (Div. I-III)</td>\n",
       "      <td>Project funding</td>\n",
       "      <td>Département de Pharmacologie &amp; Toxicologie Fac...</td>\n",
       "      <td>Switzerland</td>\n",
       "      <td>University of Lausanne - LA</td>\n",
       "      <td>30103</td>\n",
       "      <td>Cellular Biology, Cytology</td>\n",
       "      <td>Biology and Medicine;Basic Biological Research</td>\n",
       "      <td>30103</td>\n",
       "      <td>01.10.1998</td>\n",
       "      <td>30.09.2001</td>\n",
       "      <td>405000.00</td>\n",
       "      <td>NaN</td>\n",
       "    </tr>\n",
       "  </tbody>\n",
       "</table>\n",
       "</div>"
      ],
      "text/plain": [
       "       Project Number Project Number String  \\\n",
       "27749           63687           1114-063687   \n",
       "60632          159235         200020_159235   \n",
       "23850           53721           3100-053721   \n",
       "\n",
       "                                           Project Title  \\\n",
       "27749  The Development and Functions of Shakespeare's...   \n",
       "60632  Mathematical research: combinatorics, discrete...   \n",
       "23850  Molecular and functional analysis of Na,K-ATPa...   \n",
       "\n",
       "      Project Title English Responsible Applicant  \\\n",
       "27749                   NaN         Vickers Brian   \n",
       "60632                   NaN       Rivière Tristan   \n",
       "23850                   NaN         Geering Käthi   \n",
       "\n",
       "                 Funding Instrument Funding Instrument Hierarchy  \\\n",
       "27749  Project funding (Div. I-III)              Project funding   \n",
       "60632  Project funding (Div. I-III)              Project funding   \n",
       "23850  Project funding (Div. I-III)              Project funding   \n",
       "\n",
       "                                             Institution Institution Country  \\\n",
       "27749            Chair of English Literature ETH-Zentrum         Switzerland   \n",
       "60632                  Departement Mathematik ETH Zürich         Switzerland   \n",
       "23850  Département de Pharmacologie & Toxicologie Fac...         Switzerland   \n",
       "\n",
       "                        University  Discipline Number  \\\n",
       "27749            ETH Zurich - ETHZ              10501   \n",
       "60632            ETH Zurich - ETHZ              20100   \n",
       "23850  University of Lausanne - LA              30103   \n",
       "\n",
       "                                   Discipline Name  \\\n",
       "27749  German and English languages and literature   \n",
       "60632                                  Mathematics   \n",
       "23850                   Cellular Biology, Cytology   \n",
       "\n",
       "                               Discipline Name Hierarchy All disciplines  \\\n",
       "27749  Humanities and Social Sciences;Linguistics and...           10501   \n",
       "60632     Mathematics, Natural- and Engineering Sciences           20100   \n",
       "23850     Biology and Medicine;Basic Biological Research           30103   \n",
       "\n",
       "       Start Date    End Date Approved Amount  \\\n",
       "27749  01.04.2001  31.03.2003        84799.00   \n",
       "60632  01.07.2015  30.06.2017       450000.00   \n",
       "23850  01.10.1998  30.09.2001       405000.00   \n",
       "\n",
       "                                                Keywords  \n",
       "27749                              SHAKESPEARE; RHETORIK  \n",
       "60632  geometric measure theory; probability; number ...  \n",
       "23850                                                NaN  "
      ]
     },
     "execution_count": 5,
     "metadata": {},
     "output_type": "execute_result"
    }
   ],
   "source": [
    "grants_raw.sample(3)"
   ]
  },
  {
   "cell_type": "code",
   "execution_count": 6,
   "metadata": {
    "tags": []
   },
   "outputs": [
    {
     "name": "stdout",
     "output_type": "stream",
     "text": [
      "<class 'pandas.core.frame.DataFrame'>\n",
      "RangeIndex: 74519 entries, 0 to 74518\n",
      "Data columns (total 18 columns):\n",
      " #   Column                        Non-Null Count  Dtype \n",
      "---  ------                        --------------  ----- \n",
      " 0   Project Number                74519 non-null  int64 \n",
      " 1   Project Number String         74519 non-null  object\n",
      " 2   Project Title                 74519 non-null  object\n",
      " 3   Project Title English         31400 non-null  object\n",
      " 4   Responsible Applicant         74519 non-null  object\n",
      " 5   Funding Instrument            74519 non-null  object\n",
      " 6   Funding Instrument Hierarchy  74479 non-null  object\n",
      " 7   Institution                   68860 non-null  object\n",
      " 8   Institution Country           68794 non-null  object\n",
      " 9   University                    74514 non-null  object\n",
      " 10  Discipline Number             74519 non-null  int64 \n",
      " 11  Discipline Name               74519 non-null  object\n",
      " 12  Discipline Name Hierarchy     74020 non-null  object\n",
      " 13  All disciplines               74519 non-null  object\n",
      " 14  Start Date                    74517 non-null  object\n",
      " 15  End Date                      74517 non-null  object\n",
      " 16  Approved Amount               74519 non-null  object\n",
      " 17  Keywords                      49409 non-null  object\n",
      "dtypes: int64(2), object(16)\n",
      "memory usage: 10.2+ MB\n"
     ]
    }
   ],
   "source": [
    "grants_raw.info()"
   ]
  },
  {
   "cell_type": "code",
   "execution_count": 7,
   "metadata": {},
   "outputs": [
    {
     "data": {
      "text/html": [
       "<div>\n",
       "<style scoped>\n",
       "    .dataframe tbody tr th:only-of-type {\n",
       "        vertical-align: middle;\n",
       "    }\n",
       "\n",
       "    .dataframe tbody tr th {\n",
       "        vertical-align: top;\n",
       "    }\n",
       "\n",
       "    .dataframe thead th {\n",
       "        text-align: right;\n",
       "    }\n",
       "</style>\n",
       "<table border=\"1\" class=\"dataframe\">\n",
       "  <thead>\n",
       "    <tr style=\"text-align: right;\">\n",
       "      <th></th>\n",
       "      <th>Last Name</th>\n",
       "      <th>First Name</th>\n",
       "      <th>Gender</th>\n",
       "      <th>Institute Name</th>\n",
       "      <th>Institute Place</th>\n",
       "      <th>Person ID SNSF</th>\n",
       "      <th>OCRID</th>\n",
       "      <th>Projects as responsible Applicant</th>\n",
       "      <th>Projects as Applicant</th>\n",
       "      <th>Projects as Partner</th>\n",
       "      <th>Projects as Practice Partner</th>\n",
       "      <th>Projects as Employee</th>\n",
       "      <th>Projects as Contact Person</th>\n",
       "    </tr>\n",
       "  </thead>\n",
       "  <tbody>\n",
       "    <tr>\n",
       "      <th>60501</th>\n",
       "      <td>Macris</td>\n",
       "      <td>Nicolas</td>\n",
       "      <td>male</td>\n",
       "      <td>Laboratoire de théorie des communications EPFL...</td>\n",
       "      <td>Lausanne</td>\n",
       "      <td>16742</td>\n",
       "      <td>NaN</td>\n",
       "      <td>26670;29172;30678;55654;105604;113412;121903;1...</td>\n",
       "      <td>156672;182517</td>\n",
       "      <td>NaN</td>\n",
       "      <td>NaN</td>\n",
       "      <td>4437;4942;5524;33980</td>\n",
       "      <td>NaN</td>\n",
       "    </tr>\n",
       "    <tr>\n",
       "      <th>63183</th>\n",
       "      <td>Mathis</td>\n",
       "      <td>Nicolas Patrice</td>\n",
       "      <td>male</td>\n",
       "      <td>NaN</td>\n",
       "      <td>NaN</td>\n",
       "      <td>765533</td>\n",
       "      <td>NaN</td>\n",
       "      <td>NaN</td>\n",
       "      <td>NaN</td>\n",
       "      <td>NaN</td>\n",
       "      <td>NaN</td>\n",
       "      <td>185293</td>\n",
       "      <td>NaN</td>\n",
       "    </tr>\n",
       "    <tr>\n",
       "      <th>61841</th>\n",
       "      <td>Marchionni</td>\n",
       "      <td>Alberto</td>\n",
       "      <td>male</td>\n",
       "      <td>Institut für Teilchen- und Astrophysik ETH Zürich</td>\n",
       "      <td>Zürich</td>\n",
       "      <td>555229</td>\n",
       "      <td>NaN</td>\n",
       "      <td>NaN</td>\n",
       "      <td>125334;125452;126755;130055;135187;138120;141141</td>\n",
       "      <td>NaN</td>\n",
       "      <td>NaN</td>\n",
       "      <td>NaN</td>\n",
       "      <td>NaN</td>\n",
       "    </tr>\n",
       "  </tbody>\n",
       "</table>\n",
       "</div>"
      ],
      "text/plain": [
       "        Last Name       First Name Gender  \\\n",
       "60501      Macris          Nicolas   male   \n",
       "63183      Mathis  Nicolas Patrice   male   \n",
       "61841  Marchionni          Alberto   male   \n",
       "\n",
       "                                          Institute Name Institute Place  \\\n",
       "60501  Laboratoire de théorie des communications EPFL...        Lausanne   \n",
       "63183                                                NaN             NaN   \n",
       "61841  Institut für Teilchen- und Astrophysik ETH Zürich          Zürich   \n",
       "\n",
       "       Person ID SNSF OCRID  \\\n",
       "60501           16742   NaN   \n",
       "63183          765533   NaN   \n",
       "61841          555229   NaN   \n",
       "\n",
       "                       Projects as responsible Applicant  \\\n",
       "60501  26670;29172;30678;55654;105604;113412;121903;1...   \n",
       "63183                                                NaN   \n",
       "61841                                                NaN   \n",
       "\n",
       "                                  Projects as Applicant Projects as Partner  \\\n",
       "60501                                     156672;182517                 NaN   \n",
       "63183                                               NaN                 NaN   \n",
       "61841  125334;125452;126755;130055;135187;138120;141141                 NaN   \n",
       "\n",
       "      Projects as Practice Partner  Projects as Employee  \\\n",
       "60501                          NaN  4437;4942;5524;33980   \n",
       "63183                          NaN                185293   \n",
       "61841                          NaN                   NaN   \n",
       "\n",
       "      Projects as Contact Person  \n",
       "60501                        NaN  \n",
       "63183                        NaN  \n",
       "61841                        NaN  "
      ]
     },
     "execution_count": 7,
     "metadata": {},
     "output_type": "execute_result"
    }
   ],
   "source": [
    "person_raw.sample(3)"
   ]
  },
  {
   "cell_type": "code",
   "execution_count": 8,
   "metadata": {
    "tags": []
   },
   "outputs": [
    {
     "name": "stdout",
     "output_type": "stream",
     "text": [
      "<class 'pandas.core.frame.DataFrame'>\n",
      "RangeIndex: 111903 entries, 0 to 111902\n",
      "Data columns (total 13 columns):\n",
      " #   Column                             Non-Null Count   Dtype \n",
      "---  ------                             --------------   ----- \n",
      " 0   Last Name                          111903 non-null  object\n",
      " 1   First Name                         111896 non-null  object\n",
      " 2   Gender                             111903 non-null  object\n",
      " 3   Institute Name                     54186 non-null   object\n",
      " 4   Institute Place                    54083 non-null   object\n",
      " 5   Person ID SNSF                     111903 non-null  int64 \n",
      " 6   OCRID                              7092 non-null    object\n",
      " 7   Projects as responsible Applicant  28898 non-null   object\n",
      " 8   Projects as Applicant              18934 non-null   object\n",
      " 9   Projects as Partner                5300 non-null    object\n",
      " 10  Projects as Practice Partner       735 non-null     object\n",
      " 11  Projects as Employee               82000 non-null   object\n",
      " 12  Projects as Contact Person         766 non-null     object\n",
      "dtypes: int64(1), object(12)\n",
      "memory usage: 11.1+ MB\n"
     ]
    }
   ],
   "source": [
    "person_raw.info()"
   ]
  },
  {
   "cell_type": "code",
   "execution_count": null,
   "metadata": {},
   "outputs": [],
   "source": []
  },
  {
   "cell_type": "markdown",
   "metadata": {},
   "source": [
    "### Tidiness\n",
    "\n",
    "#### `grants_raw` (ie. `GrantExport`) table\n",
    "\n",
    "- `Funding Instrument`, `Funding Instrument Hierarchy` are confusing\n",
    "- `Discipline`, ... `Discipline Name Hierarchy` are confusing\n",
    "- Details about `Institute` out of scope\n",
    "- `University` contains both long and short names: details out of scope\n",
    "\n",
    "#### `person_raw` (ie. `PersonExport`) table\n",
    "\n",
    "- **`Project as...` contain mixed variables and observations for grant and role**\n",
    "- Details about `Institute` out of scope\n",
    "\n",
    "#### Quality\n",
    "\n",
    "- spaces in column names\n",
    "\n",
    "##### `grants_raw` (ie. `GrantExport`) table\n",
    "\n",
    "- **`Project Number` and `Project Number String` are redundant**\n",
    "- **`Project Number String` encodes division information?**\n",
    "- **`Responsible Applicant` not an uid**\n",
    "- **`Start Date` and `End Date` string, not date type**\n",
    "- **`Aproved Amount` not numeric**\n",
    "- `Project Title English` often redundant or null\n",
    "- `Institution` free text? if yes, is it relevant? better named as department?\n",
    "- `Keywords` not consistent (see keyword extraction from abstracts)\n",
    "\n",
    "##### `person_raw` (ie. `PersonExport`) table\n",
    "\n",
    "- typo in col name for `ORCID`\n",
    "- gender not categorical variable"
   ]
  },
  {
   "cell_type": "markdown",
   "metadata": {},
   "source": [
    "## Clean"
   ]
  },
  {
   "cell_type": "code",
   "execution_count": 9,
   "metadata": {
    "tags": []
   },
   "outputs": [],
   "source": [
    "# good practice\n",
    "grants = grants_raw.copy()\n",
    "grants.columns = grants.columns.str.lower().str.replace(' ', '_')\n",
    "person = person_raw.copy()\n",
    "person.columns = person.columns.str.lower().str.replace(' ', '_')"
   ]
  },
  {
   "cell_type": "code",
   "execution_count": 10,
   "metadata": {},
   "outputs": [],
   "source": [
    "# https://github.com/zambujo/p3data/issues/4\n",
    "# grantee table\n",
    "grantee = (person\n",
    "    .melt('person_id_snsf', \n",
    "          var_name='role', \n",
    "          value_name='project_number', \n",
    "          value_vars=['projects_as_responsible_applicant', \n",
    "                      'projects_as_applicant', \n",
    "                      'projects_as_partner', \n",
    "                      'projects_as_practice_partner', \n",
    "                      'projects_as_employee', \n",
    "                      'projects_as_contact_person']).dropna())\n",
    "grantee = grantee.assign(project_number=grantee.project_number.str.split(';')).explode('project_number').reset_index(drop=True)\n",
    "grantee['role'] = grantee.role.str[12:]\n",
    "grantee.drop_duplicates(inplace=True)\n",
    "grantee['project_number'] = pd.to_numeric(grantee['project_number'], errors='coerce')\n",
    "grantee=grantee.dropna()\n",
    "grantee['project_number'] = grantee['project_number'].astype(int)\n",
    "grantee['role'] = grantee['role'].astype('category')\n",
    "assert grantee.project_number.dtype.name == 'int64', 'project number column not an integer'\n",
    "assert grantee.role.dtype.name == 'category', 'role column not a category'\n"
   ]
  },
  {
   "cell_type": "code",
   "execution_count": 11,
   "metadata": {
    "tags": []
   },
   "outputs": [
    {
     "data": {
      "text/plain": [
       "male      70007\n",
       "female    41896\n",
       "Name: gender, dtype: int64"
      ]
     },
     "execution_count": 11,
     "metadata": {},
     "output_type": "execute_result"
    }
   ],
   "source": [
    "# person table\n",
    "person = person[['person_id_snsf', 'gender', 'first_name', 'last_name']]\n",
    "person['gender'] = person['gender'].astype('category')\n",
    "assert person.gender.dtype.name == 'category', 'gender column not a category'\n",
    "person.gender.value_counts()"
   ]
  },
  {
   "cell_type": "code",
   "execution_count": 12,
   "metadata": {
    "tags": []
   },
   "outputs": [
    {
     "name": "stdout",
     "output_type": "stream",
     "text": [
      "<class 'pandas.core.frame.DataFrame'>\n",
      "Int64Index: 255507 entries, 0 to 258790\n",
      "Data columns (total 3 columns):\n",
      " #   Column          Non-Null Count   Dtype   \n",
      "---  ------          --------------   -----   \n",
      " 0   person_id_snsf  255507 non-null  int64   \n",
      " 1   role            255507 non-null  category\n",
      " 2   project_number  255507 non-null  int64   \n",
      "dtypes: category(1), int64(2)\n",
      "memory usage: 6.1 MB\n",
      "<class 'pandas.core.frame.DataFrame'>\n",
      "RangeIndex: 111903 entries, 0 to 111902\n",
      "Data columns (total 4 columns):\n",
      " #   Column          Non-Null Count   Dtype   \n",
      "---  ------          --------------   -----   \n",
      " 0   person_id_snsf  111903 non-null  int64   \n",
      " 1   gender          111903 non-null  category\n",
      " 2   first_name      111896 non-null  object  \n",
      " 3   last_name       111903 non-null  object  \n",
      "dtypes: category(1), int64(1), object(2)\n",
      "memory usage: 2.7+ MB\n"
     ]
    }
   ],
   "source": [
    "grantee.info()\n",
    "person.info()"
   ]
  },
  {
   "cell_type": "code",
   "execution_count": 13,
   "metadata": {
    "tags": []
   },
   "outputs": [],
   "source": [
    "# https://github.com/zambujo/p3data/issues/1\n",
    "grants['string_code'] = grants.project_number_string.str[:-6]\n",
    "grants['string_code'] = grants.string_code.str.replace('[-_ ]', '')\n",
    "grants = grants.drop('project_number_string', 1)"
   ]
  },
  {
   "cell_type": "code",
   "execution_count": 14,
   "metadata": {},
   "outputs": [
    {
     "data": {
      "text/html": [
       "<div>\n",
       "<style scoped>\n",
       "    .dataframe tbody tr th:only-of-type {\n",
       "        vertical-align: middle;\n",
       "    }\n",
       "\n",
       "    .dataframe tbody tr th {\n",
       "        vertical-align: top;\n",
       "    }\n",
       "\n",
       "    .dataframe thead th {\n",
       "        text-align: right;\n",
       "    }\n",
       "</style>\n",
       "<table border=\"1\" class=\"dataframe\">\n",
       "  <thead>\n",
       "    <tr style=\"text-align: right;\">\n",
       "      <th></th>\n",
       "      <th>string_code</th>\n",
       "      <th>funding_instrument</th>\n",
       "      <th>count</th>\n",
       "    </tr>\n",
       "  </thead>\n",
       "  <tbody>\n",
       "    <tr>\n",
       "      <th>181</th>\n",
       "      <td>2000</td>\n",
       "      <td>Project funding (Div. I-III)</td>\n",
       "      <td>6072</td>\n",
       "    </tr>\n",
       "    <tr>\n",
       "      <th>286</th>\n",
       "      <td>3100</td>\n",
       "      <td>Project funding (Div. I-III)</td>\n",
       "      <td>4997</td>\n",
       "    </tr>\n",
       "    <tr>\n",
       "      <th>183</th>\n",
       "      <td>200020</td>\n",
       "      <td>Project funding (Div. I-III)</td>\n",
       "      <td>3506</td>\n",
       "    </tr>\n",
       "    <tr>\n",
       "      <th>188</th>\n",
       "      <td>200021</td>\n",
       "      <td>Project funding (Div. I-III)</td>\n",
       "      <td>3306</td>\n",
       "    </tr>\n",
       "    <tr>\n",
       "      <th>292</th>\n",
       "      <td>31003A</td>\n",
       "      <td>Project funding (Div. I-III)</td>\n",
       "      <td>2677</td>\n",
       "    </tr>\n",
       "  </tbody>\n",
       "</table>\n",
       "</div>"
      ],
      "text/plain": [
       "    string_code            funding_instrument  count\n",
       "181        2000  Project funding (Div. I-III)   6072\n",
       "286        3100  Project funding (Div. I-III)   4997\n",
       "183      200020  Project funding (Div. I-III)   3506\n",
       "188      200021  Project funding (Div. I-III)   3306\n",
       "292      31003A  Project funding (Div. I-III)   2677"
      ]
     },
     "execution_count": 14,
     "metadata": {},
     "output_type": "execute_result"
    }
   ],
   "source": [
    "# not clear what to test... [TODO]\n",
    "grants.groupby([\"string_code\", \"funding_instrument\"]).size().reset_index().rename(columns={0: \"count\"}).sort_values(by='count', ascending=False).head()"
   ]
  },
  {
   "cell_type": "code",
   "execution_count": 15,
   "metadata": {},
   "outputs": [],
   "source": [
    "# https://github.com/zambujo/p3data/issues/6\n",
    "grants['approved_amount'] = pd.to_numeric(grants['approved_amount'], errors='coerce')\n",
    "grants['start_date'] = pd.to_datetime(grants.start_date)\n",
    "grants['end_date'] = pd.to_datetime(grants.end_date)\n",
    "\n",
    "assert grants.approved_amount.dtype.name == 'float64', 'approved amount column not a float'\n",
    "assert grants.start_date.dtype.name == 'datetime64[ns]', 'start_date column not datetime type'\n",
    "assert grants.end_date.dtype.name == 'datetime64[ns]', 'end_date column not datetime type'"
   ]
  },
  {
   "cell_type": "code",
   "execution_count": 16,
   "metadata": {},
   "outputs": [],
   "source": [
    "grants[['domain','topic']] = grants.discipline_name_hierarchy.str.split(';', expand=True)\n",
    "grants['domain'] = grants['domain'].astype('category')\n",
    "grants['topic'] = grants['topic'].astype('category')\n",
    "grants['discipline_name'] = grants['discipline_name'].astype('category')\n",
    "\n",
    "assert grants.domain.dtype.name == 'category', 'domain column not a category'\n",
    "assert grants.topic.dtype.name == 'category', 'topic column not a category'\n",
    "assert grants.discipline_name.dtype.name == 'category', 'discipline name column not a category'"
   ]
  },
  {
   "cell_type": "code",
   "execution_count": 17,
   "metadata": {},
   "outputs": [],
   "source": [
    "grants[['programme', 'programme_details', 'programme_specifics']] = grants.funding_instrument_hierarchy.str.split(';', expand=True)\n",
    "grants['programme'] = grants['programme'].astype('category')\n",
    "grants['programme_details'] = grants['programme_details'].astype('category')\n",
    "grants['programme_specifics'] = grants['programme_specifics'].astype('category')\n",
    "grants['funding_instrument'] = grants['funding_instrument'].astype('category')\n",
    "\n",
    "assert grants.programme.dtype.name == 'category', 'programme column not a category'\n",
    "assert grants.programme_details.dtype.name == 'category', 'programme details column not a category'\n",
    "assert grants.programme_specifics.dtype.name == 'category', 'programme specifics column not a category'\n",
    "assert grants.funding_instrument.dtype.name == 'category', 'funding instrument column not a category'"
   ]
  },
  {
   "cell_type": "code",
   "execution_count": 18,
   "metadata": {
    "tags": []
   },
   "outputs": [
    {
     "name": "stdout",
     "output_type": "stream",
     "text": [
      "<class 'pandas.core.frame.DataFrame'>\n",
      "RangeIndex: 74519 entries, 0 to 74518\n",
      "Data columns (total 10 columns):\n",
      " #   Column              Non-Null Count  Dtype         \n",
      "---  ------              --------------  -----         \n",
      " 0   project_number      74519 non-null  int64         \n",
      " 1   programme           74479 non-null  category      \n",
      " 2   funding_instrument  74519 non-null  category      \n",
      " 3   domain              74020 non-null  category      \n",
      " 4   topic               70748 non-null  category      \n",
      " 5   discipline_name     74519 non-null  category      \n",
      " 6   discipline_number   74519 non-null  int64         \n",
      " 7   start_date          74517 non-null  datetime64[ns]\n",
      " 8   end_date            74517 non-null  datetime64[ns]\n",
      " 9   approved_amount     61387 non-null  float64       \n",
      "dtypes: category(5), datetime64[ns](2), float64(1), int64(2)\n",
      "memory usage: 3.4 MB\n"
     ]
    }
   ],
   "source": [
    "grants = grants[['project_number', 'programme', 'funding_instrument', 'domain', 'topic', 'discipline_name', 'discipline_number', 'start_date', 'end_date', 'approved_amount']]\n",
    "grants.info()"
   ]
  },
  {
   "cell_type": "code",
   "execution_count": 19,
   "metadata": {},
   "outputs": [],
   "source": [
    "# minimal set of tidy datasets\n",
    "grants.reset_index().to_feather(os.path.join('data', 'grants.feather'))\n",
    "person.reset_index().to_feather(os.path.join('data', 'person.feather'))\n",
    "grantee.reset_index().to_feather(os.path.join('data', 'grantee.feather'))"
   ]
  }
 ],
 "metadata": {
  "kernelspec": {
   "display_name": "Python 3",
   "language": "python",
   "name": "python3"
  },
  "language_info": {
   "codemirror_mode": {
    "name": "ipython",
    "version": 3
   },
   "file_extension": ".py",
   "mimetype": "text/x-python",
   "name": "python",
   "nbconvert_exporter": "python",
   "pygments_lexer": "ipython3",
   "version": "3.8.5"
  }
 },
 "nbformat": 4,
 "nbformat_minor": 4
}
