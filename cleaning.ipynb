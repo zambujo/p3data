{
 "cells": [
  {
   "cell_type": "markdown",
   "metadata": {},
   "source": [
    "# Pre-processing SNSF Public Data"
   ]
  },
  {
   "cell_type": "code",
   "execution_count": 44,
   "metadata": {},
   "outputs": [
    {
     "output_type": "error",
     "ename": "ModuleNotFoundError",
     "evalue": "No module named 'feather'",
     "traceback": [
      "\u001b[0;31m---------------------------------------------------------------------------\u001b[0m",
      "\u001b[0;31mModuleNotFoundError\u001b[0m                       Traceback (most recent call last)",
      "\u001b[0;32m<ipython-input-44-b3f80deceafd>\u001b[0m in \u001b[0;36m<module>\u001b[0;34m\u001b[0m\n\u001b[1;32m      3\u001b[0m \u001b[0;32mimport\u001b[0m \u001b[0mpyarrow\u001b[0m \u001b[0;32mas\u001b[0m \u001b[0mpa\u001b[0m\u001b[0;34m\u001b[0m\u001b[0;34m\u001b[0m\u001b[0m\n\u001b[1;32m      4\u001b[0m \u001b[0;32mimport\u001b[0m \u001b[0mpandas\u001b[0m \u001b[0;32mas\u001b[0m \u001b[0mpd\u001b[0m\u001b[0;34m\u001b[0m\u001b[0;34m\u001b[0m\u001b[0m\n\u001b[0;32m----> 5\u001b[0;31m \u001b[0;32mimport\u001b[0m \u001b[0mfeather\u001b[0m\u001b[0;34m\u001b[0m\u001b[0;34m\u001b[0m\u001b[0m\n\u001b[0m\u001b[1;32m      6\u001b[0m \u001b[0;32mimport\u001b[0m \u001b[0mmatplotlib\u001b[0m\u001b[0;34m.\u001b[0m\u001b[0mpyplot\u001b[0m \u001b[0;32mas\u001b[0m \u001b[0mplt\u001b[0m\u001b[0;34m\u001b[0m\u001b[0;34m\u001b[0m\u001b[0m\n\u001b[1;32m      7\u001b[0m \u001b[0;32mimport\u001b[0m \u001b[0mseaborn\u001b[0m \u001b[0;32mas\u001b[0m \u001b[0msns\u001b[0m\u001b[0;34m\u001b[0m\u001b[0;34m\u001b[0m\u001b[0m\n",
      "\u001b[0;31mModuleNotFoundError\u001b[0m: No module named 'feather'"
     ]
    }
   ],
   "source": [
    "import os\n",
    "import numpy as np\n",
    "import pandas as pd\n",
    "import feather\n",
    "import matplotlib.pyplot as plt\n",
    "import seaborn as sns\n",
    "import requests"
   ]
  },
  {
   "cell_type": "markdown",
   "metadata": {},
   "source": [
    "## Gather"
   ]
  },
  {
   "cell_type": "code",
   "execution_count": 2,
   "metadata": {},
   "outputs": [],
   "source": [
    "UPDATE_DATA = False\n",
    "folder_name = 'rawdata'\n",
    "if not os.path.exists(folder_name):\n",
    "    os.makedirs(folder_name)"
   ]
  },
  {
   "source": [
    "file_names = [\"P3_GrantExport.csv\", \"P3_PersonExport.csv\", \"P3_PublicationExport.csv\", \"P3_GrantOutputDataExport.csv\"]\n",
    "\n",
    "if UPDATE_DATA:\n",
    "    for k in file_names:\n",
    "        url_grant = \"http://p3.snf.ch/P3Export/\" + k\n",
    "        print(url_grant)\n",
    "        response = requests.get(url_grant)\n",
    "        assert response.status_code == 200, \"status code for\" + k + \" not ok\"\n",
    "        \n",
    "        with open(os.path.join(folder_name, k), mode=\"wb\") as file:\n",
    "                file.write(response.content)"
   ],
   "cell_type": "code",
   "metadata": {},
   "execution_count": 3,
   "outputs": []
  },
  {
   "cell_type": "code",
   "execution_count": 4,
   "metadata": {},
   "outputs": [],
   "source": [
    "grants = pd.read_csv(os.path.join(folder_name, file_names[0]), sep=';')\n",
    "people = pd.read_csv(os.path.join(folder_name, file_names[1]), sep=';')\n",
    "publications = pd.read_csv(os.path.join(folder_name, file_names[2]), sep=';')\n",
    "output_data = pd.read_csv(os.path.join(folder_name, file_names[3]), sep=';')"
   ]
  },
  {
   "cell_type": "markdown",
   "metadata": {},
   "source": [
    "## Assess"
   ]
  },
  {
   "cell_type": "code",
   "execution_count": 5,
   "metadata": {},
   "outputs": [
    {
     "output_type": "execute_result",
     "data": {
      "text/plain": "       Project Number Project Number String  \\\n37494          112653         PP0012-112653   \n32380          102443         B-0010-102443   \n1167             1540           1000-001540   \n\n                                           Project Title  \\\n37494                                Logique Universelle   \n32380    Il tema dell'onore nel teatro barocco in Europa   \n1167   Rabbinische Gleichnisse und das Neue Testament...   \n\n      Project Title English Responsible Applicant  \\\n37494                   NaN      Béziau Jean-Yves   \n32380                   NaN       Stäuble Antonio   \n1167                    NaN         Thoma Clemens   \n\n                 Funding Instrument Funding Instrument Hierarchy  \\\n37494           SNSF Professorships                      Careers   \n32380            Publication grants        Science communication   \n1167   Project funding (Div. I-III)              Project funding   \n\n                                             Institution Institution Country  \\\n37494        Institut de Logique Université de Neuchâtel         Switzerland   \n32380  Section d'Italien Faculté des Lettres Universi...         Switzerland   \n1167                                                 NaN                 NaN   \n\n                         University  Discipline Number  \\\n37494  University of Neuchatel - NE              20100   \n32380   University of Lausanne - LA              10502   \n1167              Unassignable - NA              10102   \n\n                        Discipline Name  \\\n37494                       Mathematics   \n32380  Romance languages and literature   \n1167        Religious studies, Theology   \n\n                               Discipline Name Hierarchy All disciplines  \\\n37494     Mathematics, Natural- and Engineering Sciences     20100/10101   \n32380  Humanities and Social Sciences;Linguistics and...           10502   \n1167   Humanities and Social Sciences;Theology & reli...           10102   \n\n       Start Date    End Date Approved Amount  \\\n37494  01.08.2006  31.07.2008       417850.00   \n32380  01.09.2003  30.09.2003         5700.00   \n1167   01.04.1985  31.03.1988       185428.00   \n\n                                                Keywords  \n37494  universal logic; abstract logic; combination o...  \n32380                                                NaN  \n1167                                                 NaN  ",
      "text/html": "<div>\n<style scoped>\n    .dataframe tbody tr th:only-of-type {\n        vertical-align: middle;\n    }\n\n    .dataframe tbody tr th {\n        vertical-align: top;\n    }\n\n    .dataframe thead th {\n        text-align: right;\n    }\n</style>\n<table border=\"1\" class=\"dataframe\">\n  <thead>\n    <tr style=\"text-align: right;\">\n      <th></th>\n      <th>Project Number</th>\n      <th>Project Number String</th>\n      <th>Project Title</th>\n      <th>Project Title English</th>\n      <th>Responsible Applicant</th>\n      <th>Funding Instrument</th>\n      <th>Funding Instrument Hierarchy</th>\n      <th>Institution</th>\n      <th>Institution Country</th>\n      <th>University</th>\n      <th>Discipline Number</th>\n      <th>Discipline Name</th>\n      <th>Discipline Name Hierarchy</th>\n      <th>All disciplines</th>\n      <th>Start Date</th>\n      <th>End Date</th>\n      <th>Approved Amount</th>\n      <th>Keywords</th>\n    </tr>\n  </thead>\n  <tbody>\n    <tr>\n      <th>37494</th>\n      <td>112653</td>\n      <td>PP0012-112653</td>\n      <td>Logique Universelle</td>\n      <td>NaN</td>\n      <td>Béziau Jean-Yves</td>\n      <td>SNSF Professorships</td>\n      <td>Careers</td>\n      <td>Institut de Logique Université de Neuchâtel</td>\n      <td>Switzerland</td>\n      <td>University of Neuchatel - NE</td>\n      <td>20100</td>\n      <td>Mathematics</td>\n      <td>Mathematics, Natural- and Engineering Sciences</td>\n      <td>20100/10101</td>\n      <td>01.08.2006</td>\n      <td>31.07.2008</td>\n      <td>417850.00</td>\n      <td>universal logic; abstract logic; combination o...</td>\n    </tr>\n    <tr>\n      <th>32380</th>\n      <td>102443</td>\n      <td>B-0010-102443</td>\n      <td>Il tema dell'onore nel teatro barocco in Europa</td>\n      <td>NaN</td>\n      <td>Stäuble Antonio</td>\n      <td>Publication grants</td>\n      <td>Science communication</td>\n      <td>Section d'Italien Faculté des Lettres Universi...</td>\n      <td>Switzerland</td>\n      <td>University of Lausanne - LA</td>\n      <td>10502</td>\n      <td>Romance languages and literature</td>\n      <td>Humanities and Social Sciences;Linguistics and...</td>\n      <td>10502</td>\n      <td>01.09.2003</td>\n      <td>30.09.2003</td>\n      <td>5700.00</td>\n      <td>NaN</td>\n    </tr>\n    <tr>\n      <th>1167</th>\n      <td>1540</td>\n      <td>1000-001540</td>\n      <td>Rabbinische Gleichnisse und das Neue Testament...</td>\n      <td>NaN</td>\n      <td>Thoma Clemens</td>\n      <td>Project funding (Div. I-III)</td>\n      <td>Project funding</td>\n      <td>NaN</td>\n      <td>NaN</td>\n      <td>Unassignable - NA</td>\n      <td>10102</td>\n      <td>Religious studies, Theology</td>\n      <td>Humanities and Social Sciences;Theology &amp; reli...</td>\n      <td>10102</td>\n      <td>01.04.1985</td>\n      <td>31.03.1988</td>\n      <td>185428.00</td>\n      <td>NaN</td>\n    </tr>\n  </tbody>\n</table>\n</div>"
     },
     "metadata": {},
     "execution_count": 5
    }
   ],
   "source": [
    "grants.sample(3)"
   ]
  },
  {
   "cell_type": "code",
   "execution_count": 6,
   "metadata": {
    "tags": []
   },
   "outputs": [
    {
     "output_type": "stream",
     "name": "stdout",
     "text": "<class 'pandas.core.frame.DataFrame'>\nRangeIndex: 74519 entries, 0 to 74518\nData columns (total 18 columns):\n #   Column                        Non-Null Count  Dtype \n---  ------                        --------------  ----- \n 0   Project Number                74519 non-null  int64 \n 1   Project Number String         74519 non-null  object\n 2   Project Title                 74519 non-null  object\n 3   Project Title English         31400 non-null  object\n 4   Responsible Applicant         74519 non-null  object\n 5   Funding Instrument            74519 non-null  object\n 6   Funding Instrument Hierarchy  74479 non-null  object\n 7   Institution                   68860 non-null  object\n 8   Institution Country           68794 non-null  object\n 9   University                    74514 non-null  object\n 10  Discipline Number             74519 non-null  int64 \n 11  Discipline Name               74519 non-null  object\n 12  Discipline Name Hierarchy     74020 non-null  object\n 13  All disciplines               74519 non-null  object\n 14  Start Date                    74517 non-null  object\n 15  End Date                      74517 non-null  object\n 16  Approved Amount               74519 non-null  object\n 17  Keywords                      49409 non-null  object\ndtypes: int64(2), object(16)\nmemory usage: 10.2+ MB\n"
    }
   ],
   "source": [
    "grants.info()"
   ]
  },
  {
   "cell_type": "code",
   "execution_count": 7,
   "metadata": {},
   "outputs": [
    {
     "output_type": "execute_result",
     "data": {
      "text/plain": "       Last Name First Name  Gender  \\\n49     Abbaspour      Karim    male   \n24514      Downs       Sara  female   \n98486     Textor    Stephan    male   \n\n                                          Institute Name Institute Place  \\\n49                             Aquatische Ökologie Eawag       Dübendorf   \n24514  Institut für Sozial- und Präventivmedizin Univ...           Basel   \n98486                                   Rytec Partner AG       Münsingen   \n\n       Person ID SNSF OCRID Projects as responsible Applicant  \\\n49              80211   NaN              100076;107468;109430   \n24514          501107   NaN                               NaN   \n98486           70501   NaN                               NaN   \n\n                                 Projects as Applicant Projects as Partner  \\\n49     61395;103600;103881;113890;122479;138608;146430              173206   \n24514                                              NaN                 NaN   \n98486                                            44589                 NaN   \n\n      Projects as Practice Partner        Projects as Employee  \\\n49                             NaN                         NaN   \n24514                          NaN  65896;104283;104284;104288   \n98486                          NaN                         NaN   \n\n      Projects as Contact Person  \n49                           NaN  \n24514                        NaN  \n98486                        NaN  ",
      "text/html": "<div>\n<style scoped>\n    .dataframe tbody tr th:only-of-type {\n        vertical-align: middle;\n    }\n\n    .dataframe tbody tr th {\n        vertical-align: top;\n    }\n\n    .dataframe thead th {\n        text-align: right;\n    }\n</style>\n<table border=\"1\" class=\"dataframe\">\n  <thead>\n    <tr style=\"text-align: right;\">\n      <th></th>\n      <th>Last Name</th>\n      <th>First Name</th>\n      <th>Gender</th>\n      <th>Institute Name</th>\n      <th>Institute Place</th>\n      <th>Person ID SNSF</th>\n      <th>OCRID</th>\n      <th>Projects as responsible Applicant</th>\n      <th>Projects as Applicant</th>\n      <th>Projects as Partner</th>\n      <th>Projects as Practice Partner</th>\n      <th>Projects as Employee</th>\n      <th>Projects as Contact Person</th>\n    </tr>\n  </thead>\n  <tbody>\n    <tr>\n      <th>49</th>\n      <td>Abbaspour</td>\n      <td>Karim</td>\n      <td>male</td>\n      <td>Aquatische Ökologie Eawag</td>\n      <td>Dübendorf</td>\n      <td>80211</td>\n      <td>NaN</td>\n      <td>100076;107468;109430</td>\n      <td>61395;103600;103881;113890;122479;138608;146430</td>\n      <td>173206</td>\n      <td>NaN</td>\n      <td>NaN</td>\n      <td>NaN</td>\n    </tr>\n    <tr>\n      <th>24514</th>\n      <td>Downs</td>\n      <td>Sara</td>\n      <td>female</td>\n      <td>Institut für Sozial- und Präventivmedizin Univ...</td>\n      <td>Basel</td>\n      <td>501107</td>\n      <td>NaN</td>\n      <td>NaN</td>\n      <td>NaN</td>\n      <td>NaN</td>\n      <td>NaN</td>\n      <td>65896;104283;104284;104288</td>\n      <td>NaN</td>\n    </tr>\n    <tr>\n      <th>98486</th>\n      <td>Textor</td>\n      <td>Stephan</td>\n      <td>male</td>\n      <td>Rytec Partner AG</td>\n      <td>Münsingen</td>\n      <td>70501</td>\n      <td>NaN</td>\n      <td>NaN</td>\n      <td>44589</td>\n      <td>NaN</td>\n      <td>NaN</td>\n      <td>NaN</td>\n      <td>NaN</td>\n    </tr>\n  </tbody>\n</table>\n</div>"
     },
     "metadata": {},
     "execution_count": 7
    }
   ],
   "source": [
    "people.sample(3)"
   ]
  },
  {
   "cell_type": "code",
   "execution_count": 8,
   "metadata": {
    "tags": []
   },
   "outputs": [
    {
     "output_type": "stream",
     "name": "stdout",
     "text": "<class 'pandas.core.frame.DataFrame'>\nRangeIndex: 111903 entries, 0 to 111902\nData columns (total 13 columns):\n #   Column                             Non-Null Count   Dtype \n---  ------                             --------------   ----- \n 0   Last Name                          111903 non-null  object\n 1   First Name                         111896 non-null  object\n 2   Gender                             111903 non-null  object\n 3   Institute Name                     54186 non-null   object\n 4   Institute Place                    54083 non-null   object\n 5   Person ID SNSF                     111903 non-null  int64 \n 6   OCRID                              7092 non-null    object\n 7   Projects as responsible Applicant  28898 non-null   object\n 8   Projects as Applicant              18934 non-null   object\n 9   Projects as Partner                5300 non-null    object\n 10  Projects as Practice Partner       735 non-null     object\n 11  Projects as Employee               82000 non-null   object\n 12  Projects as Contact Person         766 non-null     object\ndtypes: int64(1), object(12)\nmemory usage: 11.1+ MB\n"
    }
   ],
   "source": [
    "people.info()"
   ]
  },
  {
   "cell_type": "code",
   "execution_count": 9,
   "metadata": {},
   "outputs": [
    {
     "output_type": "execute_result",
     "data": {
      "text/plain": "                           Publication ID SNSF  Project Number  \\\n74025   {F96D37AA-E202-4DF2-91FD-5DB8441DC439}          147139   \n88838   {16693A62-33A4-462A-AF7F-FD78BDCE5AA3}          153038   \n124874  {825C75D1-32EF-40B1-B96A-1709C04498BD}          171590   \n\n       Peer Review Status               Type of Publication  \\\n74025       Peer-reviewed  Original article (peer-reviewed)   \n88838       Peer-reviewed  Original article (peer-reviewed)   \n124874      Peer-reviewed  Original article (peer-reviewed)   \n\n                                     Title of Publication  \\\n74025   Continental weathering and redox conditions du...   \n88838   PAGES synthesis study on climate changes in As...   \n124874  Novel Transgenic Lines to Analyze Renal Glutat...   \n\n                                                  Authors     Status  \\\n74025   Montero-Serrano Jean-Carlos,  Föllmi Karl B., ...  Published   \n88838           Ge Quansheng,  Zheng Jingyun,  Hao Zhixin  Published   \n124874  Sugano Yuya,  Siegfried Hugo,  Merkel Erin,  D...  Published   \n\n        Publication Year ISBN  \\\n74025             2015.0  NaN   \n88838             2014.0  NaN   \n124874            2020.0  NaN   \n\n                                                      DOI  ... Publisher  \\\n74025                        10.1016/j.palaeo.2015.03.043  ...       NaN   \n88838   10.11821/dlxb201503001                        ...  ...       NaN   \n124874                              10.1089/zeb.2020.1862  ...       NaN   \n\n        Editors                                      Journal Title Volume  \\\n74025       NaN  Palaeogeography, Palaeoclimatology, Palaeoecology    429   \n88838       NaN                            Acta Geographica Sinica     70   \n124874      NaN                                          Zebrafish     17   \n\n       Issue / Number Page from Page to  \\\n74025             NaN        83      99   \n88838               3       355     363   \n124874              2       153     155   \n\n                                         Proceeding Title Proceeding Place  \\\n74025   Palaeogeography, Palaeoclimatology, Palaeoecology              NaN   \n88838                             Acta Geographica Sinica              NaN   \n124874                                          Zebrafish              NaN   \n\n                                                 Abstract  \n74025                                                 NaN  \n88838   ABSTRACT: This article in Chinese is a contrib...  \n124874  Reactive oxygen species (ROS) are important re...  \n\n[3 rows x 26 columns]",
      "text/html": "<div>\n<style scoped>\n    .dataframe tbody tr th:only-of-type {\n        vertical-align: middle;\n    }\n\n    .dataframe tbody tr th {\n        vertical-align: top;\n    }\n\n    .dataframe thead th {\n        text-align: right;\n    }\n</style>\n<table border=\"1\" class=\"dataframe\">\n  <thead>\n    <tr style=\"text-align: right;\">\n      <th></th>\n      <th>Publication ID SNSF</th>\n      <th>Project Number</th>\n      <th>Peer Review Status</th>\n      <th>Type of Publication</th>\n      <th>Title of Publication</th>\n      <th>Authors</th>\n      <th>Status</th>\n      <th>Publication Year</th>\n      <th>ISBN</th>\n      <th>DOI</th>\n      <th>...</th>\n      <th>Publisher</th>\n      <th>Editors</th>\n      <th>Journal Title</th>\n      <th>Volume</th>\n      <th>Issue / Number</th>\n      <th>Page from</th>\n      <th>Page to</th>\n      <th>Proceeding Title</th>\n      <th>Proceeding Place</th>\n      <th>Abstract</th>\n    </tr>\n  </thead>\n  <tbody>\n    <tr>\n      <th>74025</th>\n      <td>{F96D37AA-E202-4DF2-91FD-5DB8441DC439}</td>\n      <td>147139</td>\n      <td>Peer-reviewed</td>\n      <td>Original article (peer-reviewed)</td>\n      <td>Continental weathering and redox conditions du...</td>\n      <td>Montero-Serrano Jean-Carlos,  Föllmi Karl B., ...</td>\n      <td>Published</td>\n      <td>2015.0</td>\n      <td>NaN</td>\n      <td>10.1016/j.palaeo.2015.03.043</td>\n      <td>...</td>\n      <td>NaN</td>\n      <td>NaN</td>\n      <td>Palaeogeography, Palaeoclimatology, Palaeoecology</td>\n      <td>429</td>\n      <td>NaN</td>\n      <td>83</td>\n      <td>99</td>\n      <td>Palaeogeography, Palaeoclimatology, Palaeoecology</td>\n      <td>NaN</td>\n      <td>NaN</td>\n    </tr>\n    <tr>\n      <th>88838</th>\n      <td>{16693A62-33A4-462A-AF7F-FD78BDCE5AA3}</td>\n      <td>153038</td>\n      <td>Peer-reviewed</td>\n      <td>Original article (peer-reviewed)</td>\n      <td>PAGES synthesis study on climate changes in As...</td>\n      <td>Ge Quansheng,  Zheng Jingyun,  Hao Zhixin</td>\n      <td>Published</td>\n      <td>2014.0</td>\n      <td>NaN</td>\n      <td>10.11821/dlxb201503001                        ...</td>\n      <td>...</td>\n      <td>NaN</td>\n      <td>NaN</td>\n      <td>Acta Geographica Sinica</td>\n      <td>70</td>\n      <td>3</td>\n      <td>355</td>\n      <td>363</td>\n      <td>Acta Geographica Sinica</td>\n      <td>NaN</td>\n      <td>ABSTRACT: This article in Chinese is a contrib...</td>\n    </tr>\n    <tr>\n      <th>124874</th>\n      <td>{825C75D1-32EF-40B1-B96A-1709C04498BD}</td>\n      <td>171590</td>\n      <td>Peer-reviewed</td>\n      <td>Original article (peer-reviewed)</td>\n      <td>Novel Transgenic Lines to Analyze Renal Glutat...</td>\n      <td>Sugano Yuya,  Siegfried Hugo,  Merkel Erin,  D...</td>\n      <td>Published</td>\n      <td>2020.0</td>\n      <td>NaN</td>\n      <td>10.1089/zeb.2020.1862</td>\n      <td>...</td>\n      <td>NaN</td>\n      <td>NaN</td>\n      <td>Zebrafish</td>\n      <td>17</td>\n      <td>2</td>\n      <td>153</td>\n      <td>155</td>\n      <td>Zebrafish</td>\n      <td>NaN</td>\n      <td>Reactive oxygen species (ROS) are important re...</td>\n    </tr>\n  </tbody>\n</table>\n<p>3 rows × 26 columns</p>\n</div>"
     },
     "metadata": {},
     "execution_count": 9
    }
   ],
   "source": [
    "publications.sample(3)"
   ]
  },
  {
   "cell_type": "code",
   "execution_count": 10,
   "metadata": {
    "tags": []
   },
   "outputs": [
    {
     "output_type": "stream",
     "name": "stdout",
     "text": "<class 'pandas.core.frame.DataFrame'>\nRangeIndex: 133541 entries, 0 to 133540\nData columns (total 26 columns):\n #   Column                     Non-Null Count   Dtype  \n---  ------                     --------------   -----  \n 0   Publication ID SNSF        133541 non-null  object \n 1   Project Number             133541 non-null  int64  \n 2   Peer Review Status         133541 non-null  object \n 3   Type of Publication        128867 non-null  object \n 4   Title of Publication       133504 non-null  object \n 5   Authors                    131026 non-null  object \n 6   Status                     133541 non-null  object \n 7   Publication Year           118806 non-null  float64\n 8   ISBN                       15201 non-null   object \n 9   DOI                        78871 non-null   object \n 10  Import Source              107910 non-null  object \n 11  Last Change of Outputdata  0 non-null       float64\n 12  Open Access Status         133541 non-null  int64  \n 13  Open Access Type           42630 non-null   object \n 14  Open Access URL            42623 non-null   object \n 15  Book Title                 124917 non-null  object \n 16  Publisher                  26593 non-null   object \n 17  Editors                    13569 non-null   object \n 18  Journal Title              124917 non-null  object \n 19  Volume                     88179 non-null   object \n 20  Issue / Number             60739 non-null   object \n 21  Page from                  106093 non-null  object \n 22  Page to                    91351 non-null   object \n 23  Proceeding Title           124908 non-null  object \n 24  Proceeding Place           5854 non-null    object \n 25  Abstract                   69181 non-null   object \ndtypes: float64(2), int64(2), object(22)\nmemory usage: 26.5+ MB\n"
    }
   ],
   "source": [
    "publications.info()"
   ]
  },
  {
   "cell_type": "code",
   "execution_count": 11,
   "metadata": {},
   "outputs": [
    {
     "output_type": "execute_result",
     "data": {
      "text/plain": "Publisher (Gold Open Access)                                           18131\nRepository (Green Open Access)                                         12349\nWebsite                                                                10359\nGreen OA Embargo (Freely available via Repository after an embargo)     1791\nName: Open Access Type, dtype: int64"
     },
     "metadata": {},
     "execution_count": 11
    }
   ],
   "source": [
    "publications['Open Access Type'].value_counts()"
   ]
  },
  {
   "cell_type": "code",
   "execution_count": 12,
   "metadata": {},
   "outputs": [
    {
     "output_type": "execute_result",
     "data": {
      "text/plain": "Published    118975\nAccepted      14464\nNotSet          102\nName: Status, dtype: int64"
     },
     "metadata": {},
     "execution_count": 12
    }
   ],
   "source": [
    "publications['Status'].value_counts()"
   ]
  },
  {
   "cell_type": "code",
   "execution_count": 13,
   "metadata": {},
   "outputs": [
    {
     "output_type": "execute_result",
     "data": {
      "text/plain": "8                          2078\n7                          2002\n9                          1851\n6                          1808\n10                         1705\n                           ... \n9(2)                          1\nSonderheft 4                  1\nII-2                          1\nISBN: 978-2-35327-134-4       1\n(12)                          1\nName: Volume, Length: 3657, dtype: int64"
     },
     "metadata": {},
     "execution_count": 13
    }
   ],
   "source": [
    "publications['Volume'].value_counts()"
   ]
  },
  {
   "cell_type": "code",
   "execution_count": 14,
   "metadata": {},
   "outputs": [
    {
     "output_type": "execute_result",
     "data": {
      "text/plain": "1           8688\n2           6471\n3           5426\n4           5071\n5           3638\n            ... \n0000           1\n36419          1\n235            1\n4 · 2019       1\nw13767         1\nName: Issue / Number, Length: 2720, dtype: int64"
     },
     "metadata": {},
     "execution_count": 14
    }
   ],
   "source": [
    "publications['Issue / Number'].value_counts()"
   ]
  },
  {
   "cell_type": "code",
   "execution_count": 15,
   "metadata": {},
   "outputs": [
    {
     "output_type": "execute_result",
     "data": {
      "text/plain": "(1724, 26)"
     },
     "metadata": {},
     "execution_count": 15
    }
   ],
   "source": [
    "publications[(publications.DOI.isna() == False) & (publications[['DOI', 'Project Number']].duplicated())].shape"
   ]
  },
  {
   "cell_type": "code",
   "execution_count": 16,
   "metadata": {},
   "outputs": [
    {
     "output_type": "execute_result",
     "data": {
      "text/plain": "       Project Number                                        Output Type  \\\n13086          148042         Media relations: print media, online media   \n17906          156561                 Media relations: radio, television   \n17962          156574  New media (web, blogs, podcasts, news feeds etc.)   \n\n                                            Output Title  \\\n13086      Restoring a rare firsthand account to history   \n17906                             Allaitement au travail   \n17962  Why austerity is easier to implement in some c...   \n\n                                                     Url    Year  \n13086  http://www.las.illinois.edu/news/article/?id=1...  2016.0  \n17906  https://www.rjb.ch/Format-A3/Allaitement-au-tr...  2017.0  \n17962                    http://eprints.lse.ac.uk/70177/  2017.0  ",
      "text/html": "<div>\n<style scoped>\n    .dataframe tbody tr th:only-of-type {\n        vertical-align: middle;\n    }\n\n    .dataframe tbody tr th {\n        vertical-align: top;\n    }\n\n    .dataframe thead th {\n        text-align: right;\n    }\n</style>\n<table border=\"1\" class=\"dataframe\">\n  <thead>\n    <tr style=\"text-align: right;\">\n      <th></th>\n      <th>Project Number</th>\n      <th>Output Type</th>\n      <th>Output Title</th>\n      <th>Url</th>\n      <th>Year</th>\n    </tr>\n  </thead>\n  <tbody>\n    <tr>\n      <th>13086</th>\n      <td>148042</td>\n      <td>Media relations: print media, online media</td>\n      <td>Restoring a rare firsthand account to history</td>\n      <td>http://www.las.illinois.edu/news/article/?id=1...</td>\n      <td>2016.0</td>\n    </tr>\n    <tr>\n      <th>17906</th>\n      <td>156561</td>\n      <td>Media relations: radio, television</td>\n      <td>Allaitement au travail</td>\n      <td>https://www.rjb.ch/Format-A3/Allaitement-au-tr...</td>\n      <td>2017.0</td>\n    </tr>\n    <tr>\n      <th>17962</th>\n      <td>156574</td>\n      <td>New media (web, blogs, podcasts, news feeds etc.)</td>\n      <td>Why austerity is easier to implement in some c...</td>\n      <td>http://eprints.lse.ac.uk/70177/</td>\n      <td>2017.0</td>\n    </tr>\n  </tbody>\n</table>\n</div>"
     },
     "metadata": {},
     "execution_count": 16
    }
   ],
   "source": [
    "output_data.sample(3)"
   ]
  },
  {
   "cell_type": "code",
   "execution_count": 17,
   "metadata": {
    "tags": []
   },
   "outputs": [
    {
     "output_type": "stream",
     "name": "stdout",
     "text": "<class 'pandas.core.frame.DataFrame'>\nRangeIndex: 28730 entries, 0 to 28729\nData columns (total 5 columns):\n #   Column          Non-Null Count  Dtype  \n---  ------          --------------  -----  \n 0   Project Number  28730 non-null  int64  \n 1   Output Type     28730 non-null  object \n 2   Output Title    28726 non-null  object \n 3   Url             18712 non-null  object \n 4   Year            28487 non-null  float64\ndtypes: float64(1), int64(1), object(3)\nmemory usage: 1.1+ MB\n"
    }
   ],
   "source": [
    "output_data.info()"
   ]
  },
  {
   "cell_type": "code",
   "execution_count": 18,
   "metadata": {},
   "outputs": [
    {
     "output_type": "execute_result",
     "data": {
      "text/plain": "Media relations: print media, online media           10709\nTalks/events/exhibitions                              7201\nNew media (web, blogs, podcasts, news feeds etc.)     3679\nMedia relations: radio, television                    3623\nPrint (books, brochures, leaflets)                    1413\nOther activities                                      1003\nVideo/Film                                             680\nSoftware                                               286\nStart-up                                               136\nName: Output Type, dtype: int64"
     },
     "metadata": {},
     "execution_count": 18
    }
   ],
   "source": [
    "output_data['Output Type'].value_counts()"
   ]
  },
  {
   "cell_type": "code",
   "execution_count": null,
   "metadata": {},
   "outputs": [],
   "source": []
  },
  {
   "source": [
    "#### Tidiness\n",
    "\n",
    "##### `grants` (ie. `GrantExport`) table\n",
    "\n",
    "- `Funding Instrument`, `Funding Instrument Hierarchy` are confusing\n",
    "- `Discipline`, ... `Discipline Name Hierarchy` are confusing\n",
    "- Details about `Institute` out of scope\n",
    "- `University` contains both long and short names: details out of scope\n",
    "\n",
    "##### `people` (ie. `PersonExport`) table\n",
    "\n",
    "- **`Project as...` contain mixed variables and observations for grant and role**\n",
    "- Details about `Institute` out of scope\n",
    "\n",
    "##### `publications` table\n",
    "\n",
    "- `Authors` contains multiple observations\n",
    "\n",
    "##### `collaborations` table\n",
    "\n",
    "- `Types of collaboration` contains multiple observations\n",
    "\n",
    "#### Quality\n",
    "\n",
    "- spaces in column names\n",
    "\n",
    "##### `grants` (ie. `GrantExport`) table\n",
    "\n",
    "- **`Project Number` and `Project Number String` are redundant**\n",
    "- **`Project Number String` encodes division information?**\n",
    "- **`Responsible Applicant` not an uid**\n",
    "- **`Start Date` and `End Date` string, not date type**\n",
    "- **`Aproved Amount` not numeric**\n",
    "- `Project Title English` often redundant or null\n",
    "- `Institution` free text? if yes, is it relevant? better named as department?\n",
    "- `Keywords` not consistent (see keyword extraction from abstracts)\n",
    "\n",
    "##### `people` (ie. `PersonExport`) table\n",
    "\n",
    "- typo in col name for `ORCID`\n",
    "- gender not categorical variable\n",
    "\n",
    "##### `publications` table\n",
    "\n",
    "- Missing DOIs\n",
    "- `Last Change of Outputdata` empty\n",
    "- `Publication Year` shows as float\n",
    "- `Status`, `Peer Review Status`, `Type of Publication`, and `Open Acces Type` strings, not categories\n",
    "- `Volume`, `Issue / Number`, `Page from`, `Page to` strings, not numeric\n",
    "- `[..] Title` show inconsistencies re capitalization\n",
    "- Duplicated entries: 1'724 duplicated non null DOIs and project numbers\n",
    "Í\n",
    "##### `output_data` table\n",
    "\n",
    "- `Output Type` string, not category\n",
    "- `Year` float, not integer"
   ],
   "cell_type": "markdown",
   "metadata": {}
  },
  {
   "cell_type": "markdown",
   "metadata": {},
   "source": [
    "## Clean"
   ]
  },
  {
   "cell_type": "code",
   "execution_count": 19,
   "metadata": {
    "tags": []
   },
   "outputs": [],
   "source": [
    "# good practice to work on copies of the raw data\n",
    "df_grants = grants.copy()\n",
    "df_grants.columns = df_grants.columns.str.lower().str.replace(' ', '_')\n",
    "df_people = people.copy()\n",
    "df_people.columns = df_people.columns.str.lower().str.replace(' ', '_')"
   ]
  },
  {
   "cell_type": "code",
   "execution_count": null,
   "metadata": {},
   "outputs": [],
   "source": []
  },
  {
   "cell_type": "code",
   "execution_count": 20,
   "metadata": {},
   "outputs": [],
   "source": [
    "# https://github.com/zambujo/p3data/issues/4\n",
    "# grantee table\n",
    "grantee = (df_people\n",
    "    .melt('person_id_snsf', \n",
    "          var_name='role', \n",
    "          value_name='project_number', \n",
    "          value_vars=['projects_as_responsible_applicant', \n",
    "                      'projects_as_applicant', \n",
    "                      'projects_as_partner', \n",
    "                      'projects_as_practice_partner', \n",
    "                      'projects_as_employee', \n",
    "                      'projects_as_contact_person']).dropna())\n",
    "grantee = grantee.assign(project_number=grantee.project_number.str.split(';')).explode('project_number').reset_index(drop=True)\n",
    "grantee['role'] = grantee.role.str[12:]\n",
    "grantee.drop_duplicates(inplace=True)\n",
    "grantee['project_number'] = pd.to_numeric(grantee['project_number'], errors='coerce')\n",
    "grantee=grantee.dropna()\n",
    "grantee['project_number'] = grantee['project_number'].astype(int)\n",
    "\n"
   ]
  },
  {
   "cell_type": "code",
   "execution_count": 21,
   "metadata": {
    "tags": []
   },
   "outputs": [],
   "source": [
    "# person table\n",
    "person = df_people[['person_id_snsf', 'gender', 'first_name', 'last_name']]"
   ]
  },
  {
   "cell_type": "code",
   "execution_count": 22,
   "metadata": {
    "tags": []
   },
   "outputs": [
    {
     "output_type": "stream",
     "name": "stdout",
     "text": "<class 'pandas.core.frame.DataFrame'>\nInt64Index: 255507 entries, 0 to 258790\nData columns (total 3 columns):\n #   Column          Non-Null Count   Dtype \n---  ------          --------------   ----- \n 0   person_id_snsf  255507 non-null  int64 \n 1   role            255507 non-null  object\n 2   project_number  255507 non-null  int64 \ndtypes: int64(2), object(1)\nmemory usage: 7.8+ MB\n<class 'pandas.core.frame.DataFrame'>\nRangeIndex: 111903 entries, 0 to 111902\nData columns (total 4 columns):\n #   Column          Non-Null Count   Dtype \n---  ------          --------------   ----- \n 0   person_id_snsf  111903 non-null  int64 \n 1   gender          111903 non-null  object\n 2   first_name      111896 non-null  object\n 3   last_name       111903 non-null  object\ndtypes: int64(1), object(3)\nmemory usage: 3.4+ MB\n"
    }
   ],
   "source": [
    "grantee.info()\n",
    "person.info()"
   ]
  },
  {
   "cell_type": "code",
   "execution_count": 23,
   "metadata": {
    "tags": []
   },
   "outputs": [
    {
     "output_type": "execute_result",
     "data": {
      "text/plain": "person_id_snsf    111120\nrole                   6\nproject_number     74494\ndtype: int64"
     },
     "metadata": {},
     "execution_count": 23
    }
   ],
   "source": [
    "grantee.nunique()"
   ]
  },
  {
   "cell_type": "code",
   "execution_count": 24,
   "metadata": {},
   "outputs": [
    {
     "output_type": "execute_result",
     "data": {
      "text/plain": "employee                 127500\nresponsible_applicant     73608\napplicant                 46609\npartner                    5961\ncontact_person             1033\npractice_partner            796\nName: role, dtype: int64"
     },
     "metadata": {},
     "execution_count": 24
    }
   ],
   "source": [
    "grantee.role.value_counts()"
   ]
  },
  {
   "cell_type": "code",
   "execution_count": 25,
   "metadata": {},
   "outputs": [
    {
     "output_type": "execute_result",
     "data": {
      "text/plain": "male      70007\nfemale    41896\nName: gender, dtype: int64"
     },
     "metadata": {},
     "execution_count": 25
    }
   ],
   "source": [
    "person.gender.value_counts()"
   ]
  },
  {
   "cell_type": "code",
   "execution_count": 26,
   "metadata": {
    "tags": []
   },
   "outputs": [],
   "source": [
    "# https://github.com/zambujo/p3data/issues/1\n",
    "df_grants['string_code'] = df_grants.project_number_string.str[:-6]\n",
    "df_grants['string_code'] = df_grants.string_code.str.replace('[-_ ]', '')\n",
    "df_grants = df_grants.drop('project_number_string', 1)"
   ]
  },
  {
   "source": [
    "_Acceptance tests_"
   ],
   "cell_type": "markdown",
   "metadata": {}
  },
  {
   "cell_type": "code",
   "execution_count": 27,
   "metadata": {},
   "outputs": [
    {
     "output_type": "execute_result",
     "data": {
      "text/plain": "2000       6072\n3100       4997\n200020     3506\n200021     3306\n31003A     2677\n           ... \nCR21I3        1\nPBTI33        1\n314730B       1\n3118          1\n10FI1         1\nName: string_code, Length: 1102, dtype: int64"
     },
     "metadata": {},
     "execution_count": 27
    }
   ],
   "source": [
    "df_grants.string_code.value_counts()"
   ]
  },
  {
   "cell_type": "code",
   "execution_count": 28,
   "metadata": {},
   "outputs": [
    {
     "output_type": "execute_result",
     "data": {
      "text/plain": "    string_code            funding_instrument  count\n181        2000  Project funding (Div. I-III)   6072\n286        3100  Project funding (Div. I-III)   4997\n183      200020  Project funding (Div. I-III)   3506\n188      200021  Project funding (Div. I-III)   3306\n292      31003A  Project funding (Div. I-III)   2677",
      "text/html": "<div>\n<style scoped>\n    .dataframe tbody tr th:only-of-type {\n        vertical-align: middle;\n    }\n\n    .dataframe tbody tr th {\n        vertical-align: top;\n    }\n\n    .dataframe thead th {\n        text-align: right;\n    }\n</style>\n<table border=\"1\" class=\"dataframe\">\n  <thead>\n    <tr style=\"text-align: right;\">\n      <th></th>\n      <th>string_code</th>\n      <th>funding_instrument</th>\n      <th>count</th>\n    </tr>\n  </thead>\n  <tbody>\n    <tr>\n      <th>181</th>\n      <td>2000</td>\n      <td>Project funding (Div. I-III)</td>\n      <td>6072</td>\n    </tr>\n    <tr>\n      <th>286</th>\n      <td>3100</td>\n      <td>Project funding (Div. I-III)</td>\n      <td>4997</td>\n    </tr>\n    <tr>\n      <th>183</th>\n      <td>200020</td>\n      <td>Project funding (Div. I-III)</td>\n      <td>3506</td>\n    </tr>\n    <tr>\n      <th>188</th>\n      <td>200021</td>\n      <td>Project funding (Div. I-III)</td>\n      <td>3306</td>\n    </tr>\n    <tr>\n      <th>292</th>\n      <td>31003A</td>\n      <td>Project funding (Div. I-III)</td>\n      <td>2677</td>\n    </tr>\n  </tbody>\n</table>\n</div>"
     },
     "metadata": {},
     "execution_count": 28
    }
   ],
   "source": [
    "df_grants.groupby([\"string_code\", \"funding_instrument\"]).size().reset_index().rename(columns={0: \"count\"}).sort_values(by='count', ascending=False).head()"
   ]
  },
  {
   "cell_type": "code",
   "execution_count": 29,
   "metadata": {},
   "outputs": [],
   "source": [
    "person['gender'] = person['gender'].astype('category')"
   ]
  },
  {
   "cell_type": "code",
   "execution_count": 30,
   "metadata": {
    "tags": []
   },
   "outputs": [],
   "source": [
    "assert person.gender.dtype.name == 'category', 'gender column not a category'"
   ]
  },
  {
   "cell_type": "code",
   "execution_count": 31,
   "metadata": {},
   "outputs": [],
   "source": [
    "# https://github.com/zambujo/p3data/issues/6\n",
    "df_grants['approved_amount'] = pd.to_numeric(df_grants['approved_amount'], errors='coerce')"
   ]
  },
  {
   "cell_type": "code",
   "execution_count": 32,
   "metadata": {},
   "outputs": [],
   "source": [
    "df_grants['start_date'] = pd.to_datetime(df_grants.start_date)\n",
    "df_grants['end_date'] = pd.to_datetime(df_grants.end_date)"
   ]
  },
  {
   "cell_type": "code",
   "execution_count": 33,
   "metadata": {},
   "outputs": [
    {
     "output_type": "execute_result",
     "data": {
      "text/plain": "      start_date   end_date\n51720 2012-01-05 2014-04-30\n27876 2001-01-04 2005-03-31\n3230  1982-01-04 1982-09-30",
      "text/html": "<div>\n<style scoped>\n    .dataframe tbody tr th:only-of-type {\n        vertical-align: middle;\n    }\n\n    .dataframe tbody tr th {\n        vertical-align: top;\n    }\n\n    .dataframe thead th {\n        text-align: right;\n    }\n</style>\n<table border=\"1\" class=\"dataframe\">\n  <thead>\n    <tr style=\"text-align: right;\">\n      <th></th>\n      <th>start_date</th>\n      <th>end_date</th>\n    </tr>\n  </thead>\n  <tbody>\n    <tr>\n      <th>51720</th>\n      <td>2012-01-05</td>\n      <td>2014-04-30</td>\n    </tr>\n    <tr>\n      <th>27876</th>\n      <td>2001-01-04</td>\n      <td>2005-03-31</td>\n    </tr>\n    <tr>\n      <th>3230</th>\n      <td>1982-01-04</td>\n      <td>1982-09-30</td>\n    </tr>\n  </tbody>\n</table>\n</div>"
     },
     "metadata": {},
     "execution_count": 33
    }
   ],
   "source": [
    "assert df_grants.start_date.dtype.name == 'datetime64[ns]', 'start_date not datetime type'\n",
    "assert df_grants.end_date.dtype.name == 'datetime64[ns]', 'end_date not datetime type'\n",
    "df_grants[['start_date', 'end_date']].sample(3)"
   ]
  },
  {
   "cell_type": "code",
   "execution_count": 34,
   "metadata": {},
   "outputs": [
    {
     "output_type": "execute_result",
     "data": {
      "text/plain": "   project_number                                      project_title  \\\n0               1  Schlussband (Bd. VI) der Jacob Burckhardt-Biog...   \n1               4  Batterie de tests à l'usage des enseignants po...   \n2               5  Kritische Erstausgabe der 'Evidentiae contra D...   \n3               6  Katalog der datierten Handschriften in der Sch...   \n4               7  Wissenschaftliche Mitarbeit am Thesaurus Lingu...   \n\n  project_title_english                              responsible_applicant  \\\n0                   NaN                                       Kaegi Werner   \n1                   NaN                                 Massarenti Léonard   \n2                   NaN  Kommission für das Corpus philosophorum medii ...   \n3                   NaN                                     Burckhardt Max   \n4                   NaN                       Schweiz. Thesauruskommission   \n\n             funding_instrument funding_instrument_hierarchy  \\\n0  Project funding (Div. I-III)              Project funding   \n1  Project funding (Div. I-III)              Project funding   \n2  Project funding (Div. I-III)              Project funding   \n3  Project funding (Div. I-III)              Project funding   \n4  Project funding (Div. I-III)              Project funding   \n\n                                         institution institution_country  \\\n0                                                NaN                 NaN   \n1  Faculté de Psychologie et des Sciences de l'Ed...         Switzerland   \n2  Kommission für das Corpus philosophorum medii ...         Switzerland   \n3  Abteilung Handschriften und Alte Drucke Univer...         Switzerland   \n4                       Schweiz. Thesauruskommission         Switzerland   \n\n                                          university  discipline_number  \\\n0                                  Unassignable - NA              10302   \n1                          University of Geneva - GE              10104   \n2  Non-profit organisations (libraries, museums, ...              10101   \n3                           University of Basel - BS              10302   \n4  Non-profit organisations (libraries, museums, ...              10303   \n\n                         discipline_name  \\\n0                          Swiss history   \n1       Educational science and Pedagogy   \n2                             Philosophy   \n3                          Swiss history   \n4  Ancient history and Classical studies   \n\n                           discipline_name_hierarchy all_disciplines  \\\n0  Humanities and Social Sciences;Theology & reli...           10302   \n1  Humanities and Social Sciences;Psychology, edu...           10104   \n2  Humanities and Social Sciences;Linguistics and...           10101   \n3  Humanities and Social Sciences;Theology & reli...           10302   \n4  Humanities and Social Sciences;Theology & reli...           10303   \n\n  start_date   end_date  approved_amount keywords string_code  \n0 1975-01-10 1976-09-30          11619.0      NaN        1000  \n1 1975-01-10 1976-09-30          41022.0      NaN        1000  \n2 1976-01-03 1985-02-28          79732.0      NaN        1000  \n3 1975-01-10 1976-09-30          52627.0      NaN        1000  \n4 1976-01-01 1978-04-30         120042.0      NaN        1000  ",
      "text/html": "<div>\n<style scoped>\n    .dataframe tbody tr th:only-of-type {\n        vertical-align: middle;\n    }\n\n    .dataframe tbody tr th {\n        vertical-align: top;\n    }\n\n    .dataframe thead th {\n        text-align: right;\n    }\n</style>\n<table border=\"1\" class=\"dataframe\">\n  <thead>\n    <tr style=\"text-align: right;\">\n      <th></th>\n      <th>project_number</th>\n      <th>project_title</th>\n      <th>project_title_english</th>\n      <th>responsible_applicant</th>\n      <th>funding_instrument</th>\n      <th>funding_instrument_hierarchy</th>\n      <th>institution</th>\n      <th>institution_country</th>\n      <th>university</th>\n      <th>discipline_number</th>\n      <th>discipline_name</th>\n      <th>discipline_name_hierarchy</th>\n      <th>all_disciplines</th>\n      <th>start_date</th>\n      <th>end_date</th>\n      <th>approved_amount</th>\n      <th>keywords</th>\n      <th>string_code</th>\n    </tr>\n  </thead>\n  <tbody>\n    <tr>\n      <th>0</th>\n      <td>1</td>\n      <td>Schlussband (Bd. VI) der Jacob Burckhardt-Biog...</td>\n      <td>NaN</td>\n      <td>Kaegi Werner</td>\n      <td>Project funding (Div. I-III)</td>\n      <td>Project funding</td>\n      <td>NaN</td>\n      <td>NaN</td>\n      <td>Unassignable - NA</td>\n      <td>10302</td>\n      <td>Swiss history</td>\n      <td>Humanities and Social Sciences;Theology &amp; reli...</td>\n      <td>10302</td>\n      <td>1975-01-10</td>\n      <td>1976-09-30</td>\n      <td>11619.0</td>\n      <td>NaN</td>\n      <td>1000</td>\n    </tr>\n    <tr>\n      <th>1</th>\n      <td>4</td>\n      <td>Batterie de tests à l'usage des enseignants po...</td>\n      <td>NaN</td>\n      <td>Massarenti Léonard</td>\n      <td>Project funding (Div. I-III)</td>\n      <td>Project funding</td>\n      <td>Faculté de Psychologie et des Sciences de l'Ed...</td>\n      <td>Switzerland</td>\n      <td>University of Geneva - GE</td>\n      <td>10104</td>\n      <td>Educational science and Pedagogy</td>\n      <td>Humanities and Social Sciences;Psychology, edu...</td>\n      <td>10104</td>\n      <td>1975-01-10</td>\n      <td>1976-09-30</td>\n      <td>41022.0</td>\n      <td>NaN</td>\n      <td>1000</td>\n    </tr>\n    <tr>\n      <th>2</th>\n      <td>5</td>\n      <td>Kritische Erstausgabe der 'Evidentiae contra D...</td>\n      <td>NaN</td>\n      <td>Kommission für das Corpus philosophorum medii ...</td>\n      <td>Project funding (Div. I-III)</td>\n      <td>Project funding</td>\n      <td>Kommission für das Corpus philosophorum medii ...</td>\n      <td>Switzerland</td>\n      <td>Non-profit organisations (libraries, museums, ...</td>\n      <td>10101</td>\n      <td>Philosophy</td>\n      <td>Humanities and Social Sciences;Linguistics and...</td>\n      <td>10101</td>\n      <td>1976-01-03</td>\n      <td>1985-02-28</td>\n      <td>79732.0</td>\n      <td>NaN</td>\n      <td>1000</td>\n    </tr>\n    <tr>\n      <th>3</th>\n      <td>6</td>\n      <td>Katalog der datierten Handschriften in der Sch...</td>\n      <td>NaN</td>\n      <td>Burckhardt Max</td>\n      <td>Project funding (Div. I-III)</td>\n      <td>Project funding</td>\n      <td>Abteilung Handschriften und Alte Drucke Univer...</td>\n      <td>Switzerland</td>\n      <td>University of Basel - BS</td>\n      <td>10302</td>\n      <td>Swiss history</td>\n      <td>Humanities and Social Sciences;Theology &amp; reli...</td>\n      <td>10302</td>\n      <td>1975-01-10</td>\n      <td>1976-09-30</td>\n      <td>52627.0</td>\n      <td>NaN</td>\n      <td>1000</td>\n    </tr>\n    <tr>\n      <th>4</th>\n      <td>7</td>\n      <td>Wissenschaftliche Mitarbeit am Thesaurus Lingu...</td>\n      <td>NaN</td>\n      <td>Schweiz. Thesauruskommission</td>\n      <td>Project funding (Div. I-III)</td>\n      <td>Project funding</td>\n      <td>Schweiz. Thesauruskommission</td>\n      <td>Switzerland</td>\n      <td>Non-profit organisations (libraries, museums, ...</td>\n      <td>10303</td>\n      <td>Ancient history and Classical studies</td>\n      <td>Humanities and Social Sciences;Theology &amp; reli...</td>\n      <td>10303</td>\n      <td>1976-01-01</td>\n      <td>1978-04-30</td>\n      <td>120042.0</td>\n      <td>NaN</td>\n      <td>1000</td>\n    </tr>\n  </tbody>\n</table>\n</div>"
     },
     "metadata": {},
     "execution_count": 34
    }
   ],
   "source": [
    "df_grants.head()"
   ]
  },
  {
   "cell_type": "code",
   "execution_count": 35,
   "metadata": {},
   "outputs": [],
   "source": [
    "df_grants[['domain','topic']] = df_grants.discipline_name_hierarchy.str.split(';', expand=True)\n",
    "df_grants['domain'] = df_grants['domain'].astype('category')\n",
    "df_grants['topic'] = df_grants['topic'].astype('category')\n",
    "df_grants['discipline_name'] = df_grants['discipline_name'].astype('category')\n",
    "# df.assign(project_number=grantee.project_number.str.split(';')).explode('project_number').reset_index(drop=True)\n"
   ]
  },
  {
   "cell_type": "code",
   "execution_count": 36,
   "metadata": {},
   "outputs": [
    {
     "output_type": "execute_result",
     "data": {
      "text/plain": "   project_number                                      project_title  \\\n0               1  Schlussband (Bd. VI) der Jacob Burckhardt-Biog...   \n1               4  Batterie de tests à l'usage des enseignants po...   \n2               5  Kritische Erstausgabe der 'Evidentiae contra D...   \n\n  project_title_english                              responsible_applicant  \\\n0                   NaN                                       Kaegi Werner   \n1                   NaN                                 Massarenti Léonard   \n2                   NaN  Kommission für das Corpus philosophorum medii ...   \n\n             funding_instrument funding_instrument_hierarchy  \\\n0  Project funding (Div. I-III)              Project funding   \n1  Project funding (Div. I-III)              Project funding   \n2  Project funding (Div. I-III)              Project funding   \n\n                                         institution institution_country  \\\n0                                                NaN                 NaN   \n1  Faculté de Psychologie et des Sciences de l'Ed...         Switzerland   \n2  Kommission für das Corpus philosophorum medii ...         Switzerland   \n\n                                          university  discipline_number  \\\n0                                  Unassignable - NA              10302   \n1                          University of Geneva - GE              10104   \n2  Non-profit organisations (libraries, museums, ...              10101   \n\n                    discipline_name  \\\n0                     Swiss history   \n1  Educational science and Pedagogy   \n2                        Philosophy   \n\n                           discipline_name_hierarchy all_disciplines  \\\n0  Humanities and Social Sciences;Theology & reli...           10302   \n1  Humanities and Social Sciences;Psychology, edu...           10104   \n2  Humanities and Social Sciences;Linguistics and...           10101   \n\n  start_date   end_date  approved_amount keywords string_code  \\\n0 1975-01-10 1976-09-30          11619.0      NaN        1000   \n1 1975-01-10 1976-09-30          41022.0      NaN        1000   \n2 1976-01-03 1985-02-28          79732.0      NaN        1000   \n\n                           domain  \\\n0  Humanities and Social Sciences   \n1  Humanities and Social Sciences   \n2  Humanities and Social Sciences   \n\n                                               topic  \n0  Theology & religious studies, history, classic...  \n1                    Psychology, educational studies  \n2             Linguistics and literature, philosophy  ",
      "text/html": "<div>\n<style scoped>\n    .dataframe tbody tr th:only-of-type {\n        vertical-align: middle;\n    }\n\n    .dataframe tbody tr th {\n        vertical-align: top;\n    }\n\n    .dataframe thead th {\n        text-align: right;\n    }\n</style>\n<table border=\"1\" class=\"dataframe\">\n  <thead>\n    <tr style=\"text-align: right;\">\n      <th></th>\n      <th>project_number</th>\n      <th>project_title</th>\n      <th>project_title_english</th>\n      <th>responsible_applicant</th>\n      <th>funding_instrument</th>\n      <th>funding_instrument_hierarchy</th>\n      <th>institution</th>\n      <th>institution_country</th>\n      <th>university</th>\n      <th>discipline_number</th>\n      <th>discipline_name</th>\n      <th>discipline_name_hierarchy</th>\n      <th>all_disciplines</th>\n      <th>start_date</th>\n      <th>end_date</th>\n      <th>approved_amount</th>\n      <th>keywords</th>\n      <th>string_code</th>\n      <th>domain</th>\n      <th>topic</th>\n    </tr>\n  </thead>\n  <tbody>\n    <tr>\n      <th>0</th>\n      <td>1</td>\n      <td>Schlussband (Bd. VI) der Jacob Burckhardt-Biog...</td>\n      <td>NaN</td>\n      <td>Kaegi Werner</td>\n      <td>Project funding (Div. I-III)</td>\n      <td>Project funding</td>\n      <td>NaN</td>\n      <td>NaN</td>\n      <td>Unassignable - NA</td>\n      <td>10302</td>\n      <td>Swiss history</td>\n      <td>Humanities and Social Sciences;Theology &amp; reli...</td>\n      <td>10302</td>\n      <td>1975-01-10</td>\n      <td>1976-09-30</td>\n      <td>11619.0</td>\n      <td>NaN</td>\n      <td>1000</td>\n      <td>Humanities and Social Sciences</td>\n      <td>Theology &amp; religious studies, history, classic...</td>\n    </tr>\n    <tr>\n      <th>1</th>\n      <td>4</td>\n      <td>Batterie de tests à l'usage des enseignants po...</td>\n      <td>NaN</td>\n      <td>Massarenti Léonard</td>\n      <td>Project funding (Div. I-III)</td>\n      <td>Project funding</td>\n      <td>Faculté de Psychologie et des Sciences de l'Ed...</td>\n      <td>Switzerland</td>\n      <td>University of Geneva - GE</td>\n      <td>10104</td>\n      <td>Educational science and Pedagogy</td>\n      <td>Humanities and Social Sciences;Psychology, edu...</td>\n      <td>10104</td>\n      <td>1975-01-10</td>\n      <td>1976-09-30</td>\n      <td>41022.0</td>\n      <td>NaN</td>\n      <td>1000</td>\n      <td>Humanities and Social Sciences</td>\n      <td>Psychology, educational studies</td>\n    </tr>\n    <tr>\n      <th>2</th>\n      <td>5</td>\n      <td>Kritische Erstausgabe der 'Evidentiae contra D...</td>\n      <td>NaN</td>\n      <td>Kommission für das Corpus philosophorum medii ...</td>\n      <td>Project funding (Div. I-III)</td>\n      <td>Project funding</td>\n      <td>Kommission für das Corpus philosophorum medii ...</td>\n      <td>Switzerland</td>\n      <td>Non-profit organisations (libraries, museums, ...</td>\n      <td>10101</td>\n      <td>Philosophy</td>\n      <td>Humanities and Social Sciences;Linguistics and...</td>\n      <td>10101</td>\n      <td>1976-01-03</td>\n      <td>1985-02-28</td>\n      <td>79732.0</td>\n      <td>NaN</td>\n      <td>1000</td>\n      <td>Humanities and Social Sciences</td>\n      <td>Linguistics and literature, philosophy</td>\n    </tr>\n  </tbody>\n</table>\n</div>"
     },
     "metadata": {},
     "execution_count": 36
    }
   ],
   "source": [
    "df_grants.head(3)"
   ]
  },
  {
   "cell_type": "code",
   "execution_count": 37,
   "metadata": {},
   "outputs": [],
   "source": [
    "df_grants[['programme', 'programme_details', 'programme_specifics']] = df_grants.funding_instrument_hierarchy.str.split(';', expand=True)\n",
    "df_grants['programme'] = df_grants['programme'].astype('category')\n",
    "df_grants['programme_details'] = df_grants['programme_details'].astype('category')\n",
    "df_grants['programme_specifics'] = df_grants['programme_specifics'].astype('category')\n",
    "df_grants['funding_instrument'] = df_grants['funding_instrument'].astype('category')\n"
   ]
  },
  {
   "cell_type": "code",
   "execution_count": 38,
   "metadata": {},
   "outputs": [
    {
     "output_type": "execute_result",
     "data": {
      "text/plain": "Project funding (Div. I-III)               35554\nFellowships for prospective researchers     6485\nPublication grants                          3695\nScientific Conferences                      3514\nEarly Postdoc.Mobility                      2341\nInternational short research visits         2175\nProject funding (special)                   2018\nFellowships for advanced researchers        1954\nDoc.Mobility                                1204\nSNSF Professorships                         1089\nScientific Exchanges                        1052\nSCOPES                                      1025\nAmbizione                                    949\nR'EQUIP                                      910\nSwiss Priority Programmes (SPPs)             748\nAdvanced Postdoc.Mobility                    719\nMarie Heim-Voegtlin grants                   683\nDORE project funding                         448\nSinergia                                     414\nProDoc                                       362\nInternational Exploratory Workshops          347\nInterdisciplinary projects                   336\nDoc.CH                                       320\nPostdoc.Mobility                             280\nSpark                                        278\nName: funding_instrument, dtype: int64"
     },
     "metadata": {},
     "execution_count": 38
    }
   ],
   "source": [
    "df_grants.funding_instrument.value_counts().head(25)"
   ]
  },
  {
   "cell_type": "code",
   "execution_count": 39,
   "metadata": {
    "tags": []
   },
   "outputs": [
    {
     "output_type": "stream",
     "name": "stdout",
     "text": "<class 'pandas.core.frame.DataFrame'>\nRangeIndex: 74519 entries, 0 to 74518\nData columns (total 23 columns):\n #   Column                        Non-Null Count  Dtype         \n---  ------                        --------------  -----         \n 0   project_number                74519 non-null  int64         \n 1   project_title                 74519 non-null  object        \n 2   project_title_english         31400 non-null  object        \n 3   responsible_applicant         74519 non-null  object        \n 4   funding_instrument            74519 non-null  category      \n 5   funding_instrument_hierarchy  74479 non-null  object        \n 6   institution                   68860 non-null  object        \n 7   institution_country           68794 non-null  object        \n 8   university                    74514 non-null  object        \n 9   discipline_number             74519 non-null  int64         \n 10  discipline_name               74519 non-null  category      \n 11  discipline_name_hierarchy     74020 non-null  object        \n 12  all_disciplines               74519 non-null  object        \n 13  start_date                    74517 non-null  datetime64[ns]\n 14  end_date                      74517 non-null  datetime64[ns]\n 15  approved_amount               61387 non-null  float64       \n 16  keywords                      49409 non-null  object        \n 17  string_code                   74519 non-null  object        \n 18  domain                        74020 non-null  category      \n 19  topic                         70748 non-null  category      \n 20  programme                     74479 non-null  category      \n 21  programme_details             18051 non-null  category      \n 22  programme_specifics           208 non-null    category      \ndtypes: category(7), datetime64[ns](2), float64(1), int64(2), object(11)\nmemory usage: 9.8+ MB\n"
    }
   ],
   "source": [
    "df_grants.info()"
   ]
  },
  {
   "cell_type": "code",
   "execution_count": 40,
   "metadata": {},
   "outputs": [],
   "source": [
    "project = df_grants[['project_number', 'programme', 'funding_instrument', 'domain', 'topic', 'discipline_name', 'discipline_number', 'start_date', 'end_date', 'approved_amount']]"
   ]
  },
  {
   "cell_type": "code",
   "execution_count": 41,
   "metadata": {},
   "outputs": [
    {
     "output_type": "error",
     "ename": "ValueError",
     "evalue": "feather does not support serializing a non-default index for the index; you can .reset_index() to make the index into column(s)",
     "traceback": [
      "\u001b[0;31m---------------------------------------------------------------------------\u001b[0m",
      "\u001b[0;31mValueError\u001b[0m                                Traceback (most recent call last)",
      "\u001b[0;32m<ipython-input-41-66d5e41407f2>\u001b[0m in \u001b[0;36m<module>\u001b[0;34m\u001b[0m\n\u001b[1;32m      1\u001b[0m \u001b[0mproject\u001b[0m\u001b[0;34m.\u001b[0m\u001b[0mto_feather\u001b[0m\u001b[0;34m(\u001b[0m\u001b[0mos\u001b[0m\u001b[0;34m.\u001b[0m\u001b[0mpath\u001b[0m\u001b[0;34m.\u001b[0m\u001b[0mjoin\u001b[0m\u001b[0;34m(\u001b[0m\u001b[0;34m'data'\u001b[0m\u001b[0;34m,\u001b[0m \u001b[0;34m'project.feather'\u001b[0m\u001b[0;34m)\u001b[0m\u001b[0;34m)\u001b[0m\u001b[0;34m\u001b[0m\u001b[0;34m\u001b[0m\u001b[0m\n\u001b[1;32m      2\u001b[0m \u001b[0mperson\u001b[0m\u001b[0;34m.\u001b[0m\u001b[0mto_feather\u001b[0m\u001b[0;34m(\u001b[0m\u001b[0mos\u001b[0m\u001b[0;34m.\u001b[0m\u001b[0mpath\u001b[0m\u001b[0;34m.\u001b[0m\u001b[0mjoin\u001b[0m\u001b[0;34m(\u001b[0m\u001b[0;34m'data'\u001b[0m\u001b[0;34m,\u001b[0m \u001b[0;34m'person.feather'\u001b[0m\u001b[0;34m)\u001b[0m\u001b[0;34m)\u001b[0m\u001b[0;34m\u001b[0m\u001b[0;34m\u001b[0m\u001b[0m\n\u001b[0;32m----> 3\u001b[0;31m \u001b[0mgrantee\u001b[0m\u001b[0;34m.\u001b[0m\u001b[0mto_feather\u001b[0m\u001b[0;34m(\u001b[0m\u001b[0mos\u001b[0m\u001b[0;34m.\u001b[0m\u001b[0mpath\u001b[0m\u001b[0;34m.\u001b[0m\u001b[0mjoin\u001b[0m\u001b[0;34m(\u001b[0m\u001b[0;34m'data'\u001b[0m\u001b[0;34m,\u001b[0m \u001b[0;34m'grantee.feather'\u001b[0m\u001b[0;34m)\u001b[0m\u001b[0;34m)\u001b[0m\u001b[0;34m\u001b[0m\u001b[0;34m\u001b[0m\u001b[0m\n\u001b[0m",
      "\u001b[0;32m~/miniconda3/envs/udacity/lib/python3.8/site-packages/pandas/util/_decorators.py\u001b[0m in \u001b[0;36mwrapper\u001b[0;34m(*args, **kwargs)\u001b[0m\n\u001b[1;32m    197\u001b[0m                 \u001b[0;32melse\u001b[0m\u001b[0;34m:\u001b[0m\u001b[0;34m\u001b[0m\u001b[0;34m\u001b[0m\u001b[0m\n\u001b[1;32m    198\u001b[0m                     \u001b[0mkwargs\u001b[0m\u001b[0;34m[\u001b[0m\u001b[0mnew_arg_name\u001b[0m\u001b[0;34m]\u001b[0m \u001b[0;34m=\u001b[0m \u001b[0mnew_arg_value\u001b[0m\u001b[0;34m\u001b[0m\u001b[0;34m\u001b[0m\u001b[0m\n\u001b[0;32m--> 199\u001b[0;31m             \u001b[0;32mreturn\u001b[0m \u001b[0mfunc\u001b[0m\u001b[0;34m(\u001b[0m\u001b[0;34m*\u001b[0m\u001b[0margs\u001b[0m\u001b[0;34m,\u001b[0m \u001b[0;34m**\u001b[0m\u001b[0mkwargs\u001b[0m\u001b[0;34m)\u001b[0m\u001b[0;34m\u001b[0m\u001b[0;34m\u001b[0m\u001b[0m\n\u001b[0m\u001b[1;32m    200\u001b[0m \u001b[0;34m\u001b[0m\u001b[0m\n\u001b[1;32m    201\u001b[0m         \u001b[0;32mreturn\u001b[0m \u001b[0mcast\u001b[0m\u001b[0;34m(\u001b[0m\u001b[0mF\u001b[0m\u001b[0;34m,\u001b[0m \u001b[0mwrapper\u001b[0m\u001b[0;34m)\u001b[0m\u001b[0;34m\u001b[0m\u001b[0;34m\u001b[0m\u001b[0m\n",
      "\u001b[0;32m~/miniconda3/envs/udacity/lib/python3.8/site-packages/pandas/core/frame.py\u001b[0m in \u001b[0;36mto_feather\u001b[0;34m(self, path, **kwargs)\u001b[0m\n\u001b[1;32m   2210\u001b[0m         \u001b[0;32mfrom\u001b[0m \u001b[0mpandas\u001b[0m\u001b[0;34m.\u001b[0m\u001b[0mio\u001b[0m\u001b[0;34m.\u001b[0m\u001b[0mfeather_format\u001b[0m \u001b[0;32mimport\u001b[0m \u001b[0mto_feather\u001b[0m\u001b[0;34m\u001b[0m\u001b[0;34m\u001b[0m\u001b[0m\n\u001b[1;32m   2211\u001b[0m \u001b[0;34m\u001b[0m\u001b[0m\n\u001b[0;32m-> 2212\u001b[0;31m         \u001b[0mto_feather\u001b[0m\u001b[0;34m(\u001b[0m\u001b[0mself\u001b[0m\u001b[0;34m,\u001b[0m \u001b[0mpath\u001b[0m\u001b[0;34m,\u001b[0m \u001b[0;34m**\u001b[0m\u001b[0mkwargs\u001b[0m\u001b[0;34m)\u001b[0m\u001b[0;34m\u001b[0m\u001b[0;34m\u001b[0m\u001b[0m\n\u001b[0m\u001b[1;32m   2213\u001b[0m \u001b[0;34m\u001b[0m\u001b[0m\n\u001b[1;32m   2214\u001b[0m     @doc(\n",
      "\u001b[0;32m~/miniconda3/envs/udacity/lib/python3.8/site-packages/pandas/io/feather_format.py\u001b[0m in \u001b[0;36mto_feather\u001b[0;34m(df, path, **kwargs)\u001b[0m\n\u001b[1;32m     45\u001b[0m \u001b[0;34m\u001b[0m\u001b[0m\n\u001b[1;32m     46\u001b[0m     \u001b[0;32mif\u001b[0m \u001b[0;32mnot\u001b[0m \u001b[0mdf\u001b[0m\u001b[0;34m.\u001b[0m\u001b[0mindex\u001b[0m\u001b[0;34m.\u001b[0m\u001b[0mequals\u001b[0m\u001b[0;34m(\u001b[0m\u001b[0mRangeIndex\u001b[0m\u001b[0;34m.\u001b[0m\u001b[0mfrom_range\u001b[0m\u001b[0;34m(\u001b[0m\u001b[0mrange\u001b[0m\u001b[0;34m(\u001b[0m\u001b[0mlen\u001b[0m\u001b[0;34m(\u001b[0m\u001b[0mdf\u001b[0m\u001b[0;34m)\u001b[0m\u001b[0;34m)\u001b[0m\u001b[0;34m)\u001b[0m\u001b[0;34m)\u001b[0m\u001b[0;34m:\u001b[0m\u001b[0;34m\u001b[0m\u001b[0;34m\u001b[0m\u001b[0m\n\u001b[0;32m---> 47\u001b[0;31m         raise ValueError(\n\u001b[0m\u001b[1;32m     48\u001b[0m             \u001b[0;34m\"feather does not support serializing a non-default index for the index; \"\u001b[0m\u001b[0;34m\u001b[0m\u001b[0;34m\u001b[0m\u001b[0m\n\u001b[1;32m     49\u001b[0m             \u001b[0;34m\"you can .reset_index() to make the index into column(s)\"\u001b[0m\u001b[0;34m\u001b[0m\u001b[0;34m\u001b[0m\u001b[0m\n",
      "\u001b[0;31mValueError\u001b[0m: feather does not support serializing a non-default index for the index; you can .reset_index() to make the index into column(s)"
     ]
    }
   ],
   "source": [
    "project.to_feather(os.path.join('data', 'project.feather'))\n",
    "person.to_feather(os.path.join('data', 'person.feather'))\n",
    "grantee.to_feather(os.path.join('data', 'grantee.feather'))"
   ]
  }
 ],
 "metadata": {
  "kernelspec": {
   "display_name": "Python 3",
   "language": "python",
   "name": "python3"
  },
  "language_info": {
   "codemirror_mode": {
    "name": "ipython",
    "version": 3
   },
   "file_extension": ".py",
   "mimetype": "text/x-python",
   "name": "python",
   "nbconvert_exporter": "python",
   "pygments_lexer": "ipython3",
   "version": "3.8.5-final"
  }
 },
 "nbformat": 4,
 "nbformat_minor": 4
}