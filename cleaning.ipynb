{
 "cells": [
  {
   "cell_type": "markdown",
   "metadata": {},
   "source": [
    "# Pre-processing SNSF Public Data"
   ]
  },
  {
   "cell_type": "code",
   "execution_count": 105,
   "metadata": {},
   "outputs": [],
   "source": [
    "import os\n",
    "import numpy as np\n",
    "import pandas as pd\n",
    "import matplotlib.pyplot as plt\n",
    "import seaborn as sns\n",
    "import requests"
   ]
  },
  {
   "cell_type": "markdown",
   "metadata": {},
   "source": [
    "## Gather"
   ]
  },
  {
   "cell_type": "code",
   "execution_count": 106,
   "metadata": {},
   "outputs": [],
   "source": [
    "UPDATE_DATA = False\n",
    "folder_name = 'rawdata'\n",
    "if not os.path.exists(folder_name):\n",
    "    os.makedirs(folder_name)"
   ]
  },
  {
   "source": [
    "file_names = [\"P3_GrantExport.csv\", \"P3_PersonExport.csv\", \"P3_PublicationExport.csv\", \"P3_GrantOutputDataExport.csv\"]\n",
    "\n",
    "if UPDATE_DATA:\n",
    "    for k in file_names:\n",
    "        url_grant = \"http://p3.snf.ch/P3Export/\" + k\n",
    "        print(url_grant)\n",
    "        response = requests.get(url_grant)\n",
    "        assert response.status_code == 200, \"status code for\" + k + \" not ok\"\n",
    "        \n",
    "        with open(os.path.join(folder_name, k), mode=\"wb\") as file:\n",
    "                file.write(response.content)"
   ],
   "cell_type": "code",
   "metadata": {},
   "execution_count": 109,
   "outputs": []
  },
  {
   "cell_type": "code",
   "execution_count": 111,
   "metadata": {},
   "outputs": [],
   "source": [
    "grants = pd.read_csv(os.path.join(folder_name, file_names[0]), sep=';')\n",
    "people = pd.read_csv(os.path.join(folder_name, file_names[1]), sep=';')\n",
    "publications = pd.read_csv(os.path.join(folder_name, file_names[2]), sep=';')\n",
    "output_data = pd.read_csv(os.path.join(folder_name, file_names[3]), sep=';')"
   ]
  },
  {
   "cell_type": "markdown",
   "metadata": {},
   "source": [
    "## Assess"
   ]
  },
  {
   "cell_type": "code",
   "execution_count": 112,
   "metadata": {},
   "outputs": [
    {
     "output_type": "execute_result",
     "data": {
      "text/plain": "       Project Number Project Number String  \\\n6743             7909           3200-007909   \n64796          168917         P0BSP1_168917   \n25333           57100           2100-057100   \n\n                                           Project Title  \\\n6743   Duration of immunity after rubella vaccination...   \n64796                   Eye tracking and episodic memory   \n25333              Numerical Study of Flame Instabilites   \n\n                  Project Title English Responsible Applicant  \\\n6743                                NaN              Just Max   \n64796  Eye tracking and episodic memory     Fehlmann Bernhard   \n25333                               NaN       Monkewitz Peter   \n\n                 Funding Instrument Funding Instrument Hierarchy  \\\n6743   Project funding (Div. I-III)              Project funding   \n64796                        Doc.CH                      Careers   \n25333  Project funding (Div. I-III)              Project funding   \n\n                                             Institution Institution Country  \\\n6743         Universitäts-Kinderspital beider Basel UKBB         Switzerland   \n64796  Division of Cognitive Neuroscience Institut fü...         Switzerland   \n25333  EPFL / STI-ISE Institut des Sciences de l'Energie         Switzerland   \n\n                     University  Discipline Number      Discipline Name  \\\n6743   University of Basel - BS              30808  Infectious Diseases   \n64796  University of Basel - BS              10105           Psychology   \n25333       EPF Lausanne - EPFL              20503       Fluid Dynamics   \n\n                               Discipline Name Hierarchy All disciplines  \\\n6743   Biology and Medicine;Preventive Medicine (Epid...           30808   \n64796  Humanities and Social Sciences;Psychology, edu...           10105   \n25333  Mathematics, Natural- and Engineering Sciences...           20503   \n\n       Start Date    End Date Approved Amount  \\\n6743   01.10.1983  30.09.1984        29230.00   \n64796  01.09.2016  31.08.2020       234054.00   \n25333  01.10.1999  31.12.2002       124078.00   \n\n                                                Keywords  \n6743                                                 NaN  \n64796  attention; encoding; eye tracking; memory; emo...  \n25333  DIFFUSION FLAME INSTABILI; TIES; STABILITY ANA...  ",
      "text/html": "<div>\n<style scoped>\n    .dataframe tbody tr th:only-of-type {\n        vertical-align: middle;\n    }\n\n    .dataframe tbody tr th {\n        vertical-align: top;\n    }\n\n    .dataframe thead th {\n        text-align: right;\n    }\n</style>\n<table border=\"1\" class=\"dataframe\">\n  <thead>\n    <tr style=\"text-align: right;\">\n      <th></th>\n      <th>Project Number</th>\n      <th>Project Number String</th>\n      <th>Project Title</th>\n      <th>Project Title English</th>\n      <th>Responsible Applicant</th>\n      <th>Funding Instrument</th>\n      <th>Funding Instrument Hierarchy</th>\n      <th>Institution</th>\n      <th>Institution Country</th>\n      <th>University</th>\n      <th>Discipline Number</th>\n      <th>Discipline Name</th>\n      <th>Discipline Name Hierarchy</th>\n      <th>All disciplines</th>\n      <th>Start Date</th>\n      <th>End Date</th>\n      <th>Approved Amount</th>\n      <th>Keywords</th>\n    </tr>\n  </thead>\n  <tbody>\n    <tr>\n      <th>6743</th>\n      <td>7909</td>\n      <td>3200-007909</td>\n      <td>Duration of immunity after rubella vaccination...</td>\n      <td>NaN</td>\n      <td>Just Max</td>\n      <td>Project funding (Div. I-III)</td>\n      <td>Project funding</td>\n      <td>Universitäts-Kinderspital beider Basel UKBB</td>\n      <td>Switzerland</td>\n      <td>University of Basel - BS</td>\n      <td>30808</td>\n      <td>Infectious Diseases</td>\n      <td>Biology and Medicine;Preventive Medicine (Epid...</td>\n      <td>30808</td>\n      <td>01.10.1983</td>\n      <td>30.09.1984</td>\n      <td>29230.00</td>\n      <td>NaN</td>\n    </tr>\n    <tr>\n      <th>64796</th>\n      <td>168917</td>\n      <td>P0BSP1_168917</td>\n      <td>Eye tracking and episodic memory</td>\n      <td>Eye tracking and episodic memory</td>\n      <td>Fehlmann Bernhard</td>\n      <td>Doc.CH</td>\n      <td>Careers</td>\n      <td>Division of Cognitive Neuroscience Institut fü...</td>\n      <td>Switzerland</td>\n      <td>University of Basel - BS</td>\n      <td>10105</td>\n      <td>Psychology</td>\n      <td>Humanities and Social Sciences;Psychology, edu...</td>\n      <td>10105</td>\n      <td>01.09.2016</td>\n      <td>31.08.2020</td>\n      <td>234054.00</td>\n      <td>attention; encoding; eye tracking; memory; emo...</td>\n    </tr>\n    <tr>\n      <th>25333</th>\n      <td>57100</td>\n      <td>2100-057100</td>\n      <td>Numerical Study of Flame Instabilites</td>\n      <td>NaN</td>\n      <td>Monkewitz Peter</td>\n      <td>Project funding (Div. I-III)</td>\n      <td>Project funding</td>\n      <td>EPFL / STI-ISE Institut des Sciences de l'Energie</td>\n      <td>Switzerland</td>\n      <td>EPF Lausanne - EPFL</td>\n      <td>20503</td>\n      <td>Fluid Dynamics</td>\n      <td>Mathematics, Natural- and Engineering Sciences...</td>\n      <td>20503</td>\n      <td>01.10.1999</td>\n      <td>31.12.2002</td>\n      <td>124078.00</td>\n      <td>DIFFUSION FLAME INSTABILI; TIES; STABILITY ANA...</td>\n    </tr>\n  </tbody>\n</table>\n</div>"
     },
     "metadata": {},
     "execution_count": 112
    }
   ],
   "source": [
    "grants.sample(3)"
   ]
  },
  {
   "cell_type": "code",
   "execution_count": 113,
   "metadata": {
    "tags": []
   },
   "outputs": [
    {
     "output_type": "stream",
     "name": "stdout",
     "text": "<class 'pandas.core.frame.DataFrame'>\nRangeIndex: 74519 entries, 0 to 74518\nData columns (total 18 columns):\n #   Column                        Non-Null Count  Dtype \n---  ------                        --------------  ----- \n 0   Project Number                74519 non-null  int64 \n 1   Project Number String         74519 non-null  object\n 2   Project Title                 74519 non-null  object\n 3   Project Title English         31400 non-null  object\n 4   Responsible Applicant         74519 non-null  object\n 5   Funding Instrument            74519 non-null  object\n 6   Funding Instrument Hierarchy  74479 non-null  object\n 7   Institution                   68860 non-null  object\n 8   Institution Country           68794 non-null  object\n 9   University                    74514 non-null  object\n 10  Discipline Number             74519 non-null  int64 \n 11  Discipline Name               74519 non-null  object\n 12  Discipline Name Hierarchy     74020 non-null  object\n 13  All disciplines               74519 non-null  object\n 14  Start Date                    74517 non-null  object\n 15  End Date                      74517 non-null  object\n 16  Approved Amount               74519 non-null  object\n 17  Keywords                      49409 non-null  object\ndtypes: int64(2), object(16)\nmemory usage: 10.2+ MB\n"
    }
   ],
   "source": [
    "grants.info()"
   ]
  },
  {
   "cell_type": "code",
   "execution_count": 114,
   "metadata": {},
   "outputs": [
    {
     "output_type": "execute_result",
     "data": {
      "text/plain": "       Last Name   First Name  Gender  \\\n15938   Cárdenas        Livia  female   \n102953    Vianin       Pascal    male   \n68783     Müller  Jean-Pierre    male   \n\n                                           Institute Name Institute Place  \\\n15938   Departement Geschichte Philosophisch-Historisc...           Basel   \n102953  Section 'E. Minkowski' Dépt. universitaire psy...        Lausanne   \n68783   Institut d'informatique et Intelligence artifi...     Neuchâtel 7   \n\n        Person ID SNSF OCRID  \\\n15938           615874   NaN   \n102953           46565   NaN   \n68783            11364   NaN   \n\n                        Projects as responsible Applicant  \\\n15938                                                 NaN   \n102953                                              62947   \n68783   27037;34319;38049;40936;46916;49794;51523;5405...   \n\n                                    Projects as Applicant Projects as Partner  \\\n15938                                                 NaN                 NaN   \n102953                                                NaN                 NaN   \n68783   5576;27021;30156;33903;37345;39370;43217;50578...                 NaN   \n\n       Projects as Practice Partner     Projects as Employee  \\\n15938                           NaN                   162971   \n102953                          NaN  33812;43581;50896;57239   \n68783                           NaN                      NaN   \n\n       Projects as Contact Person  \n15938                         NaN  \n102953                        NaN  \n68783                         NaN  ",
      "text/html": "<div>\n<style scoped>\n    .dataframe tbody tr th:only-of-type {\n        vertical-align: middle;\n    }\n\n    .dataframe tbody tr th {\n        vertical-align: top;\n    }\n\n    .dataframe thead th {\n        text-align: right;\n    }\n</style>\n<table border=\"1\" class=\"dataframe\">\n  <thead>\n    <tr style=\"text-align: right;\">\n      <th></th>\n      <th>Last Name</th>\n      <th>First Name</th>\n      <th>Gender</th>\n      <th>Institute Name</th>\n      <th>Institute Place</th>\n      <th>Person ID SNSF</th>\n      <th>OCRID</th>\n      <th>Projects as responsible Applicant</th>\n      <th>Projects as Applicant</th>\n      <th>Projects as Partner</th>\n      <th>Projects as Practice Partner</th>\n      <th>Projects as Employee</th>\n      <th>Projects as Contact Person</th>\n    </tr>\n  </thead>\n  <tbody>\n    <tr>\n      <th>15938</th>\n      <td>Cárdenas</td>\n      <td>Livia</td>\n      <td>female</td>\n      <td>Departement Geschichte Philosophisch-Historisc...</td>\n      <td>Basel</td>\n      <td>615874</td>\n      <td>NaN</td>\n      <td>NaN</td>\n      <td>NaN</td>\n      <td>NaN</td>\n      <td>NaN</td>\n      <td>162971</td>\n      <td>NaN</td>\n    </tr>\n    <tr>\n      <th>102953</th>\n      <td>Vianin</td>\n      <td>Pascal</td>\n      <td>male</td>\n      <td>Section 'E. Minkowski' Dépt. universitaire psy...</td>\n      <td>Lausanne</td>\n      <td>46565</td>\n      <td>NaN</td>\n      <td>62947</td>\n      <td>NaN</td>\n      <td>NaN</td>\n      <td>NaN</td>\n      <td>33812;43581;50896;57239</td>\n      <td>NaN</td>\n    </tr>\n    <tr>\n      <th>68783</th>\n      <td>Müller</td>\n      <td>Jean-Pierre</td>\n      <td>male</td>\n      <td>Institut d'informatique et Intelligence artifi...</td>\n      <td>Neuchâtel 7</td>\n      <td>11364</td>\n      <td>NaN</td>\n      <td>27037;34319;38049;40936;46916;49794;51523;5405...</td>\n      <td>5576;27021;30156;33903;37345;39370;43217;50578...</td>\n      <td>NaN</td>\n      <td>NaN</td>\n      <td>NaN</td>\n      <td>NaN</td>\n    </tr>\n  </tbody>\n</table>\n</div>"
     },
     "metadata": {},
     "execution_count": 114
    }
   ],
   "source": [
    "people.sample(3)"
   ]
  },
  {
   "cell_type": "code",
   "execution_count": 115,
   "metadata": {
    "tags": []
   },
   "outputs": [
    {
     "output_type": "stream",
     "name": "stdout",
     "text": "<class 'pandas.core.frame.DataFrame'>\nRangeIndex: 111903 entries, 0 to 111902\nData columns (total 13 columns):\n #   Column                             Non-Null Count   Dtype \n---  ------                             --------------   ----- \n 0   Last Name                          111903 non-null  object\n 1   First Name                         111896 non-null  object\n 2   Gender                             111903 non-null  object\n 3   Institute Name                     54186 non-null   object\n 4   Institute Place                    54083 non-null   object\n 5   Person ID SNSF                     111903 non-null  int64 \n 6   OCRID                              7092 non-null    object\n 7   Projects as responsible Applicant  28898 non-null   object\n 8   Projects as Applicant              18934 non-null   object\n 9   Projects as Partner                5300 non-null    object\n 10  Projects as Practice Partner       735 non-null     object\n 11  Projects as Employee               82000 non-null   object\n 12  Projects as Contact Person         766 non-null     object\ndtypes: int64(1), object(12)\nmemory usage: 11.1+ MB\n"
    }
   ],
   "source": [
    "people.info()"
   ]
  },
  {
   "cell_type": "code",
   "execution_count": 116,
   "metadata": {},
   "outputs": [
    {
     "output_type": "execute_result",
     "data": {
      "text/plain": "                           Publication ID SNSF  Project Number  \\\n100232  {EE578A32-62BB-416C-A0FC-72550D628349}          157476   \n48869   {B0B63B49-95C6-4318-98E3-56DEA0148516}          138217   \n83425   {5993CD1F-C8FA-4AEA-A145-80F3CCC2EDB0}          150446   \n\n       Peer Review Status                   Type of Publication  \\\n100232      Peer-reviewed      Original article (peer-reviewed)   \n48869       Peer-reviewed      Original article (peer-reviewed)   \n83425   Not peer-reviewed  Original article (non peer-reviewed)   \n\n                                     Title of Publication  \\\n100232  Increased interleukin-27 cytokine expression i...   \n48869   Tunnel-Junction Thermometry Down to Millikelvi...   \n83425   Kulturelles Erbe bauen. Architektur und Idenit...   \n\n                                                  Authors     Status  \\\n100232  Lalive Patrice H,  Kreutzfeldt Mario,  Devergn...  Published   \n48869   Feshchenko A. V.,  Casparis L.,  Khaymovich I....  Published   \n83425                                           MintaAnna  Published   \n\n        Publication Year ISBN  \\\n100232            2017.0  NaN   \n48869             2015.0  NaN   \n83425             2018.0  NaN   \n\n                                                      DOI  ... Publisher  \\\n100232                          10.1186/s12974-017-0919-1  ...       NaN   \n48869   10.1103/PhysRevApplied.4.034001               ...  ...       NaN   \n83425                                                 NaN  ...       NaN   \n\n        Editors                 Journal Title Volume Issue / Number Page from  \\\n100232      NaN  Journal of neuroinflammation     14              1       144   \n48869       NaN            Phys. Rev. Applied      4            NaN    034001   \n83425       NaN              kunst und kirche    NaN              3         4   \n\n       Page to              Proceeding Title Proceeding Place  \\\n100232     144  Journal of neuroinflammation              NaN   \n48869   034001            Phys. Rev. Applied              NaN   \n83425       13              kunst und kirche              NaN   \n\n                                                 Abstract  \n100232  Multiple sclerosis (MS) is an autoimmune disor...  \n48869                                                 NaN  \n83425                                                 NaN  \n\n[3 rows x 26 columns]",
      "text/html": "<div>\n<style scoped>\n    .dataframe tbody tr th:only-of-type {\n        vertical-align: middle;\n    }\n\n    .dataframe tbody tr th {\n        vertical-align: top;\n    }\n\n    .dataframe thead th {\n        text-align: right;\n    }\n</style>\n<table border=\"1\" class=\"dataframe\">\n  <thead>\n    <tr style=\"text-align: right;\">\n      <th></th>\n      <th>Publication ID SNSF</th>\n      <th>Project Number</th>\n      <th>Peer Review Status</th>\n      <th>Type of Publication</th>\n      <th>Title of Publication</th>\n      <th>Authors</th>\n      <th>Status</th>\n      <th>Publication Year</th>\n      <th>ISBN</th>\n      <th>DOI</th>\n      <th>...</th>\n      <th>Publisher</th>\n      <th>Editors</th>\n      <th>Journal Title</th>\n      <th>Volume</th>\n      <th>Issue / Number</th>\n      <th>Page from</th>\n      <th>Page to</th>\n      <th>Proceeding Title</th>\n      <th>Proceeding Place</th>\n      <th>Abstract</th>\n    </tr>\n  </thead>\n  <tbody>\n    <tr>\n      <th>100232</th>\n      <td>{EE578A32-62BB-416C-A0FC-72550D628349}</td>\n      <td>157476</td>\n      <td>Peer-reviewed</td>\n      <td>Original article (peer-reviewed)</td>\n      <td>Increased interleukin-27 cytokine expression i...</td>\n      <td>Lalive Patrice H,  Kreutzfeldt Mario,  Devergn...</td>\n      <td>Published</td>\n      <td>2017.0</td>\n      <td>NaN</td>\n      <td>10.1186/s12974-017-0919-1</td>\n      <td>...</td>\n      <td>NaN</td>\n      <td>NaN</td>\n      <td>Journal of neuroinflammation</td>\n      <td>14</td>\n      <td>1</td>\n      <td>144</td>\n      <td>144</td>\n      <td>Journal of neuroinflammation</td>\n      <td>NaN</td>\n      <td>Multiple sclerosis (MS) is an autoimmune disor...</td>\n    </tr>\n    <tr>\n      <th>48869</th>\n      <td>{B0B63B49-95C6-4318-98E3-56DEA0148516}</td>\n      <td>138217</td>\n      <td>Peer-reviewed</td>\n      <td>Original article (peer-reviewed)</td>\n      <td>Tunnel-Junction Thermometry Down to Millikelvi...</td>\n      <td>Feshchenko A. V.,  Casparis L.,  Khaymovich I....</td>\n      <td>Published</td>\n      <td>2015.0</td>\n      <td>NaN</td>\n      <td>10.1103/PhysRevApplied.4.034001               ...</td>\n      <td>...</td>\n      <td>NaN</td>\n      <td>NaN</td>\n      <td>Phys. Rev. Applied</td>\n      <td>4</td>\n      <td>NaN</td>\n      <td>034001</td>\n      <td>034001</td>\n      <td>Phys. Rev. Applied</td>\n      <td>NaN</td>\n      <td>NaN</td>\n    </tr>\n    <tr>\n      <th>83425</th>\n      <td>{5993CD1F-C8FA-4AEA-A145-80F3CCC2EDB0}</td>\n      <td>150446</td>\n      <td>Not peer-reviewed</td>\n      <td>Original article (non peer-reviewed)</td>\n      <td>Kulturelles Erbe bauen. Architektur und Idenit...</td>\n      <td>MintaAnna</td>\n      <td>Published</td>\n      <td>2018.0</td>\n      <td>NaN</td>\n      <td>NaN</td>\n      <td>...</td>\n      <td>NaN</td>\n      <td>NaN</td>\n      <td>kunst und kirche</td>\n      <td>NaN</td>\n      <td>3</td>\n      <td>4</td>\n      <td>13</td>\n      <td>kunst und kirche</td>\n      <td>NaN</td>\n      <td>NaN</td>\n    </tr>\n  </tbody>\n</table>\n<p>3 rows × 26 columns</p>\n</div>"
     },
     "metadata": {},
     "execution_count": 116
    }
   ],
   "source": [
    "publications.sample(3)"
   ]
  },
  {
   "cell_type": "code",
   "execution_count": 117,
   "metadata": {
    "tags": []
   },
   "outputs": [
    {
     "output_type": "stream",
     "name": "stdout",
     "text": "<class 'pandas.core.frame.DataFrame'>\nRangeIndex: 133541 entries, 0 to 133540\nData columns (total 26 columns):\n #   Column                     Non-Null Count   Dtype  \n---  ------                     --------------   -----  \n 0   Publication ID SNSF        133541 non-null  object \n 1   Project Number             133541 non-null  int64  \n 2   Peer Review Status         133541 non-null  object \n 3   Type of Publication        128867 non-null  object \n 4   Title of Publication       133504 non-null  object \n 5   Authors                    131026 non-null  object \n 6   Status                     133541 non-null  object \n 7   Publication Year           118806 non-null  float64\n 8   ISBN                       15201 non-null   object \n 9   DOI                        78871 non-null   object \n 10  Import Source              107910 non-null  object \n 11  Last Change of Outputdata  0 non-null       float64\n 12  Open Access Status         133541 non-null  int64  \n 13  Open Access Type           42630 non-null   object \n 14  Open Access URL            42623 non-null   object \n 15  Book Title                 124917 non-null  object \n 16  Publisher                  26593 non-null   object \n 17  Editors                    13569 non-null   object \n 18  Journal Title              124917 non-null  object \n 19  Volume                     88179 non-null   object \n 20  Issue / Number             60739 non-null   object \n 21  Page from                  106093 non-null  object \n 22  Page to                    91351 non-null   object \n 23  Proceeding Title           124908 non-null  object \n 24  Proceeding Place           5854 non-null    object \n 25  Abstract                   69181 non-null   object \ndtypes: float64(2), int64(2), object(22)\nmemory usage: 26.5+ MB\n"
    }
   ],
   "source": [
    "publications.info()"
   ]
  },
  {
   "cell_type": "code",
   "execution_count": 15,
   "metadata": {},
   "outputs": [
    {
     "output_type": "execute_result",
     "data": {
      "text/plain": "Publisher (Gold Open Access)                                           18131\nRepository (Green Open Access)                                         12349\nWebsite                                                                10359\nGreen OA Embargo (Freely available via Repository after an embargo)     1791\nName: Open Access Type, dtype: int64"
     },
     "metadata": {},
     "execution_count": 15
    }
   ],
   "source": [
    "publications['Open Access Type'].value_counts()"
   ]
  },
  {
   "cell_type": "code",
   "execution_count": 16,
   "metadata": {},
   "outputs": [
    {
     "output_type": "execute_result",
     "data": {
      "text/plain": "Published    118975\nAccepted      14464\nNotSet          102\nName: Status, dtype: int64"
     },
     "metadata": {},
     "execution_count": 16
    }
   ],
   "source": [
    "publications['Status'].value_counts()"
   ]
  },
  {
   "cell_type": "code",
   "execution_count": 17,
   "metadata": {},
   "outputs": [
    {
     "output_type": "execute_result",
     "data": {
      "text/plain": "8                             2078\n7                             2002\n9                             1851\n6                             1808\n10                            1705\n                              ... \n7368                             1\n75                               1\n8627                             1\nVolume 88,  7 October 2015       1\n909                              1\nName: Volume, Length: 3657, dtype: int64"
     },
     "metadata": {},
     "execution_count": 17
    }
   ],
   "source": [
    "publications['Volume'].value_counts()"
   ]
  },
  {
   "cell_type": "code",
   "execution_count": 18,
   "metadata": {},
   "outputs": [
    {
     "output_type": "execute_result",
     "data": {
      "text/plain": "1                                 8688\n2                                 6471\n3                                 5426\n4                                 5071\n5                                 3638\n                                  ... \n347                                  1\n2134                                 1\neaah6817                             1\nWinter Braids VI (Lille, 2016)       1\n504                                  1\nName: Issue / Number, Length: 2720, dtype: int64"
     },
     "metadata": {},
     "execution_count": 18
    }
   ],
   "source": [
    "publications['Issue / Number'].value_counts()"
   ]
  },
  {
   "cell_type": "code",
   "execution_count": 50,
   "metadata": {},
   "outputs": [
    {
     "data": {
      "text/plain": [
       "(1724, 26)"
      ]
     },
     "execution_count": 50,
     "metadata": {},
     "output_type": "execute_result"
    }
   ],
   "source": [
    "publications[(publications.DOI.isna() == False) & (publications[['DOI', 'Project Number']].duplicated())].shape"
   ]
  },
  {
   "cell_type": "code",
   "execution_count": 118,
   "metadata": {},
   "outputs": [
    {
     "output_type": "execute_result",
     "data": {
      "text/plain": "       Project Number                                       Group/Person  \\\n43436          163488                                   Hosei University   \n59618          189575    Lilian Edwards, Newcastle Law School, Newcastle   \n48474          169191  Prof. Aurélien Thomas, University of Lausanne,...   \n\n                                  Types of collaboration  \\\n43436  in-depth/constructive exchanges on approaches,...   \n59618  in-depth/constructive exchanges on approaches,...   \n48474  in-depth/constructive exchanges on approaches,...   \n\n                                  Country Project Start Date Project End Date  \n43436                               Japan         01.09.2015       30.11.2015  \n59618  Great Britain and Northern Ireland         01.08.2019       31.10.2019  \n48474                         Switzerland         01.10.2016       31.10.2019  ",
      "text/html": "<div>\n<style scoped>\n    .dataframe tbody tr th:only-of-type {\n        vertical-align: middle;\n    }\n\n    .dataframe tbody tr th {\n        vertical-align: top;\n    }\n\n    .dataframe thead th {\n        text-align: right;\n    }\n</style>\n<table border=\"1\" class=\"dataframe\">\n  <thead>\n    <tr style=\"text-align: right;\">\n      <th></th>\n      <th>Project Number</th>\n      <th>Group/Person</th>\n      <th>Types of collaboration</th>\n      <th>Country</th>\n      <th>Project Start Date</th>\n      <th>Project End Date</th>\n    </tr>\n  </thead>\n  <tbody>\n    <tr>\n      <th>43436</th>\n      <td>163488</td>\n      <td>Hosei University</td>\n      <td>in-depth/constructive exchanges on approaches,...</td>\n      <td>Japan</td>\n      <td>01.09.2015</td>\n      <td>30.11.2015</td>\n    </tr>\n    <tr>\n      <th>59618</th>\n      <td>189575</td>\n      <td>Lilian Edwards, Newcastle Law School, Newcastle</td>\n      <td>in-depth/constructive exchanges on approaches,...</td>\n      <td>Great Britain and Northern Ireland</td>\n      <td>01.08.2019</td>\n      <td>31.10.2019</td>\n    </tr>\n    <tr>\n      <th>48474</th>\n      <td>169191</td>\n      <td>Prof. Aurélien Thomas, University of Lausanne,...</td>\n      <td>in-depth/constructive exchanges on approaches,...</td>\n      <td>Switzerland</td>\n      <td>01.10.2016</td>\n      <td>31.10.2019</td>\n    </tr>\n  </tbody>\n</table>\n</div>"
     },
     "metadata": {},
     "execution_count": 118
    }
   ],
   "source": [
    "collaborations.sample(3)"
   ]
  },
  {
   "cell_type": "code",
   "execution_count": 120,
   "metadata": {},
   "outputs": [
    {
     "output_type": "execute_result",
     "data": {
      "text/plain": "       Project Number               Output Type  \\\n4041           131285                Video/Film   \n14955          151539  Talks/events/exhibitions   \n20141          159997  Talks/events/exhibitions   \n\n                                            Output Title  \\\n4041   Projection d’un film documentaire didactique p...   \n14955  Sentier thématique - A la découverte d'un mond...   \n20141  Soirée Société Suisse de la SEP, Environnement...   \n\n                                                     Url    Year  \n4041                                                 NaN  2010.0  \n14955  http://www.sciencesnaturelles.ch/service/leisu...  2016.0  \n20141                                                NaN  2016.0  ",
      "text/html": "<div>\n<style scoped>\n    .dataframe tbody tr th:only-of-type {\n        vertical-align: middle;\n    }\n\n    .dataframe tbody tr th {\n        vertical-align: top;\n    }\n\n    .dataframe thead th {\n        text-align: right;\n    }\n</style>\n<table border=\"1\" class=\"dataframe\">\n  <thead>\n    <tr style=\"text-align: right;\">\n      <th></th>\n      <th>Project Number</th>\n      <th>Output Type</th>\n      <th>Output Title</th>\n      <th>Url</th>\n      <th>Year</th>\n    </tr>\n  </thead>\n  <tbody>\n    <tr>\n      <th>4041</th>\n      <td>131285</td>\n      <td>Video/Film</td>\n      <td>Projection d’un film documentaire didactique p...</td>\n      <td>NaN</td>\n      <td>2010.0</td>\n    </tr>\n    <tr>\n      <th>14955</th>\n      <td>151539</td>\n      <td>Talks/events/exhibitions</td>\n      <td>Sentier thématique - A la découverte d'un mond...</td>\n      <td>http://www.sciencesnaturelles.ch/service/leisu...</td>\n      <td>2016.0</td>\n    </tr>\n    <tr>\n      <th>20141</th>\n      <td>159997</td>\n      <td>Talks/events/exhibitions</td>\n      <td>Soirée Société Suisse de la SEP, Environnement...</td>\n      <td>NaN</td>\n      <td>2016.0</td>\n    </tr>\n  </tbody>\n</table>\n</div>"
     },
     "metadata": {},
     "execution_count": 120
    }
   ],
   "source": [
    "output_data.sample(3)"
   ]
  },
  {
   "cell_type": "code",
   "execution_count": 125,
   "metadata": {
    "tags": []
   },
   "outputs": [
    {
     "output_type": "stream",
     "name": "stdout",
     "text": "<class 'pandas.core.frame.DataFrame'>\nRangeIndex: 28730 entries, 0 to 28729\nData columns (total 5 columns):\n #   Column          Non-Null Count  Dtype  \n---  ------          --------------  -----  \n 0   Project Number  28730 non-null  int64  \n 1   Output Type     28730 non-null  object \n 2   Output Title    28726 non-null  object \n 3   Url             18712 non-null  object \n 4   Year            28487 non-null  float64\ndtypes: float64(1), int64(1), object(3)\nmemory usage: 1.1+ MB\n"
    }
   ],
   "source": [
    "output_data.info()"
   ]
  },
  {
   "cell_type": "code",
   "execution_count": 126,
   "metadata": {},
   "outputs": [
    {
     "output_type": "execute_result",
     "data": {
      "text/plain": "Media relations: print media, online media           10709\nTalks/events/exhibitions                              7201\nNew media (web, blogs, podcasts, news feeds etc.)     3679\nMedia relations: radio, television                    3623\nPrint (books, brochures, leaflets)                    1413\nOther activities                                      1003\nVideo/Film                                             680\nSoftware                                               286\nStart-up                                               136\nName: Output Type, dtype: int64"
     },
     "metadata": {},
     "execution_count": 126
    }
   ],
   "source": [
    "output_data['Output Type'].value_counts()"
   ]
  },
  {
   "cell_type": "code",
   "execution_count": null,
   "metadata": {},
   "outputs": [],
   "source": []
  },
  {
   "source": [
    "#### Tidiness\n",
    "\n",
    "##### `grants` (ie. `GrantExport`) table\n",
    "\n",
    "- `Funding Instrument`, `Funding Instrument Hierarchy` are confusing\n",
    "- `Discipline`, ... `Discipline Name Hierarchy` are confusing\n",
    "- Details about `Institute` out of scope\n",
    "- `University` contains both long and short names: details out of scope\n",
    "\n",
    "##### `people` (ie. `PersonExport`) table\n",
    "\n",
    "- **`Project as...` contain mixed variables and observations for grant and role**\n",
    "- Details about `Institute` out of scope\n",
    "\n",
    "##### `publications` table\n",
    "\n",
    "- `Authors` contains multiple observations\n",
    "\n",
    "##### `collaborations` table\n",
    "\n",
    "- `Types of collaboration` contains multiple observations\n",
    "\n",
    "#### Quality\n",
    "\n",
    "- spaces in column names\n",
    "\n",
    "##### `grants` (ie. `GrantExport`) table\n",
    "\n",
    "- **`Project Number` and `Project Number String` are redundant**\n",
    "- **`Project Number String` encodes division information?**\n",
    "- **`Responsible Applicant` not an uid**\n",
    "- **`Start Date` and `End Date` string, not date type**\n",
    "- **`Aproved Amount` not numeric**\n",
    "- `Project Title English` often redundant or null\n",
    "- `Institution` free text? if yes, is it relevant? better named as department?\n",
    "- `Keywords` not consistent (see keyword extraction from abstracts)\n",
    "\n",
    "##### `people` (ie. `PersonExport`) table\n",
    "\n",
    "- typo in col name for `ORCID`\n",
    "- gender not categorical variable\n",
    "\n",
    "##### `publications` table\n",
    "\n",
    "- Missing DOIs\n",
    "- `Last Change of Outputdata` empty\n",
    "- `Publication Year` shows as float\n",
    "- `Status`, `Peer Review Status`, `Type of Publication`, and `Open Acces Type` strings, not categories\n",
    "- `Volume`, `Issue / Number`, `Page from`, `Page to` strings, not numeric\n",
    "- `[..] Title` show inconsistencies re capitalization\n",
    "- Duplicated entries: 1'724 duplicated non null DOIs and project numbers\n",
    "Í\n",
    "##### `output_data` table\n",
    "\n",
    "- `Output Type` string, not category\n",
    "- `Year` float, not integer"
   ],
   "cell_type": "markdown",
   "metadata": {}
  },
  {
   "cell_type": "markdown",
   "metadata": {},
   "source": [
    "## Clean"
   ]
  },
  {
   "cell_type": "code",
   "execution_count": 127,
   "metadata": {
    "tags": []
   },
   "outputs": [
    {
     "output_type": "stream",
     "name": "stdout",
     "text": "<class 'pandas.core.frame.DataFrame'>\nRangeIndex: 74519 entries, 0 to 74518\nData columns (total 18 columns):\n #   Column                        Non-Null Count  Dtype \n---  ------                        --------------  ----- \n 0   project_number                74519 non-null  int64 \n 1   project_number_string         74519 non-null  object\n 2   project_title                 74519 non-null  object\n 3   project_title_english         31400 non-null  object\n 4   responsible_applicant         74519 non-null  object\n 5   funding_instrument            74519 non-null  object\n 6   funding_instrument_hierarchy  74479 non-null  object\n 7   institution                   68860 non-null  object\n 8   institution_country           68794 non-null  object\n 9   university                    74514 non-null  object\n 10  discipline_number             74519 non-null  int64 \n 11  discipline_name               74519 non-null  object\n 12  discipline_name_hierarchy     74020 non-null  object\n 13  all_disciplines               74519 non-null  object\n 14  start_date                    74517 non-null  object\n 15  end_date                      74517 non-null  object\n 16  approved_amount               74519 non-null  object\n 17  keywords                      49409 non-null  object\ndtypes: int64(2), object(16)\nmemory usage: 10.2+ MB\n"
    }
   ],
   "source": [
    "df_grants = grants.copy()\n",
    "df_grants.columns = df_grants.columns.str.lower().str.replace(' ', '_')\n",
    "df_grants.info()"
   ]
  },
  {
   "source": [
    "---"
   ],
   "cell_type": "markdown",
   "metadata": {}
  },
  {
   "cell_type": "code",
   "execution_count": 128,
   "metadata": {
    "tags": []
   },
   "outputs": [],
   "source": [
    "# https://github.com/zambujo/p3data/issues/1\n",
    "df_grants['string_code'] = df_grants.project_number_string.str[:-6]\n",
    "df_grants['string_code'] = df_grants.string_code.str.replace('[-_ ]', '')\n",
    "df_grants = df_grants.drop('project_number_string', 1)"
   ]
  },
  {
   "source": [
    "_Acceptance tests_"
   ],
   "cell_type": "markdown",
   "metadata": {}
  },
  {
   "cell_type": "code",
   "execution_count": 129,
   "metadata": {},
   "outputs": [
    {
     "output_type": "execute_result",
     "data": {
      "text/plain": "2000      6072\n3100      4997\n200020    3506\n200021    3306\n31003A    2677\n          ... \nIZJFZ2       1\nPBLU1        1\nIZRJZ2       1\n106011       1\nIZSAZ1       1\nName: string_code, Length: 1102, dtype: int64"
     },
     "metadata": {},
     "execution_count": 129
    }
   ],
   "source": [
    "df_grants.string_code.value_counts()"
   ]
  },
  {
   "cell_type": "code",
   "execution_count": 130,
   "metadata": {},
   "outputs": [
    {
     "output_type": "execute_result",
     "data": {
      "text/plain": "    string_code            funding_instrument  count\n181        2000  Project funding (Div. I-III)   6072\n286        3100  Project funding (Div. I-III)   4997\n183      200020  Project funding (Div. I-III)   3506\n188      200021  Project funding (Div. I-III)   3306\n292      31003A  Project funding (Div. I-III)   2677",
      "text/html": "<div>\n<style scoped>\n    .dataframe tbody tr th:only-of-type {\n        vertical-align: middle;\n    }\n\n    .dataframe tbody tr th {\n        vertical-align: top;\n    }\n\n    .dataframe thead th {\n        text-align: right;\n    }\n</style>\n<table border=\"1\" class=\"dataframe\">\n  <thead>\n    <tr style=\"text-align: right;\">\n      <th></th>\n      <th>string_code</th>\n      <th>funding_instrument</th>\n      <th>count</th>\n    </tr>\n  </thead>\n  <tbody>\n    <tr>\n      <th>181</th>\n      <td>2000</td>\n      <td>Project funding (Div. I-III)</td>\n      <td>6072</td>\n    </tr>\n    <tr>\n      <th>286</th>\n      <td>3100</td>\n      <td>Project funding (Div. I-III)</td>\n      <td>4997</td>\n    </tr>\n    <tr>\n      <th>183</th>\n      <td>200020</td>\n      <td>Project funding (Div. I-III)</td>\n      <td>3506</td>\n    </tr>\n    <tr>\n      <th>188</th>\n      <td>200021</td>\n      <td>Project funding (Div. I-III)</td>\n      <td>3306</td>\n    </tr>\n    <tr>\n      <th>292</th>\n      <td>31003A</td>\n      <td>Project funding (Div. I-III)</td>\n      <td>2677</td>\n    </tr>\n  </tbody>\n</table>\n</div>"
     },
     "metadata": {},
     "execution_count": 130
    }
   ],
   "source": [
    "df_grants.groupby([\"string_code\", \"funding_instrument\"]).size().reset_index().rename(columns={0: \"count\"}).sort_values(by='count', ascending=False).head()"
   ]
  },
  {
   "cell_type": "code",
   "execution_count": null,
   "metadata": {},
   "outputs": [],
   "source": []
  }
 ],
 "metadata": {
  "kernelspec": {
   "display_name": "Python 3",
   "language": "python",
   "name": "python3"
  },
  "language_info": {
   "codemirror_mode": {
    "name": "ipython",
    "version": 3
   },
   "file_extension": ".py",
   "mimetype": "text/x-python",
   "name": "python",
   "nbconvert_exporter": "python",
   "pygments_lexer": "ipython3",
   "version": "3.8.5-final"
  }
 },
 "nbformat": 4,
 "nbformat_minor": 4
}