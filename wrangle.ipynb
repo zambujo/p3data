{
 "cells": [
  {
   "cell_type": "markdown",
   "metadata": {},
   "source": [
    "# Pre-processing SNSF Public Data"
   ]
  },
  {
   "cell_type": "code",
   "execution_count": 1,
   "metadata": {},
   "outputs": [],
   "source": [
    "import os\n",
    "import numpy as np\n",
    "import pandas as pd\n",
    "import matplotlib.pyplot as plt\n",
    "import seaborn as sns\n",
    "import requests"
   ]
  },
  {
   "cell_type": "markdown",
   "metadata": {},
   "source": [
    "## Gather"
   ]
  },
  {
   "cell_type": "code",
   "execution_count": 2,
   "metadata": {},
   "outputs": [],
   "source": [
    "UPDATE_DATA = False\n",
    "folder_name = 'rawdata'\n",
    "if not os.path.exists(folder_name):\n",
    "    os.makedirs(folder_name)"
   ]
  },
  {
   "source": [
    "file_names = [\"P3_GrantExport.csv\",\\\n",
    "              \"P3_GrantExport_with_abstracts.csv\",\\\n",
    "              \"P3_PersonExport.csv\",\\\n",
    "              \"P3_PublicationExport.csv\",\\\n",
    "              \"P3_GrantOutputDataExport.csv\",\\\n",
    "              \"P3_CollaborationExport.csv\"]\n",
    "\n",
    "if UPDATE_DATA:\n",
    "    for k in file_names:\n",
    "        url_grant = \"http://p3.snf.ch/P3Export/\" + k\n",
    "        print(url_grant)\n",
    "        response = requests.get(url_grant)\n",
    "        assert response.status_code == 200, \"status code for\" + k + \" not ok\"\n",
    "        \n",
    "        with open(os.path.join(folder_name, k), mode=\"wb\") as file:\n",
    "                file.write(response.content)"
   ],
   "cell_type": "code",
   "metadata": {},
   "execution_count": 5,
   "outputs": []
  },
  {
   "cell_type": "code",
   "execution_count": 7,
   "metadata": {},
   "outputs": [],
   "source": [
    "grants = pd.read_csv(os.path.join(folder_name, file_names[0]), sep=';')\n",
    "people = pd.read_csv(os.path.join(folder_name, file_names[2]), sep=';')\n",
    "publications = pd.read_csv(os.path.join(folder_name, file_names[3]), sep=';')\n",
    "output_data = pd.read_csv(os.path.join(folder_name, file_names[4]), sep=';')\n",
    "collaborations = pd.read_csv(os.path.join(folder_name, file_names[5]), sep=';')"
   ]
  },
  {
   "cell_type": "markdown",
   "metadata": {},
   "source": [
    "## Assess"
   ]
  },
  {
   "cell_type": "code",
   "execution_count": 9,
   "metadata": {},
   "outputs": [
    {
     "output_type": "execute_result",
     "data": {
      "text/plain": "       Project Number Project Number String  \\\n68095          176683         IZSEZ0_176683   \n24623           55644           2100-055644   \n13467           30335           81ZH-030335   \n\n                                           Project Title  \\\n68095  Intergenerational knowledge transfer as a mean...   \n24623  Predictive Control of Nonlinear Non-minimum Ph...   \n13467   Analysis of PSI Integrin Function in Drosophila.   \n\n                                   Project Title English  \\\n68095  Intergenerational knowledge transfer as a mean...   \n24623                                                NaN   \n13467                                                NaN   \n\n      Responsible Applicant                       Funding Instrument  \\\n68095       Burmeister Anne                     Scientific Exchanges   \n24623      Bonvin Dominique             Project funding (Div. I-III)   \n13467         Wehrli Marcel  Fellowships for prospective researchers   \n\n      Funding Instrument Hierarchy  \\\n68095        Science communication   \n24623              Project funding   \n13467          Careers;Fellowships   \n\n                                             Institution  \\\n68095  Arbeits- und Organisationspsychologie Institut...   \n24623   Laboratoire d'automatique EPFL - STI - IGM - LA1   \n13467  UNI: MRC Laboratory of Molecular Biology   C a...   \n\n                      Institution Country                 University  \\\n68095                         Switzerland   University of Berne - BE   \n24623                         Switzerland        EPF Lausanne - EPFL   \n13467  Great Britain and Northern Ireland  Institution abroad - IACH   \n\n       Discipline Number                            Discipline Name  \\\n68095              10605                         Applied psychology   \n24623              20511  Other disciplines of Engineering Sciences   \n13467              30102                          Molecular Biology   \n\n                               Discipline Name Hierarchy All disciplines  \\\n68095  Humanities and Social Sciences;Psychology, edu...           10605   \n24623  Mathematics, Natural- and Engineering Sciences...           20511   \n13467     Biology and Medicine;Basic Biological Research           30102   \n\n       Start Date    End Date          Approved Amount  \\\n68095  01.01.2018  28.02.2018                  7500.00   \n24623  01.04.2001  31.03.2004                115142.00   \n13467  01.02.1991  31.01.1992  data not included in P3   \n\n                                                Keywords  \n68095  Age diversity; Knowledge transfer; Intergenera...  \n24623  PREDICTIVE CONTROL; NON-MINIMUM PHASE; NONLINE...  \n13467                                                NaN  ",
      "text/html": "<div>\n<style scoped>\n    .dataframe tbody tr th:only-of-type {\n        vertical-align: middle;\n    }\n\n    .dataframe tbody tr th {\n        vertical-align: top;\n    }\n\n    .dataframe thead th {\n        text-align: right;\n    }\n</style>\n<table border=\"1\" class=\"dataframe\">\n  <thead>\n    <tr style=\"text-align: right;\">\n      <th></th>\n      <th>Project Number</th>\n      <th>Project Number String</th>\n      <th>Project Title</th>\n      <th>Project Title English</th>\n      <th>Responsible Applicant</th>\n      <th>Funding Instrument</th>\n      <th>Funding Instrument Hierarchy</th>\n      <th>Institution</th>\n      <th>Institution Country</th>\n      <th>University</th>\n      <th>Discipline Number</th>\n      <th>Discipline Name</th>\n      <th>Discipline Name Hierarchy</th>\n      <th>All disciplines</th>\n      <th>Start Date</th>\n      <th>End Date</th>\n      <th>Approved Amount</th>\n      <th>Keywords</th>\n    </tr>\n  </thead>\n  <tbody>\n    <tr>\n      <th>68095</th>\n      <td>176683</td>\n      <td>IZSEZ0_176683</td>\n      <td>Intergenerational knowledge transfer as a mean...</td>\n      <td>Intergenerational knowledge transfer as a mean...</td>\n      <td>Burmeister Anne</td>\n      <td>Scientific Exchanges</td>\n      <td>Science communication</td>\n      <td>Arbeits- und Organisationspsychologie Institut...</td>\n      <td>Switzerland</td>\n      <td>University of Berne - BE</td>\n      <td>10605</td>\n      <td>Applied psychology</td>\n      <td>Humanities and Social Sciences;Psychology, edu...</td>\n      <td>10605</td>\n      <td>01.01.2018</td>\n      <td>28.02.2018</td>\n      <td>7500.00</td>\n      <td>Age diversity; Knowledge transfer; Intergenera...</td>\n    </tr>\n    <tr>\n      <th>24623</th>\n      <td>55644</td>\n      <td>2100-055644</td>\n      <td>Predictive Control of Nonlinear Non-minimum Ph...</td>\n      <td>NaN</td>\n      <td>Bonvin Dominique</td>\n      <td>Project funding (Div. I-III)</td>\n      <td>Project funding</td>\n      <td>Laboratoire d'automatique EPFL - STI - IGM - LA1</td>\n      <td>Switzerland</td>\n      <td>EPF Lausanne - EPFL</td>\n      <td>20511</td>\n      <td>Other disciplines of Engineering Sciences</td>\n      <td>Mathematics, Natural- and Engineering Sciences...</td>\n      <td>20511</td>\n      <td>01.04.2001</td>\n      <td>31.03.2004</td>\n      <td>115142.00</td>\n      <td>PREDICTIVE CONTROL; NON-MINIMUM PHASE; NONLINE...</td>\n    </tr>\n    <tr>\n      <th>13467</th>\n      <td>30335</td>\n      <td>81ZH-030335</td>\n      <td>Analysis of PSI Integrin Function in Drosophila.</td>\n      <td>NaN</td>\n      <td>Wehrli Marcel</td>\n      <td>Fellowships for prospective researchers</td>\n      <td>Careers;Fellowships</td>\n      <td>UNI: MRC Laboratory of Molecular Biology   C a...</td>\n      <td>Great Britain and Northern Ireland</td>\n      <td>Institution abroad - IACH</td>\n      <td>30102</td>\n      <td>Molecular Biology</td>\n      <td>Biology and Medicine;Basic Biological Research</td>\n      <td>30102</td>\n      <td>01.02.1991</td>\n      <td>31.01.1992</td>\n      <td>data not included in P3</td>\n      <td>NaN</td>\n    </tr>\n  </tbody>\n</table>\n</div>"
     },
     "metadata": {},
     "execution_count": 9
    }
   ],
   "source": [
    "grants.sample(3)"
   ]
  },
  {
   "cell_type": "code",
   "execution_count": 10,
   "metadata": {
    "tags": []
   },
   "outputs": [
    {
     "output_type": "stream",
     "name": "stdout",
     "text": "<class 'pandas.core.frame.DataFrame'>\nRangeIndex: 74519 entries, 0 to 74518\nData columns (total 18 columns):\n #   Column                        Non-Null Count  Dtype \n---  ------                        --------------  ----- \n 0   Project Number                74519 non-null  int64 \n 1   Project Number String         74519 non-null  object\n 2   Project Title                 74519 non-null  object\n 3   Project Title English         31400 non-null  object\n 4   Responsible Applicant         74519 non-null  object\n 5   Funding Instrument            74519 non-null  object\n 6   Funding Instrument Hierarchy  74479 non-null  object\n 7   Institution                   68860 non-null  object\n 8   Institution Country           68794 non-null  object\n 9   University                    74514 non-null  object\n 10  Discipline Number             74519 non-null  int64 \n 11  Discipline Name               74519 non-null  object\n 12  Discipline Name Hierarchy     74020 non-null  object\n 13  All disciplines               74519 non-null  object\n 14  Start Date                    74517 non-null  object\n 15  End Date                      74517 non-null  object\n 16  Approved Amount               74519 non-null  object\n 17  Keywords                      49409 non-null  object\ndtypes: int64(2), object(16)\nmemory usage: 10.2+ MB\n"
    }
   ],
   "source": [
    "grants.info()"
   ]
  },
  {
   "cell_type": "code",
   "execution_count": 11,
   "metadata": {},
   "outputs": [
    {
     "output_type": "execute_result",
     "data": {
      "text/plain": "        Last Name   First Name Gender  \\\n11589        Bott       Markus   male   \n607          Aebi          Max   male   \n55131  Laedermann  Jean-Pascal   male   \n\n                                          Institute Name Institute Place  \\\n11589                                                NaN             NaN   \n607    Institut für Evaluative Forschung in Orthopädi...            Bern   \n55131  Institut de Radiophysique Département de Radio...        Lausanne   \n\n       Person ID SNSF OCRID Projects as responsible Applicant  \\\n11589           84996   NaN                               NaN   \n607            518682   NaN                            115859   \n55131          110891   NaN                               NaN   \n\n      Projects as Applicant Projects as Partner Projects as Practice Partner  \\\n11589                   NaN                 NaN                          NaN   \n607                     NaN                 NaN                          NaN   \n55131                 58248                 NaN                          NaN   \n\n      Projects as Employee Projects as Contact Person  \n11589                47136                        NaN  \n607                    NaN                        NaN  \n55131               109986                        NaN  ",
      "text/html": "<div>\n<style scoped>\n    .dataframe tbody tr th:only-of-type {\n        vertical-align: middle;\n    }\n\n    .dataframe tbody tr th {\n        vertical-align: top;\n    }\n\n    .dataframe thead th {\n        text-align: right;\n    }\n</style>\n<table border=\"1\" class=\"dataframe\">\n  <thead>\n    <tr style=\"text-align: right;\">\n      <th></th>\n      <th>Last Name</th>\n      <th>First Name</th>\n      <th>Gender</th>\n      <th>Institute Name</th>\n      <th>Institute Place</th>\n      <th>Person ID SNSF</th>\n      <th>OCRID</th>\n      <th>Projects as responsible Applicant</th>\n      <th>Projects as Applicant</th>\n      <th>Projects as Partner</th>\n      <th>Projects as Practice Partner</th>\n      <th>Projects as Employee</th>\n      <th>Projects as Contact Person</th>\n    </tr>\n  </thead>\n  <tbody>\n    <tr>\n      <th>11589</th>\n      <td>Bott</td>\n      <td>Markus</td>\n      <td>male</td>\n      <td>NaN</td>\n      <td>NaN</td>\n      <td>84996</td>\n      <td>NaN</td>\n      <td>NaN</td>\n      <td>NaN</td>\n      <td>NaN</td>\n      <td>NaN</td>\n      <td>47136</td>\n      <td>NaN</td>\n    </tr>\n    <tr>\n      <th>607</th>\n      <td>Aebi</td>\n      <td>Max</td>\n      <td>male</td>\n      <td>Institut für Evaluative Forschung in Orthopädi...</td>\n      <td>Bern</td>\n      <td>518682</td>\n      <td>NaN</td>\n      <td>115859</td>\n      <td>NaN</td>\n      <td>NaN</td>\n      <td>NaN</td>\n      <td>NaN</td>\n      <td>NaN</td>\n    </tr>\n    <tr>\n      <th>55131</th>\n      <td>Laedermann</td>\n      <td>Jean-Pascal</td>\n      <td>male</td>\n      <td>Institut de Radiophysique Département de Radio...</td>\n      <td>Lausanne</td>\n      <td>110891</td>\n      <td>NaN</td>\n      <td>NaN</td>\n      <td>58248</td>\n      <td>NaN</td>\n      <td>NaN</td>\n      <td>109986</td>\n      <td>NaN</td>\n    </tr>\n  </tbody>\n</table>\n</div>"
     },
     "metadata": {},
     "execution_count": 11
    }
   ],
   "source": [
    "people.sample(3)"
   ]
  },
  {
   "cell_type": "code",
   "execution_count": 12,
   "metadata": {
    "tags": []
   },
   "outputs": [
    {
     "output_type": "stream",
     "name": "stdout",
     "text": "<class 'pandas.core.frame.DataFrame'>\nRangeIndex: 111903 entries, 0 to 111902\nData columns (total 13 columns):\n #   Column                             Non-Null Count   Dtype \n---  ------                             --------------   ----- \n 0   Last Name                          111903 non-null  object\n 1   First Name                         111896 non-null  object\n 2   Gender                             111903 non-null  object\n 3   Institute Name                     54186 non-null   object\n 4   Institute Place                    54083 non-null   object\n 5   Person ID SNSF                     111903 non-null  int64 \n 6   OCRID                              7092 non-null    object\n 7   Projects as responsible Applicant  28898 non-null   object\n 8   Projects as Applicant              18934 non-null   object\n 9   Projects as Partner                5300 non-null    object\n 10  Projects as Practice Partner       735 non-null     object\n 11  Projects as Employee               82000 non-null   object\n 12  Projects as Contact Person         766 non-null     object\ndtypes: int64(1), object(12)\nmemory usage: 11.1+ MB\n"
    }
   ],
   "source": [
    "people.info()"
   ]
  },
  {
   "cell_type": "code",
   "execution_count": 13,
   "metadata": {},
   "outputs": [
    {
     "output_type": "execute_result",
     "data": {
      "text/plain": "                           Publication ID SNSF  Project Number  \\\n72170   {31B2FBC2-8F21-436B-86AE-4B80F7FECF3A}          146725   \n37751   {C75375CE-871A-4B08-8A4C-951A844DAB04}          134797   \n116294  {0D6319F7-F117-42CC-BD6E-81683EF3AC5F}          165837   \n\n       Peer Review Status               Type of Publication  \\\n72170       Peer-reviewed  Original article (peer-reviewed)   \n37751       Peer-reviewed  Original article (peer-reviewed)   \n116294      Peer-reviewed                               NaN   \n\n                                     Title of Publication  \\\n72170   Development of autoimmune pancreatitis is inde...   \n37751   New constraints on dust emission and UV attenu...   \n116294  Fecal microbiota transplantation: a promising ...   \n\n                                                  Authors     Status  \\\n72170   Seleznik Gitta M,  Reding Theresia,  Peter Luk...  Published   \n37751   {Schaerer} D.,  {Boone} F.,  {Zamojski} M.,  {...   Accepted   \n116294  Delaune Vaihere,  Orci Lorenzo A,  Lacotte Sté...  Published   \n\n        Publication Year ISBN                            DOI  ... Publisher  \\\n72170             2018.0  NaN     10.1136/gutjnl-2016-313458  ...       NaN   \n37751                NaN  NaN                            NaN  ...       NaN   \n116294            2018.0  NaN  10.1080/14712598.2018.1518424  ...       NaN   \n\n        Editors                         Journal Title Volume Issue / Number  \\\n72170       NaN                                   Gut     67              9   \n37751       NaN                        ArXiv e-prints    NaN            NaN   \n116294      NaN  Expert opinion on biological therapy     18             10   \n\n       Page from Page to                      Proceeding Title  \\\n72170       1663    1673                                   Gut   \n37751        NaN     NaN                        ArXiv e-prints   \n116294      1061    1071  Expert opinion on biological therapy   \n\n       Proceeding Place                                           Abstract  \n72170               NaN  ObjectiveChronic pancreatitis (CP) and autoimm...  \n37751               NaN                                                NaN  \n116294              NaN  Non alcoholic fatty liver disease (NAFLD) has ...  \n\n[3 rows x 26 columns]",
      "text/html": "<div>\n<style scoped>\n    .dataframe tbody tr th:only-of-type {\n        vertical-align: middle;\n    }\n\n    .dataframe tbody tr th {\n        vertical-align: top;\n    }\n\n    .dataframe thead th {\n        text-align: right;\n    }\n</style>\n<table border=\"1\" class=\"dataframe\">\n  <thead>\n    <tr style=\"text-align: right;\">\n      <th></th>\n      <th>Publication ID SNSF</th>\n      <th>Project Number</th>\n      <th>Peer Review Status</th>\n      <th>Type of Publication</th>\n      <th>Title of Publication</th>\n      <th>Authors</th>\n      <th>Status</th>\n      <th>Publication Year</th>\n      <th>ISBN</th>\n      <th>DOI</th>\n      <th>...</th>\n      <th>Publisher</th>\n      <th>Editors</th>\n      <th>Journal Title</th>\n      <th>Volume</th>\n      <th>Issue / Number</th>\n      <th>Page from</th>\n      <th>Page to</th>\n      <th>Proceeding Title</th>\n      <th>Proceeding Place</th>\n      <th>Abstract</th>\n    </tr>\n  </thead>\n  <tbody>\n    <tr>\n      <th>72170</th>\n      <td>{31B2FBC2-8F21-436B-86AE-4B80F7FECF3A}</td>\n      <td>146725</td>\n      <td>Peer-reviewed</td>\n      <td>Original article (peer-reviewed)</td>\n      <td>Development of autoimmune pancreatitis is inde...</td>\n      <td>Seleznik Gitta M,  Reding Theresia,  Peter Luk...</td>\n      <td>Published</td>\n      <td>2018.0</td>\n      <td>NaN</td>\n      <td>10.1136/gutjnl-2016-313458</td>\n      <td>...</td>\n      <td>NaN</td>\n      <td>NaN</td>\n      <td>Gut</td>\n      <td>67</td>\n      <td>9</td>\n      <td>1663</td>\n      <td>1673</td>\n      <td>Gut</td>\n      <td>NaN</td>\n      <td>ObjectiveChronic pancreatitis (CP) and autoimm...</td>\n    </tr>\n    <tr>\n      <th>37751</th>\n      <td>{C75375CE-871A-4B08-8A4C-951A844DAB04}</td>\n      <td>134797</td>\n      <td>Peer-reviewed</td>\n      <td>Original article (peer-reviewed)</td>\n      <td>New constraints on dust emission and UV attenu...</td>\n      <td>{Schaerer} D.,  {Boone} F.,  {Zamojski} M.,  {...</td>\n      <td>Accepted</td>\n      <td>NaN</td>\n      <td>NaN</td>\n      <td>NaN</td>\n      <td>...</td>\n      <td>NaN</td>\n      <td>NaN</td>\n      <td>ArXiv e-prints</td>\n      <td>NaN</td>\n      <td>NaN</td>\n      <td>NaN</td>\n      <td>NaN</td>\n      <td>ArXiv e-prints</td>\n      <td>NaN</td>\n      <td>NaN</td>\n    </tr>\n    <tr>\n      <th>116294</th>\n      <td>{0D6319F7-F117-42CC-BD6E-81683EF3AC5F}</td>\n      <td>165837</td>\n      <td>Peer-reviewed</td>\n      <td>NaN</td>\n      <td>Fecal microbiota transplantation: a promising ...</td>\n      <td>Delaune Vaihere,  Orci Lorenzo A,  Lacotte Sté...</td>\n      <td>Published</td>\n      <td>2018.0</td>\n      <td>NaN</td>\n      <td>10.1080/14712598.2018.1518424</td>\n      <td>...</td>\n      <td>NaN</td>\n      <td>NaN</td>\n      <td>Expert opinion on biological therapy</td>\n      <td>18</td>\n      <td>10</td>\n      <td>1061</td>\n      <td>1071</td>\n      <td>Expert opinion on biological therapy</td>\n      <td>NaN</td>\n      <td>Non alcoholic fatty liver disease (NAFLD) has ...</td>\n    </tr>\n  </tbody>\n</table>\n<p>3 rows × 26 columns</p>\n</div>"
     },
     "metadata": {},
     "execution_count": 13
    }
   ],
   "source": [
    "publications.sample(3)"
   ]
  },
  {
   "cell_type": "code",
   "execution_count": 14,
   "metadata": {
    "tags": []
   },
   "outputs": [
    {
     "output_type": "stream",
     "name": "stdout",
     "text": "<class 'pandas.core.frame.DataFrame'>\nRangeIndex: 133541 entries, 0 to 133540\nData columns (total 26 columns):\n #   Column                     Non-Null Count   Dtype  \n---  ------                     --------------   -----  \n 0   Publication ID SNSF        133541 non-null  object \n 1   Project Number             133541 non-null  int64  \n 2   Peer Review Status         133541 non-null  object \n 3   Type of Publication        128867 non-null  object \n 4   Title of Publication       133504 non-null  object \n 5   Authors                    131026 non-null  object \n 6   Status                     133541 non-null  object \n 7   Publication Year           118806 non-null  float64\n 8   ISBN                       15201 non-null   object \n 9   DOI                        78871 non-null   object \n 10  Import Source              107910 non-null  object \n 11  Last Change of Outputdata  0 non-null       float64\n 12  Open Access Status         133541 non-null  int64  \n 13  Open Access Type           42630 non-null   object \n 14  Open Access URL            42623 non-null   object \n 15  Book Title                 124917 non-null  object \n 16  Publisher                  26593 non-null   object \n 17  Editors                    13569 non-null   object \n 18  Journal Title              124917 non-null  object \n 19  Volume                     88179 non-null   object \n 20  Issue / Number             60739 non-null   object \n 21  Page from                  106093 non-null  object \n 22  Page to                    91351 non-null   object \n 23  Proceeding Title           124908 non-null  object \n 24  Proceeding Place           5854 non-null    object \n 25  Abstract                   69181 non-null   object \ndtypes: float64(2), int64(2), object(22)\nmemory usage: 26.5+ MB\n"
    }
   ],
   "source": [
    "publications.info()"
   ]
  },
  {
   "cell_type": "code",
   "execution_count": 15,
   "metadata": {},
   "outputs": [
    {
     "output_type": "execute_result",
     "data": {
      "text/plain": "Publisher (Gold Open Access)                                           18131\nRepository (Green Open Access)                                         12349\nWebsite                                                                10359\nGreen OA Embargo (Freely available via Repository after an embargo)     1791\nName: Open Access Type, dtype: int64"
     },
     "metadata": {},
     "execution_count": 15
    }
   ],
   "source": [
    "publications['Open Access Type'].value_counts()"
   ]
  },
  {
   "cell_type": "code",
   "execution_count": 16,
   "metadata": {},
   "outputs": [
    {
     "output_type": "execute_result",
     "data": {
      "text/plain": "Published    118975\nAccepted      14464\nNotSet          102\nName: Status, dtype: int64"
     },
     "metadata": {},
     "execution_count": 16
    }
   ],
   "source": [
    "publications['Status'].value_counts()"
   ]
  },
  {
   "cell_type": "code",
   "execution_count": 17,
   "metadata": {},
   "outputs": [
    {
     "output_type": "execute_result",
     "data": {
      "text/plain": "8                             2078\n7                             2002\n9                             1851\n6                             1808\n10                            1705\n                              ... \n7368                             1\n75                               1\n8627                             1\nVolume 88,  7 October 2015       1\n909                              1\nName: Volume, Length: 3657, dtype: int64"
     },
     "metadata": {},
     "execution_count": 17
    }
   ],
   "source": [
    "publications['Volume'].value_counts()"
   ]
  },
  {
   "cell_type": "code",
   "execution_count": 18,
   "metadata": {},
   "outputs": [
    {
     "output_type": "execute_result",
     "data": {
      "text/plain": "1                                 8688\n2                                 6471\n3                                 5426\n4                                 5071\n5                                 3638\n                                  ... \n347                                  1\n2134                                 1\neaah6817                             1\nWinter Braids VI (Lille, 2016)       1\n504                                  1\nName: Issue / Number, Length: 2720, dtype: int64"
     },
     "metadata": {},
     "execution_count": 18
    }
   ],
   "source": [
    "publications['Issue / Number'].value_counts()"
   ]
  },
  {
   "cell_type": "code",
   "execution_count": 50,
   "metadata": {},
   "outputs": [
    {
     "data": {
      "text/plain": [
       "(1724, 26)"
      ]
     },
     "execution_count": 50,
     "metadata": {},
     "output_type": "execute_result"
    }
   ],
   "source": [
    "publications[(publications.DOI.isna() == False) & (publications[['DOI', 'Project Number']].duplicated())].shape"
   ]
  },
  {
   "cell_type": "code",
   "execution_count": 19,
   "metadata": {},
   "outputs": [
    {
     "output_type": "execute_result",
     "data": {
      "text/plain": "       Project Number                                       Group/Person  \\\n10625          138096  Pontificia Universidad Católica de Chile, Sant...   \n36138          157789  Benoît Rihoux, Comparatiev Political Sciences,...   \n10856          138213                                         LMIS4/EPFL   \n\n                                  Types of collaboration      Country  \\\n10625                                        Publication        Chile   \n36138  in-depth/constructive exchanges on approaches,...      Belgium   \n10856  in-depth/constructive exchanges on approaches,...  Switzerland   \n\n      Project Start Date Project End Date  \n10625         01.11.2011       28.02.2013  \n36138         01.01.2016       31.12.2021  \n10856         01.10.2011       30.09.2013  ",
      "text/html": "<div>\n<style scoped>\n    .dataframe tbody tr th:only-of-type {\n        vertical-align: middle;\n    }\n\n    .dataframe tbody tr th {\n        vertical-align: top;\n    }\n\n    .dataframe thead th {\n        text-align: right;\n    }\n</style>\n<table border=\"1\" class=\"dataframe\">\n  <thead>\n    <tr style=\"text-align: right;\">\n      <th></th>\n      <th>Project Number</th>\n      <th>Group/Person</th>\n      <th>Types of collaboration</th>\n      <th>Country</th>\n      <th>Project Start Date</th>\n      <th>Project End Date</th>\n    </tr>\n  </thead>\n  <tbody>\n    <tr>\n      <th>10625</th>\n      <td>138096</td>\n      <td>Pontificia Universidad Católica de Chile, Sant...</td>\n      <td>Publication</td>\n      <td>Chile</td>\n      <td>01.11.2011</td>\n      <td>28.02.2013</td>\n    </tr>\n    <tr>\n      <th>36138</th>\n      <td>157789</td>\n      <td>Benoît Rihoux, Comparatiev Political Sciences,...</td>\n      <td>in-depth/constructive exchanges on approaches,...</td>\n      <td>Belgium</td>\n      <td>01.01.2016</td>\n      <td>31.12.2021</td>\n    </tr>\n    <tr>\n      <th>10856</th>\n      <td>138213</td>\n      <td>LMIS4/EPFL</td>\n      <td>in-depth/constructive exchanges on approaches,...</td>\n      <td>Switzerland</td>\n      <td>01.10.2011</td>\n      <td>30.09.2013</td>\n    </tr>\n  </tbody>\n</table>\n</div>"
     },
     "metadata": {},
     "execution_count": 19
    }
   ],
   "source": [
    "collaborations.sample(3)"
   ]
  },
  {
   "cell_type": "code",
   "execution_count": 20,
   "metadata": {
    "tags": []
   },
   "outputs": [
    {
     "output_type": "stream",
     "name": "stdout",
     "text": "<class 'pandas.core.frame.DataFrame'>\nRangeIndex: 60324 entries, 0 to 60323\nData columns (total 6 columns):\n #   Column                  Non-Null Count  Dtype \n---  ------                  --------------  ----- \n 0   Project Number          60324 non-null  int64 \n 1   Group/Person            60324 non-null  object\n 2   Types of collaboration  60324 non-null  object\n 3   Country                 60324 non-null  object\n 4   Project Start Date      60324 non-null  object\n 5   Project End Date        60322 non-null  object\ndtypes: int64(1), object(5)\nmemory usage: 2.8+ MB\n"
    }
   ],
   "source": [
    "collaborations.info()"
   ]
  },
  {
   "cell_type": "code",
   "execution_count": 21,
   "metadata": {},
   "outputs": [
    {
     "output_type": "execute_result",
     "data": {
      "text/plain": "in-depth/constructive exchanges on approaches, methods or results;Publication                                                                                                      18300\nin-depth/constructive exchanges on approaches, methods or results                                                                                                                  16506\nin-depth/constructive exchanges on approaches, methods or results;Publication;Research Infrastructures                                                                              6305\nin-depth/constructive exchanges on approaches, methods or results;Publication;Research Infrastructures;Exchange of personnel                                                        3260\nin-depth/constructive exchanges on approaches, methods or results;Research Infrastructures                                                                                          3078\nPublication                                                                                                                                                                         2872\nin-depth/constructive exchanges on approaches, methods or results;Publication;Exchange of personnel                                                                                 2593\nResearch Infrastructures                                                                                                                                                            1322\nin-depth/constructive exchanges on approaches, methods or results;Exchange of personnel                                                                                             1224\nIndustry/business/other use-inspired collaboration                                                                                                                                   808\nin-depth/constructive exchanges on approaches, methods or results;Research Infrastructures;Exchange of personnel                                                                     767\nin-depth/constructive exchanges on approaches, methods or results;Industry/business/other use-inspired collaboration                                                                 715\nExchange of personnel                                                                                                                                                                467\nPublication;Research Infrastructures                                                                                                                                                 430\nin-depth/constructive exchanges on approaches, methods or results;Publication;Industry/business/other use-inspired collaboration                                                     362\nin-depth/constructive exchanges on approaches, methods or results;Publication;Research Infrastructures;Exchange of personnel;Industry/business/other use-inspired collaboration      239\nin-depth/constructive exchanges on approaches, methods or results;Research Infrastructures;Industry/business/other use-inspired collaboration                                        186\nin-depth/constructive exchanges on approaches, methods or results;Publication;Research Infrastructures;Industry/business/other use-inspired collaboration                            183\nPublication;Exchange of personnel                                                                                                                                                    174\nResearch Infrastructures;Exchange of personnel                                                                                                                                       104\nPublication;Research Infrastructures;Exchange of personnel                                                                                                                            82\nResearch Infrastructures;Industry/business/other use-inspired collaboration                                                                                                           74\nin-depth/constructive exchanges on approaches, methods or results;Publication;Exchange of personnel;Industry/business/other use-inspired collaboration                                70\nPublication;Industry/business/other use-inspired collaboration                                                                                                                        58\nin-depth/constructive exchanges on approaches, methods or results;Exchange of personnel;Industry/business/other use-inspired collaboration                                            55\nin-depth/constructive exchanges on approaches, methods or results;Research Infrastructures;Exchange of personnel;Industry/business/other use-inspired collaboration                   28\nExchange of personnel;Industry/business/other use-inspired collaboration                                                                                                              21\nPublication;Research Infrastructures;Industry/business/other use-inspired collaboration                                                                                               20\nPublication;Exchange of personnel;Industry/business/other use-inspired collaboration                                                                                                   6\nResearch Infrastructures;Exchange of personnel;Industry/business/other use-inspired collaboration                                                                                      6\nPublication;Research Infrastructures;Exchange of personnel;Industry/business/other use-inspired collaboration                                                                          5\nSwitzerland                                                                                                                                                                            2\n;in-depth/constructive exchanges on approaches, methods or results\"                                                                                                                    1\nResearch Infrastructures\"                                                                                                                                                              1\nName: Types of collaboration, dtype: int64"
     },
     "metadata": {},
     "execution_count": 21
    }
   ],
   "source": [
    "collaborations['Types of collaboration'].value_counts()"
   ]
  },
  {
   "cell_type": "code",
   "execution_count": 22,
   "metadata": {},
   "outputs": [
    {
     "output_type": "execute_result",
     "data": {
      "text/plain": "EPFL                                                                                                    92\nUniversity of Geneva                                                                                    80\nETH Zurich                                                                                              72\nUniversity of Zurich                                                                                    64\nETH Zürich                                                                                              56\n                                                                                                        ..\nUNI ZH, Kunshist. Inst. Prof. Hans B. Thomson, Ostasiatische KGS                                         1\nProf. Oliver Rheinbach, University of Freiberg                                                           1\nWilliam Wisden, Imperial College London                                                                  1\nProf. De Klerk, Ghent University                                                                         1\nCentre d'Etudes des Techniques, des Connaissances et des Pratiques (CETCOPRA), Université de Paris 1     1\nName: Group/Person, Length: 52235, dtype: int64"
     },
     "metadata": {},
     "execution_count": 22
    }
   ],
   "source": [
    "collaborations['Group/Person'].value_counts()"
   ]
  },
  {
   "cell_type": "code",
   "execution_count": 23,
   "metadata": {},
   "outputs": [
    {
     "output_type": "execute_result",
     "data": {
      "text/plain": "       Project Number                                 Output Type  \\\n24724          170435                    Talks/events/exhibitions   \n5710           135192  Media relations: print media, online media   \n12023          146533  Media relations: print media, online media   \n\n                                  Output Title  \\\n24724  art installation: non narratedportraits   \n5710         Sturzgefahr! Hilft dieses Hormon?   \n12023     Can diet control cancer development?   \n\n                                                     Url    Year  \n24724  http://centrodememoriahistorica.gov.co/museo/o...  2017.0  \n5710                                                 NaN  2016.0  \n12023  http://www.sciencenutshell.com/can-diet-contro...  2014.0  ",
      "text/html": "<div>\n<style scoped>\n    .dataframe tbody tr th:only-of-type {\n        vertical-align: middle;\n    }\n\n    .dataframe tbody tr th {\n        vertical-align: top;\n    }\n\n    .dataframe thead th {\n        text-align: right;\n    }\n</style>\n<table border=\"1\" class=\"dataframe\">\n  <thead>\n    <tr style=\"text-align: right;\">\n      <th></th>\n      <th>Project Number</th>\n      <th>Output Type</th>\n      <th>Output Title</th>\n      <th>Url</th>\n      <th>Year</th>\n    </tr>\n  </thead>\n  <tbody>\n    <tr>\n      <th>24724</th>\n      <td>170435</td>\n      <td>Talks/events/exhibitions</td>\n      <td>art installation: non narratedportraits</td>\n      <td>http://centrodememoriahistorica.gov.co/museo/o...</td>\n      <td>2017.0</td>\n    </tr>\n    <tr>\n      <th>5710</th>\n      <td>135192</td>\n      <td>Media relations: print media, online media</td>\n      <td>Sturzgefahr! Hilft dieses Hormon?</td>\n      <td>NaN</td>\n      <td>2016.0</td>\n    </tr>\n    <tr>\n      <th>12023</th>\n      <td>146533</td>\n      <td>Media relations: print media, online media</td>\n      <td>Can diet control cancer development?</td>\n      <td>http://www.sciencenutshell.com/can-diet-contro...</td>\n      <td>2014.0</td>\n    </tr>\n  </tbody>\n</table>\n</div>"
     },
     "metadata": {},
     "execution_count": 23
    }
   ],
   "source": [
    "output_data.sample(3)"
   ]
  },
  {
   "cell_type": "code",
   "execution_count": 24,
   "metadata": {
    "tags": []
   },
   "outputs": [
    {
     "output_type": "stream",
     "name": "stdout",
     "text": "<class 'pandas.core.frame.DataFrame'>\nRangeIndex: 28730 entries, 0 to 28729\nData columns (total 5 columns):\n #   Column          Non-Null Count  Dtype  \n---  ------          --------------  -----  \n 0   Project Number  28730 non-null  int64  \n 1   Output Type     28730 non-null  object \n 2   Output Title    28726 non-null  object \n 3   Url             18712 non-null  object \n 4   Year            28487 non-null  float64\ndtypes: float64(1), int64(1), object(3)\nmemory usage: 1.1+ MB\n"
    }
   ],
   "source": [
    "output_data.info()"
   ]
  },
  {
   "cell_type": "code",
   "execution_count": 25,
   "metadata": {},
   "outputs": [
    {
     "output_type": "execute_result",
     "data": {
      "text/plain": "Media relations: print media, online media           10709\nTalks/events/exhibitions                              7201\nNew media (web, blogs, podcasts, news feeds etc.)     3679\nMedia relations: radio, television                    3623\nPrint (books, brochures, leaflets)                    1413\nOther activities                                      1003\nVideo/Film                                             680\nSoftware                                               286\nStart-up                                               136\nName: Output Type, dtype: int64"
     },
     "metadata": {},
     "execution_count": 25
    }
   ],
   "source": [
    "output_data['Output Type'].value_counts()"
   ]
  },
  {
   "cell_type": "code",
   "execution_count": null,
   "metadata": {},
   "outputs": [],
   "source": []
  },
  {
   "source": [
    "#### Tidiness\n",
    "\n",
    "##### `grants` (ie. `GrantExport`) table\n",
    "\n",
    "- `Funding Instrument`, `Funding Instrument Hierarchy` are confusing\n",
    "- `Discipline`, ... `Discipline Name Hierarchy` are confusing\n",
    "- Details about `Institute` out of scope\n",
    "- `University` contains both long and short names: details out of scope\n",
    "\n",
    "##### `people` (ie. `PersonExport`) table\n",
    "\n",
    "- **`Project as...` contain mixed variables and observations for grant and role**\n",
    "- Details about `Institute` out of scope\n",
    "\n",
    "##### `publications` table\n",
    "\n",
    "- `Authors` contains multiple observations\n",
    "\n",
    "##### `collaborations` table\n",
    "\n",
    "- `Types of collaboration` contains multiple observations\n",
    "\n",
    "#### Quality\n",
    "\n",
    "- spaces in column names\n",
    "\n",
    "##### `grants` (ie. `GrantExport`) table\n",
    "\n",
    "- **`Project Number` and `Project Number String` are redundant**\n",
    "- **`Project Number String` encodes division information?**\n",
    "- **`Responsible Applicant` not an uid**\n",
    "- **`Start Date` and `End Date` string, not date type**\n",
    "- **`Aproved Amount` not numeric**\n",
    "- `Project Title English` often redundant or null\n",
    "- `Institution` free text? if yes, is it relevant? better named as department?\n",
    "- `Keywords` not consistent (see keyword extraction from abstracts)\n",
    "\n",
    "##### `people` (ie. `PersonExport`) table\n",
    "\n",
    "- typo in col name for `ORCID`\n",
    "- gender not categorical variable\n",
    "\n",
    "##### `publications` table\n",
    "\n",
    "- Missing DOIs\n",
    "- `Last Change of Outputdata` empty\n",
    "- `Publication Year` shows as float\n",
    "- `Status`, `Peer Review Status`, `Type of Publication`, and `Open Acces Type` strings, not categories\n",
    "- `Volume`, `Issue / Number`, `Page from`, `Page to` strings, not numeric\n",
    "- `[..] Title` show inconsistencies re capitalization\n",
    "- Duplicated entries: 1'724 duplicated non null DOIs and project numbers\n",
    "\n",
    "##### `collaborations` table\n",
    "\n",
    "- `Type of collaboration` string, not category\n",
    "- `Switzerland` should not be a valid `Type of collaboration`\n",
    "- `[.] Date` string, not dates\n",
    "- `Group/Person` encoding seems inconsistent (\",\" vs \"/\", \"Prof\", \"Dr\")\n",
    "\n",
    "##### `output_data` table\n",
    "\n",
    "- `Output Type` string, not category\n",
    "- `Year` float, not integer"
   ],
   "cell_type": "markdown",
   "metadata": {}
  },
  {
   "cell_type": "markdown",
   "metadata": {},
   "source": [
    "## Clean"
   ]
  },
  {
   "cell_type": "code",
   "execution_count": 98,
   "metadata": {
    "tags": []
   },
   "outputs": [
    {
     "output_type": "stream",
     "name": "stdout",
     "text": "<class 'pandas.core.frame.DataFrame'>\nRangeIndex: 74519 entries, 0 to 74518\nData columns (total 18 columns):\n #   Column                        Non-Null Count  Dtype \n---  ------                        --------------  ----- \n 0   project_number                74519 non-null  int64 \n 1   project_number_string         74519 non-null  object\n 2   project_title                 74519 non-null  object\n 3   project_title_english         31400 non-null  object\n 4   responsible_applicant         74519 non-null  object\n 5   funding_instrument            74519 non-null  object\n 6   funding_instrument_hierarchy  74479 non-null  object\n 7   institution                   68860 non-null  object\n 8   institution_country           68794 non-null  object\n 9   university                    74514 non-null  object\n 10  discipline_number             74519 non-null  int64 \n 11  discipline_name               74519 non-null  object\n 12  discipline_name_hierarchy     74020 non-null  object\n 13  all_disciplines               74519 non-null  object\n 14  start_date                    74517 non-null  object\n 15  end_date                      74517 non-null  object\n 16  approved_amount               74519 non-null  object\n 17  keywords                      49409 non-null  object\ndtypes: int64(2), object(16)\nmemory usage: 10.2+ MB\n"
    }
   ],
   "source": [
    "df_grants = grants.copy()\n",
    "df_grants.columns = df_grants.columns.str.lower().str.replace(' ', '_')\n",
    "df_grants.info()"
   ]
  },
  {
   "source": [
    "---"
   ],
   "cell_type": "markdown",
   "metadata": {}
  },
  {
   "cell_type": "code",
   "execution_count": 99,
   "metadata": {
    "tags": []
   },
   "outputs": [],
   "source": [
    "# https://github.com/zambujo/p3data/issues/1\n",
    "df_grants['string_code'] = df_grants.project_number_string.str[:-6]\n",
    "df_grants['string_code'] = df_grants.string_code.str.replace('[-_ ]', '')"
   ]
  },
  {
   "cell_type": "code",
   "execution_count": 100,
   "metadata": {},
   "outputs": [
    {
     "output_type": "execute_result",
     "data": {
      "text/plain": "    string_code            funding_instrument  count\n181        2000  Project funding (Div. I-III)   6072\n286        3100  Project funding (Div. I-III)   4997\n183      200020  Project funding (Div. I-III)   3506\n188      200021  Project funding (Div. I-III)   3306\n292      31003A  Project funding (Div. I-III)   2677",
      "text/html": "<div>\n<style scoped>\n    .dataframe tbody tr th:only-of-type {\n        vertical-align: middle;\n    }\n\n    .dataframe tbody tr th {\n        vertical-align: top;\n    }\n\n    .dataframe thead th {\n        text-align: right;\n    }\n</style>\n<table border=\"1\" class=\"dataframe\">\n  <thead>\n    <tr style=\"text-align: right;\">\n      <th></th>\n      <th>string_code</th>\n      <th>funding_instrument</th>\n      <th>count</th>\n    </tr>\n  </thead>\n  <tbody>\n    <tr>\n      <th>181</th>\n      <td>2000</td>\n      <td>Project funding (Div. I-III)</td>\n      <td>6072</td>\n    </tr>\n    <tr>\n      <th>286</th>\n      <td>3100</td>\n      <td>Project funding (Div. I-III)</td>\n      <td>4997</td>\n    </tr>\n    <tr>\n      <th>183</th>\n      <td>200020</td>\n      <td>Project funding (Div. I-III)</td>\n      <td>3506</td>\n    </tr>\n    <tr>\n      <th>188</th>\n      <td>200021</td>\n      <td>Project funding (Div. I-III)</td>\n      <td>3306</td>\n    </tr>\n    <tr>\n      <th>292</th>\n      <td>31003A</td>\n      <td>Project funding (Div. I-III)</td>\n      <td>2677</td>\n    </tr>\n  </tbody>\n</table>\n</div>"
     },
     "metadata": {},
     "execution_count": 100
    }
   ],
   "source": [
    "# acceptance tests\n",
    "df_grants.string_code.value_counts()\n",
    "df_grants.groupby([\"string_code\", \"funding_instrument\"]).size().reset_index().rename(columns={0: \"count\"}).sort_values(by='count', ascending=False).head()"
   ]
  },
  {
   "cell_type": "code",
   "execution_count": null,
   "metadata": {},
   "outputs": [],
   "source": []
  }
 ],
 "metadata": {
  "kernelspec": {
   "display_name": "Python 3",
   "language": "python",
   "name": "python3"
  },
  "language_info": {
   "codemirror_mode": {
    "name": "ipython",
    "version": 3
   },
   "file_extension": ".py",
   "mimetype": "text/x-python",
   "name": "python",
   "nbconvert_exporter": "python",
   "pygments_lexer": "ipython3",
   "version": "3.8.5-final"
  }
 },
 "nbformat": 4,
 "nbformat_minor": 4
}