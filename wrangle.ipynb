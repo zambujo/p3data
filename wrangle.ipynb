{
 "cells": [
  {
   "cell_type": "markdown",
   "metadata": {},
   "source": [
    "# Cleaning and Tidying SNSF Public Data"
   ]
  },
  {
   "cell_type": "code",
   "execution_count": 4,
   "metadata": {},
   "outputs": [],
   "source": [
    "import requests\n",
    "import os\n",
    "import pandas as pd"
   ]
  },
  {
   "cell_type": "markdown",
   "metadata": {},
   "source": [
    "## Gather"
   ]
  },
  {
   "cell_type": "code",
   "execution_count": 12,
   "metadata": {},
   "outputs": [],
   "source": [
    "folder_name = 'rawdata'\n",
    "if not os.path.exists(folder_name):\n",
    "    os.makedirs(folder_name)"
   ]
  },
  {
   "cell_type": "markdown",
   "metadata": {},
   "source": [
    "do not run: \n",
    "\n",
    "```{python}\n",
    "file_names = [\"P3_GrantExport.csv\",\\\n",
    "              \"P3_GrantExport_with_abstracts.csv\",\\\n",
    "              \"P3_PersonExport.csv\",\\\n",
    "              \"P3_PublicationExport.csv\",\\\n",
    "              \"P3_GrantOutputDataExport.csv\",\\\n",
    "              \"P3_CollaborationExport.csv\"]\n",
    "\n",
    "for k in file_names:\n",
    "    url_grant = \"http://p3.snf.ch/P3Export/\" + k\n",
    "    print(url_grant)\n",
    "    response = requests.get(url_grant)\n",
    "    assert response.status_code == 200, \"status code for\" + k + \" not ok\"\n",
    "    \n",
    "    with open(os.path.join(folder_name, k), mode=\"wb\") as file:\n",
    "              file.write(response.content)\n",
    "```"
   ]
  },
  {
   "cell_type": "code",
   "execution_count": 18,
   "metadata": {},
   "outputs": [],
   "source": [
    "grants = pd.read_csv(\"rawdata/P3_GrantExport.csv\", sep=';')"
   ]
  },
  {
   "cell_type": "code",
   "execution_count": null,
   "metadata": {},
   "outputs": [],
   "source": []
  },
  {
   "cell_type": "code",
   "execution_count": null,
   "metadata": {},
   "outputs": [],
   "source": []
  },
  {
   "cell_type": "code",
   "execution_count": null,
   "metadata": {},
   "outputs": [],
   "source": []
  },
  {
   "cell_type": "code",
   "execution_count": null,
   "metadata": {},
   "outputs": [],
   "source": []
  },
  {
   "cell_type": "code",
   "execution_count": null,
   "metadata": {},
   "outputs": [],
   "source": []
  },
  {
   "cell_type": "markdown",
   "metadata": {},
   "source": [
    "## Assess"
   ]
  },
  {
   "cell_type": "code",
   "execution_count": 22,
   "metadata": {},
   "outputs": [],
   "source": []
  },
  {
   "cell_type": "code",
   "execution_count": 23,
   "metadata": {},
   "outputs": [
    {
     "data": {
      "text/html": [
       "<div>\n",
       "<style scoped>\n",
       "    .dataframe tbody tr th:only-of-type {\n",
       "        vertical-align: middle;\n",
       "    }\n",
       "\n",
       "    .dataframe tbody tr th {\n",
       "        vertical-align: top;\n",
       "    }\n",
       "\n",
       "    .dataframe thead th {\n",
       "        text-align: right;\n",
       "    }\n",
       "</style>\n",
       "<table border=\"1\" class=\"dataframe\">\n",
       "  <thead>\n",
       "    <tr style=\"text-align: right;\">\n",
       "      <th></th>\n",
       "      <th>Project Number</th>\n",
       "      <th>Project Number String</th>\n",
       "      <th>Project Title</th>\n",
       "      <th>Project Title English</th>\n",
       "      <th>Responsible Applicant</th>\n",
       "      <th>Funding Instrument</th>\n",
       "      <th>Funding Instrument Hierarchy</th>\n",
       "      <th>Institution</th>\n",
       "      <th>Institution Country</th>\n",
       "      <th>University</th>\n",
       "      <th>Discipline Number</th>\n",
       "      <th>Discipline Name</th>\n",
       "      <th>Discipline Name Hierarchy</th>\n",
       "      <th>All disciplines</th>\n",
       "      <th>Start Date</th>\n",
       "      <th>End Date</th>\n",
       "      <th>Approved Amount</th>\n",
       "      <th>Keywords</th>\n",
       "    </tr>\n",
       "  </thead>\n",
       "  <tbody>\n",
       "    <tr>\n",
       "      <th>27637</th>\n",
       "      <td>63528</td>\n",
       "      <td>2000-063528</td>\n",
       "      <td>Applications of nonliner spectroscopy to the s...</td>\n",
       "      <td>NaN</td>\n",
       "      <td>Vauthey Eric</td>\n",
       "      <td>Project funding (Div. I-III)</td>\n",
       "      <td>Project funding</td>\n",
       "      <td>Département de Chimie Université de Fribourg</td>\n",
       "      <td>Switzerland</td>\n",
       "      <td>University of Geneva - GE</td>\n",
       "      <td>20301</td>\n",
       "      <td>Physical Chemistry</td>\n",
       "      <td>Mathematics, Natural- and Engineering Sciences...</td>\n",
       "      <td>20301</td>\n",
       "      <td>01.04.2001</td>\n",
       "      <td>31.03.2003</td>\n",
       "      <td>343213.00</td>\n",
       "      <td>PHOTOCHEMISTRY; NONLINEAR LASER SPECTROSC; OPY...</td>\n",
       "    </tr>\n",
       "    <tr>\n",
       "      <th>73835</th>\n",
       "      <td>191292</td>\n",
       "      <td>P2ZHP3_191292</td>\n",
       "      <td>A multi-omics approach to understand the aetio...</td>\n",
       "      <td>NaN</td>\n",
       "      <td>Keller Nadia</td>\n",
       "      <td>Early Postdoc.Mobility</td>\n",
       "      <td>Careers;Fellowships</td>\n",
       "      <td>School of Chemistry and Molecular Biosciences ...</td>\n",
       "      <td>Australia</td>\n",
       "      <td>Institution abroad - IACH</td>\n",
       "      <td>30307</td>\n",
       "      <td>Medical Microbiology</td>\n",
       "      <td>Biology and Medicine;Basic Medical Sciences</td>\n",
       "      <td>30307/30107</td>\n",
       "      <td>01.01.2020</td>\n",
       "      <td>31.10.2021</td>\n",
       "      <td>data not included in P3</td>\n",
       "      <td>group A Streptococcus; interleukine; puerperal...</td>\n",
       "    </tr>\n",
       "    <tr>\n",
       "      <th>67661</th>\n",
       "      <td>175559</td>\n",
       "      <td>32003B_175559</td>\n",
       "      <td>Deciphering the neoantigen landscape in bladde...</td>\n",
       "      <td>Deciphering the neoantigen landscape in bladde...</td>\n",
       "      <td>Derré Laurent</td>\n",
       "      <td>Project funding (Div. I-III)</td>\n",
       "      <td>Project funding</td>\n",
       "      <td>Service d'Urologie CHUV</td>\n",
       "      <td>Switzerland</td>\n",
       "      <td>University of Lausanne - LA</td>\n",
       "      <td>30403</td>\n",
       "      <td>Immunology, Immunopathology</td>\n",
       "      <td>Biology and Medicine;Experimental Medicine</td>\n",
       "      <td>30403/30401</td>\n",
       "      <td>01.03.2018</td>\n",
       "      <td>28.02.2022</td>\n",
       "      <td>628644.00</td>\n",
       "      <td>neoantigens; mutanome; immunotherapy; bladder ...</td>\n",
       "    </tr>\n",
       "    <tr>\n",
       "      <th>68560</th>\n",
       "      <td>177984</td>\n",
       "      <td>IZSEZ0_177984</td>\n",
       "      <td>1st Winter School at EPFL Valais: Challenges a...</td>\n",
       "      <td>NaN</td>\n",
       "      <td>Buonsanti Raffaella</td>\n",
       "      <td>Scientific Exchanges</td>\n",
       "      <td>Science communication</td>\n",
       "      <td>Laboratory of Nanochemistry for Energy EPFL - ...</td>\n",
       "      <td>Switzerland</td>\n",
       "      <td>EPF Lausanne - EPFL</td>\n",
       "      <td>20507</td>\n",
       "      <td>Chemical Engineering</td>\n",
       "      <td>Mathematics, Natural- and Engineering Sciences...</td>\n",
       "      <td>20507/20303</td>\n",
       "      <td>01.11.2017</td>\n",
       "      <td>31.10.2018</td>\n",
       "      <td>25000.00</td>\n",
       "      <td>Energy Research; School; doctoral students</td>\n",
       "    </tr>\n",
       "    <tr>\n",
       "      <th>23191</th>\n",
       "      <td>52486</td>\n",
       "      <td>2100-052486</td>\n",
       "      <td>Experimental stress analysis of composites usi...</td>\n",
       "      <td>NaN</td>\n",
       "      <td>Botsis John</td>\n",
       "      <td>Project funding (Div. I-III)</td>\n",
       "      <td>Project funding</td>\n",
       "      <td>Laboratoire de mécanique appliquée et d'analys...</td>\n",
       "      <td>Switzerland</td>\n",
       "      <td>EPF Lausanne - EPFL</td>\n",
       "      <td>20505</td>\n",
       "      <td>Material Sciences</td>\n",
       "      <td>Mathematics, Natural- and Engineering Sciences...</td>\n",
       "      <td>20505</td>\n",
       "      <td>01.09.1998</td>\n",
       "      <td>30.09.2000</td>\n",
       "      <td>238263.00</td>\n",
       "      <td>COMPOSITES MATERIALS; CRACK BRIDGING; DEFORMAT...</td>\n",
       "    </tr>\n",
       "    <tr>\n",
       "      <th>30011</th>\n",
       "      <td>67666</td>\n",
       "      <td>823A-067666</td>\n",
       "      <td>Etude chez l'homme du processus d'automatisati...</td>\n",
       "      <td>NaN</td>\n",
       "      <td>Posada Andres</td>\n",
       "      <td>Fellowships for advanced researchers</td>\n",
       "      <td>Careers;Fellowships</td>\n",
       "      <td>UNI: CNRS Institut des Sciences Cognitives Bron F</td>\n",
       "      <td>France</td>\n",
       "      <td>Institution abroad - IACH</td>\n",
       "      <td>30302</td>\n",
       "      <td>Neurophysiology and Brain Research</td>\n",
       "      <td>Biology and Medicine;Basic Medical Sciences</td>\n",
       "      <td>30302</td>\n",
       "      <td>01.10.2002</td>\n",
       "      <td>31.03.2004</td>\n",
       "      <td>data not included in P3</td>\n",
       "      <td>NaN</td>\n",
       "    </tr>\n",
       "  </tbody>\n",
       "</table>\n",
       "</div>"
      ],
      "text/plain": [
       "       Project Number Project Number String  \\\n",
       "27637           63528           2000-063528   \n",
       "73835          191292         P2ZHP3_191292   \n",
       "67661          175559         32003B_175559   \n",
       "68560          177984         IZSEZ0_177984   \n",
       "23191           52486           2100-052486   \n",
       "30011           67666           823A-067666   \n",
       "\n",
       "                                           Project Title  \\\n",
       "27637  Applications of nonliner spectroscopy to the s...   \n",
       "73835  A multi-omics approach to understand the aetio...   \n",
       "67661  Deciphering the neoantigen landscape in bladde...   \n",
       "68560  1st Winter School at EPFL Valais: Challenges a...   \n",
       "23191  Experimental stress analysis of composites usi...   \n",
       "30011  Etude chez l'homme du processus d'automatisati...   \n",
       "\n",
       "                                   Project Title English  \\\n",
       "27637                                                NaN   \n",
       "73835                                                NaN   \n",
       "67661  Deciphering the neoantigen landscape in bladde...   \n",
       "68560                                                NaN   \n",
       "23191                                                NaN   \n",
       "30011                                                NaN   \n",
       "\n",
       "      Responsible Applicant                    Funding Instrument  \\\n",
       "27637          Vauthey Eric          Project funding (Div. I-III)   \n",
       "73835          Keller Nadia                Early Postdoc.Mobility   \n",
       "67661         Derré Laurent          Project funding (Div. I-III)   \n",
       "68560   Buonsanti Raffaella                  Scientific Exchanges   \n",
       "23191           Botsis John          Project funding (Div. I-III)   \n",
       "30011         Posada Andres  Fellowships for advanced researchers   \n",
       "\n",
       "      Funding Instrument Hierarchy  \\\n",
       "27637              Project funding   \n",
       "73835          Careers;Fellowships   \n",
       "67661              Project funding   \n",
       "68560        Science communication   \n",
       "23191              Project funding   \n",
       "30011          Careers;Fellowships   \n",
       "\n",
       "                                             Institution Institution Country  \\\n",
       "27637       Département de Chimie Université de Fribourg         Switzerland   \n",
       "73835  School of Chemistry and Molecular Biosciences ...           Australia   \n",
       "67661                            Service d'Urologie CHUV         Switzerland   \n",
       "68560  Laboratory of Nanochemistry for Energy EPFL - ...         Switzerland   \n",
       "23191  Laboratoire de mécanique appliquée et d'analys...         Switzerland   \n",
       "30011  UNI: CNRS Institut des Sciences Cognitives Bron F              France   \n",
       "\n",
       "                        University  Discipline Number  \\\n",
       "27637    University of Geneva - GE              20301   \n",
       "73835    Institution abroad - IACH              30307   \n",
       "67661  University of Lausanne - LA              30403   \n",
       "68560          EPF Lausanne - EPFL              20507   \n",
       "23191          EPF Lausanne - EPFL              20505   \n",
       "30011    Institution abroad - IACH              30302   \n",
       "\n",
       "                          Discipline Name  \\\n",
       "27637                  Physical Chemistry   \n",
       "73835                Medical Microbiology   \n",
       "67661         Immunology, Immunopathology   \n",
       "68560                Chemical Engineering   \n",
       "23191                   Material Sciences   \n",
       "30011  Neurophysiology and Brain Research   \n",
       "\n",
       "                               Discipline Name Hierarchy All disciplines  \\\n",
       "27637  Mathematics, Natural- and Engineering Sciences...           20301   \n",
       "73835        Biology and Medicine;Basic Medical Sciences     30307/30107   \n",
       "67661         Biology and Medicine;Experimental Medicine     30403/30401   \n",
       "68560  Mathematics, Natural- and Engineering Sciences...     20507/20303   \n",
       "23191  Mathematics, Natural- and Engineering Sciences...           20505   \n",
       "30011        Biology and Medicine;Basic Medical Sciences           30302   \n",
       "\n",
       "       Start Date    End Date          Approved Amount  \\\n",
       "27637  01.04.2001  31.03.2003                343213.00   \n",
       "73835  01.01.2020  31.10.2021  data not included in P3   \n",
       "67661  01.03.2018  28.02.2022                628644.00   \n",
       "68560  01.11.2017  31.10.2018                 25000.00   \n",
       "23191  01.09.1998  30.09.2000                238263.00   \n",
       "30011  01.10.2002  31.03.2004  data not included in P3   \n",
       "\n",
       "                                                Keywords  \n",
       "27637  PHOTOCHEMISTRY; NONLINEAR LASER SPECTROSC; OPY...  \n",
       "73835  group A Streptococcus; interleukine; puerperal...  \n",
       "67661  neoantigens; mutanome; immunotherapy; bladder ...  \n",
       "68560         Energy Research; School; doctoral students  \n",
       "23191  COMPOSITES MATERIALS; CRACK BRIDGING; DEFORMAT...  \n",
       "30011                                                NaN  "
      ]
     },
     "execution_count": 23,
     "metadata": {},
     "output_type": "execute_result"
    }
   ],
   "source": [
    "grants.sample(6)"
   ]
  },
  {
   "cell_type": "code",
   "execution_count": 24,
   "metadata": {},
   "outputs": [
    {
     "name": "stdout",
     "output_type": "stream",
     "text": [
      "<class 'pandas.core.frame.DataFrame'>\n",
      "RangeIndex: 74519 entries, 0 to 74518\n",
      "Data columns (total 18 columns):\n",
      " #   Column                        Non-Null Count  Dtype \n",
      "---  ------                        --------------  ----- \n",
      " 0   Project Number                74519 non-null  int64 \n",
      " 1   Project Number String         74519 non-null  object\n",
      " 2   Project Title                 74519 non-null  object\n",
      " 3   Project Title English         31400 non-null  object\n",
      " 4   Responsible Applicant         74519 non-null  object\n",
      " 5   Funding Instrument            74519 non-null  object\n",
      " 6   Funding Instrument Hierarchy  74479 non-null  object\n",
      " 7   Institution                   68860 non-null  object\n",
      " 8   Institution Country           68794 non-null  object\n",
      " 9   University                    74514 non-null  object\n",
      " 10  Discipline Number             74519 non-null  int64 \n",
      " 11  Discipline Name               74519 non-null  object\n",
      " 12  Discipline Name Hierarchy     74020 non-null  object\n",
      " 13  All disciplines               74519 non-null  object\n",
      " 14  Start Date                    74517 non-null  object\n",
      " 15  End Date                      74517 non-null  object\n",
      " 16  Approved Amount               74519 non-null  object\n",
      " 17  Keywords                      49409 non-null  object\n",
      "dtypes: int64(2), object(16)\n",
      "memory usage: 10.2+ MB\n"
     ]
    }
   ],
   "source": [
    "grants.info()"
   ]
  },
  {
   "cell_type": "code",
   "execution_count": null,
   "metadata": {},
   "outputs": [],
   "source": []
  },
  {
   "cell_type": "code",
   "execution_count": null,
   "metadata": {},
   "outputs": [],
   "source": []
  },
  {
   "cell_type": "markdown",
   "metadata": {},
   "source": [
    "#### Quality\n",
    "\n",
    "##### `grants` table\n",
    "\n",
    "- spaces in column names\n",
    "- `Project Number` and `Project Number String` are redundant\n",
    "- `Project Number String` encodes division information?\n",
    "- `Project Title English` often redundant or null\n",
    "- `Responsible Applicant` not an uid\n",
    "- `Institution` free text? if yes, is it relevant? better named as department?\n",
    "- `Start Date` and `End Date` string, not date type\n",
    "- `Aproved Amount` a string, not numeric\n",
    "- `Keywords` not consistent (see keyword extraction from abstracts)\n",
    "\n",
    "#### Tidiness\n",
    "\n",
    "##### `grants` table\n",
    "\n",
    "- `University` contains both long and short names\n",
    "- `Funding Instrument`, `Funding Instrument Hierarchy` are confusing\n",
    "- `Discipline`, ... `Discipline Name Hierarchy` are confusing"
   ]
  },
  {
   "cell_type": "markdown",
   "metadata": {},
   "source": [
    "## Clean"
   ]
  },
  {
   "cell_type": "markdown",
   "metadata": {},
   "source": [
    "#### Define"
   ]
  },
  {
   "cell_type": "markdown",
   "metadata": {},
   "source": [
    "#### Code"
   ]
  },
  {
   "cell_type": "code",
   "execution_count": null,
   "metadata": {
    "collapsed": true,
    "jupyter": {
     "outputs_hidden": true
    }
   },
   "outputs": [],
   "source": []
  },
  {
   "cell_type": "markdown",
   "metadata": {},
   "source": [
    "#### Test"
   ]
  },
  {
   "cell_type": "code",
   "execution_count": null,
   "metadata": {
    "collapsed": true,
    "jupyter": {
     "outputs_hidden": true
    }
   },
   "outputs": [],
   "source": []
  }
 ],
 "metadata": {
  "kernelspec": {
   "display_name": "Python 3",
   "language": "python",
   "name": "python3"
  },
  "language_info": {
   "codemirror_mode": {
    "name": "ipython",
    "version": 3
   },
   "file_extension": ".py",
   "mimetype": "text/x-python",
   "name": "python",
   "nbconvert_exporter": "python",
   "pygments_lexer": "ipython3",
   "version": "3.8.5"
  }
 },
 "nbformat": 4,
 "nbformat_minor": 4
}
