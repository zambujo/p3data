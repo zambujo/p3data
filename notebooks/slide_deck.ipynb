{
 "cells": [
  {
   "cell_type": "markdown",
   "metadata": {
    "slideshow": {
     "slide_type": "-"
    }
   },
   "source": [
    "# Leadership gap for women scientists in Switzerland\n",
    "\n",
    "_work-in-progress_\n",
    "\n",
    "[Joao Martins](https://github.com/zambujo)"
   ]
  },
  {
   "cell_type": "code",
   "execution_count": 43,
   "metadata": {
    "slideshow": {
     "slide_type": "skip"
    }
   },
   "outputs": [],
   "source": [
    "import os\n",
    "import sqlite3\n",
    "\n",
    "import numpy as np\n",
    "import pandas as pd\n",
    "import datetime as dt\n",
    "import matplotlib as mpl\n",
    "import matplotlib.pyplot as plt\n",
    "import seaborn as sns\n",
    "sns.set(rc={'figure.figsize':(10, 6)})\n",
    "\n",
    "DATA_FOLDER = '../data'\n",
    "DOCS_FOLDER = '../docs'\n",
    "IMG_FOLDER = 'img'"
   ]
  },
  {
   "cell_type": "code",
   "execution_count": 44,
   "metadata": {
    "slideshow": {
     "slide_type": "skip"
    }
   },
   "outputs": [],
   "source": [
    "# data\n",
    "conn = sqlite3.connect(os.path.join(DATA_FOLDER, 'p3.db'),\n",
    "                       detect_types=sqlite3.PARSE_DECLTYPES)\n",
    "grants = pd.read_sql_query('SELECT * FROM grants;', conn)\n",
    "grantees = pd.read_sql_query('SELECT * FROM role_in_grants;', conn)\n",
    "people = pd.read_sql_query('SELECT * FROM people;', conn)\n",
    "\n",
    "# TODO: move next line to cleaning.ipynb (#13)\n",
    "grants = grants.dropna(subset=['start_date'])\n",
    "grants['year'] = grants['start_date'].dt.year\n",
    "\n",
    "# project leaders + project employees + gender + their projects\n",
    "df=(grantees\n",
    "      .query('role in [\"employee\", \"responsible_applicant\"]')\n",
    "      .merge(people[['person_id_snsf', 'gender']], on='person_id_snsf')\n",
    "      .merge(grants, on='project_number'))\n",
    "# TODO: execute join in SQLite# keep projects with at least one employee and one responsible applicant\n",
    "\n",
    "# keep projects with at least one employee and one responsible applicant\n",
    "# remove Careers and Science communication\n",
    "df_selection = (df\n",
    "  .query('programme in [\"Infrastructure\", \"Programmes\", \"Project funding\"]')\n",
    "  .groupby(['project_number', 'role'])\n",
    "  .size()\n",
    "  .reset_index(name=\"n\")\n",
    "  .pivot_table(index=\"project_number\", columns=\"role\", values=\"n\", fill_value=0)\n",
    "  .query('responsible_applicant > 0')\n",
    "  .query('employee > 0')\n",
    "  .reset_index()[['project_number']])\n",
    "\n",
    "df=df.merge(df_selection, on='project_number')"
   ]
  },
  {
   "cell_type": "markdown",
   "metadata": {
    "slideshow": {
     "slide_type": "slide"
    }
   },
   "source": [
    "## The \"leaky\" pipeline\n",
    "\n",
    "It is well-known that women are underrepresented in leadership positions.  Science is no exception. The \"leaky\" pipeline refers to the overly disproportionate loss of women throughout careers in science.\n",
    "\n",
    "**If science careers are a \"leaky\" pipeline for women scientists, then the share of women leading science projects is expected to be lower than the share of women employed in science projects.**\n",
    "\n",
    "---"
   ]
  },
  {
   "cell_type": "markdown",
   "metadata": {
    "slideshow": {
     "slide_type": "fragment"
    }
   },
   "source": [
    "See also: \n",
    "1. [Leaky pipeline for women scientists dries up after they win first big grant](https://www.nature.com/articles/d41586-018-05759-w), _in Nature, 2018_\n",
    "2. [A Leak in the Academic Pipeline](https://www.frontiersin.org/articles/10.3389/fpsyg.2019.01297/full), _in Frontiers, 2019_"
   ]
  },
  {
   "cell_type": "markdown",
   "metadata": {
    "slideshow": {
     "slide_type": "slide"
    }
   },
   "source": [
    "## Looking for evidence\n",
    "\n",
    "The Swiss National Science Foundation, the leading public science funding agency in Switzerland, makes its data freely available with:  \n",
    " - over 70k science projects, spanning across 50 years  \n",
    " - over 100k scientists  \n",
    " - function and gender of each scientist\n",
    " \n",
    "Source: [p3.snf.ch](http://p3.snf.ch/Pages/DataAndDocumentation.aspx)"
   ]
  },
  {
   "cell_type": "code",
   "execution_count": 48,
   "metadata": {
    "slideshow": {
     "slide_type": "skip"
    }
   },
   "outputs": [],
   "source": [
    "# counts by year between 2000 and 2019\n",
    "counts = (df\n",
    "            .query('(year > 1999) & (year < 2020)')\n",
    "            .groupby(['year', 'role', 'gender']).size()\n",
    "            .reset_index().rename(columns={0:'count'}))\n",
    "counts = counts.pivot_table(index=['year', 'role'], columns='gender', values='count', fill_value=0)\n",
    "counts['both'] = (counts['male'] + counts['female'])\n",
    "counts['percent_women'] = 100 * counts['female'] / counts['both']\n",
    "counts['percent_men'] = 100 * counts['male'] / counts['both']"
   ]
  },
  {
   "cell_type": "code",
   "execution_count": 49,
   "metadata": {
    "slideshow": {
     "slide_type": "skip"
    }
   },
   "outputs": [
    {
     "data": {
      "text/html": [
       "<div>\n",
       "<style scoped>\n",
       "    .dataframe tbody tr th:only-of-type {\n",
       "        vertical-align: middle;\n",
       "    }\n",
       "\n",
       "    .dataframe tbody tr th {\n",
       "        vertical-align: top;\n",
       "    }\n",
       "\n",
       "    .dataframe thead th {\n",
       "        text-align: right;\n",
       "    }\n",
       "</style>\n",
       "<table border=\"1\" class=\"dataframe\">\n",
       "  <thead>\n",
       "    <tr style=\"text-align: right;\">\n",
       "      <th></th>\n",
       "      <th>gender</th>\n",
       "      <th>female</th>\n",
       "      <th>male</th>\n",
       "      <th>both</th>\n",
       "      <th>percent_women</th>\n",
       "      <th>percent_men</th>\n",
       "    </tr>\n",
       "    <tr>\n",
       "      <th>year</th>\n",
       "      <th>role</th>\n",
       "      <th></th>\n",
       "      <th></th>\n",
       "      <th></th>\n",
       "      <th></th>\n",
       "      <th></th>\n",
       "    </tr>\n",
       "  </thead>\n",
       "  <tbody>\n",
       "    <tr>\n",
       "      <th>2000</th>\n",
       "      <th>employee</th>\n",
       "      <td>1208</td>\n",
       "      <td>2006</td>\n",
       "      <td>3214</td>\n",
       "      <td>37.585563</td>\n",
       "      <td>62.414437</td>\n",
       "    </tr>\n",
       "    <tr>\n",
       "      <th>2001</th>\n",
       "      <th>employee</th>\n",
       "      <td>955</td>\n",
       "      <td>1598</td>\n",
       "      <td>2553</td>\n",
       "      <td>37.406972</td>\n",
       "      <td>62.593028</td>\n",
       "    </tr>\n",
       "    <tr>\n",
       "      <th>2002</th>\n",
       "      <th>employee</th>\n",
       "      <td>979</td>\n",
       "      <td>1588</td>\n",
       "      <td>2567</td>\n",
       "      <td>38.137904</td>\n",
       "      <td>61.862096</td>\n",
       "    </tr>\n",
       "    <tr>\n",
       "      <th>2003</th>\n",
       "      <th>employee</th>\n",
       "      <td>1079</td>\n",
       "      <td>1644</td>\n",
       "      <td>2723</td>\n",
       "      <td>39.625413</td>\n",
       "      <td>60.374587</td>\n",
       "    </tr>\n",
       "    <tr>\n",
       "      <th>2004</th>\n",
       "      <th>employee</th>\n",
       "      <td>1072</td>\n",
       "      <td>1591</td>\n",
       "      <td>2663</td>\n",
       "      <td>40.255351</td>\n",
       "      <td>59.744649</td>\n",
       "    </tr>\n",
       "    <tr>\n",
       "      <th>2005</th>\n",
       "      <th>employee</th>\n",
       "      <td>1159</td>\n",
       "      <td>1745</td>\n",
       "      <td>2904</td>\n",
       "      <td>39.910468</td>\n",
       "      <td>60.089532</td>\n",
       "    </tr>\n",
       "    <tr>\n",
       "      <th>2006</th>\n",
       "      <th>employee</th>\n",
       "      <td>1228</td>\n",
       "      <td>1712</td>\n",
       "      <td>2940</td>\n",
       "      <td>41.768707</td>\n",
       "      <td>58.231293</td>\n",
       "    </tr>\n",
       "    <tr>\n",
       "      <th>2007</th>\n",
       "      <th>employee</th>\n",
       "      <td>1378</td>\n",
       "      <td>1747</td>\n",
       "      <td>3125</td>\n",
       "      <td>44.096000</td>\n",
       "      <td>55.904000</td>\n",
       "    </tr>\n",
       "    <tr>\n",
       "      <th>2008</th>\n",
       "      <th>employee</th>\n",
       "      <td>1272</td>\n",
       "      <td>1690</td>\n",
       "      <td>2962</td>\n",
       "      <td>42.943957</td>\n",
       "      <td>57.056043</td>\n",
       "    </tr>\n",
       "    <tr>\n",
       "      <th>2009</th>\n",
       "      <th>employee</th>\n",
       "      <td>1725</td>\n",
       "      <td>2177</td>\n",
       "      <td>3902</td>\n",
       "      <td>44.208098</td>\n",
       "      <td>55.791902</td>\n",
       "    </tr>\n",
       "    <tr>\n",
       "      <th>2010</th>\n",
       "      <th>employee</th>\n",
       "      <td>1761</td>\n",
       "      <td>2163</td>\n",
       "      <td>3924</td>\n",
       "      <td>44.877676</td>\n",
       "      <td>55.122324</td>\n",
       "    </tr>\n",
       "    <tr>\n",
       "      <th>2011</th>\n",
       "      <th>employee</th>\n",
       "      <td>1677</td>\n",
       "      <td>2006</td>\n",
       "      <td>3683</td>\n",
       "      <td>45.533532</td>\n",
       "      <td>54.466468</td>\n",
       "    </tr>\n",
       "    <tr>\n",
       "      <th>2012</th>\n",
       "      <th>employee</th>\n",
       "      <td>2056</td>\n",
       "      <td>2442</td>\n",
       "      <td>4498</td>\n",
       "      <td>45.709204</td>\n",
       "      <td>54.290796</td>\n",
       "    </tr>\n",
       "    <tr>\n",
       "      <th>2013</th>\n",
       "      <th>employee</th>\n",
       "      <td>1991</td>\n",
       "      <td>2308</td>\n",
       "      <td>4299</td>\n",
       "      <td>46.313096</td>\n",
       "      <td>53.686904</td>\n",
       "    </tr>\n",
       "    <tr>\n",
       "      <th>2014</th>\n",
       "      <th>employee</th>\n",
       "      <td>2179</td>\n",
       "      <td>2448</td>\n",
       "      <td>4627</td>\n",
       "      <td>47.093149</td>\n",
       "      <td>52.906851</td>\n",
       "    </tr>\n",
       "    <tr>\n",
       "      <th>2015</th>\n",
       "      <th>employee</th>\n",
       "      <td>2224</td>\n",
       "      <td>2656</td>\n",
       "      <td>4880</td>\n",
       "      <td>45.573770</td>\n",
       "      <td>54.426230</td>\n",
       "    </tr>\n",
       "    <tr>\n",
       "      <th>2016</th>\n",
       "      <th>employee</th>\n",
       "      <td>1890</td>\n",
       "      <td>2200</td>\n",
       "      <td>4090</td>\n",
       "      <td>46.210269</td>\n",
       "      <td>53.789731</td>\n",
       "    </tr>\n",
       "    <tr>\n",
       "      <th>2017</th>\n",
       "      <th>employee</th>\n",
       "      <td>2068</td>\n",
       "      <td>2324</td>\n",
       "      <td>4392</td>\n",
       "      <td>47.085610</td>\n",
       "      <td>52.914390</td>\n",
       "    </tr>\n",
       "    <tr>\n",
       "      <th>2018</th>\n",
       "      <th>employee</th>\n",
       "      <td>1937</td>\n",
       "      <td>2103</td>\n",
       "      <td>4040</td>\n",
       "      <td>47.945545</td>\n",
       "      <td>52.054455</td>\n",
       "    </tr>\n",
       "    <tr>\n",
       "      <th>2019</th>\n",
       "      <th>employee</th>\n",
       "      <td>1359</td>\n",
       "      <td>1571</td>\n",
       "      <td>2930</td>\n",
       "      <td>46.382253</td>\n",
       "      <td>53.617747</td>\n",
       "    </tr>\n",
       "  </tbody>\n",
       "</table>\n",
       "</div>"
      ],
      "text/plain": [
       "gender         female  male  both  percent_women  percent_men\n",
       "year role                                                    \n",
       "2000 employee    1208  2006  3214      37.585563    62.414437\n",
       "2001 employee     955  1598  2553      37.406972    62.593028\n",
       "2002 employee     979  1588  2567      38.137904    61.862096\n",
       "2003 employee    1079  1644  2723      39.625413    60.374587\n",
       "2004 employee    1072  1591  2663      40.255351    59.744649\n",
       "2005 employee    1159  1745  2904      39.910468    60.089532\n",
       "2006 employee    1228  1712  2940      41.768707    58.231293\n",
       "2007 employee    1378  1747  3125      44.096000    55.904000\n",
       "2008 employee    1272  1690  2962      42.943957    57.056043\n",
       "2009 employee    1725  2177  3902      44.208098    55.791902\n",
       "2010 employee    1761  2163  3924      44.877676    55.122324\n",
       "2011 employee    1677  2006  3683      45.533532    54.466468\n",
       "2012 employee    2056  2442  4498      45.709204    54.290796\n",
       "2013 employee    1991  2308  4299      46.313096    53.686904\n",
       "2014 employee    2179  2448  4627      47.093149    52.906851\n",
       "2015 employee    2224  2656  4880      45.573770    54.426230\n",
       "2016 employee    1890  2200  4090      46.210269    53.789731\n",
       "2017 employee    2068  2324  4392      47.085610    52.914390\n",
       "2018 employee    1937  2103  4040      47.945545    52.054455\n",
       "2019 employee    1359  1571  2930      46.382253    53.617747"
      ]
     },
     "execution_count": 49,
     "metadata": {},
     "output_type": "execute_result"
    }
   ],
   "source": [
    "counts.query('role==\"employee\"')"
   ]
  },
  {
   "cell_type": "code",
   "execution_count": 50,
   "metadata": {
    "slideshow": {
     "slide_type": "skip"
    }
   },
   "outputs": [
    {
     "data": {
      "image/png": "[encoded data removed]",
      "text/plain": [
       "<Figure size 720x432 with 1 Axes>"
      ]
     },
     "metadata": {},
     "output_type": "display_data"
    }
   ],
   "source": [
    "sns.set_style(\"whitegrid\")\n",
    "plt.box(on=None)\n",
    "g=sns.barplot(x='year', y='percent_women', color='#3f72af', data=counts.query('role == \"employee\"').reset_index())\n",
    "g.set_xlabel('')\n",
    "g.set_ylabel('')\n",
    "g.set(ylim=(0, 100))\n",
    "g.set_title('Percentage of women employed in science projects', fontsize = 16, x=.28, y=1.05)\n",
    "fig = g.get_figure()\n",
    "fig.savefig(os.path.join(DOCS_FOLDER, IMG_FOLDER, 'plot1.svg'))"
   ]
  },
  {
   "cell_type": "markdown",
   "metadata": {
    "slideshow": {
     "slide_type": "slide"
    }
   },
   "source": [
    "## Share of women employed in science projects\n",
    "\n",
    "The share of women employed in science projects raised from 38% in 2000 to 46% in 2019.\n",
    "\n",
    "![plot 1](./img/plot1.svg \"Percentage of women employed in science projects\")"
   ]
  },
  {
   "cell_type": "code",
   "execution_count": 51,
   "metadata": {
    "slideshow": {
     "slide_type": "skip"
    }
   },
   "outputs": [
    {
     "data": {
      "text/html": [
       "<div>\n",
       "<style scoped>\n",
       "    .dataframe tbody tr th:only-of-type {\n",
       "        vertical-align: middle;\n",
       "    }\n",
       "\n",
       "    .dataframe tbody tr th {\n",
       "        vertical-align: top;\n",
       "    }\n",
       "\n",
       "    .dataframe thead th {\n",
       "        text-align: right;\n",
       "    }\n",
       "</style>\n",
       "<table border=\"1\" class=\"dataframe\">\n",
       "  <thead>\n",
       "    <tr style=\"text-align: right;\">\n",
       "      <th></th>\n",
       "      <th>gender</th>\n",
       "      <th>female</th>\n",
       "      <th>male</th>\n",
       "      <th>both</th>\n",
       "      <th>percent_women</th>\n",
       "      <th>percent_men</th>\n",
       "    </tr>\n",
       "    <tr>\n",
       "      <th>year</th>\n",
       "      <th>role</th>\n",
       "      <th></th>\n",
       "      <th></th>\n",
       "      <th></th>\n",
       "      <th></th>\n",
       "      <th></th>\n",
       "    </tr>\n",
       "  </thead>\n",
       "  <tbody>\n",
       "    <tr>\n",
       "      <th>2000</th>\n",
       "      <th>responsible_applicant</th>\n",
       "      <td>118</td>\n",
       "      <td>852</td>\n",
       "      <td>970</td>\n",
       "      <td>12.164948</td>\n",
       "      <td>87.835052</td>\n",
       "    </tr>\n",
       "    <tr>\n",
       "      <th>2001</th>\n",
       "      <th>responsible_applicant</th>\n",
       "      <td>115</td>\n",
       "      <td>719</td>\n",
       "      <td>834</td>\n",
       "      <td>13.788969</td>\n",
       "      <td>86.211031</td>\n",
       "    </tr>\n",
       "    <tr>\n",
       "      <th>2002</th>\n",
       "      <th>responsible_applicant</th>\n",
       "      <td>89</td>\n",
       "      <td>691</td>\n",
       "      <td>780</td>\n",
       "      <td>11.410256</td>\n",
       "      <td>88.589744</td>\n",
       "    </tr>\n",
       "    <tr>\n",
       "      <th>2003</th>\n",
       "      <th>responsible_applicant</th>\n",
       "      <td>121</td>\n",
       "      <td>728</td>\n",
       "      <td>849</td>\n",
       "      <td>14.252061</td>\n",
       "      <td>85.747939</td>\n",
       "    </tr>\n",
       "    <tr>\n",
       "      <th>2004</th>\n",
       "      <th>responsible_applicant</th>\n",
       "      <td>131</td>\n",
       "      <td>793</td>\n",
       "      <td>924</td>\n",
       "      <td>14.177489</td>\n",
       "      <td>85.822511</td>\n",
       "    </tr>\n",
       "    <tr>\n",
       "      <th>2005</th>\n",
       "      <th>responsible_applicant</th>\n",
       "      <td>106</td>\n",
       "      <td>854</td>\n",
       "      <td>960</td>\n",
       "      <td>11.041667</td>\n",
       "      <td>88.958333</td>\n",
       "    </tr>\n",
       "    <tr>\n",
       "      <th>2006</th>\n",
       "      <th>responsible_applicant</th>\n",
       "      <td>178</td>\n",
       "      <td>864</td>\n",
       "      <td>1042</td>\n",
       "      <td>17.082534</td>\n",
       "      <td>82.917466</td>\n",
       "    </tr>\n",
       "    <tr>\n",
       "      <th>2007</th>\n",
       "      <th>responsible_applicant</th>\n",
       "      <td>158</td>\n",
       "      <td>944</td>\n",
       "      <td>1102</td>\n",
       "      <td>14.337568</td>\n",
       "      <td>85.662432</td>\n",
       "    </tr>\n",
       "    <tr>\n",
       "      <th>2008</th>\n",
       "      <th>responsible_applicant</th>\n",
       "      <td>173</td>\n",
       "      <td>931</td>\n",
       "      <td>1104</td>\n",
       "      <td>15.670290</td>\n",
       "      <td>84.329710</td>\n",
       "    </tr>\n",
       "    <tr>\n",
       "      <th>2009</th>\n",
       "      <th>responsible_applicant</th>\n",
       "      <td>201</td>\n",
       "      <td>989</td>\n",
       "      <td>1190</td>\n",
       "      <td>16.890756</td>\n",
       "      <td>83.109244</td>\n",
       "    </tr>\n",
       "    <tr>\n",
       "      <th>2010</th>\n",
       "      <th>responsible_applicant</th>\n",
       "      <td>206</td>\n",
       "      <td>1050</td>\n",
       "      <td>1256</td>\n",
       "      <td>16.401274</td>\n",
       "      <td>83.598726</td>\n",
       "    </tr>\n",
       "    <tr>\n",
       "      <th>2011</th>\n",
       "      <th>responsible_applicant</th>\n",
       "      <td>191</td>\n",
       "      <td>993</td>\n",
       "      <td>1184</td>\n",
       "      <td>16.131757</td>\n",
       "      <td>83.868243</td>\n",
       "    </tr>\n",
       "    <tr>\n",
       "      <th>2012</th>\n",
       "      <th>responsible_applicant</th>\n",
       "      <td>264</td>\n",
       "      <td>1145</td>\n",
       "      <td>1409</td>\n",
       "      <td>18.736693</td>\n",
       "      <td>81.263307</td>\n",
       "    </tr>\n",
       "    <tr>\n",
       "      <th>2013</th>\n",
       "      <th>responsible_applicant</th>\n",
       "      <td>238</td>\n",
       "      <td>1077</td>\n",
       "      <td>1315</td>\n",
       "      <td>18.098859</td>\n",
       "      <td>81.901141</td>\n",
       "    </tr>\n",
       "    <tr>\n",
       "      <th>2014</th>\n",
       "      <th>responsible_applicant</th>\n",
       "      <td>248</td>\n",
       "      <td>1107</td>\n",
       "      <td>1355</td>\n",
       "      <td>18.302583</td>\n",
       "      <td>81.697417</td>\n",
       "    </tr>\n",
       "    <tr>\n",
       "      <th>2015</th>\n",
       "      <th>responsible_applicant</th>\n",
       "      <td>263</td>\n",
       "      <td>1042</td>\n",
       "      <td>1305</td>\n",
       "      <td>20.153257</td>\n",
       "      <td>79.846743</td>\n",
       "    </tr>\n",
       "    <tr>\n",
       "      <th>2016</th>\n",
       "      <th>responsible_applicant</th>\n",
       "      <td>256</td>\n",
       "      <td>918</td>\n",
       "      <td>1174</td>\n",
       "      <td>21.805792</td>\n",
       "      <td>78.194208</td>\n",
       "    </tr>\n",
       "    <tr>\n",
       "      <th>2017</th>\n",
       "      <th>responsible_applicant</th>\n",
       "      <td>243</td>\n",
       "      <td>974</td>\n",
       "      <td>1217</td>\n",
       "      <td>19.967132</td>\n",
       "      <td>80.032868</td>\n",
       "    </tr>\n",
       "    <tr>\n",
       "      <th>2018</th>\n",
       "      <th>responsible_applicant</th>\n",
       "      <td>268</td>\n",
       "      <td>863</td>\n",
       "      <td>1131</td>\n",
       "      <td>23.695844</td>\n",
       "      <td>76.304156</td>\n",
       "    </tr>\n",
       "    <tr>\n",
       "      <th>2019</th>\n",
       "      <th>responsible_applicant</th>\n",
       "      <td>252</td>\n",
       "      <td>795</td>\n",
       "      <td>1047</td>\n",
       "      <td>24.068768</td>\n",
       "      <td>75.931232</td>\n",
       "    </tr>\n",
       "  </tbody>\n",
       "</table>\n",
       "</div>"
      ],
      "text/plain": [
       "gender                      female  male  both  percent_women  percent_men\n",
       "year role                                                                 \n",
       "2000 responsible_applicant     118   852   970      12.164948    87.835052\n",
       "2001 responsible_applicant     115   719   834      13.788969    86.211031\n",
       "2002 responsible_applicant      89   691   780      11.410256    88.589744\n",
       "2003 responsible_applicant     121   728   849      14.252061    85.747939\n",
       "2004 responsible_applicant     131   793   924      14.177489    85.822511\n",
       "2005 responsible_applicant     106   854   960      11.041667    88.958333\n",
       "2006 responsible_applicant     178   864  1042      17.082534    82.917466\n",
       "2007 responsible_applicant     158   944  1102      14.337568    85.662432\n",
       "2008 responsible_applicant     173   931  1104      15.670290    84.329710\n",
       "2009 responsible_applicant     201   989  1190      16.890756    83.109244\n",
       "2010 responsible_applicant     206  1050  1256      16.401274    83.598726\n",
       "2011 responsible_applicant     191   993  1184      16.131757    83.868243\n",
       "2012 responsible_applicant     264  1145  1409      18.736693    81.263307\n",
       "2013 responsible_applicant     238  1077  1315      18.098859    81.901141\n",
       "2014 responsible_applicant     248  1107  1355      18.302583    81.697417\n",
       "2015 responsible_applicant     263  1042  1305      20.153257    79.846743\n",
       "2016 responsible_applicant     256   918  1174      21.805792    78.194208\n",
       "2017 responsible_applicant     243   974  1217      19.967132    80.032868\n",
       "2018 responsible_applicant     268   863  1131      23.695844    76.304156\n",
       "2019 responsible_applicant     252   795  1047      24.068768    75.931232"
      ]
     },
     "execution_count": 51,
     "metadata": {},
     "output_type": "execute_result"
    }
   ],
   "source": [
    "counts.query('role==\"responsible_applicant\"')"
   ]
  },
  {
   "cell_type": "code",
   "execution_count": 52,
   "metadata": {
    "slideshow": {
     "slide_type": "skip"
    }
   },
   "outputs": [
    {
     "data": {
      "image/png": "[encoded data removed]",
      "text/plain": [
       "<Figure size 720x432 with 1 Axes>"
      ]
     },
     "metadata": {},
     "output_type": "display_data"
    }
   ],
   "source": [
    "plt.box(on=None)\n",
    "sns.set_style(\"whitegrid\")\n",
    "g=sns.barplot(x='year', y='percent_women', color='#3f72af', data=counts.query('role == \"responsible_applicant\"').reset_index())\n",
    "g.set_xlabel('')\n",
    "g.set_ylabel('')\n",
    "g.set(ylim=(0, 100))\n",
    "g.set_title('Percentage of women leading science projects', fontsize = 16, x=.25, y=1.05)\n",
    "fig = g.get_figure()\n",
    "fig.savefig(os.path.join(DOCS_FOLDER, IMG_FOLDER, 'plot2.svg'))"
   ]
  },
  {
   "cell_type": "markdown",
   "metadata": {
    "slideshow": {
     "slide_type": "slide"
    }
   },
   "source": [
    "## Share of women leading science projects\n",
    "\n",
    "The share of women leading science projects raised from 15% in 2000 to 33% in 2019.\n",
    "\n",
    "![plot 2](./img/plot2.svg \"Percentage of women leading science projects\")"
   ]
  },
  {
   "cell_type": "code",
   "execution_count": 53,
   "metadata": {
    "slideshow": {
     "slide_type": "skip"
    }
   },
   "outputs": [],
   "source": [
    "gap_women = counts.pivot_table(index=['year'], columns='role', values='percent_women', fill_value=0)\n",
    "gap_women['ratio'] = gap_women['responsible_applicant'] / gap_women['employee']\n",
    "gap_men = counts.pivot_table(index=['year'], columns='role', values='percent_men', fill_value=0)\n",
    "gap_men['ratio'] = gap_men['responsible_applicant'] / gap_men['employee']\n",
    "gap = pd.concat([gap_women, gap_men], keys=['women', 'men'])\n",
    "gap = gap.reset_index().rename(columns={'level_0':'gender'})"
   ]
  },
  {
   "cell_type": "code",
   "execution_count": 57,
   "metadata": {
    "slideshow": {
     "slide_type": "skip"
    }
   },
   "outputs": [
    {
     "data": {
      "image/png": "[encoded data removed]",
      "text/plain": [
       "<Figure size 720x432 with 1 Axes>"
      ]
     },
     "metadata": {},
     "output_type": "display_data"
    }
   ],
   "source": [
    "# custom lineplot with matplotlib\n",
    "mpl.rcParams['lines.linewidth']=3\n",
    "plt.rcParams['figure.figsize']=(10, 6)\n",
    "plt.gcf().set_size_inches(10, 6)\n",
    "plt.style.use('seaborn-whitegrid')\n",
    "plt.plot(gap.query('gender==\"women\"').year, \n",
    "         gap.query('gender==\"women\"').ratio,\n",
    "         '-o',\n",
    "         markersize=8,\n",
    "         markerfacecolor='white',\n",
    "         markeredgewidth=3)\n",
    "plt.plot(gap.query('gender==\"men\"').year, \n",
    "         gap.query('gender==\"men\"').ratio,\n",
    "         '-o',\n",
    "         markersize=8,\n",
    "         markerfacecolor='white',\n",
    "         markeredgewidth=3)\n",
    "plt.figtext(.85, .18, \n",
    "            u'Women', ha='left', va='bottom', \n",
    "            color='#1f77b4', fontsize='large', fontweight='semibold')\n",
    "plt.figtext(.85, .6, \n",
    "            u'Men', ha='left', va='bottom', \n",
    "            color='#ff7f0e', fontsize='large', fontweight='semibold')\n",
    "plt.axhline(y=1, color='black', linestyle='-', linewidth=2, alpha=.15)\n",
    "plt.xlim(1998, 2021)\n",
    "plt.ylim(0, 1.85)\n",
    "plt.title('Ratio between leaders and employees in science projects', fontsize='x-large', fontweight='light', x = .3)\n",
    "plt.box(on=None)\n",
    "plt.tight_layout()\n",
    "plt.savefig(os.path.join(DOCS_FOLDER, IMG_FOLDER, 'plot3.svg'))"
   ]
  },
  {
   "cell_type": "markdown",
   "metadata": {
    "slideshow": {
     "slide_type": "slide"
    }
   },
   "source": [
    "## Leadership gap between men and women\n",
    "\n",
    "The leadership gap between men and women appears to be steadily closing.\n",
    "\n",
    "![plot 3](./img/plot3.svg \"Ratio bewteen people leading and employed in science projects\")"
   ]
  },
  {
   "cell_type": "markdown",
   "metadata": {
    "slideshow": {
     "slide_type": "slide"
    }
   },
   "source": [
    "## Next steps\n",
    "\n",
    "Next steps:\n",
    " - domain-by-domain figures  \n",
    "\n",
    "---"
   ]
  },
  {
   "cell_type": "markdown",
   "metadata": {
    "slideshow": {
     "slide_type": "fragment"
    }
   },
   "source": [
    "Further reading:  \n",
    "- [Promotion of women by the SNSF](http://www.snf.ch/en/researchinFocus/newsroom/Pages/news-181004-promotion-of-women-by-the-snsf.aspx)  \n",
    "- [Fix the leaky pipeline](https://www.fix-the-leaky-pipeline.ch)\n"
   ]
  }
 ],
 "metadata": {
  "celltoolbar": "Slideshow",
  "kernelspec": {
   "display_name": "Python 3",
   "language": "python",
   "name": "python3"
  },
  "language_info": {
   "codemirror_mode": {
    "name": "ipython",
    "version": 3
   },
   "file_extension": ".py",
   "mimetype": "text/x-python",
   "name": "python",
   "nbconvert_exporter": "python",
   "pygments_lexer": "ipython3",
   "version": "3.8.3"
  }
 },
 "nbformat": 4,
 "nbformat_minor": 4
}
