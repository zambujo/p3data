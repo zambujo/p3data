{
 "cells": [
  {
   "cell_type": "markdown",
   "metadata": {
    "slideshow": {
     "slide_type": "-"
    }
   },
   "source": [
    "# Leadership gap for women scientists in Switzerland\n",
    "\n",
    "_work-in-progress_\n",
    "\n",
    "[Joao Martins](https://github.com/zambujo)"
   ]
  },
  {
   "cell_type": "code",
   "execution_count": 1,
   "metadata": {
    "slideshow": {
     "slide_type": "skip"
    }
   },
   "outputs": [],
   "source": [
    "import os\n",
    "import sqlite3\n",
    "\n",
    "import numpy as np\n",
    "import pandas as pd\n",
    "import datetime as dt\n",
    "import matplotlib as mpl\n",
    "import matplotlib.pyplot as plt\n",
    "import seaborn as sns\n",
    "sns.set(rc={'figure.figsize':(10, 6)})\n",
    "\n",
    "DATA_FOLDER = '../data'\n",
    "DOCS_FOLDER = '../docs'\n",
    "IMG_FOLDER = 'img'"
   ]
  },
  {
   "cell_type": "code",
   "execution_count": 3,
   "metadata": {
    "slideshow": {
     "slide_type": "skip"
    }
   },
   "outputs": [],
   "source": [
    "# data\n",
    "conn = sqlite3.connect(os.path.join(DATA_FOLDER, 'p3.db'),\n",
    "                       detect_types=sqlite3.PARSE_DECLTYPES)\n",
    "grants = pd.read_sql_query('SELECT * FROM grants;', conn)\n",
    "grantees = pd.read_sql_query('SELECT * FROM role_in_grants;', conn)\n",
    "people = pd.read_sql_query('SELECT * FROM people;', conn)\n",
    "\n",
    "# TODO: move next line to cleaning.ipynb (#13)\n",
    "grants = grants.dropna(subset=['start_date'])\n",
    "grants['year'] = grants['start_date'].dt.year\n",
    "\n",
    "# project leaders + project employees + gender + their projects\n",
    "df=(grantees\n",
    "      .query('role in [\"employee\", \"responsible_applicant\"]')\n",
    "      .merge(people[['person_id_snsf', 'gender']], on='person_id_snsf')\n",
    "      .merge(grants, on='project_number'))\n",
    "# TODO: execute join in SQLite"
   ]
  },
  {
   "cell_type": "markdown",
   "metadata": {
    "slideshow": {
     "slide_type": "slide"
    }
   },
   "source": [
    "## The \"leaky\" pipeline\n",
    "\n",
    "It is well-known that women are underrepresented in leadership positions.  Science is no exception. The \"leaky\" pipeline refers to the overly disproportionate loss of women throughout careers in science.\n",
    "\n",
    "**If science careers are a \"leaky\" pipeline for women scientists, then the share of women leading science projects is expected to be lower than the share of women employed in science projects.**\n",
    "\n",
    "---"
   ]
  },
  {
   "cell_type": "markdown",
   "metadata": {
    "slideshow": {
     "slide_type": "fragment"
    }
   },
   "source": [
    "See also: \n",
    "1. [Leaky pipeline for women scientists dries up after they win first big grant](https://www.nature.com/articles/d41586-018-05759-w), _in Nature, 2018_\n",
    "2. [A Leak in the Academic Pipeline](https://www.frontiersin.org/articles/10.3389/fpsyg.2019.01297/full), _in Frontiers, 2019_"
   ]
  },
  {
   "cell_type": "markdown",
   "metadata": {
    "slideshow": {
     "slide_type": "slide"
    }
   },
   "source": [
    "## Looking for evidence\n",
    "\n",
    "The Swiss National Science Foundation, the leading public science funding agency in Switzerland, makes its data freely available with:  \n",
    " - over 70k science projects, spanning across 50 years  \n",
    " - over 100k scientists  \n",
    " - function and gender of each scientist\n",
    " \n",
    "Source: [p3.snf.ch](http://p3.snf.ch/Pages/DataAndDocumentation.aspx)"
   ]
  },
  {
   "cell_type": "code",
   "execution_count": 3,
   "metadata": {
    "slideshow": {
     "slide_type": "skip"
    }
   },
   "outputs": [],
   "source": [
    "# counts by year between 2000 and 2019\n",
    "counts = (df\n",
    "            .query('(year > 1999) & (year < 2020)')\n",
    "            .groupby(['year', 'role', 'gender']).size()\n",
    "            .reset_index().rename(columns={0:'count'}))\n",
    "counts = counts.pivot_table(index=['year', 'role'], columns='gender', values='count', fill_value=0)\n",
    "counts['both'] = (counts['male'] + counts['female'])\n",
    "counts['percent_women'] = 100 * counts['female'] / counts['both']\n",
    "counts['percent_men'] = 100 * counts['male'] / counts['both']"
   ]
  },
  {
   "cell_type": "code",
   "execution_count": 4,
   "metadata": {
    "slideshow": {
     "slide_type": "skip"
    }
   },
   "outputs": [
    {
     "data": {
      "text/html": [
       "<div>\n",
       "<style scoped>\n",
       "    .dataframe tbody tr th:only-of-type {\n",
       "        vertical-align: middle;\n",
       "    }\n",
       "\n",
       "    .dataframe tbody tr th {\n",
       "        vertical-align: top;\n",
       "    }\n",
       "\n",
       "    .dataframe thead th {\n",
       "        text-align: right;\n",
       "    }\n",
       "</style>\n",
       "<table border=\"1\" class=\"dataframe\">\n",
       "  <thead>\n",
       "    <tr style=\"text-align: right;\">\n",
       "      <th></th>\n",
       "      <th>gender</th>\n",
       "      <th>female</th>\n",
       "      <th>male</th>\n",
       "      <th>both</th>\n",
       "      <th>percent_women</th>\n",
       "      <th>percent_men</th>\n",
       "    </tr>\n",
       "    <tr>\n",
       "      <th>year</th>\n",
       "      <th>role</th>\n",
       "      <th></th>\n",
       "      <th></th>\n",
       "      <th></th>\n",
       "      <th></th>\n",
       "      <th></th>\n",
       "    </tr>\n",
       "  </thead>\n",
       "  <tbody>\n",
       "    <tr>\n",
       "      <th>2000</th>\n",
       "      <th>employee</th>\n",
       "      <td>1278</td>\n",
       "      <td>2120</td>\n",
       "      <td>3398</td>\n",
       "      <td>37.610359</td>\n",
       "      <td>62.389641</td>\n",
       "    </tr>\n",
       "    <tr>\n",
       "      <th>2001</th>\n",
       "      <th>employee</th>\n",
       "      <td>1031</td>\n",
       "      <td>1707</td>\n",
       "      <td>2738</td>\n",
       "      <td>37.655223</td>\n",
       "      <td>62.344777</td>\n",
       "    </tr>\n",
       "    <tr>\n",
       "      <th>2002</th>\n",
       "      <th>employee</th>\n",
       "      <td>1080</td>\n",
       "      <td>1744</td>\n",
       "      <td>2824</td>\n",
       "      <td>38.243626</td>\n",
       "      <td>61.756374</td>\n",
       "    </tr>\n",
       "    <tr>\n",
       "      <th>2003</th>\n",
       "      <th>employee</th>\n",
       "      <td>1229</td>\n",
       "      <td>1825</td>\n",
       "      <td>3054</td>\n",
       "      <td>40.242305</td>\n",
       "      <td>59.757695</td>\n",
       "    </tr>\n",
       "    <tr>\n",
       "      <th>2004</th>\n",
       "      <th>employee</th>\n",
       "      <td>1262</td>\n",
       "      <td>1802</td>\n",
       "      <td>3064</td>\n",
       "      <td>41.187990</td>\n",
       "      <td>58.812010</td>\n",
       "    </tr>\n",
       "    <tr>\n",
       "      <th>2005</th>\n",
       "      <th>employee</th>\n",
       "      <td>1289</td>\n",
       "      <td>1903</td>\n",
       "      <td>3192</td>\n",
       "      <td>40.382206</td>\n",
       "      <td>59.617794</td>\n",
       "    </tr>\n",
       "    <tr>\n",
       "      <th>2006</th>\n",
       "      <th>employee</th>\n",
       "      <td>1419</td>\n",
       "      <td>1915</td>\n",
       "      <td>3334</td>\n",
       "      <td>42.561488</td>\n",
       "      <td>57.438512</td>\n",
       "    </tr>\n",
       "    <tr>\n",
       "      <th>2007</th>\n",
       "      <th>employee</th>\n",
       "      <td>1539</td>\n",
       "      <td>1913</td>\n",
       "      <td>3452</td>\n",
       "      <td>44.582851</td>\n",
       "      <td>55.417149</td>\n",
       "    </tr>\n",
       "    <tr>\n",
       "      <th>2008</th>\n",
       "      <th>employee</th>\n",
       "      <td>1466</td>\n",
       "      <td>1892</td>\n",
       "      <td>3358</td>\n",
       "      <td>43.656939</td>\n",
       "      <td>56.343061</td>\n",
       "    </tr>\n",
       "    <tr>\n",
       "      <th>2009</th>\n",
       "      <th>employee</th>\n",
       "      <td>1974</td>\n",
       "      <td>2418</td>\n",
       "      <td>4392</td>\n",
       "      <td>44.945355</td>\n",
       "      <td>55.054645</td>\n",
       "    </tr>\n",
       "    <tr>\n",
       "      <th>2010</th>\n",
       "      <th>employee</th>\n",
       "      <td>2014</td>\n",
       "      <td>2428</td>\n",
       "      <td>4442</td>\n",
       "      <td>45.339937</td>\n",
       "      <td>54.660063</td>\n",
       "    </tr>\n",
       "    <tr>\n",
       "      <th>2011</th>\n",
       "      <th>employee</th>\n",
       "      <td>1924</td>\n",
       "      <td>2252</td>\n",
       "      <td>4176</td>\n",
       "      <td>46.072797</td>\n",
       "      <td>53.927203</td>\n",
       "    </tr>\n",
       "    <tr>\n",
       "      <th>2012</th>\n",
       "      <th>employee</th>\n",
       "      <td>2326</td>\n",
       "      <td>2701</td>\n",
       "      <td>5027</td>\n",
       "      <td>46.270141</td>\n",
       "      <td>53.729859</td>\n",
       "    </tr>\n",
       "    <tr>\n",
       "      <th>2013</th>\n",
       "      <th>employee</th>\n",
       "      <td>2276</td>\n",
       "      <td>2615</td>\n",
       "      <td>4891</td>\n",
       "      <td>46.534451</td>\n",
       "      <td>53.465549</td>\n",
       "    </tr>\n",
       "    <tr>\n",
       "      <th>2014</th>\n",
       "      <th>employee</th>\n",
       "      <td>2519</td>\n",
       "      <td>2806</td>\n",
       "      <td>5325</td>\n",
       "      <td>47.305164</td>\n",
       "      <td>52.694836</td>\n",
       "    </tr>\n",
       "    <tr>\n",
       "      <th>2015</th>\n",
       "      <th>employee</th>\n",
       "      <td>2572</td>\n",
       "      <td>2990</td>\n",
       "      <td>5562</td>\n",
       "      <td>46.242359</td>\n",
       "      <td>53.757641</td>\n",
       "    </tr>\n",
       "    <tr>\n",
       "      <th>2016</th>\n",
       "      <th>employee</th>\n",
       "      <td>2223</td>\n",
       "      <td>2503</td>\n",
       "      <td>4726</td>\n",
       "      <td>47.037664</td>\n",
       "      <td>52.962336</td>\n",
       "    </tr>\n",
       "    <tr>\n",
       "      <th>2017</th>\n",
       "      <th>employee</th>\n",
       "      <td>2472</td>\n",
       "      <td>2728</td>\n",
       "      <td>5200</td>\n",
       "      <td>47.538462</td>\n",
       "      <td>52.461538</td>\n",
       "    </tr>\n",
       "    <tr>\n",
       "      <th>2018</th>\n",
       "      <th>employee</th>\n",
       "      <td>2251</td>\n",
       "      <td>2515</td>\n",
       "      <td>4766</td>\n",
       "      <td>47.230382</td>\n",
       "      <td>52.769618</td>\n",
       "    </tr>\n",
       "    <tr>\n",
       "      <th>2019</th>\n",
       "      <th>employee</th>\n",
       "      <td>1650</td>\n",
       "      <td>1905</td>\n",
       "      <td>3555</td>\n",
       "      <td>46.413502</td>\n",
       "      <td>53.586498</td>\n",
       "    </tr>\n",
       "  </tbody>\n",
       "</table>\n",
       "</div>"
      ],
      "text/plain": [
       "gender         female  male  both  percent_women  percent_men\n",
       "year role                                                    \n",
       "2000 employee    1278  2120  3398      37.610359    62.389641\n",
       "2001 employee    1031  1707  2738      37.655223    62.344777\n",
       "2002 employee    1080  1744  2824      38.243626    61.756374\n",
       "2003 employee    1229  1825  3054      40.242305    59.757695\n",
       "2004 employee    1262  1802  3064      41.187990    58.812010\n",
       "2005 employee    1289  1903  3192      40.382206    59.617794\n",
       "2006 employee    1419  1915  3334      42.561488    57.438512\n",
       "2007 employee    1539  1913  3452      44.582851    55.417149\n",
       "2008 employee    1466  1892  3358      43.656939    56.343061\n",
       "2009 employee    1974  2418  4392      44.945355    55.054645\n",
       "2010 employee    2014  2428  4442      45.339937    54.660063\n",
       "2011 employee    1924  2252  4176      46.072797    53.927203\n",
       "2012 employee    2326  2701  5027      46.270141    53.729859\n",
       "2013 employee    2276  2615  4891      46.534451    53.465549\n",
       "2014 employee    2519  2806  5325      47.305164    52.694836\n",
       "2015 employee    2572  2990  5562      46.242359    53.757641\n",
       "2016 employee    2223  2503  4726      47.037664    52.962336\n",
       "2017 employee    2472  2728  5200      47.538462    52.461538\n",
       "2018 employee    2251  2515  4766      47.230382    52.769618\n",
       "2019 employee    1650  1905  3555      46.413502    53.586498"
      ]
     },
     "execution_count": 4,
     "metadata": {},
     "output_type": "execute_result"
    }
   ],
   "source": [
    "counts.query('role==\"employee\"')"
   ]
  },
  {
   "cell_type": "code",
   "execution_count": 5,
   "metadata": {
    "slideshow": {
     "slide_type": "skip"
    }
   },
   "outputs": [
    {
     "data": {
      "image/png": "[encoded data removed]",
      "text/plain": [
       "<Figure size 720x432 with 1 Axes>"
      ]
     },
     "metadata": {},
     "output_type": "display_data"
    }
   ],
   "source": [
    "sns.set_style(\"whitegrid\")\n",
    "plt.box(on=None)\n",
    "g=sns.barplot(x='year', y='percent_women', color='#3f72af', data=counts.query('role == \"employee\"').reset_index())\n",
    "g.set_xlabel('')\n",
    "g.set_ylabel('')\n",
    "g.set(ylim=(0, 100))\n",
    "g.set_title('Percentage of women employed in science projects', fontsize = 16, x=.28, y=1.05)\n",
    "fig = g.get_figure()\n",
    "fig.savefig(os.path.join(DOCS_FOLDER, IMG_FOLDER, 'plot1.svg'))"
   ]
  },
  {
   "cell_type": "markdown",
   "metadata": {
    "slideshow": {
     "slide_type": "slide"
    }
   },
   "source": [
    "## Share of women employed in science projects\n",
    "\n",
    "The share of women employed in science projects raised from 38% in 2000 to 46% in 2019.\n",
    "\n",
    "![plot 1](./img/plot1.svg \"Percentage of women employed in science projects\")"
   ]
  },
  {
   "cell_type": "code",
   "execution_count": 6,
   "metadata": {
    "slideshow": {
     "slide_type": "skip"
    }
   },
   "outputs": [
    {
     "data": {
      "text/html": [
       "<div>\n",
       "<style scoped>\n",
       "    .dataframe tbody tr th:only-of-type {\n",
       "        vertical-align: middle;\n",
       "    }\n",
       "\n",
       "    .dataframe tbody tr th {\n",
       "        vertical-align: top;\n",
       "    }\n",
       "\n",
       "    .dataframe thead th {\n",
       "        text-align: right;\n",
       "    }\n",
       "</style>\n",
       "<table border=\"1\" class=\"dataframe\">\n",
       "  <thead>\n",
       "    <tr style=\"text-align: right;\">\n",
       "      <th></th>\n",
       "      <th>gender</th>\n",
       "      <th>female</th>\n",
       "      <th>male</th>\n",
       "      <th>both</th>\n",
       "      <th>percent_women</th>\n",
       "      <th>percent_men</th>\n",
       "    </tr>\n",
       "    <tr>\n",
       "      <th>year</th>\n",
       "      <th>role</th>\n",
       "      <th></th>\n",
       "      <th></th>\n",
       "      <th></th>\n",
       "      <th></th>\n",
       "      <th></th>\n",
       "    </tr>\n",
       "  </thead>\n",
       "  <tbody>\n",
       "    <tr>\n",
       "      <th>2000</th>\n",
       "      <th>responsible_applicant</th>\n",
       "      <td>264</td>\n",
       "      <td>1466</td>\n",
       "      <td>1730</td>\n",
       "      <td>15.260116</td>\n",
       "      <td>84.739884</td>\n",
       "    </tr>\n",
       "    <tr>\n",
       "      <th>2001</th>\n",
       "      <th>responsible_applicant</th>\n",
       "      <td>353</td>\n",
       "      <td>1377</td>\n",
       "      <td>1730</td>\n",
       "      <td>20.404624</td>\n",
       "      <td>79.595376</td>\n",
       "    </tr>\n",
       "    <tr>\n",
       "      <th>2002</th>\n",
       "      <th>responsible_applicant</th>\n",
       "      <td>338</td>\n",
       "      <td>1310</td>\n",
       "      <td>1648</td>\n",
       "      <td>20.509709</td>\n",
       "      <td>79.490291</td>\n",
       "    </tr>\n",
       "    <tr>\n",
       "      <th>2003</th>\n",
       "      <th>responsible_applicant</th>\n",
       "      <td>441</td>\n",
       "      <td>1429</td>\n",
       "      <td>1870</td>\n",
       "      <td>23.582888</td>\n",
       "      <td>76.417112</td>\n",
       "    </tr>\n",
       "    <tr>\n",
       "      <th>2004</th>\n",
       "      <th>responsible_applicant</th>\n",
       "      <td>441</td>\n",
       "      <td>1442</td>\n",
       "      <td>1883</td>\n",
       "      <td>23.420074</td>\n",
       "      <td>76.579926</td>\n",
       "    </tr>\n",
       "    <tr>\n",
       "      <th>2005</th>\n",
       "      <th>responsible_applicant</th>\n",
       "      <td>455</td>\n",
       "      <td>1689</td>\n",
       "      <td>2144</td>\n",
       "      <td>21.222015</td>\n",
       "      <td>78.777985</td>\n",
       "    </tr>\n",
       "    <tr>\n",
       "      <th>2006</th>\n",
       "      <th>responsible_applicant</th>\n",
       "      <td>517</td>\n",
       "      <td>1622</td>\n",
       "      <td>2139</td>\n",
       "      <td>24.170173</td>\n",
       "      <td>75.829827</td>\n",
       "    </tr>\n",
       "    <tr>\n",
       "      <th>2007</th>\n",
       "      <th>responsible_applicant</th>\n",
       "      <td>549</td>\n",
       "      <td>1675</td>\n",
       "      <td>2224</td>\n",
       "      <td>24.685252</td>\n",
       "      <td>75.314748</td>\n",
       "    </tr>\n",
       "    <tr>\n",
       "      <th>2008</th>\n",
       "      <th>responsible_applicant</th>\n",
       "      <td>605</td>\n",
       "      <td>1720</td>\n",
       "      <td>2325</td>\n",
       "      <td>26.021505</td>\n",
       "      <td>73.978495</td>\n",
       "    </tr>\n",
       "    <tr>\n",
       "      <th>2009</th>\n",
       "      <th>responsible_applicant</th>\n",
       "      <td>650</td>\n",
       "      <td>1883</td>\n",
       "      <td>2533</td>\n",
       "      <td>25.661271</td>\n",
       "      <td>74.338729</td>\n",
       "    </tr>\n",
       "    <tr>\n",
       "      <th>2010</th>\n",
       "      <th>responsible_applicant</th>\n",
       "      <td>697</td>\n",
       "      <td>1972</td>\n",
       "      <td>2669</td>\n",
       "      <td>26.114650</td>\n",
       "      <td>73.885350</td>\n",
       "    </tr>\n",
       "    <tr>\n",
       "      <th>2011</th>\n",
       "      <th>responsible_applicant</th>\n",
       "      <td>725</td>\n",
       "      <td>1895</td>\n",
       "      <td>2620</td>\n",
       "      <td>27.671756</td>\n",
       "      <td>72.328244</td>\n",
       "    </tr>\n",
       "    <tr>\n",
       "      <th>2012</th>\n",
       "      <th>responsible_applicant</th>\n",
       "      <td>850</td>\n",
       "      <td>2099</td>\n",
       "      <td>2949</td>\n",
       "      <td>28.823330</td>\n",
       "      <td>71.176670</td>\n",
       "    </tr>\n",
       "    <tr>\n",
       "      <th>2013</th>\n",
       "      <th>responsible_applicant</th>\n",
       "      <td>825</td>\n",
       "      <td>2033</td>\n",
       "      <td>2858</td>\n",
       "      <td>28.866340</td>\n",
       "      <td>71.133660</td>\n",
       "    </tr>\n",
       "    <tr>\n",
       "      <th>2014</th>\n",
       "      <th>responsible_applicant</th>\n",
       "      <td>860</td>\n",
       "      <td>2076</td>\n",
       "      <td>2936</td>\n",
       "      <td>29.291553</td>\n",
       "      <td>70.708447</td>\n",
       "    </tr>\n",
       "    <tr>\n",
       "      <th>2015</th>\n",
       "      <th>responsible_applicant</th>\n",
       "      <td>851</td>\n",
       "      <td>1955</td>\n",
       "      <td>2806</td>\n",
       "      <td>30.327869</td>\n",
       "      <td>69.672131</td>\n",
       "    </tr>\n",
       "    <tr>\n",
       "      <th>2016</th>\n",
       "      <th>responsible_applicant</th>\n",
       "      <td>875</td>\n",
       "      <td>1795</td>\n",
       "      <td>2670</td>\n",
       "      <td>32.771536</td>\n",
       "      <td>67.228464</td>\n",
       "    </tr>\n",
       "    <tr>\n",
       "      <th>2017</th>\n",
       "      <th>responsible_applicant</th>\n",
       "      <td>940</td>\n",
       "      <td>1887</td>\n",
       "      <td>2827</td>\n",
       "      <td>33.250796</td>\n",
       "      <td>66.749204</td>\n",
       "    </tr>\n",
       "    <tr>\n",
       "      <th>2018</th>\n",
       "      <th>responsible_applicant</th>\n",
       "      <td>832</td>\n",
       "      <td>1798</td>\n",
       "      <td>2630</td>\n",
       "      <td>31.634981</td>\n",
       "      <td>68.365019</td>\n",
       "    </tr>\n",
       "    <tr>\n",
       "      <th>2019</th>\n",
       "      <th>responsible_applicant</th>\n",
       "      <td>891</td>\n",
       "      <td>1772</td>\n",
       "      <td>2663</td>\n",
       "      <td>33.458505</td>\n",
       "      <td>66.541495</td>\n",
       "    </tr>\n",
       "  </tbody>\n",
       "</table>\n",
       "</div>"
      ],
      "text/plain": [
       "gender                      female  male  both  percent_women  percent_men\n",
       "year role                                                                 \n",
       "2000 responsible_applicant     264  1466  1730      15.260116    84.739884\n",
       "2001 responsible_applicant     353  1377  1730      20.404624    79.595376\n",
       "2002 responsible_applicant     338  1310  1648      20.509709    79.490291\n",
       "2003 responsible_applicant     441  1429  1870      23.582888    76.417112\n",
       "2004 responsible_applicant     441  1442  1883      23.420074    76.579926\n",
       "2005 responsible_applicant     455  1689  2144      21.222015    78.777985\n",
       "2006 responsible_applicant     517  1622  2139      24.170173    75.829827\n",
       "2007 responsible_applicant     549  1675  2224      24.685252    75.314748\n",
       "2008 responsible_applicant     605  1720  2325      26.021505    73.978495\n",
       "2009 responsible_applicant     650  1883  2533      25.661271    74.338729\n",
       "2010 responsible_applicant     697  1972  2669      26.114650    73.885350\n",
       "2011 responsible_applicant     725  1895  2620      27.671756    72.328244\n",
       "2012 responsible_applicant     850  2099  2949      28.823330    71.176670\n",
       "2013 responsible_applicant     825  2033  2858      28.866340    71.133660\n",
       "2014 responsible_applicant     860  2076  2936      29.291553    70.708447\n",
       "2015 responsible_applicant     851  1955  2806      30.327869    69.672131\n",
       "2016 responsible_applicant     875  1795  2670      32.771536    67.228464\n",
       "2017 responsible_applicant     940  1887  2827      33.250796    66.749204\n",
       "2018 responsible_applicant     832  1798  2630      31.634981    68.365019\n",
       "2019 responsible_applicant     891  1772  2663      33.458505    66.541495"
      ]
     },
     "execution_count": 6,
     "metadata": {},
     "output_type": "execute_result"
    }
   ],
   "source": [
    "counts.query('role==\"responsible_applicant\"')"
   ]
  },
  {
   "cell_type": "code",
   "execution_count": 7,
   "metadata": {
    "slideshow": {
     "slide_type": "skip"
    }
   },
   "outputs": [
    {
     "data": {
      "image/png": "[encoded data removed]",
      "text/plain": [
       "<Figure size 720x432 with 1 Axes>"
      ]
     },
     "metadata": {},
     "output_type": "display_data"
    }
   ],
   "source": [
    "plt.box(on=None)\n",
    "sns.set_style(\"whitegrid\")\n",
    "g=sns.barplot(x='year', y='percent_women', color='#3f72af', data=counts.query('role == \"responsible_applicant\"').reset_index())\n",
    "g.set_xlabel('')\n",
    "g.set_ylabel('')\n",
    "g.set(ylim=(0, 100))\n",
    "g.set_title('Percentage of women leading science projects', fontsize = 16, x=.25, y=1.05)\n",
    "fig = g.get_figure()\n",
    "fig.savefig(os.path.join(DOCS_FOLDER, IMG_FOLDER, 'plot2.svg'))"
   ]
  },
  {
   "cell_type": "markdown",
   "metadata": {
    "slideshow": {
     "slide_type": "slide"
    }
   },
   "source": [
    "## Share of women leading science projects\n",
    "\n",
    "The share of women leading science projects raised from 15% in 2000 to 33% in 2019.\n",
    "\n",
    "![plot 2](./img/plot2.svg \"Percentage of women leading science projects\")"
   ]
  },
  {
   "cell_type": "code",
   "execution_count": 8,
   "metadata": {
    "slideshow": {
     "slide_type": "skip"
    }
   },
   "outputs": [],
   "source": [
    "gap_women = counts.pivot_table(index=['year'], columns='role', values='percent_women', fill_value=0)\n",
    "gap_women['ratio'] = gap_women['responsible_applicant'] / gap_women['employee']\n",
    "gap_men = counts.pivot_table(index=['year'], columns='role', values='percent_men', fill_value=0)\n",
    "gap_men['ratio'] = gap_men['responsible_applicant'] / gap_men['employee']\n",
    "gap = pd.concat([gap_women, gap_men], keys=['women', 'men'])\n",
    "gap = gap.reset_index().rename(columns={'level_0':'gender'})"
   ]
  },
  {
   "cell_type": "code",
   "execution_count": 9,
   "metadata": {
    "slideshow": {
     "slide_type": "skip"
    }
   },
   "outputs": [
    {
     "data": {
      "image/png": "[encoded data removed]",
      "text/plain": [
       "<Figure size 720x432 with 1 Axes>"
      ]
     },
     "metadata": {},
     "output_type": "display_data"
    }
   ],
   "source": [
    "# custom lineplot with matplotlib\n",
    "mpl.rcParams['lines.linewidth']=3\n",
    "plt.rcParams['figure.figsize']=(10, 6)\n",
    "plt.gcf().set_size_inches(10, 6)\n",
    "plt.style.use('seaborn-whitegrid')\n",
    "plt.plot(gap.query('gender==\"women\"').year, \n",
    "         gap.query('gender==\"women\"').ratio,\n",
    "         '-o',\n",
    "         markersize=8,\n",
    "         markerfacecolor='white',\n",
    "         markeredgewidth=3)\n",
    "plt.plot(gap.query('gender==\"men\"').year, \n",
    "         gap.query('gender==\"men\"').ratio,\n",
    "         '-o',\n",
    "         markersize=8,\n",
    "         markerfacecolor='white',\n",
    "         markeredgewidth=3)\n",
    "plt.figtext(.85, .18, \n",
    "            u'Women', ha='left', va='bottom', \n",
    "            color='#1f77b4', fontsize='large', fontweight='semibold')\n",
    "plt.figtext(.85, .6, \n",
    "            u'Men', ha='left', va='bottom', \n",
    "            color='#ff7f0e', fontsize='large', fontweight='semibold')\n",
    "plt.axhline(y=1, color='black', linestyle='-', linewidth=2, alpha=.15)\n",
    "plt.xlim(1998, 2021)\n",
    "plt.ylim(.35, 1.55)\n",
    "plt.title('Ratio between leaders and employees in science projects', fontsize='x-large', fontweight='light', x = .3)\n",
    "plt.box(on=None)\n",
    "plt.tight_layout()\n",
    "plt.savefig(os.path.join(DOCS_FOLDER, IMG_FOLDER, 'plot3.svg'))"
   ]
  },
  {
   "cell_type": "markdown",
   "metadata": {
    "slideshow": {
     "slide_type": "slide"
    }
   },
   "source": [
    "## Leadership gap between men and women\n",
    "\n",
    "The leadership gap between men and women appears to be steadily closing.\n",
    "\n",
    "![plot 3](./img/plot3.svg \"Ratio bewteen people leading and employed in science projects\")"
   ]
  },
  {
   "cell_type": "markdown",
   "metadata": {
    "slideshow": {
     "slide_type": "slide"
    }
   },
   "source": [
    "## Next steps\n",
    "\n",
    "Next steps:\n",
    " - domain-by-domain figures  \n",
    " - exclude one-person programmes\n",
    "\n",
    "---"
   ]
  },
  {
   "cell_type": "markdown",
   "metadata": {
    "slideshow": {
     "slide_type": "fragment"
    }
   },
   "source": [
    "Further reading:  \n",
    "- [Promotion of women by the SNSF](http://www.snf.ch/en/researchinFocus/newsroom/Pages/news-181004-promotion-of-women-by-the-snsf.aspx)  \n",
    "- [Fix the leaky pipeline](https://www.fix-the-leaky-pipeline.ch)\n"
   ]
  }
 ],
 "metadata": {
  "celltoolbar": "Slideshow",
  "kernelspec": {
   "display_name": "Python 3",
   "language": "python",
   "name": "python3"
  },
  "language_info": {
   "codemirror_mode": {
    "name": "ipython",
    "version": 3
   },
   "file_extension": ".py",
   "mimetype": "text/x-python",
   "name": "python",
   "nbconvert_exporter": "python",
   "pygments_lexer": "ipython3",
   "version": "3.8.3"
  }
 },
 "nbformat": 4,
 "nbformat_minor": 2
}
