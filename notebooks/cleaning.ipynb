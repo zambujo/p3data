{
 "cells": [
  {
   "cell_type": "markdown",
   "metadata": {},
   "source": [
    "# Preprocessing SNSF Public Data"
   ]
  },
  {
   "cell_type": "code",
   "execution_count": 1,
   "metadata": {},
   "outputs": [],
   "source": [
    "import os\n",
    "import sqlite3\n",
    "\n",
    "import numpy as np\n",
    "import pandas as pd\n",
    "import feather\n",
    "import matplotlib.pyplot as plt\n",
    "import seaborn as sns\n",
    "import requests"
   ]
  },
  {
   "cell_type": "markdown",
   "metadata": {},
   "source": [
    "## Gather"
   ]
  },
  {
   "cell_type": "code",
   "execution_count": 2,
   "metadata": {},
   "outputs": [],
   "source": [
    "# no need live updates...\n",
    "UPDATE_DATA = False\n",
    "RAW_DATA_FOLDER = '../rawdata'\n",
    "DATA_FOLDER = '../data/'\n",
    "\n",
    "if not os.path.exists(RAW_DATA_FOLDER):\n",
    "    os.makedirs(RAW_DATA_FOLDER)"
   ]
  },
  {
   "cell_type": "code",
   "execution_count": 3,
   "metadata": {},
   "outputs": [],
   "source": [
    "# grants and grantees\n",
    "file_names = [\"P3_GrantExport.csv\", \"P3_PersonExport.csv\"]\n",
    "\n",
    "if UPDATE_DATA:\n",
    "    for k in file_names:\n",
    "        url_grant = \"http://p3.snf.ch/P3Export/\" + k\n",
    "        print(url_grant)\n",
    "        response = requests.get(url_grant)\n",
    "        assert response.status_code == 200, \"status code for\" + k + \" not ok\"\n",
    "        \n",
    "        with open(os.path.join(RAW_DATA_FOLDER, k), mode=\"wb\") as file:\n",
    "                file.write(response.content)"
   ]
  },
  {
   "cell_type": "code",
   "execution_count": 4,
   "metadata": {},
   "outputs": [],
   "source": [
    "grants_raw = pd.read_csv(os.path.join(RAW_DATA_FOLDER, file_names[0]), sep=';')\n",
    "people_raw = pd.read_csv(os.path.join(RAW_DATA_FOLDER, file_names[1]), sep=';')"
   ]
  },
  {
   "cell_type": "markdown",
   "metadata": {},
   "source": [
    "## Assess"
   ]
  },
  {
   "cell_type": "code",
   "execution_count": 5,
   "metadata": {},
   "outputs": [
    {
     "data": {
      "text/html": [
       "<div>\n",
       "<style scoped>\n",
       "    .dataframe tbody tr th:only-of-type {\n",
       "        vertical-align: middle;\n",
       "    }\n",
       "\n",
       "    .dataframe tbody tr th {\n",
       "        vertical-align: top;\n",
       "    }\n",
       "\n",
       "    .dataframe thead th {\n",
       "        text-align: right;\n",
       "    }\n",
       "</style>\n",
       "<table border=\"1\" class=\"dataframe\">\n",
       "  <thead>\n",
       "    <tr style=\"text-align: right;\">\n",
       "      <th></th>\n",
       "      <th>Project Number</th>\n",
       "      <th>Project Number String</th>\n",
       "      <th>Project Title</th>\n",
       "      <th>Project Title English</th>\n",
       "      <th>Responsible Applicant</th>\n",
       "      <th>Funding Instrument</th>\n",
       "      <th>Funding Instrument Hierarchy</th>\n",
       "      <th>Institution</th>\n",
       "      <th>Institution Country</th>\n",
       "      <th>University</th>\n",
       "      <th>Discipline Number</th>\n",
       "      <th>Discipline Name</th>\n",
       "      <th>Discipline Name Hierarchy</th>\n",
       "      <th>All disciplines</th>\n",
       "      <th>Start Date</th>\n",
       "      <th>End Date</th>\n",
       "      <th>Approved Amount</th>\n",
       "      <th>Keywords</th>\n",
       "    </tr>\n",
       "  </thead>\n",
       "  <tbody>\n",
       "    <tr>\n",
       "      <th>13784</th>\n",
       "      <td>30936</td>\n",
       "      <td>3100-030936</td>\n",
       "      <td>Control of gene expression in bacteriophage T4</td>\n",
       "      <td>NaN</td>\n",
       "      <td>Epstein Richard</td>\n",
       "      <td>Project funding (Div. I-III)</td>\n",
       "      <td>Project funding</td>\n",
       "      <td>Département de Biologie Moléculaire Faculté de...</td>\n",
       "      <td>Switzerland</td>\n",
       "      <td>University of Geneva - GE</td>\n",
       "      <td>30102</td>\n",
       "      <td>Molecular Biology</td>\n",
       "      <td>Biology and Medicine;Basic Biological Research</td>\n",
       "      <td>30102</td>\n",
       "      <td>01.10.1991</td>\n",
       "      <td>30.09.1994</td>\n",
       "      <td>483275.00</td>\n",
       "      <td>NaN</td>\n",
       "    </tr>\n",
       "    <tr>\n",
       "      <th>52542</th>\n",
       "      <td>141624</td>\n",
       "      <td>B-0010_141624</td>\n",
       "      <td>Giovanni Battista Pergolesi e la musica napole...</td>\n",
       "      <td>Pergolesi Studies</td>\n",
       "      <td>Bacciagaluppi Claudio</td>\n",
       "      <td>Publication grants</td>\n",
       "      <td>Science communication</td>\n",
       "      <td>Dépt d'Histoire de l'art &amp; de Musicologie Facu...</td>\n",
       "      <td>Switzerland</td>\n",
       "      <td>University of Fribourg - FR</td>\n",
       "      <td>10405</td>\n",
       "      <td>Musicology</td>\n",
       "      <td>Humanities and Social Sciences;Art studies, mu...</td>\n",
       "      <td>10405/10406</td>\n",
       "      <td>01.05.2012</td>\n",
       "      <td>31.05.2012</td>\n",
       "      <td>3500.00</td>\n",
       "      <td>Neapolitan music; Giovanni Battista Pergolesi;...</td>\n",
       "    </tr>\n",
       "    <tr>\n",
       "      <th>24678</th>\n",
       "      <td>55723</td>\n",
       "      <td>3200-055723</td>\n",
       "      <td>Free text medical document retrieval by using ...</td>\n",
       "      <td>NaN</td>\n",
       "      <td>Baud Robert</td>\n",
       "      <td>Project funding (Div. I-III)</td>\n",
       "      <td>Project funding</td>\n",
       "      <td>Division d'Informatique Hôpital Cantonal Unive...</td>\n",
       "      <td>Switzerland</td>\n",
       "      <td>University of Geneva - GE</td>\n",
       "      <td>30812</td>\n",
       "      <td>Methods of Epidemiology and Preventive Medicine</td>\n",
       "      <td>Biology and Medicine;Preventive Medicine (Epid...</td>\n",
       "      <td>30812/30912</td>\n",
       "      <td>01.07.1999</td>\n",
       "      <td>30.09.2001</td>\n",
       "      <td>173400.00</td>\n",
       "      <td>NaN</td>\n",
       "    </tr>\n",
       "  </tbody>\n",
       "</table>\n",
       "</div>"
      ],
      "text/plain": [
       "       Project Number Project Number String  \\\n",
       "13784           30936           3100-030936   \n",
       "52542          141624         B-0010_141624   \n",
       "24678           55723           3200-055723   \n",
       "\n",
       "                                           Project Title  \\\n",
       "13784     Control of gene expression in bacteriophage T4   \n",
       "52542  Giovanni Battista Pergolesi e la musica napole...   \n",
       "24678  Free text medical document retrieval by using ...   \n",
       "\n",
       "      Project Title English  Responsible Applicant  \\\n",
       "13784                   NaN        Epstein Richard   \n",
       "52542     Pergolesi Studies  Bacciagaluppi Claudio   \n",
       "24678                   NaN            Baud Robert   \n",
       "\n",
       "                 Funding Instrument Funding Instrument Hierarchy  \\\n",
       "13784  Project funding (Div. I-III)              Project funding   \n",
       "52542            Publication grants        Science communication   \n",
       "24678  Project funding (Div. I-III)              Project funding   \n",
       "\n",
       "                                             Institution Institution Country  \\\n",
       "13784  Département de Biologie Moléculaire Faculté de...         Switzerland   \n",
       "52542  Dépt d'Histoire de l'art & de Musicologie Facu...         Switzerland   \n",
       "24678  Division d'Informatique Hôpital Cantonal Unive...         Switzerland   \n",
       "\n",
       "                        University  Discipline Number  \\\n",
       "13784    University of Geneva - GE              30102   \n",
       "52542  University of Fribourg - FR              10405   \n",
       "24678    University of Geneva - GE              30812   \n",
       "\n",
       "                                       Discipline Name  \\\n",
       "13784                                Molecular Biology   \n",
       "52542                                       Musicology   \n",
       "24678  Methods of Epidemiology and Preventive Medicine   \n",
       "\n",
       "                               Discipline Name Hierarchy All disciplines  \\\n",
       "13784     Biology and Medicine;Basic Biological Research           30102   \n",
       "52542  Humanities and Social Sciences;Art studies, mu...     10405/10406   \n",
       "24678  Biology and Medicine;Preventive Medicine (Epid...     30812/30912   \n",
       "\n",
       "       Start Date    End Date Approved Amount  \\\n",
       "13784  01.10.1991  30.09.1994       483275.00   \n",
       "52542  01.05.2012  31.05.2012         3500.00   \n",
       "24678  01.07.1999  30.09.2001       173400.00   \n",
       "\n",
       "                                                Keywords  \n",
       "13784                                                NaN  \n",
       "52542  Neapolitan music; Giovanni Battista Pergolesi;...  \n",
       "24678                                                NaN  "
      ]
     },
     "execution_count": 5,
     "metadata": {},
     "output_type": "execute_result"
    }
   ],
   "source": [
    "grants_raw.sample(3)"
   ]
  },
  {
   "cell_type": "code",
   "execution_count": 6,
   "metadata": {},
   "outputs": [
    {
     "data": {
      "text/html": [
       "<div>\n",
       "<style scoped>\n",
       "    .dataframe tbody tr th:only-of-type {\n",
       "        vertical-align: middle;\n",
       "    }\n",
       "\n",
       "    .dataframe tbody tr th {\n",
       "        vertical-align: top;\n",
       "    }\n",
       "\n",
       "    .dataframe thead th {\n",
       "        text-align: right;\n",
       "    }\n",
       "</style>\n",
       "<table border=\"1\" class=\"dataframe\">\n",
       "  <thead>\n",
       "    <tr style=\"text-align: right;\">\n",
       "      <th></th>\n",
       "      <th>Last Name</th>\n",
       "      <th>First Name</th>\n",
       "      <th>Gender</th>\n",
       "      <th>Institute Name</th>\n",
       "      <th>Institute Place</th>\n",
       "      <th>Person ID SNSF</th>\n",
       "      <th>OCRID</th>\n",
       "      <th>Projects as responsible Applicant</th>\n",
       "      <th>Projects as Applicant</th>\n",
       "      <th>Projects as Partner</th>\n",
       "      <th>Projects as Practice Partner</th>\n",
       "      <th>Projects as Employee</th>\n",
       "      <th>Projects as Contact Person</th>\n",
       "    </tr>\n",
       "  </thead>\n",
       "  <tbody>\n",
       "    <tr>\n",
       "      <th>85782</th>\n",
       "      <td>Sarangi</td>\n",
       "      <td>Debajyoti</td>\n",
       "      <td>male</td>\n",
       "      <td>NaN</td>\n",
       "      <td>NaN</td>\n",
       "      <td>137894</td>\n",
       "      <td>NaN</td>\n",
       "      <td>NaN</td>\n",
       "      <td>NaN</td>\n",
       "      <td>NaN</td>\n",
       "      <td>NaN</td>\n",
       "      <td>64941;68001;108059</td>\n",
       "      <td>NaN</td>\n",
       "    </tr>\n",
       "    <tr>\n",
       "      <th>110458</th>\n",
       "      <td>Zha</td>\n",
       "      <td>Jingyun</td>\n",
       "      <td>male</td>\n",
       "      <td>NaN</td>\n",
       "      <td>NaN</td>\n",
       "      <td>698028</td>\n",
       "      <td>NaN</td>\n",
       "      <td>NaN</td>\n",
       "      <td>NaN</td>\n",
       "      <td>NaN</td>\n",
       "      <td>NaN</td>\n",
       "      <td>147639</td>\n",
       "      <td>NaN</td>\n",
       "    </tr>\n",
       "    <tr>\n",
       "      <th>24350</th>\n",
       "      <td>Döring</td>\n",
       "      <td>Yvonne</td>\n",
       "      <td>female</td>\n",
       "      <td>Institute for Cardiovascular Prevention,IPEK  ...</td>\n",
       "      <td>München</td>\n",
       "      <td>762911</td>\n",
       "      <td>NaN</td>\n",
       "      <td>NaN</td>\n",
       "      <td>NaN</td>\n",
       "      <td>NaN</td>\n",
       "      <td>NaN</td>\n",
       "      <td>132786;177492</td>\n",
       "      <td>NaN</td>\n",
       "    </tr>\n",
       "  </tbody>\n",
       "</table>\n",
       "</div>"
      ],
      "text/plain": [
       "       Last Name First Name  Gender  \\\n",
       "85782    Sarangi  Debajyoti    male   \n",
       "110458       Zha    Jingyun    male   \n",
       "24350     Döring     Yvonne  female   \n",
       "\n",
       "                                           Institute Name Institute Place  \\\n",
       "85782                                                 NaN             NaN   \n",
       "110458                                                NaN             NaN   \n",
       "24350   Institute for Cardiovascular Prevention,IPEK  ...         München   \n",
       "\n",
       "        Person ID SNSF OCRID Projects as responsible Applicant  \\\n",
       "85782           137894   NaN                               NaN   \n",
       "110458          698028   NaN                               NaN   \n",
       "24350           762911   NaN                               NaN   \n",
       "\n",
       "       Projects as Applicant Projects as Partner Projects as Practice Partner  \\\n",
       "85782                    NaN                 NaN                          NaN   \n",
       "110458                   NaN                 NaN                          NaN   \n",
       "24350                    NaN                 NaN                          NaN   \n",
       "\n",
       "       Projects as Employee Projects as Contact Person  \n",
       "85782    64941;68001;108059                        NaN  \n",
       "110458               147639                        NaN  \n",
       "24350         132786;177492                        NaN  "
      ]
     },
     "execution_count": 6,
     "metadata": {},
     "output_type": "execute_result"
    }
   ],
   "source": [
    "people_raw.sample(3)"
   ]
  },
  {
   "cell_type": "code",
   "execution_count": 7,
   "metadata": {
    "tags": []
   },
   "outputs": [
    {
     "name": "stdout",
     "output_type": "stream",
     "text": [
      "<class 'pandas.core.frame.DataFrame'>\n",
      "RangeIndex: 74519 entries, 0 to 74518\n",
      "Data columns (total 18 columns):\n",
      " #   Column                        Non-Null Count  Dtype \n",
      "---  ------                        --------------  ----- \n",
      " 0   Project Number                74519 non-null  int64 \n",
      " 1   Project Number String         74519 non-null  object\n",
      " 2   Project Title                 74519 non-null  object\n",
      " 3   Project Title English         31400 non-null  object\n",
      " 4   Responsible Applicant         74519 non-null  object\n",
      " 5   Funding Instrument            74519 non-null  object\n",
      " 6   Funding Instrument Hierarchy  74479 non-null  object\n",
      " 7   Institution                   68860 non-null  object\n",
      " 8   Institution Country           68794 non-null  object\n",
      " 9   University                    74514 non-null  object\n",
      " 10  Discipline Number             74519 non-null  int64 \n",
      " 11  Discipline Name               74519 non-null  object\n",
      " 12  Discipline Name Hierarchy     74020 non-null  object\n",
      " 13  All disciplines               74519 non-null  object\n",
      " 14  Start Date                    74517 non-null  object\n",
      " 15  End Date                      74517 non-null  object\n",
      " 16  Approved Amount               74519 non-null  object\n",
      " 17  Keywords                      49409 non-null  object\n",
      "dtypes: int64(2), object(16)\n",
      "memory usage: 10.2+ MB\n",
      "            =====================================\n",
      "<class 'pandas.core.frame.DataFrame'>\n",
      "RangeIndex: 111903 entries, 0 to 111902\n",
      "Data columns (total 13 columns):\n",
      " #   Column                             Non-Null Count   Dtype \n",
      "---  ------                             --------------   ----- \n",
      " 0   Last Name                          111903 non-null  object\n",
      " 1   First Name                         111896 non-null  object\n",
      " 2   Gender                             111903 non-null  object\n",
      " 3   Institute Name                     54186 non-null   object\n",
      " 4   Institute Place                    54083 non-null   object\n",
      " 5   Person ID SNSF                     111903 non-null  int64 \n",
      " 6   OCRID                              7092 non-null    object\n",
      " 7   Projects as responsible Applicant  28898 non-null   object\n",
      " 8   Projects as Applicant              18934 non-null   object\n",
      " 9   Projects as Partner                5300 non-null    object\n",
      " 10  Projects as Practice Partner       735 non-null     object\n",
      " 11  Projects as Employee               82000 non-null   object\n",
      " 12  Projects as Contact Person         766 non-null     object\n",
      "dtypes: int64(1), object(12)\n",
      "memory usage: 11.1+ MB\n"
     ]
    }
   ],
   "source": [
    "grants_raw.info()\n",
    "print('            =====================================')\n",
    "people_raw.info()"
   ]
  },
  {
   "cell_type": "markdown",
   "metadata": {},
   "source": [
    "### Tidiness\n",
    "\n",
    "#### `grants_raw` (ie. `GrantExport`) table\n",
    "\n",
    "- `Funding Instrument`, `Funding Instrument Hierarchy` are confusing\n",
    "- `Discipline`, ... `Discipline Name Hierarchy` are confusing\n",
    "- Details about `Institute` out of scope\n",
    "- `University` contains both long and short names: details out of scope\n",
    "\n",
    "#### `people_raw` (ie. `PersonExport`) table\n",
    "\n",
    "- **`Project as...` contain mixed variables and observations for grant and role**\n",
    "- Details about `Institute` out of scope\n",
    "\n",
    "#### Quality\n",
    "\n",
    "- spaces in column names\n",
    "\n",
    "##### `grants_raw` (ie. `GrantExport`) table\n",
    "\n",
    "- **`Project Number` and `Project Number String` are redundant**\n",
    "- **`Project Number String` encodes division information?**\n",
    "- **`Responsible Applicant` not an uid**\n",
    "- **`Start Date` and `End Date` string, not date type**\n",
    "- **`Aproved Amount` not numeric**\n",
    "- `Project Title English` often redundant or null\n",
    "- `Institution` free text? if yes, is it relevant? better named as department?\n",
    "- `Keywords` not consistent (see keyword extraction from abstracts)\n",
    "\n",
    "##### `people_raw` (ie. `PersonExport`) table\n",
    "\n",
    "- typo in col name for `ORCID`\n",
    "- gender not categorical variable\n",
    "- make sure `person_id_snsf` is unique"
   ]
  },
  {
   "cell_type": "markdown",
   "metadata": {},
   "source": [
    "## Clean"
   ]
  },
  {
   "cell_type": "code",
   "execution_count": 8,
   "metadata": {
    "tags": []
   },
   "outputs": [],
   "source": [
    "# good practice\n",
    "grants = grants_raw.copy()\n",
    "grants.columns = grants.columns.str.lower().str.replace(' ', '_')\n",
    "people = people_raw.copy()\n",
    "people.columns = people.columns.str.lower().str.replace(' ', '_')"
   ]
  },
  {
   "cell_type": "code",
   "execution_count": 9,
   "metadata": {},
   "outputs": [],
   "source": [
    "# https://github.com/zambujo/p3data/issues/4\n",
    "# role_in_grants table\n",
    "role_in_grants = (people\n",
    "    .melt('person_id_snsf', \n",
    "          var_name='role', \n",
    "          value_name='project_number', \n",
    "          value_vars=['projects_as_responsible_applicant', \n",
    "                      'projects_as_applicant', \n",
    "                      'projects_as_partner', \n",
    "                      'projects_as_practice_partner', \n",
    "                      'projects_as_employee', \n",
    "                      'projects_as_contact_person']).dropna())\n",
    "role_in_grants = role_in_grants.assign(project_number=role_in_grants.project_number.str.split(';')).explode('project_number').reset_index(drop=True)\n",
    "role_in_grants['role'] = role_in_grants.role.str[12:]\n",
    "role_in_grants.drop_duplicates(inplace=True)\n",
    "role_in_grants['project_number'] = pd.to_numeric(role_in_grants['project_number'], errors='coerce')\n",
    "role_in_grants=role_in_grants.dropna()\n",
    "role_in_grants['project_number'] = role_in_grants['project_number'].astype(int)\n",
    "assert role_in_grants.project_number.dtype.name == 'int64', 'project number column not an integer'"
   ]
  },
  {
   "cell_type": "code",
   "execution_count": 10,
   "metadata": {
    "tags": []
   },
   "outputs": [],
   "source": [
    "# people table\n",
    "people = people[['person_id_snsf', 'gender', 'first_name', 'last_name']]\n",
    "people = people.drop_duplicates()\n",
    "assert all(people.person_id_snsf.duplicated() == False), 'person_id_snsf contains duplicates'"
   ]
  },
  {
   "cell_type": "code",
   "execution_count": 11,
   "metadata": {
    "tags": []
   },
   "outputs": [
    {
     "name": "stdout",
     "output_type": "stream",
     "text": [
      "<class 'pandas.core.frame.DataFrame'>\n",
      "Int64Index: 255507 entries, 0 to 258790\n",
      "Data columns (total 3 columns):\n",
      " #   Column          Non-Null Count   Dtype \n",
      "---  ------          --------------   ----- \n",
      " 0   person_id_snsf  255507 non-null  int64 \n",
      " 1   role            255507 non-null  object\n",
      " 2   project_number  255507 non-null  int64 \n",
      "dtypes: int64(2), object(1)\n",
      "memory usage: 7.8+ MB\n",
      "    =====================================\n",
      "<class 'pandas.core.frame.DataFrame'>\n",
      "Int64Index: 111120 entries, 0 to 111902\n",
      "Data columns (total 4 columns):\n",
      " #   Column          Non-Null Count   Dtype \n",
      "---  ------          --------------   ----- \n",
      " 0   person_id_snsf  111120 non-null  int64 \n",
      " 1   gender          111120 non-null  object\n",
      " 2   first_name      111113 non-null  object\n",
      " 3   last_name       111120 non-null  object\n",
      "dtypes: int64(1), object(3)\n",
      "memory usage: 4.2+ MB\n"
     ]
    }
   ],
   "source": [
    "role_in_grants.info()\n",
    "print('    =====================================')\n",
    "people.info()"
   ]
  },
  {
   "cell_type": "code",
   "execution_count": 12,
   "metadata": {
    "tags": []
   },
   "outputs": [],
   "source": [
    "# https://github.com/zambujo/p3data/issues/1\n",
    "grants['string_code'] = grants.project_number_string.str[:-6]\n",
    "grants['string_code'] = grants.string_code.str.replace('[-_ ]', '')\n",
    "grants = grants.drop('project_number_string', 1)"
   ]
  },
  {
   "cell_type": "code",
   "execution_count": 13,
   "metadata": {},
   "outputs": [
    {
     "data": {
      "text/html": [
       "<div>\n",
       "<style scoped>\n",
       "    .dataframe tbody tr th:only-of-type {\n",
       "        vertical-align: middle;\n",
       "    }\n",
       "\n",
       "    .dataframe tbody tr th {\n",
       "        vertical-align: top;\n",
       "    }\n",
       "\n",
       "    .dataframe thead th {\n",
       "        text-align: right;\n",
       "    }\n",
       "</style>\n",
       "<table border=\"1\" class=\"dataframe\">\n",
       "  <thead>\n",
       "    <tr style=\"text-align: right;\">\n",
       "      <th></th>\n",
       "      <th>string_code</th>\n",
       "      <th>funding_instrument</th>\n",
       "      <th>count</th>\n",
       "    </tr>\n",
       "  </thead>\n",
       "  <tbody>\n",
       "    <tr>\n",
       "      <th>181</th>\n",
       "      <td>2000</td>\n",
       "      <td>Project funding (Div. I-III)</td>\n",
       "      <td>6072</td>\n",
       "    </tr>\n",
       "    <tr>\n",
       "      <th>286</th>\n",
       "      <td>3100</td>\n",
       "      <td>Project funding (Div. I-III)</td>\n",
       "      <td>4997</td>\n",
       "    </tr>\n",
       "    <tr>\n",
       "      <th>183</th>\n",
       "      <td>200020</td>\n",
       "      <td>Project funding (Div. I-III)</td>\n",
       "      <td>3506</td>\n",
       "    </tr>\n",
       "    <tr>\n",
       "      <th>188</th>\n",
       "      <td>200021</td>\n",
       "      <td>Project funding (Div. I-III)</td>\n",
       "      <td>3306</td>\n",
       "    </tr>\n",
       "    <tr>\n",
       "      <th>292</th>\n",
       "      <td>31003A</td>\n",
       "      <td>Project funding (Div. I-III)</td>\n",
       "      <td>2677</td>\n",
       "    </tr>\n",
       "  </tbody>\n",
       "</table>\n",
       "</div>"
      ],
      "text/plain": [
       "    string_code            funding_instrument  count\n",
       "181        2000  Project funding (Div. I-III)   6072\n",
       "286        3100  Project funding (Div. I-III)   4997\n",
       "183      200020  Project funding (Div. I-III)   3506\n",
       "188      200021  Project funding (Div. I-III)   3306\n",
       "292      31003A  Project funding (Div. I-III)   2677"
      ]
     },
     "execution_count": 13,
     "metadata": {},
     "output_type": "execute_result"
    }
   ],
   "source": [
    "# not clear what to test... [TODO]\n",
    "grants.groupby([\"string_code\", \"funding_instrument\"]).size().reset_index().rename(columns={0: \"count\"}).sort_values(by='count', ascending=False).head()"
   ]
  },
  {
   "cell_type": "code",
   "execution_count": 14,
   "metadata": {},
   "outputs": [],
   "source": [
    "# https://github.com/zambujo/p3data/issues/6\n",
    "grants['approved_amount'] = pd.to_numeric(grants['approved_amount'], errors='coerce')\n",
    "grants['start_date'] = pd.to_datetime(grants.start_date)\n",
    "grants['end_date'] = pd.to_datetime(grants.end_date)\n",
    "\n",
    "assert grants.approved_amount.dtype.name == 'float64', 'approved amount column not a float'\n",
    "assert grants.start_date.dtype.name == 'datetime64[ns]', 'start_date column not datetime type'\n",
    "assert grants.end_date.dtype.name == 'datetime64[ns]', 'end_date column not datetime type'"
   ]
  },
  {
   "cell_type": "code",
   "execution_count": 15,
   "metadata": {},
   "outputs": [],
   "source": [
    "grants[['domain','topic']] = grants.discipline_name_hierarchy.str.split(';', expand=True)\n",
    "grants[['programme', 'programme_details', 'programme_specifics']] = grants.funding_instrument_hierarchy.str.split(';', expand=True)\n",
    "grants = grants[['project_number', 'programme', 'funding_instrument', 'domain', 'topic', 'discipline_name', 'discipline_number', 'start_date', 'end_date', 'approved_amount']]"
   ]
  },
  {
   "cell_type": "code",
   "execution_count": 16,
   "metadata": {},
   "outputs": [],
   "source": [
    "conn = sqlite3.connect('../data/p3.db')\n",
    "c = conn.cursor()"
   ]
  },
  {
   "cell_type": "code",
   "execution_count": 17,
   "metadata": {},
   "outputs": [],
   "source": [
    "c.execute('''\n",
    "CREATE TABLE IF NOT EXISTS \"grants\" (\n",
    "  \"project_number\" INTEGER,\n",
    "  \"programme\" TEXT,\n",
    "  \"funding_instrument\" TEXT,\n",
    "  \"domain\" TEXT,\n",
    "  \"topic\" TEXT,\n",
    "  \"discipline_name\" TEXT,\n",
    "  \"discipline_number\" INTEGER,\n",
    "  \"start_date\" DATETIME,\n",
    "  \"end_date\" DATETIME,\n",
    "  \"approved_amount\" FLOAT,\n",
    "  PRIMARY KEY(\"project_number\")\n",
    ");\n",
    "''')\n",
    "conn.commit()"
   ]
  },
  {
   "cell_type": "code",
   "execution_count": 18,
   "metadata": {},
   "outputs": [],
   "source": [
    "c.execute('''\n",
    "CREATE TABLE IF NOT EXISTS \"people\" (\n",
    "  \"person_id_snsf\" INTEGER,\n",
    "  \"gender\" TEXT,\n",
    "  \"first_name\" TEXT,\n",
    "  \"last_name\" TEXT,\n",
    "  PRIMARY KEY(\"person_id_snsf\")\n",
    ");\n",
    "''')\n",
    "conn.commit()"
   ]
  },
  {
   "cell_type": "code",
   "execution_count": 19,
   "metadata": {},
   "outputs": [],
   "source": [
    "c.execute('''\n",
    "CREATE TABLE IF NOT EXISTS \"role_in_grants\" (\n",
    "  \"person_id_snsf\" INTEGER,\n",
    "  \"role\" TEXT,\n",
    "  \"project_number\" INTEGER,\n",
    "  FOREIGN KEY(\"person_id_snsf\") REFERENCES \"people\"(\"person_id_snsf\"),\n",
    "  FOREIGN KEY(\"project_number\") REFERENCES \"grants\"(\"project_number\")\n",
    ");\n",
    "''')\n",
    "conn.commit()"
   ]
  },
  {
   "cell_type": "code",
   "execution_count": 20,
   "metadata": {},
   "outputs": [],
   "source": [
    "grants.to_sql('grants', con=conn, if_exists='replace', index=False)\n",
    "people.to_sql('people', con=conn, if_exists='replace', index=False)\n",
    "role_in_grants.to_sql('role_in_grants', con=conn, if_exists='replace', index=False)"
   ]
  },
  {
   "cell_type": "code",
   "execution_count": null,
   "metadata": {},
   "outputs": [],
   "source": []
  }
 ],
 "metadata": {
  "kernelspec": {
   "display_name": "Python 3",
   "language": "python",
   "name": "python3"
  },
  "language_info": {
   "codemirror_mode": {
    "name": "ipython",
    "version": 3
   },
   "file_extension": ".py",
   "mimetype": "text/x-python",
   "name": "python",
   "nbconvert_exporter": "python",
   "pygments_lexer": "ipython3",
   "version": "3.8.3"
  }
 },
 "nbformat": 4,
 "nbformat_minor": 4
}
