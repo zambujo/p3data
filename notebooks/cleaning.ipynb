{
 "cells": [
  {
   "cell_type": "markdown",
   "metadata": {},
   "source": [
    "# Preprocessing SNSF Public Data"
   ]
  },
  {
   "cell_type": "code",
   "execution_count": 1,
   "metadata": {
    "execution": {
     "iopub.execute_input": "2020-10-18T16:50:16.599977Z",
     "iopub.status.busy": "2020-10-18T16:50:16.599010Z",
     "iopub.status.idle": "2020-10-18T16:50:17.133261Z",
     "shell.execute_reply": "2020-10-18T16:50:17.132688Z"
    }
   },
   "outputs": [],
   "source": [
    "import os\n",
    "import sqlite3\n",
    "from sqlite3 import Error\n",
    "\n",
    "import numpy as np\n",
    "import pandas as pd\n",
    "\n",
    "RAW_DATA_FOLDER = '../rawdata'\n",
    "DATA_FOLDER = '../data/'"
   ]
  },
  {
   "cell_type": "code",
   "execution_count": 2,
   "metadata": {
    "execution": {
     "iopub.execute_input": "2020-10-18T16:50:17.140904Z",
     "iopub.status.busy": "2020-10-18T16:50:17.139561Z",
     "iopub.status.idle": "2020-10-18T16:50:18.053226Z",
     "shell.execute_reply": "2020-10-18T16:50:18.053835Z"
    }
   },
   "outputs": [],
   "source": [
    "# file_names = os.listdir(RAW_DATA_FOLDER) # file_names[0], file_names[1]\n",
    "project = pd.read_csv(os.path.join(RAW_DATA_FOLDER, 'P3_GrantExport.csv'), sep=';')\n",
    "person = pd.read_csv(os.path.join(RAW_DATA_FOLDER, 'P3_PersonExport.csv'), sep=';')"
   ]
  },
  {
   "cell_type": "markdown",
   "metadata": {},
   "source": [
    "## Assess"
   ]
  },
  {
   "cell_type": "code",
   "execution_count": 3,
   "metadata": {
    "execution": {
     "iopub.execute_input": "2020-10-18T16:50:18.071339Z",
     "iopub.status.busy": "2020-10-18T16:50:18.059145Z",
     "iopub.status.idle": "2020-10-18T16:50:18.083434Z",
     "shell.execute_reply": "2020-10-18T16:50:18.083880Z"
    }
   },
   "outputs": [
    {
     "data": {
      "text/html": [
       "<div>\n",
       "<style scoped>\n",
       "    .dataframe tbody tr th:only-of-type {\n",
       "        vertical-align: middle;\n",
       "    }\n",
       "\n",
       "    .dataframe tbody tr th {\n",
       "        vertical-align: top;\n",
       "    }\n",
       "\n",
       "    .dataframe thead th {\n",
       "        text-align: right;\n",
       "    }\n",
       "</style>\n",
       "<table border=\"1\" class=\"dataframe\">\n",
       "  <thead>\n",
       "    <tr style=\"text-align: right;\">\n",
       "      <th></th>\n",
       "      <th>Project Number</th>\n",
       "      <th>Project Number String</th>\n",
       "      <th>Project Title</th>\n",
       "      <th>Project Title English</th>\n",
       "      <th>Responsible Applicant</th>\n",
       "      <th>Funding Instrument</th>\n",
       "      <th>Funding Instrument Hierarchy</th>\n",
       "      <th>Institution</th>\n",
       "      <th>Institution Country</th>\n",
       "      <th>University</th>\n",
       "      <th>Discipline Number</th>\n",
       "      <th>Discipline Name</th>\n",
       "      <th>Discipline Name Hierarchy</th>\n",
       "      <th>All disciplines</th>\n",
       "      <th>Start Date</th>\n",
       "      <th>End Date</th>\n",
       "      <th>Approved Amount</th>\n",
       "      <th>Keywords</th>\n",
       "    </tr>\n",
       "  </thead>\n",
       "  <tbody>\n",
       "    <tr>\n",
       "      <th>18812</th>\n",
       "      <td>42451</td>\n",
       "      <td>3200-042451</td>\n",
       "      <td>Links between zeitgebers, the human circadian ...</td>\n",
       "      <td>NaN</td>\n",
       "      <td>Wirz-Justice Anna M.</td>\n",
       "      <td>Project funding (Div. I-III)</td>\n",
       "      <td>Project funding</td>\n",
       "      <td>Psychiatrische Klinik Universitäre Psychiatris...</td>\n",
       "      <td>Switzerland</td>\n",
       "      <td>University of Basel - BS</td>\n",
       "      <td>30708</td>\n",
       "      <td>Neurology, Psychiatry</td>\n",
       "      <td>Biology and Medicine;Clinical Medicine</td>\n",
       "      <td>30708</td>\n",
       "      <td>01.04.1995</td>\n",
       "      <td>31.03.1997</td>\n",
       "      <td>200000.00</td>\n",
       "      <td>NaN</td>\n",
       "    </tr>\n",
       "    <tr>\n",
       "      <th>38020</th>\n",
       "      <td>113466</td>\n",
       "      <td>200021-113466</td>\n",
       "      <td>Numerical techniques for models of magnetic fi...</td>\n",
       "      <td>Numerical techniques for models of magnetic fi...</td>\n",
       "      <td>Jackson Andrew</td>\n",
       "      <td>Project funding (Div. I-III)</td>\n",
       "      <td>Project funding</td>\n",
       "      <td>Institut für Geophysik ETH Zürich</td>\n",
       "      <td>Switzerland</td>\n",
       "      <td>ETH Zurich - ETHZ</td>\n",
       "      <td>20802</td>\n",
       "      <td>Geophysics</td>\n",
       "      <td>Mathematics, Natural- and Engineering Sciences...</td>\n",
       "      <td>20802</td>\n",
       "      <td>01.08.2007</td>\n",
       "      <td>31.07.2010</td>\n",
       "      <td>141586.00</td>\n",
       "      <td>Geomagnetsim; Dynamo Theory; Earth's Magnetic ...</td>\n",
       "    </tr>\n",
       "    <tr>\n",
       "      <th>4768</th>\n",
       "      <td>5579</td>\n",
       "      <td>2000-005579</td>\n",
       "      <td>Coupled Quasar, Satellite and Star Positioning...</td>\n",
       "      <td>NaN</td>\n",
       "      <td>Wild Paul</td>\n",
       "      <td>Project funding (Div. I-III)</td>\n",
       "      <td>Project funding</td>\n",
       "      <td>Astronomisches Institut Universität Bern</td>\n",
       "      <td>Switzerland</td>\n",
       "      <td>University of Berne - BE</td>\n",
       "      <td>20802</td>\n",
       "      <td>Geophysics</td>\n",
       "      <td>Mathematics, Natural- and Engineering Sciences...</td>\n",
       "      <td>20802</td>\n",
       "      <td>01.10.1988</td>\n",
       "      <td>30.09.1990</td>\n",
       "      <td>145807.00</td>\n",
       "      <td>NaN</td>\n",
       "    </tr>\n",
       "  </tbody>\n",
       "</table>\n",
       "</div>"
      ],
      "text/plain": [
       "       Project Number Project Number String  \\\n",
       "18812           42451           3200-042451   \n",
       "38020          113466         200021-113466   \n",
       "4768             5579           2000-005579   \n",
       "\n",
       "                                           Project Title  \\\n",
       "18812  Links between zeitgebers, the human circadian ...   \n",
       "38020  Numerical techniques for models of magnetic fi...   \n",
       "4768   Coupled Quasar, Satellite and Star Positioning...   \n",
       "\n",
       "                                   Project Title English  \\\n",
       "18812                                                NaN   \n",
       "38020  Numerical techniques for models of magnetic fi...   \n",
       "4768                                                 NaN   \n",
       "\n",
       "      Responsible Applicant            Funding Instrument  \\\n",
       "18812  Wirz-Justice Anna M.  Project funding (Div. I-III)   \n",
       "38020        Jackson Andrew  Project funding (Div. I-III)   \n",
       "4768              Wild Paul  Project funding (Div. I-III)   \n",
       "\n",
       "      Funding Instrument Hierarchy  \\\n",
       "18812              Project funding   \n",
       "38020              Project funding   \n",
       "4768               Project funding   \n",
       "\n",
       "                                             Institution Institution Country  \\\n",
       "18812  Psychiatrische Klinik Universitäre Psychiatris...         Switzerland   \n",
       "38020                  Institut für Geophysik ETH Zürich         Switzerland   \n",
       "4768            Astronomisches Institut Universität Bern         Switzerland   \n",
       "\n",
       "                     University  Discipline Number        Discipline Name  \\\n",
       "18812  University of Basel - BS              30708  Neurology, Psychiatry   \n",
       "38020         ETH Zurich - ETHZ              20802             Geophysics   \n",
       "4768   University of Berne - BE              20802             Geophysics   \n",
       "\n",
       "                               Discipline Name Hierarchy All disciplines  \\\n",
       "18812             Biology and Medicine;Clinical Medicine           30708   \n",
       "38020  Mathematics, Natural- and Engineering Sciences...           20802   \n",
       "4768   Mathematics, Natural- and Engineering Sciences...           20802   \n",
       "\n",
       "       Start Date    End Date Approved Amount  \\\n",
       "18812  01.04.1995  31.03.1997       200000.00   \n",
       "38020  01.08.2007  31.07.2010       141586.00   \n",
       "4768   01.10.1988  30.09.1990       145807.00   \n",
       "\n",
       "                                                Keywords  \n",
       "18812                                                NaN  \n",
       "38020  Geomagnetsim; Dynamo Theory; Earth's Magnetic ...  \n",
       "4768                                                 NaN  "
      ]
     },
     "execution_count": 1,
     "metadata": {},
     "output_type": "execute_result"
    }
   ],
   "source": [
    "project.sample(3)"
   ]
  },
  {
   "cell_type": "code",
   "execution_count": 4,
   "metadata": {
    "execution": {
     "iopub.execute_input": "2020-10-18T16:50:18.129128Z",
     "iopub.status.busy": "2020-10-18T16:50:18.128407Z",
     "iopub.status.idle": "2020-10-18T16:50:18.141781Z",
     "shell.execute_reply": "2020-10-18T16:50:18.142569Z"
    },
    "tags": []
   },
   "outputs": [
    {
     "name": "stdout",
     "output_type": "stream",
     "text": [
      "<class 'pandas.core.frame.DataFrame'>\n",
      "RangeIndex: 74807 entries, 0 to 74806\n",
      "Data columns (total 18 columns):\n",
      " #   Column                        Non-Null Count  Dtype \n",
      "---  ------                        --------------  ----- \n",
      " 0   Project Number                74807 non-null  int64 \n",
      " 1   Project Number String         74807 non-null  object\n",
      " 2   Project Title                 74807 non-null  object\n",
      " 3   Project Title English         31553 non-null  object\n",
      " 4   Responsible Applicant         74807 non-null  object\n",
      " 5   Funding Instrument            74807 non-null  object\n",
      " 6   Funding Instrument Hierarchy  74767 non-null  object\n",
      " 7   Institution                   69131 non-null  object\n",
      " 8   Institution Country           69066 non-null  object\n",
      " 9   University                    74802 non-null  object\n",
      " 10  Discipline Number             74807 non-null  int64 \n",
      " 11  Discipline Name               74807 non-null  object\n",
      " 12  Discipline Name Hierarchy     74303 non-null  object\n",
      " 13  All disciplines               74807 non-null  object\n",
      " 14  Start Date                    74805 non-null  object\n",
      " 15  End Date                      74805 non-null  object\n",
      " 16  Approved Amount               74807 non-null  object\n",
      " 17  Keywords                      49697 non-null  object\n",
      "dtypes: int64(2), object(16)\n",
      "memory usage: 10.3+ MB\n"
     ]
    }
   ],
   "source": [
    "project.info()"
   ]
  },
  {
   "cell_type": "code",
   "execution_count": 5,
   "metadata": {
    "execution": {
     "iopub.execute_input": "2020-10-18T16:50:18.158245Z",
     "iopub.status.busy": "2020-10-18T16:50:18.148137Z",
     "iopub.status.idle": "2020-10-18T16:50:18.161554Z",
     "shell.execute_reply": "2020-10-18T16:50:18.162028Z"
    }
   },
   "outputs": [
    {
     "data": {
      "text/html": [
       "<div>\n",
       "<style scoped>\n",
       "    .dataframe tbody tr th:only-of-type {\n",
       "        vertical-align: middle;\n",
       "    }\n",
       "\n",
       "    .dataframe tbody tr th {\n",
       "        vertical-align: top;\n",
       "    }\n",
       "\n",
       "    .dataframe thead th {\n",
       "        text-align: right;\n",
       "    }\n",
       "</style>\n",
       "<table border=\"1\" class=\"dataframe\">\n",
       "  <thead>\n",
       "    <tr style=\"text-align: right;\">\n",
       "      <th></th>\n",
       "      <th>Last Name</th>\n",
       "      <th>First Name</th>\n",
       "      <th>Gender</th>\n",
       "      <th>Institute Name</th>\n",
       "      <th>Institute Place</th>\n",
       "      <th>Person ID SNSF</th>\n",
       "      <th>OCRID</th>\n",
       "      <th>Projects as responsible Applicant</th>\n",
       "      <th>Projects as Applicant</th>\n",
       "      <th>Projects as Partner</th>\n",
       "      <th>Projects as Practice Partner</th>\n",
       "      <th>Projects as Employee</th>\n",
       "      <th>Projects as Contact Person</th>\n",
       "    </tr>\n",
       "  </thead>\n",
       "  <tbody>\n",
       "    <tr>\n",
       "      <th>32474</th>\n",
       "      <td>Gadissa Gelalcha</td>\n",
       "      <td>Feyissa</td>\n",
       "      <td>male</td>\n",
       "      <td>NaN</td>\n",
       "      <td>NaN</td>\n",
       "      <td>126092</td>\n",
       "      <td>NaN</td>\n",
       "      <td>NaN</td>\n",
       "      <td>NaN</td>\n",
       "      <td>NaN</td>\n",
       "      <td>NaN</td>\n",
       "      <td>57532</td>\n",
       "      <td>NaN</td>\n",
       "    </tr>\n",
       "    <tr>\n",
       "      <th>93577</th>\n",
       "      <td>Smula</td>\n",
       "      <td>Jasmin Elisabeth</td>\n",
       "      <td>female</td>\n",
       "      <td>NaN</td>\n",
       "      <td>NaN</td>\n",
       "      <td>608871</td>\n",
       "      <td>NaN</td>\n",
       "      <td>NaN</td>\n",
       "      <td>NaN</td>\n",
       "      <td>NaN</td>\n",
       "      <td>NaN</td>\n",
       "      <td>141089</td>\n",
       "      <td>NaN</td>\n",
       "    </tr>\n",
       "    <tr>\n",
       "      <th>103297</th>\n",
       "      <td>Vermeirssen</td>\n",
       "      <td>Etienne</td>\n",
       "      <td>male</td>\n",
       "      <td>Oekotoxzentrum Eawag</td>\n",
       "      <td>Dübendorf</td>\n",
       "      <td>508200</td>\n",
       "      <td>0000-0003-3610-1551</td>\n",
       "      <td>NaN</td>\n",
       "      <td>NaN</td>\n",
       "      <td>NaN</td>\n",
       "      <td>NaN</td>\n",
       "      <td>111386;125034</td>\n",
       "      <td>NaN</td>\n",
       "    </tr>\n",
       "  </tbody>\n",
       "</table>\n",
       "</div>"
      ],
      "text/plain": [
       "               Last Name        First Name  Gender        Institute Name  \\\n",
       "32474   Gadissa Gelalcha           Feyissa    male                   NaN   \n",
       "93577              Smula  Jasmin Elisabeth  female                   NaN   \n",
       "103297       Vermeirssen           Etienne    male  Oekotoxzentrum Eawag   \n",
       "\n",
       "       Institute Place  Person ID SNSF                OCRID  \\\n",
       "32474              NaN          126092                  NaN   \n",
       "93577              NaN          608871                  NaN   \n",
       "103297       Dübendorf          508200  0000-0003-3610-1551   \n",
       "\n",
       "       Projects as responsible Applicant Projects as Applicant  \\\n",
       "32474                                NaN                   NaN   \n",
       "93577                                NaN                   NaN   \n",
       "103297                               NaN                   NaN   \n",
       "\n",
       "       Projects as Partner Projects as Practice Partner Projects as Employee  \\\n",
       "32474                  NaN                          NaN                57532   \n",
       "93577                  NaN                          NaN               141089   \n",
       "103297                 NaN                          NaN        111386;125034   \n",
       "\n",
       "       Projects as Contact Person  \n",
       "32474                         NaN  \n",
       "93577                         NaN  \n",
       "103297                        NaN  "
      ]
     },
     "execution_count": 1,
     "metadata": {},
     "output_type": "execute_result"
    }
   ],
   "source": [
    "person.sample(3)"
   ]
  },
  {
   "cell_type": "code",
   "execution_count": 6,
   "metadata": {
    "execution": {
     "iopub.execute_input": "2020-10-18T16:50:18.210820Z",
     "iopub.status.busy": "2020-10-18T16:50:18.209399Z",
     "iopub.status.idle": "2020-10-18T16:50:18.221686Z",
     "shell.execute_reply": "2020-10-18T16:50:18.222158Z"
    }
   },
   "outputs": [
    {
     "name": "stdout",
     "output_type": "stream",
     "text": [
      "<class 'pandas.core.frame.DataFrame'>\n",
      "RangeIndex: 112476 entries, 0 to 112475\n",
      "Data columns (total 13 columns):\n",
      " #   Column                             Non-Null Count   Dtype \n",
      "---  ------                             --------------   ----- \n",
      " 0   Last Name                          112476 non-null  object\n",
      " 1   First Name                         112469 non-null  object\n",
      " 2   Gender                             112476 non-null  object\n",
      " 3   Institute Name                     54497 non-null   object\n",
      " 4   Institute Place                    54393 non-null   object\n",
      " 5   Person ID SNSF                     112476 non-null  int64 \n",
      " 6   OCRID                              7328 non-null    object\n",
      " 7   Projects as responsible Applicant  29056 non-null   object\n",
      " 8   Projects as Applicant              18969 non-null   object\n",
      " 9   Projects as Partner                5460 non-null    object\n",
      " 10  Projects as Practice Partner       735 non-null     object\n",
      " 11  Projects as Employee               82415 non-null   object\n",
      " 12  Projects as Contact Person         766 non-null     object\n",
      "dtypes: int64(1), object(12)\n",
      "memory usage: 11.2+ MB\n"
     ]
    }
   ],
   "source": [
    "person.info()"
   ]
  },
  {
   "cell_type": "markdown",
   "metadata": {},
   "source": [
    "### Tidiness\n",
    "\n",
    "#### `project` (ie. `GrantExport`) table\n",
    "\n",
    "- `Funding Instrument`, `Funding Instrument Hierarchy` are confusing\n",
    "- `Discipline`, ... `Discipline Name Hierarchy` are confusing\n",
    "- Details about `Institute` out of scope\n",
    "- `University` contains both long and short names: details out of scope\n",
    "\n",
    "#### `person` (ie. `PersonExport`) table\n",
    "\n",
    "- [x]`Project as...` contain mixed variables and observations for grant and role\n",
    "- Details about `Institute` out of scope\n",
    "\n",
    "#### Quality\n",
    "\n",
    "- [x] spaces in column names\n",
    "\n",
    "##### `project` (ie. `GrantExport`) table\n",
    "\n",
    "- [x] `Project Number` and `Project Number String` are redundant\n",
    "- [x] `Project Number String` encodes division information?\n",
    "- [x] `Responsible Applicant` not an uid\n",
    "- [x] `Start Date` and `End Date` string, not date type\n",
    "- [x] `Aproved Amount` not numeric\n",
    "- [x] 2 observations without `start_date` or `end_date`\n",
    "- `Project Title English` often redundant or null\n",
    "- `Institution` free text? if yes, is it relevant? better named as department?\n",
    "- `Keywords` not consistent (see keyword extraction from abstracts)\n",
    "\n",
    "##### `person` (ie. `PersonExport`) table\n",
    "\n",
    "- typo in col name for `ORCID`\n",
    "- gender not categorical variable\n",
    "- make sure `person_id_snsf` is unique"
   ]
  },
  {
   "cell_type": "markdown",
   "metadata": {},
   "source": [
    "## Clean"
   ]
  },
  {
   "cell_type": "code",
   "execution_count": 7,
   "metadata": {
    "execution": {
     "iopub.execute_input": "2020-10-18T16:50:18.230545Z",
     "iopub.status.busy": "2020-10-18T16:50:18.229882Z",
     "iopub.status.idle": "2020-10-18T16:50:18.231882Z",
     "shell.execute_reply": "2020-10-18T16:50:18.232326Z"
    }
   },
   "outputs": [],
   "source": [
    "# Fix column names\n",
    "project.columns = project.columns.str.lower().str.replace(' ', '_')\n",
    "person.columns = person.columns.str.lower().str.replace(' ', '_')\n",
    "\n",
    "assert all(project.columns.str.contains(' ') == False), 'Space in project column names'\n",
    "assert all(person.columns.str.contains(' ') == False), 'Space in person column names'\n",
    "assert all(project.columns == project.columns.str.lower()), 'Uppercase in project column names'\n",
    "assert all(person.columns == person.columns.str.lower()), 'Uppercase in person column names'"
   ]
  },
  {
   "cell_type": "code",
   "execution_count": 8,
   "metadata": {
    "execution": {
     "iopub.execute_input": "2020-10-18T16:50:18.278965Z",
     "iopub.status.busy": "2020-10-18T16:50:18.278115Z",
     "iopub.status.idle": "2020-10-18T16:50:19.165795Z",
     "shell.execute_reply": "2020-10-18T16:50:19.166333Z"
    }
   },
   "outputs": [],
   "source": [
    "# https://github.com/zambujo/p3data/issues/4\n",
    "role_types = np.array(person.columns[person.columns.str.contains('projects_as_')])\n",
    "hr = (person\n",
    "        .melt('person_id_snsf', \n",
    "              var_name='role', \n",
    "              value_name='project_number', \n",
    "              value_vars=role_types).dropna())\n",
    "hr = (hr\n",
    "        .assign(project_number=hr\n",
    "        .project_number.str.split(';'))\n",
    "        .explode('project_number')\n",
    "        .reset_index(drop=True))\n",
    "hr['role'] = hr.role.str[12:] # remove 'projects_as_'\n",
    "hr['project_number'] = pd.to_numeric(hr['project_number'], errors='coerce')\n",
    "hr=hr.dropna()\n",
    "hr['project_number'] = hr['project_number'].astype(int)\n",
    "hr.drop_duplicates(inplace=True)\n",
    "\n",
    "# hr.role.value_counts()\n",
    "assert hr.project_number.dtype.name == 'int64', 'project number column not an integer'"
   ]
  },
  {
   "cell_type": "code",
   "execution_count": 9,
   "metadata": {
    "execution": {
     "iopub.execute_input": "2020-10-18T16:50:19.171340Z",
     "iopub.status.busy": "2020-10-18T16:50:19.170318Z",
     "iopub.status.idle": "2020-10-18T16:50:19.235195Z",
     "shell.execute_reply": "2020-10-18T16:50:19.235692Z"
    }
   },
   "outputs": [],
   "source": [
    "# hr table\n",
    "hr.reset_index(inplace=True)\n",
    "hr = hr.rename(columns = {'index':'id',\n",
    "                          'project_number':'project_id', \n",
    "                          'person_id_snsf':'person_id'})\n",
    "hr = hr[['id', 'project_id', 'person_id', 'role']]\n",
    "\n",
    "assert all(hr.id.duplicated() == False), 'id contains duplicates'"
   ]
  },
  {
   "cell_type": "code",
   "execution_count": 10,
   "metadata": {
    "execution": {
     "iopub.execute_input": "2020-10-18T16:50:19.240740Z",
     "iopub.status.busy": "2020-10-18T16:50:19.239854Z",
     "iopub.status.idle": "2020-10-18T16:50:19.348308Z",
     "shell.execute_reply": "2020-10-18T16:50:19.348760Z"
    },
    "tags": []
   },
   "outputs": [],
   "source": [
    "# person table\n",
    "person = person.rename(columns = {'person_id_snsf':'id'})\n",
    "person = person[['id', 'gender', 'first_name', 'last_name']]\n",
    "person = person.drop_duplicates()\n",
    "\n",
    "assert all(person.id.duplicated() == False), 'id contains duplicates'"
   ]
  },
  {
   "cell_type": "code",
   "execution_count": 11,
   "metadata": {
    "execution": {
     "iopub.execute_input": "2020-10-18T16:50:19.430207Z",
     "iopub.status.busy": "2020-10-18T16:50:19.389703Z",
     "iopub.status.idle": "2020-10-18T16:50:19.559048Z",
     "shell.execute_reply": "2020-10-18T16:50:19.559501Z"
    },
    "tags": []
   },
   "outputs": [],
   "source": [
    "# https://github.com/zambujo/p3data/issues/1\n",
    "# remove ending project_number >> remove ending separator(s)\n",
    "project['string_code'] = (\n",
    "    project.project_number_string.\n",
    "        str.replace('([0-9]+)$', '').\n",
    "        str.replace('[^a-zA-Z0-9]+$', ''))\n",
    "project = project.drop('project_number_string', 1)"
   ]
  },
  {
   "cell_type": "code",
   "execution_count": 12,
   "metadata": {
    "execution": {
     "iopub.execute_input": "2020-10-18T16:50:19.563169Z",
     "iopub.status.busy": "2020-10-18T16:50:19.562483Z",
     "iopub.status.idle": "2020-10-18T16:50:19.564169Z",
     "shell.execute_reply": "2020-10-18T16:50:19.564600Z"
    }
   },
   "outputs": [],
   "source": [
    "# string_code vs funding_instrument\n",
    "# grants.groupby([\"string_code\", \"funding_instrument\"]).size().reset_index().rename(columns={0: \"count\"}).sort_values(by='count', ascending=False)"
   ]
  },
  {
   "cell_type": "code",
   "execution_count": 13,
   "metadata": {
    "execution": {
     "iopub.execute_input": "2020-10-18T16:50:19.597114Z",
     "iopub.status.busy": "2020-10-18T16:50:19.596075Z",
     "iopub.status.idle": "2020-10-18T16:50:19.658325Z",
     "shell.execute_reply": "2020-10-18T16:50:19.658950Z"
    }
   },
   "outputs": [],
   "source": [
    "# https://github.com/zambujo/p3data/issues/6\n",
    "project['approved_amount'] = pd.to_numeric(project['approved_amount'], errors='coerce')\n",
    "project['start_date'] = pd.to_datetime(project.start_date)\n",
    "project['end_date'] = pd.to_datetime(project.end_date)\n",
    "\n",
    "assert project.approved_amount.dtype.name == 'float64', 'approved amount column not a float'\n",
    "assert project.start_date.dtype.name == 'datetime64[ns]', 'start_date column not datetime type'\n",
    "assert project.end_date.dtype.name == 'datetime64[ns]', 'end_date column not datetime type'"
   ]
  },
  {
   "cell_type": "code",
   "execution_count": 14,
   "metadata": {
    "execution": {
     "iopub.execute_input": "2020-10-18T16:50:19.664539Z",
     "iopub.status.busy": "2020-10-18T16:50:19.663861Z",
     "iopub.status.idle": "2020-10-18T16:50:19.721018Z",
     "shell.execute_reply": "2020-10-18T16:50:19.721485Z"
    }
   },
   "outputs": [],
   "source": [
    "# https://github.com/zambujo/p3data/issues/13\n",
    "project=project.dropna(subset=['start_date'])\n",
    "project=project.dropna(subset=['end_date']) # to be on safe side\n",
    "\n",
    "assert all(pd.isna(project.start_date) == False), 'NA values in project.start_date'\n",
    "assert all(pd.isna(project.end_date) == False), 'NA values in project.end_date'"
   ]
  },
  {
   "cell_type": "code",
   "execution_count": 15,
   "metadata": {
    "execution": {
     "iopub.execute_input": "2020-10-18T16:50:19.753170Z",
     "iopub.status.busy": "2020-10-18T16:50:19.728224Z",
     "iopub.status.idle": "2020-10-18T16:50:20.210902Z",
     "shell.execute_reply": "2020-10-18T16:50:20.211505Z"
    }
   },
   "outputs": [],
   "source": [
    "# project table\n",
    "project[['domain','topic']] = project.discipline_name_hierarchy.str.split(';', expand=True)\n",
    "project[['programme', 'programme_details', 'programme_specifics']] = project.funding_instrument_hierarchy.str.split(';', expand=True)\n",
    "\n",
    "project = project.rename(columns = {'project_number':'id'})\n",
    "project = project[['id', 'programme', 'funding_instrument', 'domain', 'topic', 'discipline_name', 'start_date', 'end_date', 'approved_amount']]\n",
    "\n",
    "assert all(project.id.duplicated() == False), 'id contains duplicates'"
   ]
  },
  {
   "cell_type": "code",
   "execution_count": 16,
   "metadata": {
    "execution": {
     "iopub.execute_input": "2020-10-18T16:50:20.215680Z",
     "iopub.status.busy": "2020-10-18T16:50:20.214993Z",
     "iopub.status.idle": "2020-10-18T16:50:20.219000Z",
     "shell.execute_reply": "2020-10-18T16:50:20.219454Z"
    }
   },
   "outputs": [],
   "source": [
    "# create a database connection and a cursor object to a SQLite database\n",
    "conn = None\n",
    "try:\n",
    "    conn = sqlite3.connect('../data/p3.db')\n",
    "    c = conn.cursor()\n",
    "except Error as e:\n",
    "    print(e)"
   ]
  },
  {
   "cell_type": "code",
   "execution_count": 17,
   "metadata": {
    "execution": {
     "iopub.execute_input": "2020-10-18T16:50:20.226282Z",
     "iopub.status.busy": "2020-10-18T16:50:20.225427Z",
     "iopub.status.idle": "2020-10-18T16:50:20.612719Z",
     "shell.execute_reply": "2020-10-18T16:50:20.613354Z"
    }
   },
   "outputs": [],
   "source": [
    "sql_drop_project_table = 'DROP TABLE IF EXISTS project;'\n",
    "sql_drop_person_table =  'DROP TABLE IF EXISTS person;'\n",
    "sql_drop_hr_table =  'DROP TABLE IF EXISTS hr;'\n",
    "\n",
    "sql_create_project_table = '''\n",
    "CREATE TABLE IF NOT EXISTS project (\n",
    "  id integer PRIMARY KEY,\n",
    "  programme text,\n",
    "  funding_instrument text,\n",
    "  domain text,\n",
    "  topic text,\n",
    "  discipline_name text,\n",
    "  start_date datetime,\n",
    "  end_date datetime,\n",
    "  approved_amount float\n",
    ");'''\n",
    "\n",
    "sql_create_person_table = '''\n",
    "CREATE TABLE IF NOT EXISTS person (\n",
    "  id integer PRIMARY KEY,\n",
    "  gender text,\n",
    "  first_name text,\n",
    "  last_name text\n",
    ");'''\n",
    "\n",
    "sql_create_hr_table = '''\n",
    "CREATE TABLE IF NOT EXISTS hr (\n",
    "  id integer PRIMARY KEY,\n",
    "  project_id integer,\n",
    "  person_id integer,\n",
    "  role text,\n",
    "  FOREIGN KEY (project_id) REFERENCES project (id),\n",
    "  FOREIGN KEY (person_id) REFERENCES person (id)\n",
    ");'''\n",
    "\n",
    "def manipulate_table(conn, sql_command):\n",
    "    try:\n",
    "        c = conn.cursor()\n",
    "        c.execute(sql_command)\n",
    "        # conn.commit()\n",
    "    except Error as e:\n",
    "        print(e)\n",
    "\n",
    "if conn is not None:\n",
    "    manipulate_table(conn, sql_drop_project_table)\n",
    "    manipulate_table(conn, sql_drop_person_table)\n",
    "    manipulate_table(conn, sql_drop_hr_table)\n",
    "    manipulate_table(conn, sql_create_project_table)\n",
    "    manipulate_table(conn, sql_create_person_table)\n",
    "    manipulate_table(conn, sql_create_hr_table)\n",
    "else:\n",
    "    print(\"Problem with connection to database.\")"
   ]
  },
  {
   "cell_type": "code",
   "execution_count": 18,
   "metadata": {
    "execution": {
     "iopub.execute_input": "2020-10-18T16:50:20.620067Z",
     "iopub.status.busy": "2020-10-18T16:50:20.619102Z",
     "iopub.status.idle": "2020-10-18T16:50:22.253755Z",
     "shell.execute_reply": "2020-10-18T16:50:22.254208Z"
    }
   },
   "outputs": [],
   "source": [
    "project.to_sql('project', con=conn, if_exists='append', index=False)\n",
    "person.to_sql('person', con=conn, if_exists='append', index=False)\n",
    "hr.to_sql('hr', con=conn, if_exists='append', index=False)"
   ]
  },
  {
   "cell_type": "code",
   "execution_count": 19,
   "metadata": {
    "execution": {
     "iopub.execute_input": "2020-10-18T16:50:22.258752Z",
     "iopub.status.busy": "2020-10-18T16:50:22.257923Z",
     "iopub.status.idle": "2020-10-18T16:50:22.260330Z",
     "shell.execute_reply": "2020-10-18T16:50:22.260774Z"
    }
   },
   "outputs": [],
   "source": [
    "if conn is not None:\n",
    "    conn.close()\n",
    "else:\n",
    "    print(\"Problem with connection to database.\")"
   ]
  }
 ],
 "metadata": {
  "kernelspec": {
   "display_name": "Python 3",
   "language": "python",
   "name": "python3"
  },
  "language_info": {
   "codemirror_mode": {
    "name": "ipython",
    "version": 3
   },
   "file_extension": ".py",
   "mimetype": "text/x-python",
   "name": "python",
   "nbconvert_exporter": "python",
   "pygments_lexer": "ipython3",
   "version": "3.8.3"
  }
 },
 "nbformat": 4,
 "nbformat_minor": 4
}
