{
 "cells": [
  {
   "cell_type": "markdown",
   "metadata": {},
   "source": [
    "# Preprocessing SNSF Public Data"
   ]
  },
  {
   "cell_type": "code",
   "execution_count": 1,
   "metadata": {
    "execution": {
     "iopub.execute_input": "2020-10-06T06:43:11.354838Z",
     "iopub.status.busy": "2020-10-06T06:43:11.353624Z",
     "iopub.status.idle": "2020-10-06T06:43:12.916907Z",
     "shell.execute_reply": "2020-10-06T06:43:12.917368Z"
    }
   },
   "outputs": [],
   "source": [
    "import os\n",
    "import sqlite3\n",
    "\n",
    "import numpy as np\n",
    "import pandas as pd\n",
    "import feather\n",
    "import matplotlib.pyplot as plt\n",
    "import seaborn as sns\n",
    "import requests"
   ]
  },
  {
   "cell_type": "markdown",
   "metadata": {},
   "source": [
    "## Gather"
   ]
  },
  {
   "cell_type": "code",
   "execution_count": 2,
   "metadata": {
    "execution": {
     "iopub.execute_input": "2020-10-06T06:43:12.921886Z",
     "iopub.status.busy": "2020-10-06T06:43:12.921230Z",
     "iopub.status.idle": "2020-10-06T06:43:12.923179Z",
     "shell.execute_reply": "2020-10-06T06:43:12.923773Z"
    }
   },
   "outputs": [],
   "source": [
    "# no need live updates...\n",
    "UPDATE_DATA = False\n",
    "RAW_DATA_FOLDER = '../rawdata'\n",
    "DATA_FOLDER = '../data/'\n",
    "\n",
    "if not os.path.exists(RAW_DATA_FOLDER):\n",
    "    os.makedirs(RAW_DATA_FOLDER)"
   ]
  },
  {
   "cell_type": "code",
   "execution_count": 3,
   "metadata": {
    "execution": {
     "iopub.execute_input": "2020-10-06T06:43:12.928992Z",
     "iopub.status.busy": "2020-10-06T06:43:12.928302Z",
     "iopub.status.idle": "2020-10-06T06:43:12.930273Z",
     "shell.execute_reply": "2020-10-06T06:43:12.930783Z"
    }
   },
   "outputs": [],
   "source": [
    "# grants and grantees\n",
    "file_names = [\"P3_GrantExport.csv\", \"P3_PersonExport.csv\"]\n",
    "\n",
    "if UPDATE_DATA:\n",
    "    for k in file_names:\n",
    "        url_grant = \"http://p3.snf.ch/P3Export/\" + k\n",
    "        print(url_grant)\n",
    "        response = requests.get(url_grant)\n",
    "        assert response.status_code == 200, \"status code for\" + k + \" not ok\"\n",
    "        \n",
    "        with open(os.path.join(RAW_DATA_FOLDER, k), mode=\"wb\") as file:\n",
    "                file.write(response.content)"
   ]
  },
  {
   "cell_type": "code",
   "execution_count": 4,
   "metadata": {
    "execution": {
     "iopub.execute_input": "2020-10-06T06:43:12.935468Z",
     "iopub.status.busy": "2020-10-06T06:43:12.934724Z",
     "iopub.status.idle": "2020-10-06T06:43:13.753058Z",
     "shell.execute_reply": "2020-10-06T06:43:13.753514Z"
    }
   },
   "outputs": [],
   "source": [
    "grants_raw = pd.read_csv(os.path.join(RAW_DATA_FOLDER, file_names[0]), sep=';')\n",
    "people_raw = pd.read_csv(os.path.join(RAW_DATA_FOLDER, file_names[1]), sep=';')"
   ]
  },
  {
   "cell_type": "markdown",
   "metadata": {},
   "source": [
    "## Assess"
   ]
  },
  {
   "cell_type": "code",
   "execution_count": 5,
   "metadata": {
    "execution": {
     "iopub.execute_input": "2020-10-06T06:43:13.768793Z",
     "iopub.status.busy": "2020-10-06T06:43:13.760205Z",
     "iopub.status.idle": "2020-10-06T06:43:13.779845Z",
     "shell.execute_reply": "2020-10-06T06:43:13.780290Z"
    }
   },
   "outputs": [
    {
     "data": {
      "text/html": [
       "<div>\n",
       "<style scoped>\n",
       "    .dataframe tbody tr th:only-of-type {\n",
       "        vertical-align: middle;\n",
       "    }\n",
       "\n",
       "    .dataframe tbody tr th {\n",
       "        vertical-align: top;\n",
       "    }\n",
       "\n",
       "    .dataframe thead th {\n",
       "        text-align: right;\n",
       "    }\n",
       "</style>\n",
       "<table border=\"1\" class=\"dataframe\">\n",
       "  <thead>\n",
       "    <tr style=\"text-align: right;\">\n",
       "      <th></th>\n",
       "      <th>Project Number</th>\n",
       "      <th>Project Number String</th>\n",
       "      <th>Project Title</th>\n",
       "      <th>Project Title English</th>\n",
       "      <th>Responsible Applicant</th>\n",
       "      <th>Funding Instrument</th>\n",
       "      <th>Funding Instrument Hierarchy</th>\n",
       "      <th>Institution</th>\n",
       "      <th>Institution Country</th>\n",
       "      <th>University</th>\n",
       "      <th>Discipline Number</th>\n",
       "      <th>Discipline Name</th>\n",
       "      <th>Discipline Name Hierarchy</th>\n",
       "      <th>All disciplines</th>\n",
       "      <th>Start Date</th>\n",
       "      <th>End Date</th>\n",
       "      <th>Approved Amount</th>\n",
       "      <th>Keywords</th>\n",
       "    </tr>\n",
       "  </thead>\n",
       "  <tbody>\n",
       "    <tr>\n",
       "      <th>48766</th>\n",
       "      <td>134285</td>\n",
       "      <td>PBFRP2-134285</td>\n",
       "      <td>Toward a comprehensive evaluation of self-orga...</td>\n",
       "      <td>Toward a comprehensive evaluation of self-orga...</td>\n",
       "      <td>Brocco Amos</td>\n",
       "      <td>Fellowships for prospective researchers</td>\n",
       "      <td>Careers;Fellowships</td>\n",
       "      <td>Fakultät für Informatik Universität Karlsruhe ...</td>\n",
       "      <td>Germany</td>\n",
       "      <td>Institution abroad - IACH</td>\n",
       "      <td>20506</td>\n",
       "      <td>Information Technology</td>\n",
       "      <td>Mathematics, Natural- and Engineering Sciences...</td>\n",
       "      <td>20506</td>\n",
       "      <td>01.12.2010</td>\n",
       "      <td>31.08.2011</td>\n",
       "      <td>data not included in P3</td>\n",
       "      <td>Networks; P2P; Artificial Intelligence</td>\n",
       "    </tr>\n",
       "    <tr>\n",
       "      <th>38900</th>\n",
       "      <td>115422</td>\n",
       "      <td>B-0010-115422</td>\n",
       "      <td>Peindre et penser la peinture au XVIIe siècle ...</td>\n",
       "      <td>Painting and Thinking Painting in the Seventee...</td>\n",
       "      <td>Blanc Jan</td>\n",
       "      <td>Publication grants</td>\n",
       "      <td>Science communication</td>\n",
       "      <td>NaN</td>\n",
       "      <td>NaN</td>\n",
       "      <td>Unassignable - NA</td>\n",
       "      <td>10404</td>\n",
       "      <td>Visual arts and Art history</td>\n",
       "      <td>Humanities and Social Sciences;Art studies, mu...</td>\n",
       "      <td>10404/10101/10301</td>\n",
       "      <td>01.11.2006</td>\n",
       "      <td>30.11.2006</td>\n",
       "      <td>14455.00</td>\n",
       "      <td>van Hoogstraten; peindre; penser; XVIIe siècle</td>\n",
       "    </tr>\n",
       "    <tr>\n",
       "      <th>16376</th>\n",
       "      <td>37465</td>\n",
       "      <td>2100-037465</td>\n",
       "      <td>Identifikation und Entwurf robuster Regelungen...</td>\n",
       "      <td>NaN</td>\n",
       "      <td>Kraus Frantisek</td>\n",
       "      <td>Project funding (Div. I-III)</td>\n",
       "      <td>Project funding</td>\n",
       "      <td>Institut für Automatik ETH Zürich</td>\n",
       "      <td>Switzerland</td>\n",
       "      <td>ETH Zurich - ETHZ</td>\n",
       "      <td>20504</td>\n",
       "      <td>Electrical Engineering</td>\n",
       "      <td>Mathematics, Natural- and Engineering Sciences...</td>\n",
       "      <td>20504</td>\n",
       "      <td>01.04.1994</td>\n",
       "      <td>31.03.1995</td>\n",
       "      <td>88596.00</td>\n",
       "      <td>NaN</td>\n",
       "    </tr>\n",
       "  </tbody>\n",
       "</table>\n",
       "</div>"
      ],
      "text/plain": [
       "       Project Number Project Number String  \\\n",
       "48766          134285         PBFRP2-134285   \n",
       "38900          115422         B-0010-115422   \n",
       "16376           37465           2100-037465   \n",
       "\n",
       "                                           Project Title  \\\n",
       "48766  Toward a comprehensive evaluation of self-orga...   \n",
       "38900  Peindre et penser la peinture au XVIIe siècle ...   \n",
       "16376  Identifikation und Entwurf robuster Regelungen...   \n",
       "\n",
       "                                   Project Title English  \\\n",
       "48766  Toward a comprehensive evaluation of self-orga...   \n",
       "38900  Painting and Thinking Painting in the Seventee...   \n",
       "16376                                                NaN   \n",
       "\n",
       "      Responsible Applicant                       Funding Instrument  \\\n",
       "48766           Brocco Amos  Fellowships for prospective researchers   \n",
       "38900             Blanc Jan                       Publication grants   \n",
       "16376       Kraus Frantisek             Project funding (Div. I-III)   \n",
       "\n",
       "      Funding Instrument Hierarchy  \\\n",
       "48766          Careers;Fellowships   \n",
       "38900        Science communication   \n",
       "16376              Project funding   \n",
       "\n",
       "                                             Institution Institution Country  \\\n",
       "48766  Fakultät für Informatik Universität Karlsruhe ...             Germany   \n",
       "38900                                                NaN                 NaN   \n",
       "16376                  Institut für Automatik ETH Zürich         Switzerland   \n",
       "\n",
       "                      University  Discipline Number  \\\n",
       "48766  Institution abroad - IACH              20506   \n",
       "38900          Unassignable - NA              10404   \n",
       "16376          ETH Zurich - ETHZ              20504   \n",
       "\n",
       "                   Discipline Name  \\\n",
       "48766       Information Technology   \n",
       "38900  Visual arts and Art history   \n",
       "16376       Electrical Engineering   \n",
       "\n",
       "                               Discipline Name Hierarchy    All disciplines  \\\n",
       "48766  Mathematics, Natural- and Engineering Sciences...              20506   \n",
       "38900  Humanities and Social Sciences;Art studies, mu...  10404/10101/10301   \n",
       "16376  Mathematics, Natural- and Engineering Sciences...              20504   \n",
       "\n",
       "       Start Date    End Date          Approved Amount  \\\n",
       "48766  01.12.2010  31.08.2011  data not included in P3   \n",
       "38900  01.11.2006  30.11.2006                 14455.00   \n",
       "16376  01.04.1994  31.03.1995                 88596.00   \n",
       "\n",
       "                                             Keywords  \n",
       "48766          Networks; P2P; Artificial Intelligence  \n",
       "38900  van Hoogstraten; peindre; penser; XVIIe siècle  \n",
       "16376                                             NaN  "
      ]
     },
     "execution_count": 1,
     "metadata": {},
     "output_type": "execute_result"
    }
   ],
   "source": [
    "grants_raw.sample(3)"
   ]
  },
  {
   "cell_type": "code",
   "execution_count": 6,
   "metadata": {
    "execution": {
     "iopub.execute_input": "2020-10-06T06:43:13.786025Z",
     "iopub.status.busy": "2020-10-06T06:43:13.785413Z",
     "iopub.status.idle": "2020-10-06T06:43:13.798664Z",
     "shell.execute_reply": "2020-10-06T06:43:13.799072Z"
    }
   },
   "outputs": [
    {
     "data": {
      "text/html": [
       "<div>\n",
       "<style scoped>\n",
       "    .dataframe tbody tr th:only-of-type {\n",
       "        vertical-align: middle;\n",
       "    }\n",
       "\n",
       "    .dataframe tbody tr th {\n",
       "        vertical-align: top;\n",
       "    }\n",
       "\n",
       "    .dataframe thead th {\n",
       "        text-align: right;\n",
       "    }\n",
       "</style>\n",
       "<table border=\"1\" class=\"dataframe\">\n",
       "  <thead>\n",
       "    <tr style=\"text-align: right;\">\n",
       "      <th></th>\n",
       "      <th>Last Name</th>\n",
       "      <th>First Name</th>\n",
       "      <th>Gender</th>\n",
       "      <th>Institute Name</th>\n",
       "      <th>Institute Place</th>\n",
       "      <th>Person ID SNSF</th>\n",
       "      <th>OCRID</th>\n",
       "      <th>Projects as responsible Applicant</th>\n",
       "      <th>Projects as Applicant</th>\n",
       "      <th>Projects as Partner</th>\n",
       "      <th>Projects as Practice Partner</th>\n",
       "      <th>Projects as Employee</th>\n",
       "      <th>Projects as Contact Person</th>\n",
       "    </tr>\n",
       "  </thead>\n",
       "  <tbody>\n",
       "    <tr>\n",
       "      <th>58510</th>\n",
       "      <td>Lis</td>\n",
       "      <td>Daniel</td>\n",
       "      <td>male</td>\n",
       "      <td>Zentrum für Jüdische Studien Universität Basel</td>\n",
       "      <td>Basel</td>\n",
       "      <td>555968</td>\n",
       "      <td>NaN</td>\n",
       "      <td>NaN</td>\n",
       "      <td>NaN</td>\n",
       "      <td>NaN</td>\n",
       "      <td>NaN</td>\n",
       "      <td>120470;177420</td>\n",
       "      <td>NaN</td>\n",
       "    </tr>\n",
       "    <tr>\n",
       "      <th>94411</th>\n",
       "      <td>Stahl</td>\n",
       "      <td>Alexander Carsten</td>\n",
       "      <td>male</td>\n",
       "      <td>Klinik für Orthopädische Chirurgie Inselspital...</td>\n",
       "      <td>Bern</td>\n",
       "      <td>537664</td>\n",
       "      <td>NaN</td>\n",
       "      <td>NaN</td>\n",
       "      <td>NaN</td>\n",
       "      <td>NaN</td>\n",
       "      <td>NaN</td>\n",
       "      <td>111949</td>\n",
       "      <td>NaN</td>\n",
       "    </tr>\n",
       "    <tr>\n",
       "      <th>74282</th>\n",
       "      <td>Patadia</td>\n",
       "      <td>Hemantkumar</td>\n",
       "      <td>male</td>\n",
       "      <td>NaN</td>\n",
       "      <td>NaN</td>\n",
       "      <td>619411</td>\n",
       "      <td>NaN</td>\n",
       "      <td>NaN</td>\n",
       "      <td>NaN</td>\n",
       "      <td>NaN</td>\n",
       "      <td>NaN</td>\n",
       "      <td>130281;140803;146131</td>\n",
       "      <td>NaN</td>\n",
       "    </tr>\n",
       "  </tbody>\n",
       "</table>\n",
       "</div>"
      ],
      "text/plain": [
       "      Last Name         First Name Gender  \\\n",
       "58510       Lis             Daniel   male   \n",
       "94411     Stahl  Alexander Carsten   male   \n",
       "74282   Patadia        Hemantkumar   male   \n",
       "\n",
       "                                          Institute Name Institute Place  \\\n",
       "58510     Zentrum für Jüdische Studien Universität Basel           Basel   \n",
       "94411  Klinik für Orthopädische Chirurgie Inselspital...            Bern   \n",
       "74282                                                NaN             NaN   \n",
       "\n",
       "       Person ID SNSF OCRID Projects as responsible Applicant  \\\n",
       "58510          555968   NaN                               NaN   \n",
       "94411          537664   NaN                               NaN   \n",
       "74282          619411   NaN                               NaN   \n",
       "\n",
       "      Projects as Applicant Projects as Partner Projects as Practice Partner  \\\n",
       "58510                   NaN                 NaN                          NaN   \n",
       "94411                   NaN                 NaN                          NaN   \n",
       "74282                   NaN                 NaN                          NaN   \n",
       "\n",
       "       Projects as Employee Projects as Contact Person  \n",
       "58510         120470;177420                        NaN  \n",
       "94411                111949                        NaN  \n",
       "74282  130281;140803;146131                        NaN  "
      ]
     },
     "execution_count": 1,
     "metadata": {},
     "output_type": "execute_result"
    }
   ],
   "source": [
    "people_raw.sample(3)"
   ]
  },
  {
   "cell_type": "code",
   "execution_count": 7,
   "metadata": {
    "execution": {
     "iopub.execute_input": "2020-10-06T06:43:13.841660Z",
     "iopub.status.busy": "2020-10-06T06:43:13.840932Z",
     "iopub.status.idle": "2020-10-06T06:43:13.898490Z",
     "shell.execute_reply": "2020-10-06T06:43:13.899019Z"
    },
    "tags": []
   },
   "outputs": [
    {
     "name": "stdout",
     "output_type": "stream",
     "text": [
      "<class 'pandas.core.frame.DataFrame'>\n",
      "RangeIndex: 74519 entries, 0 to 74518\n",
      "Data columns (total 18 columns):\n",
      " #   Column                        Non-Null Count  Dtype \n",
      "---  ------                        --------------  ----- \n",
      " 0   Project Number                74519 non-null  int64 \n",
      " 1   Project Number String         74519 non-null  object\n",
      " 2   Project Title                 74519 non-null  object\n",
      " 3   Project Title English         31400 non-null  object\n",
      " 4   Responsible Applicant         74519 non-null  object\n",
      " 5   Funding Instrument            74519 non-null  object\n",
      " 6   Funding Instrument Hierarchy  74479 non-null  object\n",
      " 7   Institution                   68860 non-null  object\n",
      " 8   Institution Country           68794 non-null  object\n",
      " 9   University                    74514 non-null  object\n",
      " 10  Discipline Number             74519 non-null  int64 \n",
      " 11  Discipline Name               74519 non-null  object\n",
      " 12  Discipline Name Hierarchy     74020 non-null  object\n",
      " 13  All disciplines               74519 non-null  object\n",
      " 14  Start Date                    74517 non-null  object\n",
      " 15  End Date                      74517 non-null  object\n",
      " 16  Approved Amount               74519 non-null  object\n",
      " 17  Keywords                      49409 non-null  object\n",
      "dtypes: int64(2), object(16)\n",
      "memory usage: 10.2+ MB\n",
      "            =====================================\n",
      "<class 'pandas.core.frame.DataFrame'>\n",
      "RangeIndex: 111903 entries, 0 to 111902\n",
      "Data columns (total 13 columns):\n",
      " #   Column                             Non-Null Count   Dtype \n",
      "---  ------                             --------------   ----- \n",
      " 0   Last Name                          111903 non-null  object\n",
      " 1   First Name                         111896 non-null  object\n",
      " 2   Gender                             111903 non-null  object\n",
      " 3   Institute Name                     54186 non-null   object\n",
      " 4   Institute Place                    54083 non-null   object\n",
      " 5   Person ID SNSF                     111903 non-null  int64 \n",
      " 6   OCRID                              7092 non-null    object\n",
      " 7   Projects as responsible Applicant  28898 non-null   object\n",
      " 8   Projects as Applicant              18934 non-null   object\n",
      " 9   Projects as Partner                5300 non-null    object\n",
      " 10  Projects as Practice Partner       735 non-null     object\n",
      " 11  Projects as Employee               82000 non-null   object\n",
      " 12  Projects as Contact Person         766 non-null     object\n",
      "dtypes: int64(1), object(12)\n",
      "memory usage: 11.1+ MB\n"
     ]
    }
   ],
   "source": [
    "grants_raw.info()\n",
    "print('            =====================================')\n",
    "people_raw.info()"
   ]
  },
  {
   "cell_type": "markdown",
   "metadata": {},
   "source": [
    "### Tidiness\n",
    "\n",
    "#### `grants_raw` (ie. `GrantExport`) table\n",
    "\n",
    "- `Funding Instrument`, `Funding Instrument Hierarchy` are confusing\n",
    "- `Discipline`, ... `Discipline Name Hierarchy` are confusing\n",
    "- Details about `Institute` out of scope\n",
    "- `University` contains both long and short names: details out of scope\n",
    "\n",
    "#### `people_raw` (ie. `PersonExport`) table\n",
    "\n",
    "- **`Project as...` contain mixed variables and observations for grant and role**\n",
    "- Details about `Institute` out of scope\n",
    "\n",
    "#### Quality\n",
    "\n",
    "- spaces in column names\n",
    "\n",
    "##### `grants_raw` (ie. `GrantExport`) table\n",
    "\n",
    "- **`Project Number` and `Project Number String` are redundant**\n",
    "- **`Project Number String` encodes division information?**\n",
    "- **`Responsible Applicant` not an uid**\n",
    "- **`Start Date` and `End Date` string, not date type**\n",
    "- **`Aproved Amount` not numeric**\n",
    "- `Project Title English` often redundant or null\n",
    "- `Institution` free text? if yes, is it relevant? better named as department?\n",
    "- `Keywords` not consistent (see keyword extraction from abstracts)\n",
    "- **2 observations without starting/ending date**\n",
    "\n",
    "##### `people_raw` (ie. `PersonExport`) table\n",
    "\n",
    "- typo in col name for `ORCID`\n",
    "- gender not categorical variable\n",
    "- make sure `person_id_snsf` is unique"
   ]
  },
  {
   "cell_type": "markdown",
   "metadata": {},
   "source": [
    "## Clean"
   ]
  },
  {
   "cell_type": "code",
   "execution_count": 8,
   "metadata": {
    "execution": {
     "iopub.execute_input": "2020-10-06T06:43:13.914186Z",
     "iopub.status.busy": "2020-10-06T06:43:13.913418Z",
     "iopub.status.idle": "2020-10-06T06:43:13.926387Z",
     "shell.execute_reply": "2020-10-06T06:43:13.926844Z"
    },
    "tags": []
   },
   "outputs": [],
   "source": [
    "# good practice\n",
    "grants = grants_raw.copy()\n",
    "grants.columns = grants.columns.str.lower().str.replace(' ', '_')\n",
    "people = people_raw.copy()\n",
    "people.columns = people.columns.str.lower().str.replace(' ', '_')"
   ]
  },
  {
   "cell_type": "code",
   "execution_count": 9,
   "metadata": {
    "execution": {
     "iopub.execute_input": "2020-10-06T06:43:13.967501Z",
     "iopub.status.busy": "2020-10-06T06:43:13.966825Z",
     "iopub.status.idle": "2020-10-06T06:43:14.776903Z",
     "shell.execute_reply": "2020-10-06T06:43:14.777362Z"
    }
   },
   "outputs": [],
   "source": [
    "# https://github.com/zambujo/p3data/issues/4\n",
    "# role_in_grants table\n",
    "role_in_grants = (people\n",
    "    .melt('person_id_snsf', \n",
    "          var_name='role', \n",
    "          value_name='project_number', \n",
    "          value_vars=['projects_as_responsible_applicant', \n",
    "                      'projects_as_applicant', \n",
    "                      'projects_as_partner', \n",
    "                      'projects_as_practice_partner', \n",
    "                      'projects_as_employee', \n",
    "                      'projects_as_contact_person']).dropna())\n",
    "role_in_grants = role_in_grants.assign(project_number=role_in_grants.project_number.str.split(';')).explode('project_number').reset_index(drop=True)\n",
    "role_in_grants['role'] = role_in_grants.role.str[12:]\n",
    "role_in_grants.drop_duplicates(inplace=True)\n",
    "role_in_grants['project_number'] = pd.to_numeric(role_in_grants['project_number'], errors='coerce')\n",
    "role_in_grants=role_in_grants.dropna()\n",
    "role_in_grants['project_number'] = role_in_grants['project_number'].astype(int)\n",
    "assert role_in_grants.project_number.dtype.name == 'int64', 'project number column not an integer'"
   ]
  },
  {
   "cell_type": "code",
   "execution_count": 10,
   "metadata": {
    "execution": {
     "iopub.execute_input": "2020-10-06T06:43:14.792802Z",
     "iopub.status.busy": "2020-10-06T06:43:14.791515Z",
     "iopub.status.idle": "2020-10-06T06:43:14.861215Z",
     "shell.execute_reply": "2020-10-06T06:43:14.861798Z"
    },
    "tags": []
   },
   "outputs": [],
   "source": [
    "# people table\n",
    "people = people[['person_id_snsf', 'gender', 'first_name', 'last_name']]\n",
    "people = people.drop_duplicates()\n",
    "assert all(people.person_id_snsf.duplicated() == False), 'person_id_snsf contains duplicates'"
   ]
  },
  {
   "cell_type": "code",
   "execution_count": 11,
   "metadata": {
    "execution": {
     "iopub.execute_input": "2020-10-06T06:43:14.866054Z",
     "iopub.status.busy": "2020-10-06T06:43:14.865395Z",
     "iopub.status.idle": "2020-10-06T06:43:14.903174Z",
     "shell.execute_reply": "2020-10-06T06:43:14.903662Z"
    },
    "tags": []
   },
   "outputs": [
    {
     "name": "stdout",
     "output_type": "stream",
     "text": [
      "<class 'pandas.core.frame.DataFrame'>\n",
      "Int64Index: 255507 entries, 0 to 258790\n",
      "Data columns (total 3 columns):\n",
      " #   Column          Non-Null Count   Dtype \n",
      "---  ------          --------------   ----- \n",
      " 0   person_id_snsf  255507 non-null  int64 \n",
      " 1   role            255507 non-null  object\n",
      " 2   project_number  255507 non-null  int64 \n",
      "dtypes: int64(2), object(1)\n",
      "memory usage: 7.8+ MB\n",
      "    =====================================\n",
      "<class 'pandas.core.frame.DataFrame'>\n",
      "Int64Index: 111120 entries, 0 to 111902\n",
      "Data columns (total 4 columns):\n",
      " #   Column          Non-Null Count   Dtype \n",
      "---  ------          --------------   ----- \n",
      " 0   person_id_snsf  111120 non-null  int64 \n",
      " 1   gender          111120 non-null  object\n",
      " 2   first_name      111113 non-null  object\n",
      " 3   last_name       111120 non-null  object\n",
      "dtypes: int64(1), object(3)\n",
      "memory usage: 4.2+ MB\n"
     ]
    }
   ],
   "source": [
    "role_in_grants.info()\n",
    "print('    =====================================')\n",
    "people.info()"
   ]
  },
  {
   "cell_type": "code",
   "execution_count": 12,
   "metadata": {
    "execution": {
     "iopub.execute_input": "2020-10-06T06:43:14.929101Z",
     "iopub.status.busy": "2020-10-06T06:43:14.927723Z",
     "iopub.status.idle": "2020-10-06T06:43:15.043483Z",
     "shell.execute_reply": "2020-10-06T06:43:15.043933Z"
    },
    "tags": []
   },
   "outputs": [],
   "source": [
    "# https://github.com/zambujo/p3data/issues/1\n",
    "grants['string_code'] = grants.project_number_string.str[:-6]\n",
    "grants['string_code'] = grants.string_code.str.replace('[-_ ]', '')\n",
    "grants = grants.drop('project_number_string', 1)"
   ]
  },
  {
   "cell_type": "code",
   "execution_count": 13,
   "metadata": {
    "execution": {
     "iopub.execute_input": "2020-10-06T06:43:15.051820Z",
     "iopub.status.busy": "2020-10-06T06:43:15.051145Z",
     "iopub.status.idle": "2020-10-06T06:43:15.089964Z",
     "shell.execute_reply": "2020-10-06T06:43:15.090419Z"
    }
   },
   "outputs": [],
   "source": [
    "# https://github.com/zambujo/p3data/issues/13\n",
    "grants=grants.dropna(subset=['start_date'])\n",
    "\n",
    "assert all(pd.isna(grants.start_date) == False), 'NA values in grants.start_date'\n",
    "assert all(pd.isna(grants.end_date) == False), 'NA values in grants.end_date'"
   ]
  },
  {
   "cell_type": "code",
   "execution_count": 14,
   "metadata": {
    "execution": {
     "iopub.execute_input": "2020-10-06T06:43:15.097619Z",
     "iopub.status.busy": "2020-10-06T06:43:15.096966Z",
     "iopub.status.idle": "2020-10-06T06:43:15.118507Z",
     "shell.execute_reply": "2020-10-06T06:43:15.117838Z"
    }
   },
   "outputs": [
    {
     "data": {
      "text/html": [
       "<div>\n",
       "<style scoped>\n",
       "    .dataframe tbody tr th:only-of-type {\n",
       "        vertical-align: middle;\n",
       "    }\n",
       "\n",
       "    .dataframe tbody tr th {\n",
       "        vertical-align: top;\n",
       "    }\n",
       "\n",
       "    .dataframe thead th {\n",
       "        text-align: right;\n",
       "    }\n",
       "</style>\n",
       "<table border=\"1\" class=\"dataframe\">\n",
       "  <thead>\n",
       "    <tr style=\"text-align: right;\">\n",
       "      <th></th>\n",
       "      <th>string_code</th>\n",
       "      <th>funding_instrument</th>\n",
       "      <th>count</th>\n",
       "    </tr>\n",
       "  </thead>\n",
       "  <tbody>\n",
       "    <tr>\n",
       "      <th>181</th>\n",
       "      <td>2000</td>\n",
       "      <td>Project funding (Div. I-III)</td>\n",
       "      <td>6072</td>\n",
       "    </tr>\n",
       "    <tr>\n",
       "      <th>286</th>\n",
       "      <td>3100</td>\n",
       "      <td>Project funding (Div. I-III)</td>\n",
       "      <td>4997</td>\n",
       "    </tr>\n",
       "    <tr>\n",
       "      <th>183</th>\n",
       "      <td>200020</td>\n",
       "      <td>Project funding (Div. I-III)</td>\n",
       "      <td>3506</td>\n",
       "    </tr>\n",
       "    <tr>\n",
       "      <th>188</th>\n",
       "      <td>200021</td>\n",
       "      <td>Project funding (Div. I-III)</td>\n",
       "      <td>3306</td>\n",
       "    </tr>\n",
       "    <tr>\n",
       "      <th>292</th>\n",
       "      <td>31003A</td>\n",
       "      <td>Project funding (Div. I-III)</td>\n",
       "      <td>2677</td>\n",
       "    </tr>\n",
       "  </tbody>\n",
       "</table>\n",
       "</div>"
      ],
      "text/plain": [
       "    string_code            funding_instrument  count\n",
       "181        2000  Project funding (Div. I-III)   6072\n",
       "286        3100  Project funding (Div. I-III)   4997\n",
       "183      200020  Project funding (Div. I-III)   3506\n",
       "188      200021  Project funding (Div. I-III)   3306\n",
       "292      31003A  Project funding (Div. I-III)   2677"
      ]
     },
     "execution_count": 1,
     "metadata": {},
     "output_type": "execute_result"
    }
   ],
   "source": [
    "# not clear what to test... [TODO]\n",
    "grants.groupby([\"string_code\", \"funding_instrument\"]).size().reset_index().rename(columns={0: \"count\"}).sort_values(by='count', ascending=False).head()"
   ]
  },
  {
   "cell_type": "code",
   "execution_count": 15,
   "metadata": {
    "execution": {
     "iopub.execute_input": "2020-10-06T06:43:15.162106Z",
     "iopub.status.busy": "2020-10-06T06:43:15.161434Z",
     "iopub.status.idle": "2020-10-06T06:43:15.220342Z",
     "shell.execute_reply": "2020-10-06T06:43:15.220881Z"
    }
   },
   "outputs": [],
   "source": [
    "# https://github.com/zambujo/p3data/issues/6\n",
    "grants['approved_amount'] = pd.to_numeric(grants['approved_amount'], errors='coerce')\n",
    "grants['start_date'] = pd.to_datetime(grants.start_date)\n",
    "grants['end_date'] = pd.to_datetime(grants.end_date)\n",
    "\n",
    "assert grants.approved_amount.dtype.name == 'float64', 'approved amount column not a float'\n",
    "assert grants.start_date.dtype.name == 'datetime64[ns]', 'start_date column not datetime type'\n",
    "assert grants.end_date.dtype.name == 'datetime64[ns]', 'end_date column not datetime type'"
   ]
  },
  {
   "cell_type": "code",
   "execution_count": 16,
   "metadata": {
    "execution": {
     "iopub.execute_input": "2020-10-06T06:43:15.318408Z",
     "iopub.status.busy": "2020-10-06T06:43:15.227081Z",
     "iopub.status.idle": "2020-10-06T06:43:15.652026Z",
     "shell.execute_reply": "2020-10-06T06:43:15.652478Z"
    }
   },
   "outputs": [],
   "source": [
    "grants[['domain','topic']] = grants.discipline_name_hierarchy.str.split(';', expand=True)\n",
    "grants[['programme', 'programme_details', 'programme_specifics']] = grants.funding_instrument_hierarchy.str.split(';', expand=True)\n",
    "grants = grants[['project_number', 'programme', 'funding_instrument', 'domain', 'topic', 'discipline_name', 'discipline_number', 'start_date', 'end_date', 'approved_amount']]"
   ]
  },
  {
   "cell_type": "code",
   "execution_count": 17,
   "metadata": {
    "execution": {
     "iopub.execute_input": "2020-10-06T06:43:15.656269Z",
     "iopub.status.busy": "2020-10-06T06:43:15.655615Z",
     "iopub.status.idle": "2020-10-06T06:43:15.659753Z",
     "shell.execute_reply": "2020-10-06T06:43:15.660204Z"
    }
   },
   "outputs": [],
   "source": [
    "conn = sqlite3.connect('../data/p3.db')\n",
    "c = conn.cursor()"
   ]
  },
  {
   "cell_type": "code",
   "execution_count": 18,
   "metadata": {
    "execution": {
     "iopub.execute_input": "2020-10-06T06:43:15.664281Z",
     "iopub.status.busy": "2020-10-06T06:43:15.663644Z",
     "iopub.status.idle": "2020-10-06T06:43:15.666073Z",
     "shell.execute_reply": "2020-10-06T06:43:15.666476Z"
    }
   },
   "outputs": [],
   "source": [
    "c.execute('''\n",
    "CREATE TABLE IF NOT EXISTS \"grants\" (\n",
    "  \"project_number\" INTEGER,\n",
    "  \"programme\" TEXT,\n",
    "  \"funding_instrument\" TEXT,\n",
    "  \"domain\" TEXT,\n",
    "  \"topic\" TEXT,\n",
    "  \"discipline_name\" TEXT,\n",
    "  \"discipline_number\" INTEGER,\n",
    "  \"start_date\" DATETIME,\n",
    "  \"end_date\" DATETIME,\n",
    "  \"approved_amount\" FLOAT,\n",
    "  PRIMARY KEY(\"project_number\")\n",
    ");\n",
    "''')\n",
    "conn.commit()"
   ]
  },
  {
   "cell_type": "code",
   "execution_count": 19,
   "metadata": {
    "execution": {
     "iopub.execute_input": "2020-10-06T06:43:15.670122Z",
     "iopub.status.busy": "2020-10-06T06:43:15.669400Z",
     "iopub.status.idle": "2020-10-06T06:43:15.671957Z",
     "shell.execute_reply": "2020-10-06T06:43:15.672397Z"
    }
   },
   "outputs": [],
   "source": [
    "c.execute('''\n",
    "CREATE TABLE IF NOT EXISTS \"people\" (\n",
    "  \"person_id_snsf\" INTEGER,\n",
    "  \"gender\" TEXT,\n",
    "  \"first_name\" TEXT,\n",
    "  \"last_name\" TEXT,\n",
    "  PRIMARY KEY(\"person_id_snsf\")\n",
    ");\n",
    "''')\n",
    "conn.commit()"
   ]
  },
  {
   "cell_type": "code",
   "execution_count": 20,
   "metadata": {
    "execution": {
     "iopub.execute_input": "2020-10-06T06:43:15.676009Z",
     "iopub.status.busy": "2020-10-06T06:43:15.675355Z",
     "iopub.status.idle": "2020-10-06T06:43:15.677966Z",
     "shell.execute_reply": "2020-10-06T06:43:15.678416Z"
    }
   },
   "outputs": [],
   "source": [
    "c.execute('''\n",
    "CREATE TABLE IF NOT EXISTS \"role_in_grants\" (\n",
    "  \"person_id_snsf\" INTEGER,\n",
    "  \"role\" TEXT,\n",
    "  \"project_number\" INTEGER,\n",
    "  FOREIGN KEY(\"person_id_snsf\") REFERENCES \"people\"(\"person_id_snsf\"),\n",
    "  FOREIGN KEY(\"project_number\") REFERENCES \"grants\"(\"project_number\")\n",
    ");\n",
    "''')\n",
    "conn.commit()"
   ]
  },
  {
   "cell_type": "code",
   "execution_count": 21,
   "metadata": {
    "execution": {
     "iopub.execute_input": "2020-10-06T06:43:15.682909Z",
     "iopub.status.busy": "2020-10-06T06:43:15.682043Z",
     "iopub.status.idle": "2020-10-06T06:43:17.824602Z",
     "shell.execute_reply": "2020-10-06T06:43:17.825053Z"
    }
   },
   "outputs": [],
   "source": [
    "grants.to_sql('grants', con=conn, if_exists='replace', index=False)\n",
    "people.to_sql('people', con=conn, if_exists='replace', index=False)\n",
    "role_in_grants.to_sql('role_in_grants', con=conn, if_exists='replace', index=False)"
   ]
  },
  {
   "cell_type": "code",
   "execution_count": null,
   "metadata": {},
   "outputs": [],
   "source": []
  }
 ],
 "metadata": {
  "kernelspec": {
   "display_name": "Python 3",
   "language": "python",
   "name": "python3"
  },
  "language_info": {
   "codemirror_mode": {
    "name": "ipython",
    "version": 3
   },
   "file_extension": ".py",
   "mimetype": "text/x-python",
   "name": "python",
   "nbconvert_exporter": "python",
   "pygments_lexer": "ipython3",
   "version": "3.8.3"
  }
 },
 "nbformat": 4,
 "nbformat_minor": 4
}
