{
 "cells": [
  {
   "cell_type": "markdown",
   "metadata": {},
   "source": [
    "# Preprocessing SNSF Public Data"
   ]
  },
  {
   "cell_type": "code",
   "execution_count": 1,
   "metadata": {},
   "outputs": [],
   "source": [
    "import os\n",
    "\n",
    "import numpy as np\n",
    "import pandas as pd\n",
    "import feather\n",
    "import matplotlib.pyplot as plt\n",
    "import seaborn as sns\n",
    "import requests"
   ]
  },
  {
   "cell_type": "markdown",
   "metadata": {},
   "source": [
    "## Gather"
   ]
  },
  {
   "cell_type": "code",
   "execution_count": 2,
   "metadata": {},
   "outputs": [],
   "source": [
    "# no need live updates...\n",
    "UPDATE_DATA = False\n",
    "RAW_DATA_FOLDER = '../rawdata'\n",
    "DATA_FOLDER = '../data/'\n",
    "\n",
    "if not os.path.exists(RAW_DATA_FOLDER):\n",
    "    os.makedirs(RAW_DATA_FOLDER)"
   ]
  },
  {
   "cell_type": "code",
   "execution_count": 3,
   "metadata": {},
   "outputs": [],
   "source": [
    "# grants and grantees\n",
    "file_names = [\"P3_GrantExport.csv\", \"P3_PersonExport.csv\"]\n",
    "\n",
    "if UPDATE_DATA:\n",
    "    for k in file_names:\n",
    "        url_grant = \"http://p3.snf.ch/P3Export/\" + k\n",
    "        print(url_grant)\n",
    "        response = requests.get(url_grant)\n",
    "        assert response.status_code == 200, \"status code for\" + k + \" not ok\"\n",
    "        \n",
    "        with open(os.path.join(RAW_DATA_FOLDER, k), mode=\"wb\") as file:\n",
    "                file.write(response.content)"
   ]
  },
  {
   "cell_type": "code",
   "execution_count": 4,
   "metadata": {},
   "outputs": [],
   "source": [
    "grants_raw = pd.read_csv(os.path.join(RAW_DATA_FOLDER, file_names[0]), sep=';')\n",
    "person_raw = pd.read_csv(os.path.join(RAW_DATA_FOLDER, file_names[1]), sep=';')"
   ]
  },
  {
   "cell_type": "markdown",
   "metadata": {},
   "source": [
    "## Assess"
   ]
  },
  {
   "cell_type": "code",
   "execution_count": 5,
   "metadata": {},
   "outputs": [
    {
     "data": {
      "text/html": [
       "<div>\n",
       "<style scoped>\n",
       "    .dataframe tbody tr th:only-of-type {\n",
       "        vertical-align: middle;\n",
       "    }\n",
       "\n",
       "    .dataframe tbody tr th {\n",
       "        vertical-align: top;\n",
       "    }\n",
       "\n",
       "    .dataframe thead th {\n",
       "        text-align: right;\n",
       "    }\n",
       "</style>\n",
       "<table border=\"1\" class=\"dataframe\">\n",
       "  <thead>\n",
       "    <tr style=\"text-align: right;\">\n",
       "      <th></th>\n",
       "      <th>Project Number</th>\n",
       "      <th>Project Number String</th>\n",
       "      <th>Project Title</th>\n",
       "      <th>Project Title English</th>\n",
       "      <th>Responsible Applicant</th>\n",
       "      <th>Funding Instrument</th>\n",
       "      <th>Funding Instrument Hierarchy</th>\n",
       "      <th>Institution</th>\n",
       "      <th>Institution Country</th>\n",
       "      <th>University</th>\n",
       "      <th>Discipline Number</th>\n",
       "      <th>Discipline Name</th>\n",
       "      <th>Discipline Name Hierarchy</th>\n",
       "      <th>All disciplines</th>\n",
       "      <th>Start Date</th>\n",
       "      <th>End Date</th>\n",
       "      <th>Approved Amount</th>\n",
       "      <th>Keywords</th>\n",
       "    </tr>\n",
       "  </thead>\n",
       "  <tbody>\n",
       "    <tr>\n",
       "      <th>54032</th>\n",
       "      <td>144921</td>\n",
       "      <td>PP00P2_144921</td>\n",
       "      <td>Search for the Higgs boson in tau pairs at the...</td>\n",
       "      <td>Search for the Higgs boson in tau pairs at the...</td>\n",
       "      <td>Chiochia Vincenzo</td>\n",
       "      <td>SNSF Professorships</td>\n",
       "      <td>Careers</td>\n",
       "      <td>Physik-Institut Universität Zürich</td>\n",
       "      <td>Switzerland</td>\n",
       "      <td>University of Zurich - ZH</td>\n",
       "      <td>20403</td>\n",
       "      <td>Particle Physics</td>\n",
       "      <td>Mathematics, Natural- and Engineering Sciences...</td>\n",
       "      <td>20403</td>\n",
       "      <td>01.04.2013</td>\n",
       "      <td>31.03.2015</td>\n",
       "      <td>693367.00</td>\n",
       "      <td>Higgs; CMS; Pixel; Physics; Particle; detector...</td>\n",
       "    </tr>\n",
       "    <tr>\n",
       "      <th>74128</th>\n",
       "      <td>192372</td>\n",
       "      <td>100017_192372</td>\n",
       "      <td>Aleatoric Governance: Elite transformation in ...</td>\n",
       "      <td>Aleatoric Governance: Elite transformation in ...</td>\n",
       "      <td>Rost Katja</td>\n",
       "      <td>Project funding (Div. I-III)</td>\n",
       "      <td>Project funding</td>\n",
       "      <td>Soziologisches Institut Universität Zürich</td>\n",
       "      <td>Switzerland</td>\n",
       "      <td>University of Zurich - ZH</td>\n",
       "      <td>10201</td>\n",
       "      <td>Sociology</td>\n",
       "      <td>Humanities and Social Sciences;Sociology, soci...</td>\n",
       "      <td>10201/10202/10302/10204</td>\n",
       "      <td>01.08.2020</td>\n",
       "      <td>31.07.2024</td>\n",
       "      <td>579722.00</td>\n",
       "      <td>partial random selections; network analysis; l...</td>\n",
       "    </tr>\n",
       "    <tr>\n",
       "      <th>6917</th>\n",
       "      <td>8134</td>\n",
       "      <td>3100-008134</td>\n",
       "      <td>Epidemiologia della resistenza plasmidica agli...</td>\n",
       "      <td>NaN</td>\n",
       "      <td>Piffaretti Jean-Claude</td>\n",
       "      <td>Project funding (Div. I-III)</td>\n",
       "      <td>Project funding</td>\n",
       "      <td>Laboratorio di Microbiologia Applicata DACD-SU...</td>\n",
       "      <td>Switzerland</td>\n",
       "      <td>University of Applied Sciences and Arts of Sou...</td>\n",
       "      <td>30307</td>\n",
       "      <td>Medical Microbiology</td>\n",
       "      <td>Biology and Medicine;Basic Medical Sciences</td>\n",
       "      <td>30307</td>\n",
       "      <td>01.10.1984</td>\n",
       "      <td>30.09.1986</td>\n",
       "      <td>100641.00</td>\n",
       "      <td>NaN</td>\n",
       "    </tr>\n",
       "  </tbody>\n",
       "</table>\n",
       "</div>"
      ],
      "text/plain": [
       "       Project Number Project Number String  \\\n",
       "54032          144921         PP00P2_144921   \n",
       "74128          192372         100017_192372   \n",
       "6917             8134           3100-008134   \n",
       "\n",
       "                                           Project Title  \\\n",
       "54032  Search for the Higgs boson in tau pairs at the...   \n",
       "74128  Aleatoric Governance: Elite transformation in ...   \n",
       "6917   Epidemiologia della resistenza plasmidica agli...   \n",
       "\n",
       "                                   Project Title English  \\\n",
       "54032  Search for the Higgs boson in tau pairs at the...   \n",
       "74128  Aleatoric Governance: Elite transformation in ...   \n",
       "6917                                                 NaN   \n",
       "\n",
       "        Responsible Applicant            Funding Instrument  \\\n",
       "54032       Chiochia Vincenzo           SNSF Professorships   \n",
       "74128              Rost Katja  Project funding (Div. I-III)   \n",
       "6917   Piffaretti Jean-Claude  Project funding (Div. I-III)   \n",
       "\n",
       "      Funding Instrument Hierarchy  \\\n",
       "54032                      Careers   \n",
       "74128              Project funding   \n",
       "6917               Project funding   \n",
       "\n",
       "                                             Institution Institution Country  \\\n",
       "54032                 Physik-Institut Universität Zürich         Switzerland   \n",
       "74128         Soziologisches Institut Universität Zürich         Switzerland   \n",
       "6917   Laboratorio di Microbiologia Applicata DACD-SU...         Switzerland   \n",
       "\n",
       "                                              University  Discipline Number  \\\n",
       "54032                          University of Zurich - ZH              20403   \n",
       "74128                          University of Zurich - ZH              10201   \n",
       "6917   University of Applied Sciences and Arts of Sou...              30307   \n",
       "\n",
       "            Discipline Name  \\\n",
       "54032      Particle Physics   \n",
       "74128             Sociology   \n",
       "6917   Medical Microbiology   \n",
       "\n",
       "                               Discipline Name Hierarchy  \\\n",
       "54032  Mathematics, Natural- and Engineering Sciences...   \n",
       "74128  Humanities and Social Sciences;Sociology, soci...   \n",
       "6917         Biology and Medicine;Basic Medical Sciences   \n",
       "\n",
       "               All disciplines  Start Date    End Date Approved Amount  \\\n",
       "54032                    20403  01.04.2013  31.03.2015       693367.00   \n",
       "74128  10201/10202/10302/10204  01.08.2020  31.07.2024       579722.00   \n",
       "6917                     30307  01.10.1984  30.09.1986       100641.00   \n",
       "\n",
       "                                                Keywords  \n",
       "54032  Higgs; CMS; Pixel; Physics; Particle; detector...  \n",
       "74128  partial random selections; network analysis; l...  \n",
       "6917                                                 NaN  "
      ]
     },
     "execution_count": 5,
     "metadata": {},
     "output_type": "execute_result"
    }
   ],
   "source": [
    "grants_raw.sample(3)"
   ]
  },
  {
   "cell_type": "code",
   "execution_count": 6,
   "metadata": {
    "tags": []
   },
   "outputs": [
    {
     "name": "stdout",
     "output_type": "stream",
     "text": [
      "<class 'pandas.core.frame.DataFrame'>\n",
      "RangeIndex: 74519 entries, 0 to 74518\n",
      "Data columns (total 18 columns):\n",
      " #   Column                        Non-Null Count  Dtype \n",
      "---  ------                        --------------  ----- \n",
      " 0   Project Number                74519 non-null  int64 \n",
      " 1   Project Number String         74519 non-null  object\n",
      " 2   Project Title                 74519 non-null  object\n",
      " 3   Project Title English         31400 non-null  object\n",
      " 4   Responsible Applicant         74519 non-null  object\n",
      " 5   Funding Instrument            74519 non-null  object\n",
      " 6   Funding Instrument Hierarchy  74479 non-null  object\n",
      " 7   Institution                   68860 non-null  object\n",
      " 8   Institution Country           68794 non-null  object\n",
      " 9   University                    74514 non-null  object\n",
      " 10  Discipline Number             74519 non-null  int64 \n",
      " 11  Discipline Name               74519 non-null  object\n",
      " 12  Discipline Name Hierarchy     74020 non-null  object\n",
      " 13  All disciplines               74519 non-null  object\n",
      " 14  Start Date                    74517 non-null  object\n",
      " 15  End Date                      74517 non-null  object\n",
      " 16  Approved Amount               74519 non-null  object\n",
      " 17  Keywords                      49409 non-null  object\n",
      "dtypes: int64(2), object(16)\n",
      "memory usage: 10.2+ MB\n"
     ]
    }
   ],
   "source": [
    "grants_raw.info()"
   ]
  },
  {
   "cell_type": "code",
   "execution_count": 7,
   "metadata": {},
   "outputs": [
    {
     "data": {
      "text/html": [
       "<div>\n",
       "<style scoped>\n",
       "    .dataframe tbody tr th:only-of-type {\n",
       "        vertical-align: middle;\n",
       "    }\n",
       "\n",
       "    .dataframe tbody tr th {\n",
       "        vertical-align: top;\n",
       "    }\n",
       "\n",
       "    .dataframe thead th {\n",
       "        text-align: right;\n",
       "    }\n",
       "</style>\n",
       "<table border=\"1\" class=\"dataframe\">\n",
       "  <thead>\n",
       "    <tr style=\"text-align: right;\">\n",
       "      <th></th>\n",
       "      <th>Last Name</th>\n",
       "      <th>First Name</th>\n",
       "      <th>Gender</th>\n",
       "      <th>Institute Name</th>\n",
       "      <th>Institute Place</th>\n",
       "      <th>Person ID SNSF</th>\n",
       "      <th>OCRID</th>\n",
       "      <th>Projects as responsible Applicant</th>\n",
       "      <th>Projects as Applicant</th>\n",
       "      <th>Projects as Partner</th>\n",
       "      <th>Projects as Practice Partner</th>\n",
       "      <th>Projects as Employee</th>\n",
       "      <th>Projects as Contact Person</th>\n",
       "    </tr>\n",
       "  </thead>\n",
       "  <tbody>\n",
       "    <tr>\n",
       "      <th>101912</th>\n",
       "      <td>van Eemeren</td>\n",
       "      <td>Frans H.</td>\n",
       "      <td>male</td>\n",
       "      <td>Faculteit Geesteswetenschappen Universiteit va...</td>\n",
       "      <td>Amsterdam</td>\n",
       "      <td>546827</td>\n",
       "      <td>NaN</td>\n",
       "      <td>NaN</td>\n",
       "      <td>123089</td>\n",
       "      <td>NaN</td>\n",
       "      <td>NaN</td>\n",
       "      <td>NaN</td>\n",
       "      <td>NaN</td>\n",
       "    </tr>\n",
       "    <tr>\n",
       "      <th>47703</th>\n",
       "      <td>Jipa</td>\n",
       "      <td>Dan</td>\n",
       "      <td>male</td>\n",
       "      <td>Nat. Institute for Marine Ecology and Geo-Ecol...</td>\n",
       "      <td>Bucharest</td>\n",
       "      <td>90080</td>\n",
       "      <td>NaN</td>\n",
       "      <td>NaN</td>\n",
       "      <td>51841</td>\n",
       "      <td>NaN</td>\n",
       "      <td>NaN</td>\n",
       "      <td>NaN</td>\n",
       "      <td>NaN</td>\n",
       "    </tr>\n",
       "    <tr>\n",
       "      <th>71229</th>\n",
       "      <td>Niraghatam</td>\n",
       "      <td>Bhargava Ram</td>\n",
       "      <td>male</td>\n",
       "      <td>Laboratorium für Physikalische Chemie D-CHAB E...</td>\n",
       "      <td>Zürich</td>\n",
       "      <td>640816</td>\n",
       "      <td>NaN</td>\n",
       "      <td>NaN</td>\n",
       "      <td>NaN</td>\n",
       "      <td>NaN</td>\n",
       "      <td>NaN</td>\n",
       "      <td>159875</td>\n",
       "      <td>NaN</td>\n",
       "    </tr>\n",
       "  </tbody>\n",
       "</table>\n",
       "</div>"
      ],
      "text/plain": [
       "          Last Name    First Name Gender  \\\n",
       "101912  van Eemeren      Frans H.   male   \n",
       "47703          Jipa           Dan   male   \n",
       "71229    Niraghatam  Bhargava Ram   male   \n",
       "\n",
       "                                           Institute Name Institute Place  \\\n",
       "101912  Faculteit Geesteswetenschappen Universiteit va...       Amsterdam   \n",
       "47703   Nat. Institute for Marine Ecology and Geo-Ecol...       Bucharest   \n",
       "71229   Laboratorium für Physikalische Chemie D-CHAB E...          Zürich   \n",
       "\n",
       "        Person ID SNSF OCRID Projects as responsible Applicant  \\\n",
       "101912          546827   NaN                               NaN   \n",
       "47703            90080   NaN                               NaN   \n",
       "71229           640816   NaN                               NaN   \n",
       "\n",
       "       Projects as Applicant Projects as Partner Projects as Practice Partner  \\\n",
       "101912                123089                 NaN                          NaN   \n",
       "47703                  51841                 NaN                          NaN   \n",
       "71229                    NaN                 NaN                          NaN   \n",
       "\n",
       "       Projects as Employee Projects as Contact Person  \n",
       "101912                  NaN                        NaN  \n",
       "47703                   NaN                        NaN  \n",
       "71229                159875                        NaN  "
      ]
     },
     "execution_count": 7,
     "metadata": {},
     "output_type": "execute_result"
    }
   ],
   "source": [
    "person_raw.sample(3)"
   ]
  },
  {
   "cell_type": "code",
   "execution_count": 8,
   "metadata": {
    "tags": []
   },
   "outputs": [
    {
     "name": "stdout",
     "output_type": "stream",
     "text": [
      "<class 'pandas.core.frame.DataFrame'>\n",
      "RangeIndex: 111903 entries, 0 to 111902\n",
      "Data columns (total 13 columns):\n",
      " #   Column                             Non-Null Count   Dtype \n",
      "---  ------                             --------------   ----- \n",
      " 0   Last Name                          111903 non-null  object\n",
      " 1   First Name                         111896 non-null  object\n",
      " 2   Gender                             111903 non-null  object\n",
      " 3   Institute Name                     54186 non-null   object\n",
      " 4   Institute Place                    54083 non-null   object\n",
      " 5   Person ID SNSF                     111903 non-null  int64 \n",
      " 6   OCRID                              7092 non-null    object\n",
      " 7   Projects as responsible Applicant  28898 non-null   object\n",
      " 8   Projects as Applicant              18934 non-null   object\n",
      " 9   Projects as Partner                5300 non-null    object\n",
      " 10  Projects as Practice Partner       735 non-null     object\n",
      " 11  Projects as Employee               82000 non-null   object\n",
      " 12  Projects as Contact Person         766 non-null     object\n",
      "dtypes: int64(1), object(12)\n",
      "memory usage: 11.1+ MB\n"
     ]
    }
   ],
   "source": [
    "person_raw.info()"
   ]
  },
  {
   "cell_type": "code",
   "execution_count": null,
   "metadata": {},
   "outputs": [],
   "source": []
  },
  {
   "cell_type": "markdown",
   "metadata": {},
   "source": [
    "### Tidiness\n",
    "\n",
    "#### `grants_raw` (ie. `GrantExport`) table\n",
    "\n",
    "- `Funding Instrument`, `Funding Instrument Hierarchy` are confusing\n",
    "- `Discipline`, ... `Discipline Name Hierarchy` are confusing\n",
    "- Details about `Institute` out of scope\n",
    "- `University` contains both long and short names: details out of scope\n",
    "\n",
    "#### `person_raw` (ie. `PersonExport`) table\n",
    "\n",
    "- **`Project as...` contain mixed variables and observations for grant and role**\n",
    "- Details about `Institute` out of scope\n",
    "\n",
    "#### Quality\n",
    "\n",
    "- spaces in column names\n",
    "\n",
    "##### `grants_raw` (ie. `GrantExport`) table\n",
    "\n",
    "- **`Project Number` and `Project Number String` are redundant**\n",
    "- **`Project Number String` encodes division information?**\n",
    "- **`Responsible Applicant` not an uid**\n",
    "- **`Start Date` and `End Date` string, not date type**\n",
    "- **`Aproved Amount` not numeric**\n",
    "- `Project Title English` often redundant or null\n",
    "- `Institution` free text? if yes, is it relevant? better named as department?\n",
    "- `Keywords` not consistent (see keyword extraction from abstracts)\n",
    "\n",
    "##### `person_raw` (ie. `PersonExport`) table\n",
    "\n",
    "- typo in col name for `ORCID`\n",
    "- gender not categorical variable"
   ]
  },
  {
   "cell_type": "markdown",
   "metadata": {},
   "source": [
    "## Clean"
   ]
  },
  {
   "cell_type": "code",
   "execution_count": 9,
   "metadata": {
    "tags": []
   },
   "outputs": [],
   "source": [
    "# good practice\n",
    "grants = grants_raw.copy()\n",
    "grants.columns = grants.columns.str.lower().str.replace(' ', '_')\n",
    "person = person_raw.copy()\n",
    "person.columns = person.columns.str.lower().str.replace(' ', '_')"
   ]
  },
  {
   "cell_type": "code",
   "execution_count": 10,
   "metadata": {},
   "outputs": [],
   "source": [
    "# https://github.com/zambujo/p3data/issues/4\n",
    "# grantee table\n",
    "grantee = (person\n",
    "    .melt('person_id_snsf', \n",
    "          var_name='role', \n",
    "          value_name='project_number', \n",
    "          value_vars=['projects_as_responsible_applicant', \n",
    "                      'projects_as_applicant', \n",
    "                      'projects_as_partner', \n",
    "                      'projects_as_practice_partner', \n",
    "                      'projects_as_employee', \n",
    "                      'projects_as_contact_person']).dropna())\n",
    "grantee = grantee.assign(project_number=grantee.project_number.str.split(';')).explode('project_number').reset_index(drop=True)\n",
    "grantee['role'] = grantee.role.str[12:]\n",
    "grantee.drop_duplicates(inplace=True)\n",
    "grantee['project_number'] = pd.to_numeric(grantee['project_number'], errors='coerce')\n",
    "grantee=grantee.dropna()\n",
    "grantee['project_number'] = grantee['project_number'].astype(int)\n",
    "grantee['role'] = grantee['role'].astype('category')\n",
    "assert grantee.project_number.dtype.name == 'int64', 'project number column not an integer'\n",
    "assert grantee.role.dtype.name == 'category', 'role column not a category'\n"
   ]
  },
  {
   "cell_type": "code",
   "execution_count": 11,
   "metadata": {
    "tags": []
   },
   "outputs": [
    {
     "data": {
      "text/plain": [
       "male      70007\n",
       "female    41896\n",
       "Name: gender, dtype: int64"
      ]
     },
     "execution_count": 11,
     "metadata": {},
     "output_type": "execute_result"
    }
   ],
   "source": [
    "# person table\n",
    "person = person[['person_id_snsf', 'gender', 'first_name', 'last_name']]\n",
    "person['gender'] = person['gender'].astype('category')\n",
    "assert person.gender.dtype.name == 'category', 'gender column not a category'\n",
    "person.gender.value_counts()"
   ]
  },
  {
   "cell_type": "code",
   "execution_count": 12,
   "metadata": {
    "tags": []
   },
   "outputs": [
    {
     "name": "stdout",
     "output_type": "stream",
     "text": [
      "<class 'pandas.core.frame.DataFrame'>\n",
      "Int64Index: 255507 entries, 0 to 258790\n",
      "Data columns (total 3 columns):\n",
      " #   Column          Non-Null Count   Dtype   \n",
      "---  ------          --------------   -----   \n",
      " 0   person_id_snsf  255507 non-null  int64   \n",
      " 1   role            255507 non-null  category\n",
      " 2   project_number  255507 non-null  int64   \n",
      "dtypes: category(1), int64(2)\n",
      "memory usage: 6.1 MB\n",
      "<class 'pandas.core.frame.DataFrame'>\n",
      "RangeIndex: 111903 entries, 0 to 111902\n",
      "Data columns (total 4 columns):\n",
      " #   Column          Non-Null Count   Dtype   \n",
      "---  ------          --------------   -----   \n",
      " 0   person_id_snsf  111903 non-null  int64   \n",
      " 1   gender          111903 non-null  category\n",
      " 2   first_name      111896 non-null  object  \n",
      " 3   last_name       111903 non-null  object  \n",
      "dtypes: category(1), int64(1), object(2)\n",
      "memory usage: 2.7+ MB\n"
     ]
    }
   ],
   "source": [
    "grantee.info()\n",
    "person.info()"
   ]
  },
  {
   "cell_type": "code",
   "execution_count": 13,
   "metadata": {
    "tags": []
   },
   "outputs": [],
   "source": [
    "# https://github.com/zambujo/p3data/issues/1\n",
    "grants['string_code'] = grants.project_number_string.str[:-6]\n",
    "grants['string_code'] = grants.string_code.str.replace('[-_ ]', '')\n",
    "grants = grants.drop('project_number_string', 1)"
   ]
  },
  {
   "cell_type": "code",
   "execution_count": 14,
   "metadata": {},
   "outputs": [
    {
     "data": {
      "text/html": [
       "<div>\n",
       "<style scoped>\n",
       "    .dataframe tbody tr th:only-of-type {\n",
       "        vertical-align: middle;\n",
       "    }\n",
       "\n",
       "    .dataframe tbody tr th {\n",
       "        vertical-align: top;\n",
       "    }\n",
       "\n",
       "    .dataframe thead th {\n",
       "        text-align: right;\n",
       "    }\n",
       "</style>\n",
       "<table border=\"1\" class=\"dataframe\">\n",
       "  <thead>\n",
       "    <tr style=\"text-align: right;\">\n",
       "      <th></th>\n",
       "      <th>string_code</th>\n",
       "      <th>funding_instrument</th>\n",
       "      <th>count</th>\n",
       "    </tr>\n",
       "  </thead>\n",
       "  <tbody>\n",
       "    <tr>\n",
       "      <th>181</th>\n",
       "      <td>2000</td>\n",
       "      <td>Project funding (Div. I-III)</td>\n",
       "      <td>6072</td>\n",
       "    </tr>\n",
       "    <tr>\n",
       "      <th>286</th>\n",
       "      <td>3100</td>\n",
       "      <td>Project funding (Div. I-III)</td>\n",
       "      <td>4997</td>\n",
       "    </tr>\n",
       "    <tr>\n",
       "      <th>183</th>\n",
       "      <td>200020</td>\n",
       "      <td>Project funding (Div. I-III)</td>\n",
       "      <td>3506</td>\n",
       "    </tr>\n",
       "    <tr>\n",
       "      <th>188</th>\n",
       "      <td>200021</td>\n",
       "      <td>Project funding (Div. I-III)</td>\n",
       "      <td>3306</td>\n",
       "    </tr>\n",
       "    <tr>\n",
       "      <th>292</th>\n",
       "      <td>31003A</td>\n",
       "      <td>Project funding (Div. I-III)</td>\n",
       "      <td>2677</td>\n",
       "    </tr>\n",
       "  </tbody>\n",
       "</table>\n",
       "</div>"
      ],
      "text/plain": [
       "    string_code            funding_instrument  count\n",
       "181        2000  Project funding (Div. I-III)   6072\n",
       "286        3100  Project funding (Div. I-III)   4997\n",
       "183      200020  Project funding (Div. I-III)   3506\n",
       "188      200021  Project funding (Div. I-III)   3306\n",
       "292      31003A  Project funding (Div. I-III)   2677"
      ]
     },
     "execution_count": 14,
     "metadata": {},
     "output_type": "execute_result"
    }
   ],
   "source": [
    "# not clear what to test... [TODO]\n",
    "grants.groupby([\"string_code\", \"funding_instrument\"]).size().reset_index().rename(columns={0: \"count\"}).sort_values(by='count', ascending=False).head()"
   ]
  },
  {
   "cell_type": "code",
   "execution_count": 15,
   "metadata": {},
   "outputs": [],
   "source": [
    "# https://github.com/zambujo/p3data/issues/6\n",
    "grants['approved_amount'] = pd.to_numeric(grants['approved_amount'], errors='coerce')\n",
    "grants['start_date'] = pd.to_datetime(grants.start_date)\n",
    "grants['end_date'] = pd.to_datetime(grants.end_date)\n",
    "\n",
    "assert grants.approved_amount.dtype.name == 'float64', 'approved amount column not a float'\n",
    "assert grants.start_date.dtype.name == 'datetime64[ns]', 'start_date column not datetime type'\n",
    "assert grants.end_date.dtype.name == 'datetime64[ns]', 'end_date column not datetime type'"
   ]
  },
  {
   "cell_type": "code",
   "execution_count": 16,
   "metadata": {},
   "outputs": [],
   "source": [
    "grants[['domain','topic']] = grants.discipline_name_hierarchy.str.split(';', expand=True)\n",
    "grants['domain'] = grants['domain'].astype('category')\n",
    "grants['topic'] = grants['topic'].astype('category')\n",
    "grants['discipline_name'] = grants['discipline_name'].astype('category')\n",
    "\n",
    "assert grants.domain.dtype.name == 'category', 'domain column not a category'\n",
    "assert grants.topic.dtype.name == 'category', 'topic column not a category'\n",
    "assert grants.discipline_name.dtype.name == 'category', 'discipline name column not a category'"
   ]
  },
  {
   "cell_type": "code",
   "execution_count": 17,
   "metadata": {},
   "outputs": [],
   "source": [
    "grants[['programme', 'programme_details', 'programme_specifics']] = grants.funding_instrument_hierarchy.str.split(';', expand=True)\n",
    "grants['programme'] = grants['programme'].astype('category')\n",
    "grants['programme_details'] = grants['programme_details'].astype('category')\n",
    "grants['programme_specifics'] = grants['programme_specifics'].astype('category')\n",
    "grants['funding_instrument'] = grants['funding_instrument'].astype('category')\n",
    "\n",
    "assert grants.programme.dtype.name == 'category', 'programme column not a category'\n",
    "assert grants.programme_details.dtype.name == 'category', 'programme details column not a category'\n",
    "assert grants.programme_specifics.dtype.name == 'category', 'programme specifics column not a category'\n",
    "assert grants.funding_instrument.dtype.name == 'category', 'funding instrument column not a category'"
   ]
  },
  {
   "cell_type": "code",
   "execution_count": 18,
   "metadata": {
    "tags": []
   },
   "outputs": [
    {
     "name": "stdout",
     "output_type": "stream",
     "text": [
      "<class 'pandas.core.frame.DataFrame'>\n",
      "RangeIndex: 74519 entries, 0 to 74518\n",
      "Data columns (total 10 columns):\n",
      " #   Column              Non-Null Count  Dtype         \n",
      "---  ------              --------------  -----         \n",
      " 0   project_number      74519 non-null  int64         \n",
      " 1   programme           74479 non-null  category      \n",
      " 2   funding_instrument  74519 non-null  category      \n",
      " 3   domain              74020 non-null  category      \n",
      " 4   topic               70748 non-null  category      \n",
      " 5   discipline_name     74519 non-null  category      \n",
      " 6   discipline_number   74519 non-null  int64         \n",
      " 7   start_date          74517 non-null  datetime64[ns]\n",
      " 8   end_date            74517 non-null  datetime64[ns]\n",
      " 9   approved_amount     61387 non-null  float64       \n",
      "dtypes: category(5), datetime64[ns](2), float64(1), int64(2)\n",
      "memory usage: 3.4 MB\n"
     ]
    }
   ],
   "source": [
    "grants = grants[['project_number', 'programme', 'funding_instrument', 'domain', 'topic', 'discipline_name', 'discipline_number', 'start_date', 'end_date', 'approved_amount']]\n",
    "grants.info()"
   ]
  },
  {
   "cell_type": "code",
   "execution_count": 19,
   "metadata": {},
   "outputs": [],
   "source": [
    "# minimal set of tidy datasets\n",
    "grants.reset_index().to_feather(os.path.join(DATA_FOLDER, 'project.feather'))\n",
    "person.reset_index().to_feather(os.path.join(DATA_FOLDER, 'person.feather'))\n",
    "grantee.reset_index().to_feather(os.path.join(DATA_FOLDER, 'grantee.feather'))"
   ]
  }
 ],
 "metadata": {
  "kernelspec": {
   "display_name": "Python 3",
   "language": "python",
   "name": "python3"
  },
  "language_info": {
   "codemirror_mode": {
    "name": "ipython",
    "version": 3
   },
   "file_extension": ".py",
   "mimetype": "text/x-python",
   "name": "python",
   "nbconvert_exporter": "python",
   "pygments_lexer": "ipython3",
   "version": "3.8.3"
  }
 },
 "nbformat": 4,
 "nbformat_minor": 4
}
