{
 "cells": [
  {
   "cell_type": "markdown",
   "metadata": {},
   "source": [
    "# Preprocessing SNSF Public Data"
   ]
  },
  {
   "cell_type": "code",
   "execution_count": 1,
   "metadata": {},
   "outputs": [],
   "source": [
    "import os\n",
    "import sqlite3\n",
    "\n",
    "import numpy as np\n",
    "import pandas as pd\n",
    "\n",
    "RAW_DATA_FOLDER = '../rawdata'\n",
    "DATA_FOLDER = '../data/'"
   ]
  },
  {
   "cell_type": "code",
   "execution_count": 2,
   "metadata": {},
   "outputs": [],
   "source": [
    "# file_names = os.listdir(RAW_DATA_FOLDER) # file_names[0], file_names[1]\n",
    "grants = pd.read_csv(os.path.join(RAW_DATA_FOLDER, 'P3_GrantExport.csv'), sep=';')\n",
    "people = pd.read_csv(os.path.join(RAW_DATA_FOLDER, 'P3_PersonExport.csv'), sep=';')"
   ]
  },
  {
   "cell_type": "markdown",
   "metadata": {},
   "source": [
    "## Assess"
   ]
  },
  {
   "cell_type": "code",
   "execution_count": 3,
   "metadata": {},
   "outputs": [
    {
     "data": {
      "text/html": [
       "<div>\n",
       "<style scoped>\n",
       "    .dataframe tbody tr th:only-of-type {\n",
       "        vertical-align: middle;\n",
       "    }\n",
       "\n",
       "    .dataframe tbody tr th {\n",
       "        vertical-align: top;\n",
       "    }\n",
       "\n",
       "    .dataframe thead th {\n",
       "        text-align: right;\n",
       "    }\n",
       "</style>\n",
       "<table border=\"1\" class=\"dataframe\">\n",
       "  <thead>\n",
       "    <tr style=\"text-align: right;\">\n",
       "      <th></th>\n",
       "      <th>Project Number</th>\n",
       "      <th>Project Number String</th>\n",
       "      <th>Project Title</th>\n",
       "      <th>Project Title English</th>\n",
       "      <th>Responsible Applicant</th>\n",
       "      <th>Funding Instrument</th>\n",
       "      <th>Funding Instrument Hierarchy</th>\n",
       "      <th>Institution</th>\n",
       "      <th>Institution Country</th>\n",
       "      <th>University</th>\n",
       "      <th>Discipline Number</th>\n",
       "      <th>Discipline Name</th>\n",
       "      <th>Discipline Name Hierarchy</th>\n",
       "      <th>All disciplines</th>\n",
       "      <th>Start Date</th>\n",
       "      <th>End Date</th>\n",
       "      <th>Approved Amount</th>\n",
       "      <th>Keywords</th>\n",
       "    </tr>\n",
       "  </thead>\n",
       "  <tbody>\n",
       "    <tr>\n",
       "      <th>43961</th>\n",
       "      <td>124814</td>\n",
       "      <td>13DPD6_124814</td>\n",
       "      <td>Automatisation des enquêtes sur l'exposition d...</td>\n",
       "      <td>NaN</td>\n",
       "      <td>Le Coultre Régis</td>\n",
       "      <td>DORE project funding</td>\n",
       "      <td>Project funding;Project funding (special)</td>\n",
       "      <td>Filière Technique en radiologie médicale TRM H...</td>\n",
       "      <td>Switzerland</td>\n",
       "      <td>University of Applied Sciences and Arts Wester...</td>\n",
       "      <td>10602</td>\n",
       "      <td>Health</td>\n",
       "      <td>Humanities and Social Sciences;Sociology, soci...</td>\n",
       "      <td>10602</td>\n",
       "      <td>01.04.2009</td>\n",
       "      <td>30.09.2011</td>\n",
       "      <td>141140.00</td>\n",
       "      <td>Radiology; Radiation protection; Patient dose;...</td>\n",
       "    </tr>\n",
       "    <tr>\n",
       "      <th>28301</th>\n",
       "      <td>64695</td>\n",
       "      <td>2000-064695</td>\n",
       "      <td>Particle-particle and particle-matrix interact...</td>\n",
       "      <td>NaN</td>\n",
       "      <td>Suter Ulrich W.</td>\n",
       "      <td>Project funding (Div. I-III)</td>\n",
       "      <td>Project funding</td>\n",
       "      <td>Institut für Polymere ETH Zürich</td>\n",
       "      <td>Switzerland</td>\n",
       "      <td>ETH Zurich - ETHZ</td>\n",
       "      <td>20505</td>\n",
       "      <td>Material Sciences</td>\n",
       "      <td>Mathematics, Natural- and Engineering Sciences...</td>\n",
       "      <td>20505</td>\n",
       "      <td>01.04.2002</td>\n",
       "      <td>31.03.2005</td>\n",
       "      <td>420239.80</td>\n",
       "      <td>NANOCOMPOSITE; POLYMER; INTERACTION; ASPECT RA...</td>\n",
       "    </tr>\n",
       "    <tr>\n",
       "      <th>56118</th>\n",
       "      <td>149006</td>\n",
       "      <td>10CO11_149006</td>\n",
       "      <td>The Gender of Authority: Celibate and Childles...</td>\n",
       "      <td>NaN</td>\n",
       "      <td>Höfert Almut</td>\n",
       "      <td>Scientific Conferences</td>\n",
       "      <td>Science communication</td>\n",
       "      <td>Historisches Seminar Universität Zürich</td>\n",
       "      <td>Switzerland</td>\n",
       "      <td>University of Zurich - ZH</td>\n",
       "      <td>10301</td>\n",
       "      <td>General history (without pre-and early history)</td>\n",
       "      <td>Humanities and Social Sciences;Theology &amp; reli...</td>\n",
       "      <td>10301/10303/10503/10403/10103</td>\n",
       "      <td>01.08.2013</td>\n",
       "      <td>31.10.2013</td>\n",
       "      <td>10000.00</td>\n",
       "      <td>Globalgeschichte; Geschichte der Männlichkeite...</td>\n",
       "    </tr>\n",
       "  </tbody>\n",
       "</table>\n",
       "</div>"
      ],
      "text/plain": [
       "       Project Number Project Number String  \\\n",
       "43961          124814         13DPD6_124814   \n",
       "28301           64695           2000-064695   \n",
       "56118          149006         10CO11_149006   \n",
       "\n",
       "                                           Project Title  \\\n",
       "43961  Automatisation des enquêtes sur l'exposition d...   \n",
       "28301  Particle-particle and particle-matrix interact...   \n",
       "56118  The Gender of Authority: Celibate and Childles...   \n",
       "\n",
       "      Project Title English Responsible Applicant  \\\n",
       "43961                   NaN      Le Coultre Régis   \n",
       "28301                   NaN       Suter Ulrich W.   \n",
       "56118                   NaN          Höfert Almut   \n",
       "\n",
       "                 Funding Instrument  \\\n",
       "43961          DORE project funding   \n",
       "28301  Project funding (Div. I-III)   \n",
       "56118        Scientific Conferences   \n",
       "\n",
       "                    Funding Instrument Hierarchy  \\\n",
       "43961  Project funding;Project funding (special)   \n",
       "28301                            Project funding   \n",
       "56118                      Science communication   \n",
       "\n",
       "                                             Institution Institution Country  \\\n",
       "43961  Filière Technique en radiologie médicale TRM H...         Switzerland   \n",
       "28301                   Institut für Polymere ETH Zürich         Switzerland   \n",
       "56118            Historisches Seminar Universität Zürich         Switzerland   \n",
       "\n",
       "                                              University  Discipline Number  \\\n",
       "43961  University of Applied Sciences and Arts Wester...              10602   \n",
       "28301                                  ETH Zurich - ETHZ              20505   \n",
       "56118                          University of Zurich - ZH              10301   \n",
       "\n",
       "                                       Discipline Name  \\\n",
       "43961                                           Health   \n",
       "28301                                Material Sciences   \n",
       "56118  General history (without pre-and early history)   \n",
       "\n",
       "                               Discipline Name Hierarchy  \\\n",
       "43961  Humanities and Social Sciences;Sociology, soci...   \n",
       "28301  Mathematics, Natural- and Engineering Sciences...   \n",
       "56118  Humanities and Social Sciences;Theology & reli...   \n",
       "\n",
       "                     All disciplines  Start Date    End Date Approved Amount  \\\n",
       "43961                          10602  01.04.2009  30.09.2011       141140.00   \n",
       "28301                          20505  01.04.2002  31.03.2005       420239.80   \n",
       "56118  10301/10303/10503/10403/10103  01.08.2013  31.10.2013        10000.00   \n",
       "\n",
       "                                                Keywords  \n",
       "43961  Radiology; Radiation protection; Patient dose;...  \n",
       "28301  NANOCOMPOSITE; POLYMER; INTERACTION; ASPECT RA...  \n",
       "56118  Globalgeschichte; Geschichte der Männlichkeite...  "
      ]
     },
     "execution_count": 3,
     "metadata": {},
     "output_type": "execute_result"
    }
   ],
   "source": [
    "grants.sample(3)"
   ]
  },
  {
   "cell_type": "code",
   "execution_count": 4,
   "metadata": {},
   "outputs": [
    {
     "data": {
      "text/html": [
       "<div>\n",
       "<style scoped>\n",
       "    .dataframe tbody tr th:only-of-type {\n",
       "        vertical-align: middle;\n",
       "    }\n",
       "\n",
       "    .dataframe tbody tr th {\n",
       "        vertical-align: top;\n",
       "    }\n",
       "\n",
       "    .dataframe thead th {\n",
       "        text-align: right;\n",
       "    }\n",
       "</style>\n",
       "<table border=\"1\" class=\"dataframe\">\n",
       "  <thead>\n",
       "    <tr style=\"text-align: right;\">\n",
       "      <th></th>\n",
       "      <th>Last Name</th>\n",
       "      <th>First Name</th>\n",
       "      <th>Gender</th>\n",
       "      <th>Institute Name</th>\n",
       "      <th>Institute Place</th>\n",
       "      <th>Person ID SNSF</th>\n",
       "      <th>OCRID</th>\n",
       "      <th>Projects as responsible Applicant</th>\n",
       "      <th>Projects as Applicant</th>\n",
       "      <th>Projects as Partner</th>\n",
       "      <th>Projects as Practice Partner</th>\n",
       "      <th>Projects as Employee</th>\n",
       "      <th>Projects as Contact Person</th>\n",
       "    </tr>\n",
       "  </thead>\n",
       "  <tbody>\n",
       "    <tr>\n",
       "      <th>74509</th>\n",
       "      <td>Pascale</td>\n",
       "      <td>Patrizio</td>\n",
       "      <td>male</td>\n",
       "      <td>CHUV</td>\n",
       "      <td>Lausanne</td>\n",
       "      <td>584122</td>\n",
       "      <td>0000-0001-7328-2481</td>\n",
       "      <td>134268;192720</td>\n",
       "      <td>NaN</td>\n",
       "      <td>NaN</td>\n",
       "      <td>NaN</td>\n",
       "      <td>NaN</td>\n",
       "      <td>NaN</td>\n",
       "    </tr>\n",
       "    <tr>\n",
       "      <th>82756</th>\n",
       "      <td>Roditi</td>\n",
       "      <td>Isabel</td>\n",
       "      <td>female</td>\n",
       "      <td>Institut für Zellbiologie Departement Biologie...</td>\n",
       "      <td>Bern</td>\n",
       "      <td>31289</td>\n",
       "      <td>0000-0003-2812-6513</td>\n",
       "      <td>30233;30964;40501;48987;50932;63987;111663;112...</td>\n",
       "      <td>37379;117446</td>\n",
       "      <td>191762</td>\n",
       "      <td>NaN</td>\n",
       "      <td>NaN</td>\n",
       "      <td>NaN</td>\n",
       "    </tr>\n",
       "    <tr>\n",
       "      <th>93636</th>\n",
       "      <td>Sobolev</td>\n",
       "      <td>Andrej N.</td>\n",
       "      <td>male</td>\n",
       "      <td>NaN</td>\n",
       "      <td>NaN</td>\n",
       "      <td>638691</td>\n",
       "      <td>NaN</td>\n",
       "      <td>NaN</td>\n",
       "      <td>NaN</td>\n",
       "      <td>177557</td>\n",
       "      <td>NaN</td>\n",
       "      <td>NaN</td>\n",
       "      <td>NaN</td>\n",
       "    </tr>\n",
       "  </tbody>\n",
       "</table>\n",
       "</div>"
      ],
      "text/plain": [
       "      Last Name First Name  Gender  \\\n",
       "74509   Pascale   Patrizio    male   \n",
       "82756    Roditi     Isabel  female   \n",
       "93636   Sobolev  Andrej N.    male   \n",
       "\n",
       "                                          Institute Name Institute Place  \\\n",
       "74509                                               CHUV        Lausanne   \n",
       "82756  Institut für Zellbiologie Departement Biologie...            Bern   \n",
       "93636                                                NaN             NaN   \n",
       "\n",
       "       Person ID SNSF                OCRID  \\\n",
       "74509          584122  0000-0001-7328-2481   \n",
       "82756           31289  0000-0003-2812-6513   \n",
       "93636          638691                  NaN   \n",
       "\n",
       "                       Projects as responsible Applicant  \\\n",
       "74509                                      134268;192720   \n",
       "82756  30233;30964;40501;48987;50932;63987;111663;112...   \n",
       "93636                                                NaN   \n",
       "\n",
       "      Projects as Applicant Projects as Partner Projects as Practice Partner  \\\n",
       "74509                   NaN                 NaN                          NaN   \n",
       "82756          37379;117446              191762                          NaN   \n",
       "93636                   NaN              177557                          NaN   \n",
       "\n",
       "      Projects as Employee Projects as Contact Person  \n",
       "74509                  NaN                        NaN  \n",
       "82756                  NaN                        NaN  \n",
       "93636                  NaN                        NaN  "
      ]
     },
     "execution_count": 4,
     "metadata": {},
     "output_type": "execute_result"
    }
   ],
   "source": [
    "people.sample(3)"
   ]
  },
  {
   "cell_type": "code",
   "execution_count": 5,
   "metadata": {
    "tags": []
   },
   "outputs": [
    {
     "name": "stdout",
     "output_type": "stream",
     "text": [
      "<class 'pandas.core.frame.DataFrame'>\n",
      "RangeIndex: 74807 entries, 0 to 74806\n",
      "Data columns (total 18 columns):\n",
      " #   Column                        Non-Null Count  Dtype \n",
      "---  ------                        --------------  ----- \n",
      " 0   Project Number                74807 non-null  int64 \n",
      " 1   Project Number String         74807 non-null  object\n",
      " 2   Project Title                 74807 non-null  object\n",
      " 3   Project Title English         31553 non-null  object\n",
      " 4   Responsible Applicant         74807 non-null  object\n",
      " 5   Funding Instrument            74807 non-null  object\n",
      " 6   Funding Instrument Hierarchy  74767 non-null  object\n",
      " 7   Institution                   69131 non-null  object\n",
      " 8   Institution Country           69066 non-null  object\n",
      " 9   University                    74802 non-null  object\n",
      " 10  Discipline Number             74807 non-null  int64 \n",
      " 11  Discipline Name               74807 non-null  object\n",
      " 12  Discipline Name Hierarchy     74303 non-null  object\n",
      " 13  All disciplines               74807 non-null  object\n",
      " 14  Start Date                    74805 non-null  object\n",
      " 15  End Date                      74805 non-null  object\n",
      " 16  Approved Amount               74807 non-null  object\n",
      " 17  Keywords                      49697 non-null  object\n",
      "dtypes: int64(2), object(16)\n",
      "memory usage: 10.3+ MB\n"
     ]
    }
   ],
   "source": [
    "grants.info()"
   ]
  },
  {
   "cell_type": "code",
   "execution_count": 6,
   "metadata": {},
   "outputs": [
    {
     "name": "stdout",
     "output_type": "stream",
     "text": [
      "<class 'pandas.core.frame.DataFrame'>\n",
      "RangeIndex: 112476 entries, 0 to 112475\n",
      "Data columns (total 13 columns):\n",
      " #   Column                             Non-Null Count   Dtype \n",
      "---  ------                             --------------   ----- \n",
      " 0   Last Name                          112476 non-null  object\n",
      " 1   First Name                         112469 non-null  object\n",
      " 2   Gender                             112476 non-null  object\n",
      " 3   Institute Name                     54497 non-null   object\n",
      " 4   Institute Place                    54393 non-null   object\n",
      " 5   Person ID SNSF                     112476 non-null  int64 \n",
      " 6   OCRID                              7328 non-null    object\n",
      " 7   Projects as responsible Applicant  29056 non-null   object\n",
      " 8   Projects as Applicant              18969 non-null   object\n",
      " 9   Projects as Partner                5460 non-null    object\n",
      " 10  Projects as Practice Partner       735 non-null     object\n",
      " 11  Projects as Employee               82415 non-null   object\n",
      " 12  Projects as Contact Person         766 non-null     object\n",
      "dtypes: int64(1), object(12)\n",
      "memory usage: 11.2+ MB\n"
     ]
    }
   ],
   "source": [
    "people.info()"
   ]
  },
  {
   "cell_type": "markdown",
   "metadata": {},
   "source": [
    "### Tidiness\n",
    "\n",
    "#### `grants` (ie. `GrantExport`) table\n",
    "\n",
    "- `Funding Instrument`, `Funding Instrument Hierarchy` are confusing\n",
    "- `Discipline`, ... `Discipline Name Hierarchy` are confusing\n",
    "- Details about `Institute` out of scope\n",
    "- `University` contains both long and short names: details out of scope\n",
    "\n",
    "#### `people` (ie. `PersonExport`) table\n",
    "\n",
    "- [x]`Project as...` contain mixed variables and observations for grant and role\n",
    "- Details about `Institute` out of scope\n",
    "\n",
    "#### Quality\n",
    "\n",
    "- [x] spaces in column names\n",
    "\n",
    "##### `grants` (ie. `GrantExport`) table\n",
    "\n",
    "- [x] `Project Number` and `Project Number String` are redundant\n",
    "- [x] `Project Number String` encodes division information?\n",
    "- [x] `Responsible Applicant` not an uid\n",
    "- [x] `Start Date` and `End Date` string, not date type\n",
    "- [x] `Aproved Amount` not numeric\n",
    "- [x] 2 observations without `start_date` or `end_date`\n",
    "- `Project Title English` often redundant or null\n",
    "- `Institution` free text? if yes, is it relevant? better named as department?\n",
    "- `Keywords` not consistent (see keyword extraction from abstracts)\n",
    "\n",
    "##### `people` (ie. `PersonExport`) table\n",
    "\n",
    "- typo in col name for `ORCID`\n",
    "- gender not categorical variable\n",
    "- make sure `person_id_snsf` is unique"
   ]
  },
  {
   "cell_type": "markdown",
   "metadata": {},
   "source": [
    "## Clean"
   ]
  },
  {
   "cell_type": "code",
   "execution_count": 7,
   "metadata": {},
   "outputs": [],
   "source": [
    "# Fix column names\n",
    "grants.columns = grants.columns.str.lower().str.replace(' ', '_')\n",
    "people.columns = people.columns.str.lower().str.replace(' ', '_')\n",
    "\n",
    "assert all(grants.columns.str.contains(' ') == False), 'Space in grants column names'\n",
    "assert all(people.columns.str.contains(' ') == False), 'Space in people column names'\n",
    "assert all(grants.columns == grants.columns.str.lower()), 'Uppercase in grants column names'\n",
    "assert all(people.columns == people.columns.str.lower()), 'Uppercase in people column names'"
   ]
  },
  {
   "cell_type": "code",
   "execution_count": 8,
   "metadata": {},
   "outputs": [],
   "source": [
    "# https://github.com/zambujo/p3data/issues/4\n",
    "role_types = (np.array(people.columns[people.columns.\n",
    "                                        str.contains('projects_as_')]))\n",
    "role_in_grants = (people\n",
    "    .melt('person_id_snsf', \n",
    "          var_name='role', \n",
    "          value_name='project_number', \n",
    "          value_vars=role_types).dropna())\n",
    "role_in_grants = (role_in_grants.\n",
    "                      assign(project_number=role_in_grants.\n",
    "                      project_number.str.split(';')).\n",
    "                      explode('project_number').\n",
    "                      reset_index(drop=True))\n",
    "role_in_grants['role'] = role_in_grants.role.str[12:] # remove 'projects_as_'\n",
    "role_in_grants['project_number'] = pd.to_numeric(role_in_grants['project_number'], \n",
    "                                                 errors='coerce')\n",
    "role_in_grants=role_in_grants.dropna()\n",
    "role_in_grants['project_number'] = role_in_grants['project_number'].astype(int)\n",
    "role_in_grants.drop_duplicates(inplace=True)\n",
    "\n",
    "# role_in_grants.role.value_counts()\n",
    "assert role_in_grants.project_number.dtype.name == 'int64', 'project number column not an integer'"
   ]
  },
  {
   "cell_type": "code",
   "execution_count": 9,
   "metadata": {
    "tags": []
   },
   "outputs": [],
   "source": [
    "# people table\n",
    "people = people[['person_id_snsf', 'gender', 'first_name', 'last_name']]\n",
    "people = people.drop_duplicates()\n",
    "\n",
    "assert all(people.person_id_snsf.duplicated() == False), 'person_id_snsf contains duplicates'"
   ]
  },
  {
   "cell_type": "code",
   "execution_count": 10,
   "metadata": {
    "tags": []
   },
   "outputs": [
    {
     "name": "stdout",
     "output_type": "stream",
     "text": [
      "<class 'pandas.core.frame.DataFrame'>\n",
      "Int64Index: 256654 entries, 0 to 259956\n",
      "Data columns (total 3 columns):\n",
      " #   Column          Non-Null Count   Dtype \n",
      "---  ------          --------------   ----- \n",
      " 0   person_id_snsf  256654 non-null  int64 \n",
      " 1   role            256654 non-null  object\n",
      " 2   project_number  256654 non-null  int64 \n",
      "dtypes: int64(2), object(1)\n",
      "memory usage: 7.8+ MB\n"
     ]
    }
   ],
   "source": [
    "role_in_grants.info()"
   ]
  },
  {
   "cell_type": "code",
   "execution_count": 11,
   "metadata": {},
   "outputs": [
    {
     "name": "stdout",
     "output_type": "stream",
     "text": [
      "<class 'pandas.core.frame.DataFrame'>\n",
      "Int64Index: 111690 entries, 0 to 112475\n",
      "Data columns (total 4 columns):\n",
      " #   Column          Non-Null Count   Dtype \n",
      "---  ------          --------------   ----- \n",
      " 0   person_id_snsf  111690 non-null  int64 \n",
      " 1   gender          111690 non-null  object\n",
      " 2   first_name      111683 non-null  object\n",
      " 3   last_name       111690 non-null  object\n",
      "dtypes: int64(1), object(3)\n",
      "memory usage: 4.3+ MB\n"
     ]
    }
   ],
   "source": [
    "people.info()"
   ]
  },
  {
   "cell_type": "code",
   "execution_count": 12,
   "metadata": {
    "tags": []
   },
   "outputs": [],
   "source": [
    "# https://github.com/zambujo/p3data/issues/1\n",
    "# remove ending project_number >> remove ending separator(s)\n",
    "grants['string_code'] = (\n",
    "    grants.project_number_string.\n",
    "        str.replace('([0-9]+)$', '').\n",
    "        str.replace('[^a-zA-Z0-9]+$', ''))\n",
    "grants = grants.drop('project_number_string', 1)"
   ]
  },
  {
   "cell_type": "code",
   "execution_count": 19,
   "metadata": {},
   "outputs": [],
   "source": [
    "# string_code vs funding_instrument\n",
    "# grants.groupby([\"string_code\", \"funding_instrument\"]).size().reset_index().rename(columns={0: \"count\"}).sort_values(by='count', ascending=False)"
   ]
  },
  {
   "cell_type": "code",
   "execution_count": 20,
   "metadata": {},
   "outputs": [],
   "source": [
    "# https://github.com/zambujo/p3data/issues/6\n",
    "grants['approved_amount'] = pd.to_numeric(grants['approved_amount'], errors='coerce')\n",
    "grants['start_date'] = pd.to_datetime(grants.start_date)\n",
    "grants['end_date'] = pd.to_datetime(grants.end_date)\n",
    "\n",
    "assert grants.approved_amount.dtype.name == 'float64', 'approved amount column not a float'\n",
    "assert grants.start_date.dtype.name == 'datetime64[ns]', 'start_date column not datetime type'\n",
    "assert grants.end_date.dtype.name == 'datetime64[ns]', 'end_date column not datetime type'"
   ]
  },
  {
   "cell_type": "code",
   "execution_count": 21,
   "metadata": {},
   "outputs": [],
   "source": [
    "# https://github.com/zambujo/p3data/issues/13\n",
    "grants=grants.dropna(subset=['start_date'])\n",
    "grants=grants.dropna(subset=['end_date']) # to be on safe side\n",
    "\n",
    "assert all(pd.isna(grants.start_date) == False), 'NA values in grants.start_date'\n",
    "assert all(pd.isna(grants.end_date) == False), 'NA values in grants.end_date'"
   ]
  },
  {
   "cell_type": "code",
   "execution_count": 24,
   "metadata": {},
   "outputs": [],
   "source": [
    "grants[['domain','topic']] = grants.discipline_name_hierarchy.str.split(';', expand=True)\n",
    "grants[['programme', 'programme_details', 'programme_specifics']] = grants.funding_instrument_hierarchy.str.split(';', expand=True)\n",
    "grants = grants[['project_number', 'programme', 'funding_instrument', 'domain', 'topic', 'discipline_name', 'discipline_number', 'start_date', 'end_date', 'approved_amount']]"
   ]
  },
  {
   "cell_type": "code",
   "execution_count": 25,
   "metadata": {},
   "outputs": [],
   "source": [
    "conn = sqlite3.connect('../data/p3.db')\n",
    "c = conn.cursor()"
   ]
  },
  {
   "cell_type": "code",
   "execution_count": 26,
   "metadata": {},
   "outputs": [],
   "source": [
    "c.execute('''\n",
    "CREATE TABLE IF NOT EXISTS \"grants\" (\n",
    "  \"project_number\" INTEGER,\n",
    "  \"programme\" TEXT,\n",
    "  \"funding_instrument\" TEXT,\n",
    "  \"domain\" TEXT,\n",
    "  \"topic\" TEXT,\n",
    "  \"discipline_name\" TEXT,\n",
    "  \"discipline_number\" INTEGER,\n",
    "  \"start_date\" DATETIME,\n",
    "  \"end_date\" DATETIME,\n",
    "  \"approved_amount\" FLOAT,\n",
    "  PRIMARY KEY(\"project_number\")\n",
    ");\n",
    "''')\n",
    "conn.commit()"
   ]
  },
  {
   "cell_type": "code",
   "execution_count": 27,
   "metadata": {},
   "outputs": [],
   "source": [
    "c.execute('''\n",
    "CREATE TABLE IF NOT EXISTS \"people\" (\n",
    "  \"person_id_snsf\" INTEGER,\n",
    "  \"gender\" TEXT,\n",
    "  \"first_name\" TEXT,\n",
    "  \"last_name\" TEXT,\n",
    "  PRIMARY KEY(\"person_id_snsf\")\n",
    ");\n",
    "''')\n",
    "conn.commit()"
   ]
  },
  {
   "cell_type": "code",
   "execution_count": 28,
   "metadata": {},
   "outputs": [],
   "source": [
    "c.execute('''\n",
    "CREATE TABLE IF NOT EXISTS \"role_in_grants\" (\n",
    "  \"person_id_snsf\" INTEGER,\n",
    "  \"role\" TEXT,\n",
    "  \"project_number\" INTEGER,\n",
    "  FOREIGN KEY(\"person_id_snsf\") REFERENCES \"people\"(\"person_id_snsf\"),\n",
    "  FOREIGN KEY(\"project_number\") REFERENCES \"grants\"(\"project_number\")\n",
    ");\n",
    "''')\n",
    "conn.commit()"
   ]
  },
  {
   "cell_type": "code",
   "execution_count": 29,
   "metadata": {},
   "outputs": [],
   "source": [
    "grants.to_sql('grants', con=conn, if_exists='replace', index=False)\n",
    "people.to_sql('people', con=conn, if_exists='replace', index=False)\n",
    "role_in_grants.to_sql('role_in_grants', con=conn, if_exists='replace', index=False)"
   ]
  },
  {
   "cell_type": "code",
   "execution_count": null,
   "metadata": {},
   "outputs": [],
   "source": []
  }
 ],
 "metadata": {
  "kernelspec": {
   "display_name": "Python 3",
   "language": "python",
   "name": "python3"
  },
  "language_info": {
   "codemirror_mode": {
    "name": "ipython",
    "version": 3
   },
   "file_extension": ".py",
   "mimetype": "text/x-python",
   "name": "python",
   "nbconvert_exporter": "python",
   "pygments_lexer": "ipython3",
   "version": "3.8.3"
  }
 },
 "nbformat": 4,
 "nbformat_minor": 4
}
