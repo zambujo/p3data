{
 "cells": [
  {
   "cell_type": "markdown",
   "metadata": {},
   "source": [
    "# Preprocessing SNSF Public Data"
   ]
  },
  {
   "cell_type": "code",
   "execution_count": 1,
   "metadata": {},
   "outputs": [],
   "source": [
    "import os\n",
    "import sqlite3\n",
    "from sqlite3 import Error\n",
    "\n",
    "import numpy as np\n",
    "import pandas as pd\n",
    "\n",
    "RAW_DATA_FOLDER = '../rawdata'\n",
    "DATA_FOLDER = '../data/'"
   ]
  },
  {
   "cell_type": "code",
   "execution_count": 2,
   "metadata": {},
   "outputs": [],
   "source": [
    "# file_names = os.listdir(RAW_DATA_FOLDER) # file_names[0], file_names[1]\n",
    "project = pd.read_csv(os.path.join(RAW_DATA_FOLDER, 'P3_GrantExport.csv'), sep=';')\n",
    "person = pd.read_csv(os.path.join(RAW_DATA_FOLDER, 'P3_PersonExport.csv'), sep=';')"
   ]
  },
  {
   "cell_type": "markdown",
   "metadata": {},
   "source": [
    "## Assess"
   ]
  },
  {
   "cell_type": "code",
   "execution_count": 3,
   "metadata": {},
   "outputs": [
    {
     "output_type": "execute_result",
     "data": {
      "text/plain": [
       "       Project Number Project Number String  \\\n",
       "23967           53914           2000-053914   \n",
       "64447          168083         PZ00P2_168083   \n",
       "10080           25192           3100-025192   \n",
       "\n",
       "                                           Project Title  \\\n",
       "23967  Sympas: Un Système de Modélisation Projective ...   \n",
       "64447  Mineralogical processes and rate of serpentini...   \n",
       "10080  Studies on manipulated yeast minichromosomes: ...   \n",
       "\n",
       "                                   Project Title English  \\\n",
       "23967                                                NaN   \n",
       "64447  Mineralogical processes and rate of serpentini...   \n",
       "10080                                                NaN   \n",
       "\n",
       "      Responsible Applicant            Funding Instrument  \\\n",
       "23967   Chabbi Drissi Houda  Project funding (Div. I-III)   \n",
       "64447    Malvoisin Benjamin                     Ambizione   \n",
       "10080           Thoma Fritz  Project funding (Div. I-III)   \n",
       "\n",
       "      Funding Instrument Hierarchy  \\\n",
       "23967              Project funding   \n",
       "64447                      Careers   \n",
       "10080              Project funding   \n",
       "\n",
       "                                             Institution Institution Country  \\\n",
       "23967  Département d'Informatique Université de Fribourg         Switzerland   \n",
       "64447  Institut des sciences de la Terre Université d...         Switzerland   \n",
       "10080               Institut für Zellbiologie ETH Zürich         Switzerland   \n",
       "\n",
       "                        University  Discipline Number         Discipline Name  \\\n",
       "23967  University of Fribourg - FR              20506  Information Technology   \n",
       "64447  University of Lausanne - LA              20801                 Geology   \n",
       "10080            ETH Zurich - ETHZ              30104                Genetics   \n",
       "\n",
       "                               Discipline Name Hierarchy All disciplines  \\\n",
       "23967  Mathematics, Natural- and Engineering Sciences...           20506   \n",
       "64447  Mathematics, Natural- and Engineering Sciences...     20801/20806   \n",
       "10080     Biology and Medicine;Basic Biological Research           30104   \n",
       "\n",
       "       Start Date    End Date Approved Amount  \\\n",
       "23967  01.01.1999  30.06.2001        85265.00   \n",
       "64447  01.09.2016  31.01.2020       535564.00   \n",
       "10080  01.10.1989  30.09.1993       415439.00   \n",
       "\n",
       "                                                Keywords  \n",
       "23967  COMPUTER VISION; RECOGNITION; NUMERICAL INDERI...  \n",
       "64447  serpentinization; mass transfer; fluid/rock in...  \n",
       "10080                                                NaN  "
      ],
      "text/html": "<div>\n<style scoped>\n    .dataframe tbody tr th:only-of-type {\n        vertical-align: middle;\n    }\n\n    .dataframe tbody tr th {\n        vertical-align: top;\n    }\n\n    .dataframe thead th {\n        text-align: right;\n    }\n</style>\n<table border=\"1\" class=\"dataframe\">\n  <thead>\n    <tr style=\"text-align: right;\">\n      <th></th>\n      <th>Project Number</th>\n      <th>Project Number String</th>\n      <th>Project Title</th>\n      <th>Project Title English</th>\n      <th>Responsible Applicant</th>\n      <th>Funding Instrument</th>\n      <th>Funding Instrument Hierarchy</th>\n      <th>Institution</th>\n      <th>Institution Country</th>\n      <th>University</th>\n      <th>Discipline Number</th>\n      <th>Discipline Name</th>\n      <th>Discipline Name Hierarchy</th>\n      <th>All disciplines</th>\n      <th>Start Date</th>\n      <th>End Date</th>\n      <th>Approved Amount</th>\n      <th>Keywords</th>\n    </tr>\n  </thead>\n  <tbody>\n    <tr>\n      <th>23967</th>\n      <td>53914</td>\n      <td>2000-053914</td>\n      <td>Sympas: Un Système de Modélisation Projective ...</td>\n      <td>NaN</td>\n      <td>Chabbi Drissi Houda</td>\n      <td>Project funding (Div. I-III)</td>\n      <td>Project funding</td>\n      <td>Département d'Informatique Université de Fribourg</td>\n      <td>Switzerland</td>\n      <td>University of Fribourg - FR</td>\n      <td>20506</td>\n      <td>Information Technology</td>\n      <td>Mathematics, Natural- and Engineering Sciences...</td>\n      <td>20506</td>\n      <td>01.01.1999</td>\n      <td>30.06.2001</td>\n      <td>85265.00</td>\n      <td>COMPUTER VISION; RECOGNITION; NUMERICAL INDERI...</td>\n    </tr>\n    <tr>\n      <th>64447</th>\n      <td>168083</td>\n      <td>PZ00P2_168083</td>\n      <td>Mineralogical processes and rate of serpentini...</td>\n      <td>Mineralogical processes and rate of serpentini...</td>\n      <td>Malvoisin Benjamin</td>\n      <td>Ambizione</td>\n      <td>Careers</td>\n      <td>Institut des sciences de la Terre Université d...</td>\n      <td>Switzerland</td>\n      <td>University of Lausanne - LA</td>\n      <td>20801</td>\n      <td>Geology</td>\n      <td>Mathematics, Natural- and Engineering Sciences...</td>\n      <td>20801/20806</td>\n      <td>01.09.2016</td>\n      <td>31.01.2020</td>\n      <td>535564.00</td>\n      <td>serpentinization; mass transfer; fluid/rock in...</td>\n    </tr>\n    <tr>\n      <th>10080</th>\n      <td>25192</td>\n      <td>3100-025192</td>\n      <td>Studies on manipulated yeast minichromosomes: ...</td>\n      <td>NaN</td>\n      <td>Thoma Fritz</td>\n      <td>Project funding (Div. I-III)</td>\n      <td>Project funding</td>\n      <td>Institut für Zellbiologie ETH Zürich</td>\n      <td>Switzerland</td>\n      <td>ETH Zurich - ETHZ</td>\n      <td>30104</td>\n      <td>Genetics</td>\n      <td>Biology and Medicine;Basic Biological Research</td>\n      <td>30104</td>\n      <td>01.10.1989</td>\n      <td>30.09.1993</td>\n      <td>415439.00</td>\n      <td>NaN</td>\n    </tr>\n  </tbody>\n</table>\n</div>"
     },
     "metadata": {},
     "execution_count": 3
    }
   ],
   "source": [
    "project.sample(3)"
   ]
  },
  {
   "cell_type": "code",
   "execution_count": 4,
   "metadata": {
    "tags": []
   },
   "outputs": [
    {
     "output_type": "stream",
     "name": "stdout",
     "text": [
      "<class 'pandas.core.frame.DataFrame'>\nRangeIndex: 74807 entries, 0 to 74806\nData columns (total 18 columns):\n #   Column                        Non-Null Count  Dtype \n---  ------                        --------------  ----- \n 0   Project Number                74807 non-null  int64 \n 1   Project Number String         74807 non-null  object\n 2   Project Title                 74807 non-null  object\n 3   Project Title English         31553 non-null  object\n 4   Responsible Applicant         74807 non-null  object\n 5   Funding Instrument            74807 non-null  object\n 6   Funding Instrument Hierarchy  74767 non-null  object\n 7   Institution                   69131 non-null  object\n 8   Institution Country           69066 non-null  object\n 9   University                    74802 non-null  object\n 10  Discipline Number             74807 non-null  int64 \n 11  Discipline Name               74807 non-null  object\n 12  Discipline Name Hierarchy     74303 non-null  object\n 13  All disciplines               74807 non-null  object\n 14  Start Date                    74805 non-null  object\n 15  End Date                      74805 non-null  object\n 16  Approved Amount               74807 non-null  object\n 17  Keywords                      49697 non-null  object\ndtypes: int64(2), object(16)\nmemory usage: 10.3+ MB\n"
     ]
    }
   ],
   "source": [
    "project.info()"
   ]
  },
  {
   "cell_type": "code",
   "execution_count": 5,
   "metadata": {},
   "outputs": [
    {
     "output_type": "execute_result",
     "data": {
      "text/plain": [
       "        Last Name First Name  Gender  \\\n",
       "72618    Oetliker    Martina  female   \n",
       "37579  Grocprescu   Gabriela  female   \n",
       "77334      Pittet      Irène  female   \n",
       "\n",
       "                                          Institute Name Institute Place  \\\n",
       "72618  Institut für chirurgische Technologien und Bio...            Bern   \n",
       "37579  Institut des sciences et ingénierie chimiques ...        Lausanne   \n",
       "77334                                                NaN             NaN   \n",
       "\n",
       "       Person ID SNSF OCRID Projects as responsible Applicant  \\\n",
       "72618           75789   NaN                               NaN   \n",
       "37579          122762   NaN                               NaN   \n",
       "77334          726779   NaN                               NaN   \n",
       "\n",
       "      Projects as Applicant Projects as Partner Projects as Practice Partner  \\\n",
       "72618                 47316                 NaN                          NaN   \n",
       "37579                 63876                 NaN                          NaN   \n",
       "77334                   NaN                 NaN                          NaN   \n",
       "\n",
       "      Projects as Employee Projects as Contact Person  \n",
       "72618                47316                        NaN  \n",
       "37579                  NaN                        NaN  \n",
       "77334        163859;190084                        NaN  "
      ],
      "text/html": "<div>\n<style scoped>\n    .dataframe tbody tr th:only-of-type {\n        vertical-align: middle;\n    }\n\n    .dataframe tbody tr th {\n        vertical-align: top;\n    }\n\n    .dataframe thead th {\n        text-align: right;\n    }\n</style>\n<table border=\"1\" class=\"dataframe\">\n  <thead>\n    <tr style=\"text-align: right;\">\n      <th></th>\n      <th>Last Name</th>\n      <th>First Name</th>\n      <th>Gender</th>\n      <th>Institute Name</th>\n      <th>Institute Place</th>\n      <th>Person ID SNSF</th>\n      <th>OCRID</th>\n      <th>Projects as responsible Applicant</th>\n      <th>Projects as Applicant</th>\n      <th>Projects as Partner</th>\n      <th>Projects as Practice Partner</th>\n      <th>Projects as Employee</th>\n      <th>Projects as Contact Person</th>\n    </tr>\n  </thead>\n  <tbody>\n    <tr>\n      <th>72618</th>\n      <td>Oetliker</td>\n      <td>Martina</td>\n      <td>female</td>\n      <td>Institut für chirurgische Technologien und Bio...</td>\n      <td>Bern</td>\n      <td>75789</td>\n      <td>NaN</td>\n      <td>NaN</td>\n      <td>47316</td>\n      <td>NaN</td>\n      <td>NaN</td>\n      <td>47316</td>\n      <td>NaN</td>\n    </tr>\n    <tr>\n      <th>37579</th>\n      <td>Grocprescu</td>\n      <td>Gabriela</td>\n      <td>female</td>\n      <td>Institut des sciences et ingénierie chimiques ...</td>\n      <td>Lausanne</td>\n      <td>122762</td>\n      <td>NaN</td>\n      <td>NaN</td>\n      <td>63876</td>\n      <td>NaN</td>\n      <td>NaN</td>\n      <td>NaN</td>\n      <td>NaN</td>\n    </tr>\n    <tr>\n      <th>77334</th>\n      <td>Pittet</td>\n      <td>Irène</td>\n      <td>female</td>\n      <td>NaN</td>\n      <td>NaN</td>\n      <td>726779</td>\n      <td>NaN</td>\n      <td>NaN</td>\n      <td>NaN</td>\n      <td>NaN</td>\n      <td>NaN</td>\n      <td>163859;190084</td>\n      <td>NaN</td>\n    </tr>\n  </tbody>\n</table>\n</div>"
     },
     "metadata": {},
     "execution_count": 5
    }
   ],
   "source": [
    "person.sample(3)"
   ]
  },
  {
   "cell_type": "code",
   "execution_count": 6,
   "metadata": {},
   "outputs": [
    {
     "output_type": "stream",
     "name": "stdout",
     "text": [
      "<class 'pandas.core.frame.DataFrame'>\nRangeIndex: 112476 entries, 0 to 112475\nData columns (total 13 columns):\n #   Column                             Non-Null Count   Dtype \n---  ------                             --------------   ----- \n 0   Last Name                          112476 non-null  object\n 1   First Name                         112469 non-null  object\n 2   Gender                             112476 non-null  object\n 3   Institute Name                     54497 non-null   object\n 4   Institute Place                    54393 non-null   object\n 5   Person ID SNSF                     112476 non-null  int64 \n 6   OCRID                              7328 non-null    object\n 7   Projects as responsible Applicant  29056 non-null   object\n 8   Projects as Applicant              18969 non-null   object\n 9   Projects as Partner                5460 non-null    object\n 10  Projects as Practice Partner       735 non-null     object\n 11  Projects as Employee               82415 non-null   object\n 12  Projects as Contact Person         766 non-null     object\ndtypes: int64(1), object(12)\nmemory usage: 11.2+ MB\n"
     ]
    }
   ],
   "source": [
    "person.info()"
   ]
  },
  {
   "cell_type": "markdown",
   "metadata": {},
   "source": [
    "### Tidiness\n",
    "\n",
    "#### `project` (ie. `GrantExport`) table\n",
    "\n",
    "- `Funding Instrument`, `Funding Instrument Hierarchy` are confusing\n",
    "- `Discipline`, ... `Discipline Name Hierarchy` are confusing\n",
    "- Details about `Institute` out of scope\n",
    "- `University` contains both long and short names: details out of scope\n",
    "\n",
    "#### `person` (ie. `PersonExport`) table\n",
    "\n",
    "- [x]`Project as...` contain mixed variables and observations for grant and role\n",
    "- Details about `Institute` out of scope\n",
    "\n",
    "#### Quality\n",
    "\n",
    "- [x] spaces in column names\n",
    "\n",
    "##### `project` (ie. `GrantExport`) table\n",
    "\n",
    "- [x] `Project Number` and `Project Number String` are redundant\n",
    "- [x] `Project Number String` encodes division information?\n",
    "- [x] `Responsible Applicant` not an uid\n",
    "- [x] `Start Date` and `End Date` string, not date type\n",
    "- [x] `Aproved Amount` not numeric\n",
    "- [x] 2 observations without `start_date` or `end_date`\n",
    "- `Project Title English` often redundant or null\n",
    "- `Institution` free text? if yes, is it relevant? better named as department?\n",
    "- `Keywords` not consistent (see keyword extraction from abstracts)\n",
    "\n",
    "##### `person` (ie. `PersonExport`) table\n",
    "\n",
    "- typo in col name for `ORCID`\n",
    "- gender not categorical variable\n",
    "- make sure `person_id_snsf` is unique"
   ]
  },
  {
   "cell_type": "markdown",
   "metadata": {},
   "source": [
    "## Clean"
   ]
  },
  {
   "cell_type": "code",
   "execution_count": 7,
   "metadata": {},
   "outputs": [],
   "source": [
    "# Fix column names\n",
    "project.columns = project.columns.str.lower().str.replace(' ', '_')\n",
    "person.columns = person.columns.str.lower().str.replace(' ', '_')\n",
    "\n",
    "assert all(project.columns.str.contains(' ') == False), 'Space in project column names'\n",
    "assert all(person.columns.str.contains(' ') == False), 'Space in person column names'\n",
    "assert all(project.columns == project.columns.str.lower()), 'Uppercase in project column names'\n",
    "assert all(person.columns == person.columns.str.lower()), 'Uppercase in person column names'"
   ]
  },
  {
   "cell_type": "code",
   "execution_count": 8,
   "metadata": {},
   "outputs": [],
   "source": [
    "# https://github.com/zambujo/p3data/issues/4\n",
    "role_types = np.array(person.columns[person.columns.str.contains('projects_as_')])\n",
    "hr = (person\n",
    "        .melt('person_id_snsf', \n",
    "              var_name='role', \n",
    "              value_name='project_number', \n",
    "              value_vars=role_types).dropna())\n",
    "hr = (hr\n",
    "        .assign(project_number=hr\n",
    "        .project_number.str.split(';'))\n",
    "        .explode('project_number')\n",
    "        .reset_index(drop=True))\n",
    "hr['role'] = hr.role.str[12:] # remove 'projects_as_'\n",
    "hr['project_number'] = pd.to_numeric(hr['project_number'], errors='coerce')\n",
    "hr=hr.dropna()\n",
    "hr['project_number'] = hr['project_number'].astype(int)\n",
    "hr.drop_duplicates(inplace=True)\n",
    "\n",
    "# hr.role.value_counts()\n",
    "assert hr.project_number.dtype.name == 'int64', 'project number column not an integer'"
   ]
  },
  {
   "cell_type": "code",
   "execution_count": 9,
   "metadata": {},
   "outputs": [],
   "source": [
    "# hr table\n",
    "hr.reset_index(inplace=True)\n",
    "hr = hr.rename(columns = {'index':'id',\n",
    "                          'project_number':'project_id', \n",
    "                          'person_id_snsf':'person_id'})\n",
    "hr = hr[['id', 'project_id', 'person_id', 'role']]\n",
    "\n",
    "assert all(hr.id.duplicated() == False), 'id contains duplicates'"
   ]
  },
  {
   "cell_type": "code",
   "execution_count": 10,
   "metadata": {
    "tags": []
   },
   "outputs": [],
   "source": [
    "# person table\n",
    "person = person.rename(columns = {'person_id_snsf':'id'})\n",
    "person = person[['id', 'gender', 'first_name', 'last_name']]\n",
    "person = person.drop_duplicates()\n",
    "\n",
    "assert all(person.id.duplicated() == False), 'id contains duplicates'"
   ]
  },
  {
   "cell_type": "code",
   "execution_count": 11,
   "metadata": {
    "tags": []
   },
   "outputs": [],
   "source": [
    "# https://github.com/zambujo/p3data/issues/1\n",
    "# remove ending project_number >> remove ending separator(s)\n",
    "project['string_code'] = (\n",
    "    project.project_number_string.\n",
    "        str.replace('([0-9]+)$', '').\n",
    "        str.replace('[^a-zA-Z0-9]+$', ''))\n",
    "project = project.drop('project_number_string', 1)"
   ]
  },
  {
   "cell_type": "code",
   "execution_count": 12,
   "metadata": {},
   "outputs": [],
   "source": [
    "# string_code vs funding_instrument\n",
    "# grants.groupby([\"string_code\", \"funding_instrument\"]).size().reset_index().rename(columns={0: \"count\"}).sort_values(by='count', ascending=False)"
   ]
  },
  {
   "cell_type": "code",
   "execution_count": 13,
   "metadata": {},
   "outputs": [],
   "source": [
    "# https://github.com/zambujo/p3data/issues/6\n",
    "project['approved_amount'] = pd.to_numeric(project['approved_amount'], errors='coerce')\n",
    "project['start_date'] = pd.to_datetime(project.start_date)\n",
    "project['end_date'] = pd.to_datetime(project.end_date)\n",
    "\n",
    "assert project.approved_amount.dtype.name == 'float64', 'approved amount column not a float'\n",
    "assert project.start_date.dtype.name == 'datetime64[ns]', 'start_date column not datetime type'\n",
    "assert project.end_date.dtype.name == 'datetime64[ns]', 'end_date column not datetime type'"
   ]
  },
  {
   "cell_type": "code",
   "execution_count": 14,
   "metadata": {},
   "outputs": [],
   "source": [
    "# https://github.com/zambujo/p3data/issues/13\n",
    "project=project.dropna(subset=['start_date'])\n",
    "project=project.dropna(subset=['end_date']) # to be on safe side\n",
    "\n",
    "assert all(pd.isna(project.start_date) == False), 'NA values in project.start_date'\n",
    "assert all(pd.isna(project.end_date) == False), 'NA values in project.end_date'"
   ]
  },
  {
   "cell_type": "code",
   "execution_count": 15,
   "metadata": {},
   "outputs": [],
   "source": [
    "# project table\n",
    "project[['domain','topic']] = project.discipline_name_hierarchy.str.split(';', expand=True)\n",
    "project[['programme', 'programme_details', 'programme_specifics']] = project.funding_instrument_hierarchy.str.split(';', expand=True)\n",
    "\n",
    "project = project.rename(columns = {'project_number':'id'})\n",
    "project = project[['id', 'programme', 'funding_instrument', 'domain', 'topic', 'discipline_name', 'start_date', 'end_date', 'approved_amount']]\n",
    "\n",
    "assert all(project.id.duplicated() == False), 'id contains duplicates'"
   ]
  },
  {
   "cell_type": "code",
   "execution_count": 18,
   "metadata": {},
   "outputs": [],
   "source": [
    "# create a database connection and a cursor object to a SQLite database\n",
    "conn = None\n",
    "try:\n",
    "    conn = sqlite3.connect('../data/p3.db')\n",
    "    c = conn.cursor()\n",
    "except Error as e:\n",
    "    print(e)"
   ]
  },
  {
   "cell_type": "code",
   "execution_count": 19,
   "metadata": {},
   "outputs": [],
   "source": [
    "sql_drop_project_table = 'DROP TABLE IF EXISTS project;'\n",
    "sql_drop_person_table =  'DROP TABLE IF EXISTS person;'\n",
    "sql_drop_hr_table =  'DROP TABLE IF EXISTS hr;'\n",
    "\n",
    "sql_create_project_table = '''\n",
    "CREATE TABLE IF NOT EXISTS project (\n",
    "  id integer PRIMARY KEY,\n",
    "  programme text,\n",
    "  funding_instrument text,\n",
    "  domain text,\n",
    "  topic text,\n",
    "  discipline_name text,\n",
    "  start_date datetime,\n",
    "  end_date datetime,\n",
    "  approved_amount float\n",
    ");'''\n",
    "\n",
    "sql_create_person_table = '''\n",
    "CREATE TABLE IF NOT EXISTS person (\n",
    "  id integer PRIMARY KEY,\n",
    "  gender text,\n",
    "  first_name text,\n",
    "  last_name text\n",
    ");'''\n",
    "\n",
    "sql_create_hr_table = '''\n",
    "CREATE TABLE IF NOT EXISTS hr (\n",
    "  id integer PRIMARY KEY,\n",
    "  project_id integer,\n",
    "  person_id integer,\n",
    "  role text,\n",
    "  FOREIGN KEY (project_id) REFERENCES project (id),\n",
    "  FOREIGN KEY (person_id) REFERENCES person (id)\n",
    ");'''\n",
    "\n",
    "def manipulate_table(conn, sql_command):\n",
    "    try:\n",
    "        c = conn.cursor()\n",
    "        c.execute(sql_command)\n",
    "        # conn.commit()\n",
    "    except Error as e:\n",
    "        print(e)\n",
    "\n",
    "if conn is not None:\n",
    "    manipulate_table(conn, sql_drop_project_table)\n",
    "    manipulate_table(conn, sql_drop_person_table)\n",
    "    manipulate_table(conn, sql_drop_hr_table)\n",
    "    manipulate_table(conn, sql_create_project_table)\n",
    "    manipulate_table(conn, sql_create_person_table)\n",
    "    manipulate_table(conn, sql_create_hr_table)\n",
    "else:\n",
    "    print(\"Problem with connection to database.\")"
   ]
  },
  {
   "cell_type": "code",
   "execution_count": 20,
   "metadata": {},
   "outputs": [],
   "source": [
    "project.to_sql('project', con=conn, if_exists='append', index=False)\n",
    "person.to_sql('person', con=conn, if_exists='append', index=False)\n",
    "hr.to_sql('hr', con=conn, if_exists='append', index=False)"
   ]
  },
  {
   "cell_type": "code",
   "execution_count": null,
   "metadata": {},
   "outputs": [],
   "source": [
    "if conn is not None:\n",
    "    conn.close()\n",
    "else:\n",
    "    print(\"Problem with connection to database.\")"
   ]
  }
 ],
 "metadata": {
  "kernelspec": {
   "display_name": "Python 3",
   "language": "python",
   "name": "python3"
  },
  "language_info": {
   "codemirror_mode": {
    "name": "ipython",
    "version": 3
   },
   "file_extension": ".py",
   "mimetype": "text/x-python",
   "name": "python",
   "nbconvert_exporter": "python",
   "pygments_lexer": "ipython3",
   "version": "3.8.5-final"
  }
 },
 "nbformat": 4,
 "nbformat_minor": 4
}