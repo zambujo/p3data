{
 "cells": [
  {
   "cell_type": "markdown",
   "metadata": {},
   "source": [
    "# Preprocessing SNSF Public Data"
   ]
  },
  {
   "cell_type": "code",
   "execution_count": 1,
   "metadata": {},
   "outputs": [],
   "source": [
    "import os\n",
    "import sqlite3\n",
    "\n",
    "import numpy as np\n",
    "import pandas as pd\n",
    "\n",
    "RAW_DATA_FOLDER = '../rawdata'\n",
    "DATA_FOLDER = '../data/'"
   ]
  },
  {
   "cell_type": "code",
   "execution_count": 2,
   "metadata": {},
   "outputs": [],
   "source": [
    "# file_names = os.listdir(RAW_DATA_FOLDER) # file_names[0], file_names[1]\n",
    "grants = pd.read_csv(os.path.join(RAW_DATA_FOLDER, 'P3_GrantExport.csv'), sep=';')\n",
    "people = pd.read_csv(os.path.join(RAW_DATA_FOLDER, 'P3_PersonExport.csv'), sep=';')"
   ]
  },
  {
   "cell_type": "markdown",
   "metadata": {},
   "source": [
    "## Assess"
   ]
  },
  {
   "cell_type": "code",
   "execution_count": 3,
   "metadata": {},
   "outputs": [
    {
     "data": {
      "text/html": [
       "<div>\n",
       "<style scoped>\n",
       "    .dataframe tbody tr th:only-of-type {\n",
       "        vertical-align: middle;\n",
       "    }\n",
       "\n",
       "    .dataframe tbody tr th {\n",
       "        vertical-align: top;\n",
       "    }\n",
       "\n",
       "    .dataframe thead th {\n",
       "        text-align: right;\n",
       "    }\n",
       "</style>\n",
       "<table border=\"1\" class=\"dataframe\">\n",
       "  <thead>\n",
       "    <tr style=\"text-align: right;\">\n",
       "      <th></th>\n",
       "      <th>Project Number</th>\n",
       "      <th>Project Number String</th>\n",
       "      <th>Project Title</th>\n",
       "      <th>Project Title English</th>\n",
       "      <th>Responsible Applicant</th>\n",
       "      <th>Funding Instrument</th>\n",
       "      <th>Funding Instrument Hierarchy</th>\n",
       "      <th>Institution</th>\n",
       "      <th>Institution Country</th>\n",
       "      <th>University</th>\n",
       "      <th>Discipline Number</th>\n",
       "      <th>Discipline Name</th>\n",
       "      <th>Discipline Name Hierarchy</th>\n",
       "      <th>All disciplines</th>\n",
       "      <th>Start Date</th>\n",
       "      <th>End Date</th>\n",
       "      <th>Approved Amount</th>\n",
       "      <th>Keywords</th>\n",
       "    </tr>\n",
       "  </thead>\n",
       "  <tbody>\n",
       "    <tr>\n",
       "      <th>7859</th>\n",
       "      <td>9294</td>\n",
       "      <td>3201-009294</td>\n",
       "      <td>Symposium: Genetics, biochemistry, physiologic...</td>\n",
       "      <td>NaN</td>\n",
       "      <td>Baumann Pierre</td>\n",
       "      <td>Scientific Conferences</td>\n",
       "      <td>Science communication</td>\n",
       "      <td>Biochimie et Psychopharmacologie clinique Cent...</td>\n",
       "      <td>Switzerland</td>\n",
       "      <td>University of Lausanne - LA</td>\n",
       "      <td>30704</td>\n",
       "      <td>Clinical Pharmacology</td>\n",
       "      <td>Biology and Medicine;Clinical Medicine</td>\n",
       "      <td>30704</td>\n",
       "      <td>01.07.1988</td>\n",
       "      <td>31.12.1988</td>\n",
       "      <td>8000.00</td>\n",
       "      <td>NaN</td>\n",
       "    </tr>\n",
       "    <tr>\n",
       "      <th>40781</th>\n",
       "      <td>118785</td>\n",
       "      <td>PBBS11-118785</td>\n",
       "      <td>Pierre Klossowski als Nietzsche-Leser</td>\n",
       "      <td>Pierre Klossowski as Nietzsche reader</td>\n",
       "      <td>Waelti Slaven</td>\n",
       "      <td>Fellowships for prospective researchers</td>\n",
       "      <td>Careers;Fellowships</td>\n",
       "      <td>Université de Paris Sorbonne (Paris IV)</td>\n",
       "      <td>France</td>\n",
       "      <td>Institution abroad - IACH</td>\n",
       "      <td>10502</td>\n",
       "      <td>Romance languages and literature</td>\n",
       "      <td>Humanities and Social Sciences;Linguistics and...</td>\n",
       "      <td>10502/10101</td>\n",
       "      <td>01.09.2007</td>\n",
       "      <td>31.08.2008</td>\n",
       "      <td>data not included in P3</td>\n",
       "      <td>klossowski; nietzsche; cultural transfer; rece...</td>\n",
       "    </tr>\n",
       "    <tr>\n",
       "      <th>65782</th>\n",
       "      <td>171242</td>\n",
       "      <td>20CO21_171242</td>\n",
       "      <td>International Workshop on 'Future Electric Pow...</td>\n",
       "      <td>International Workshop on 'Future Electric Pow...</td>\n",
       "      <td>Jacquod Philippe</td>\n",
       "      <td>Scientific Conferences</td>\n",
       "      <td>Science communication</td>\n",
       "      <td>HES-SO Valais</td>\n",
       "      <td>Switzerland</td>\n",
       "      <td>University of Applied Sciences and Arts Wester...</td>\n",
       "      <td>20504</td>\n",
       "      <td>Electrical Engineering</td>\n",
       "      <td>Mathematics, Natural- and Engineering Sciences...</td>\n",
       "      <td>20504/20506/20405</td>\n",
       "      <td>01.02.2017</td>\n",
       "      <td>30.04.2017</td>\n",
       "      <td>3984.40</td>\n",
       "      <td>Electric Power Systems; Power systems stabilit...</td>\n",
       "    </tr>\n",
       "  </tbody>\n",
       "</table>\n",
       "</div>"
      ],
      "text/plain": [
       "       Project Number Project Number String  \\\n",
       "7859             9294           3201-009294   \n",
       "40781          118785         PBBS11-118785   \n",
       "65782          171242         20CO21_171242   \n",
       "\n",
       "                                           Project Title  \\\n",
       "7859   Symposium: Genetics, biochemistry, physiologic...   \n",
       "40781              Pierre Klossowski als Nietzsche-Leser   \n",
       "65782  International Workshop on 'Future Electric Pow...   \n",
       "\n",
       "                                   Project Title English  \\\n",
       "7859                                                 NaN   \n",
       "40781              Pierre Klossowski as Nietzsche reader   \n",
       "65782  International Workshop on 'Future Electric Pow...   \n",
       "\n",
       "      Responsible Applicant                       Funding Instrument  \\\n",
       "7859         Baumann Pierre                   Scientific Conferences   \n",
       "40781         Waelti Slaven  Fellowships for prospective researchers   \n",
       "65782      Jacquod Philippe                   Scientific Conferences   \n",
       "\n",
       "      Funding Instrument Hierarchy  \\\n",
       "7859         Science communication   \n",
       "40781          Careers;Fellowships   \n",
       "65782        Science communication   \n",
       "\n",
       "                                             Institution Institution Country  \\\n",
       "7859   Biochimie et Psychopharmacologie clinique Cent...         Switzerland   \n",
       "40781            Université de Paris Sorbonne (Paris IV)              France   \n",
       "65782                                      HES-SO Valais         Switzerland   \n",
       "\n",
       "                                              University  Discipline Number  \\\n",
       "7859                         University of Lausanne - LA              30704   \n",
       "40781                          Institution abroad - IACH              10502   \n",
       "65782  University of Applied Sciences and Arts Wester...              20504   \n",
       "\n",
       "                        Discipline Name  \\\n",
       "7859              Clinical Pharmacology   \n",
       "40781  Romance languages and literature   \n",
       "65782            Electrical Engineering   \n",
       "\n",
       "                               Discipline Name Hierarchy    All disciplines  \\\n",
       "7859              Biology and Medicine;Clinical Medicine              30704   \n",
       "40781  Humanities and Social Sciences;Linguistics and...        10502/10101   \n",
       "65782  Mathematics, Natural- and Engineering Sciences...  20504/20506/20405   \n",
       "\n",
       "       Start Date    End Date          Approved Amount  \\\n",
       "7859   01.07.1988  31.12.1988                  8000.00   \n",
       "40781  01.09.2007  31.08.2008  data not included in P3   \n",
       "65782  01.02.2017  30.04.2017                  3984.40   \n",
       "\n",
       "                                                Keywords  \n",
       "7859                                                 NaN  \n",
       "40781  klossowski; nietzsche; cultural transfer; rece...  \n",
       "65782  Electric Power Systems; Power systems stabilit...  "
      ]
     },
     "execution_count": 3,
     "metadata": {},
     "output_type": "execute_result"
    }
   ],
   "source": [
    "grants.sample(3)"
   ]
  },
  {
   "cell_type": "code",
   "execution_count": 4,
   "metadata": {},
   "outputs": [
    {
     "data": {
      "text/html": [
       "<div>\n",
       "<style scoped>\n",
       "    .dataframe tbody tr th:only-of-type {\n",
       "        vertical-align: middle;\n",
       "    }\n",
       "\n",
       "    .dataframe tbody tr th {\n",
       "        vertical-align: top;\n",
       "    }\n",
       "\n",
       "    .dataframe thead th {\n",
       "        text-align: right;\n",
       "    }\n",
       "</style>\n",
       "<table border=\"1\" class=\"dataframe\">\n",
       "  <thead>\n",
       "    <tr style=\"text-align: right;\">\n",
       "      <th></th>\n",
       "      <th>Last Name</th>\n",
       "      <th>First Name</th>\n",
       "      <th>Gender</th>\n",
       "      <th>Institute Name</th>\n",
       "      <th>Institute Place</th>\n",
       "      <th>Person ID SNSF</th>\n",
       "      <th>OCRID</th>\n",
       "      <th>Projects as responsible Applicant</th>\n",
       "      <th>Projects as Applicant</th>\n",
       "      <th>Projects as Partner</th>\n",
       "      <th>Projects as Practice Partner</th>\n",
       "      <th>Projects as Employee</th>\n",
       "      <th>Projects as Contact Person</th>\n",
       "    </tr>\n",
       "  </thead>\n",
       "  <tbody>\n",
       "    <tr>\n",
       "      <th>66692</th>\n",
       "      <td>Miscoi</td>\n",
       "      <td>Gheorghe Constantin</td>\n",
       "      <td>male</td>\n",
       "      <td>Mathematics and Statistics Dept. Free Int. Uni...</td>\n",
       "      <td>Kishinev</td>\n",
       "      <td>521754</td>\n",
       "      <td>NaN</td>\n",
       "      <td>NaN</td>\n",
       "      <td>110720</td>\n",
       "      <td>NaN</td>\n",
       "      <td>NaN</td>\n",
       "      <td>NaN</td>\n",
       "      <td>NaN</td>\n",
       "    </tr>\n",
       "    <tr>\n",
       "      <th>80712</th>\n",
       "      <td>Reichler</td>\n",
       "      <td>Iris</td>\n",
       "      <td>female</td>\n",
       "      <td>Labor Endokrinologie-Diabetes-Immunologie Klin...</td>\n",
       "      <td>Zürich</td>\n",
       "      <td>135578</td>\n",
       "      <td>NaN</td>\n",
       "      <td>NaN</td>\n",
       "      <td>NaN</td>\n",
       "      <td>184706</td>\n",
       "      <td>NaN</td>\n",
       "      <td>NaN</td>\n",
       "      <td>NaN</td>\n",
       "    </tr>\n",
       "    <tr>\n",
       "      <th>85512</th>\n",
       "      <td>Saito</td>\n",
       "      <td>Kaichi</td>\n",
       "      <td>male</td>\n",
       "      <td>NaN</td>\n",
       "      <td>NaN</td>\n",
       "      <td>46249</td>\n",
       "      <td>NaN</td>\n",
       "      <td>NaN</td>\n",
       "      <td>NaN</td>\n",
       "      <td>NaN</td>\n",
       "      <td>NaN</td>\n",
       "      <td>34048;40403;47171</td>\n",
       "      <td>NaN</td>\n",
       "    </tr>\n",
       "  </tbody>\n",
       "</table>\n",
       "</div>"
      ],
      "text/plain": [
       "      Last Name           First Name  Gender  \\\n",
       "66692    Miscoi  Gheorghe Constantin    male   \n",
       "80712  Reichler                 Iris  female   \n",
       "85512     Saito               Kaichi    male   \n",
       "\n",
       "                                          Institute Name Institute Place  \\\n",
       "66692  Mathematics and Statistics Dept. Free Int. Uni...        Kishinev   \n",
       "80712  Labor Endokrinologie-Diabetes-Immunologie Klin...          Zürich   \n",
       "85512                                                NaN             NaN   \n",
       "\n",
       "       Person ID SNSF OCRID Projects as responsible Applicant  \\\n",
       "66692          521754   NaN                               NaN   \n",
       "80712          135578   NaN                               NaN   \n",
       "85512           46249   NaN                               NaN   \n",
       "\n",
       "      Projects as Applicant Projects as Partner Projects as Practice Partner  \\\n",
       "66692                110720                 NaN                          NaN   \n",
       "80712                   NaN              184706                          NaN   \n",
       "85512                   NaN                 NaN                          NaN   \n",
       "\n",
       "      Projects as Employee Projects as Contact Person  \n",
       "66692                  NaN                        NaN  \n",
       "80712                  NaN                        NaN  \n",
       "85512    34048;40403;47171                        NaN  "
      ]
     },
     "execution_count": 4,
     "metadata": {},
     "output_type": "execute_result"
    }
   ],
   "source": [
    "people.sample(3)"
   ]
  },
  {
   "cell_type": "code",
   "execution_count": 5,
   "metadata": {
    "tags": []
   },
   "outputs": [
    {
     "name": "stdout",
     "output_type": "stream",
     "text": [
      "<class 'pandas.core.frame.DataFrame'>\n",
      "RangeIndex: 74807 entries, 0 to 74806\n",
      "Data columns (total 18 columns):\n",
      " #   Column                        Non-Null Count  Dtype \n",
      "---  ------                        --------------  ----- \n",
      " 0   Project Number                74807 non-null  int64 \n",
      " 1   Project Number String         74807 non-null  object\n",
      " 2   Project Title                 74807 non-null  object\n",
      " 3   Project Title English         31553 non-null  object\n",
      " 4   Responsible Applicant         74807 non-null  object\n",
      " 5   Funding Instrument            74807 non-null  object\n",
      " 6   Funding Instrument Hierarchy  74767 non-null  object\n",
      " 7   Institution                   69131 non-null  object\n",
      " 8   Institution Country           69066 non-null  object\n",
      " 9   University                    74802 non-null  object\n",
      " 10  Discipline Number             74807 non-null  int64 \n",
      " 11  Discipline Name               74807 non-null  object\n",
      " 12  Discipline Name Hierarchy     74303 non-null  object\n",
      " 13  All disciplines               74807 non-null  object\n",
      " 14  Start Date                    74805 non-null  object\n",
      " 15  End Date                      74805 non-null  object\n",
      " 16  Approved Amount               74807 non-null  object\n",
      " 17  Keywords                      49697 non-null  object\n",
      "dtypes: int64(2), object(16)\n",
      "memory usage: 10.3+ MB\n"
     ]
    }
   ],
   "source": [
    "grants.info()"
   ]
  },
  {
   "cell_type": "code",
   "execution_count": 6,
   "metadata": {},
   "outputs": [
    {
     "name": "stdout",
     "output_type": "stream",
     "text": [
      "<class 'pandas.core.frame.DataFrame'>\n",
      "RangeIndex: 112476 entries, 0 to 112475\n",
      "Data columns (total 13 columns):\n",
      " #   Column                             Non-Null Count   Dtype \n",
      "---  ------                             --------------   ----- \n",
      " 0   Last Name                          112476 non-null  object\n",
      " 1   First Name                         112469 non-null  object\n",
      " 2   Gender                             112476 non-null  object\n",
      " 3   Institute Name                     54497 non-null   object\n",
      " 4   Institute Place                    54393 non-null   object\n",
      " 5   Person ID SNSF                     112476 non-null  int64 \n",
      " 6   OCRID                              7328 non-null    object\n",
      " 7   Projects as responsible Applicant  29056 non-null   object\n",
      " 8   Projects as Applicant              18969 non-null   object\n",
      " 9   Projects as Partner                5460 non-null    object\n",
      " 10  Projects as Practice Partner       735 non-null     object\n",
      " 11  Projects as Employee               82415 non-null   object\n",
      " 12  Projects as Contact Person         766 non-null     object\n",
      "dtypes: int64(1), object(12)\n",
      "memory usage: 11.2+ MB\n"
     ]
    }
   ],
   "source": [
    "people.info()"
   ]
  },
  {
   "cell_type": "markdown",
   "metadata": {},
   "source": [
    "### Tidiness\n",
    "\n",
    "#### `grants` (ie. `GrantExport`) table\n",
    "\n",
    "- `Funding Instrument`, `Funding Instrument Hierarchy` are confusing\n",
    "- `Discipline`, ... `Discipline Name Hierarchy` are confusing\n",
    "- Details about `Institute` out of scope\n",
    "- `University` contains both long and short names: details out of scope\n",
    "\n",
    "#### `people` (ie. `PersonExport`) table\n",
    "\n",
    "- [x]`Project as...` contain mixed variables and observations for grant and role\n",
    "- Details about `Institute` out of scope\n",
    "\n",
    "#### Quality\n",
    "\n",
    "- [x] spaces in column names\n",
    "\n",
    "##### `grants` (ie. `GrantExport`) table\n",
    "\n",
    "- [x] `Project Number` and `Project Number String` are redundant\n",
    "- [x] `Project Number String` encodes division information?\n",
    "- [x] `Responsible Applicant` not an uid\n",
    "- [x] `Start Date` and `End Date` string, not date type\n",
    "- [x] `Aproved Amount` not numeric\n",
    "- [x] 2 observations without `start_date` or `end_date`\n",
    "- `Project Title English` often redundant or null\n",
    "- `Institution` free text? if yes, is it relevant? better named as department?\n",
    "- `Keywords` not consistent (see keyword extraction from abstracts)\n",
    "\n",
    "##### `people` (ie. `PersonExport`) table\n",
    "\n",
    "- typo in col name for `ORCID`\n",
    "- gender not categorical variable\n",
    "- make sure `person_id_snsf` is unique"
   ]
  },
  {
   "cell_type": "markdown",
   "metadata": {},
   "source": [
    "## Clean"
   ]
  },
  {
   "cell_type": "code",
   "execution_count": 7,
   "metadata": {},
   "outputs": [],
   "source": [
    "# Fix column names\n",
    "grants.columns = grants.columns.str.lower().str.replace(' ', '_')\n",
    "people.columns = people.columns.str.lower().str.replace(' ', '_')\n",
    "\n",
    "assert all(grants.columns.str.contains(' ') == False), 'Space in grants column names'\n",
    "assert all(people.columns.str.contains(' ') == False), 'Space in people column names'\n",
    "assert all(grants.columns == grants.columns.str.lower()), 'Uppercase in grants column names'\n",
    "assert all(people.columns == people.columns.str.lower()), 'Uppercase in people column names'"
   ]
  },
  {
   "cell_type": "code",
   "execution_count": 8,
   "metadata": {},
   "outputs": [],
   "source": [
    "# https://github.com/zambujo/p3data/issues/4\n",
    "role_types = (np.array(people.columns[people.columns.\n",
    "                                        str.contains('projects_as_')]))\n",
    "role_in_grants = (people\n",
    "    .melt('person_id_snsf', \n",
    "          var_name='role', \n",
    "          value_name='project_number', \n",
    "          value_vars=role_types).dropna())\n",
    "role_in_grants = (role_in_grants.\n",
    "                      assign(project_number=role_in_grants.\n",
    "                      project_number.str.split(';')).\n",
    "                      explode('project_number').\n",
    "                      reset_index(drop=True))\n",
    "role_in_grants['role'] = role_in_grants.role.str[12:] # remove 'projects_as_'\n",
    "role_in_grants['project_number'] = pd.to_numeric(role_in_grants['project_number'], \n",
    "                                                 errors='coerce')\n",
    "role_in_grants=role_in_grants.dropna()\n",
    "role_in_grants['project_number'] = role_in_grants['project_number'].astype(int)\n",
    "role_in_grants.drop_duplicates(inplace=True)\n",
    "\n",
    "# role_in_grants.role.value_counts()\n",
    "assert role_in_grants.project_number.dtype.name == 'int64', 'project number column not an integer'"
   ]
  },
  {
   "cell_type": "code",
   "execution_count": 9,
   "metadata": {},
   "outputs": [],
   "source": [
    "role_in_grants.reset_index(inplace=True)\n",
    "role_in_grants = role_in_grants.rename(columns = {'index':'id'})"
   ]
  },
  {
   "cell_type": "code",
   "execution_count": 10,
   "metadata": {
    "tags": []
   },
   "outputs": [
    {
     "name": "stdout",
     "output_type": "stream",
     "text": [
      "<class 'pandas.core.frame.DataFrame'>\n",
      "RangeIndex: 256654 entries, 0 to 256653\n",
      "Data columns (total 4 columns):\n",
      " #   Column          Non-Null Count   Dtype \n",
      "---  ------          --------------   ----- \n",
      " 0   id              256654 non-null  int64 \n",
      " 1   person_id_snsf  256654 non-null  int64 \n",
      " 2   role            256654 non-null  object\n",
      " 3   project_number  256654 non-null  int64 \n",
      "dtypes: int64(3), object(1)\n",
      "memory usage: 7.8+ MB\n"
     ]
    }
   ],
   "source": [
    "role_in_grants.info()"
   ]
  },
  {
   "cell_type": "code",
   "execution_count": 11,
   "metadata": {
    "tags": []
   },
   "outputs": [],
   "source": [
    "# people table\n",
    "people = people[['person_id_snsf', 'gender', 'first_name', 'last_name']]\n",
    "people = people.drop_duplicates()\n",
    "\n",
    "assert all(people.person_id_snsf.duplicated() == False), 'person_id_snsf contains duplicates'"
   ]
  },
  {
   "cell_type": "code",
   "execution_count": 12,
   "metadata": {},
   "outputs": [
    {
     "name": "stdout",
     "output_type": "stream",
     "text": [
      "<class 'pandas.core.frame.DataFrame'>\n",
      "Int64Index: 111690 entries, 0 to 112475\n",
      "Data columns (total 4 columns):\n",
      " #   Column          Non-Null Count   Dtype \n",
      "---  ------          --------------   ----- \n",
      " 0   person_id_snsf  111690 non-null  int64 \n",
      " 1   gender          111690 non-null  object\n",
      " 2   first_name      111683 non-null  object\n",
      " 3   last_name       111690 non-null  object\n",
      "dtypes: int64(1), object(3)\n",
      "memory usage: 4.3+ MB\n"
     ]
    }
   ],
   "source": [
    "people.info()"
   ]
  },
  {
   "cell_type": "code",
   "execution_count": 13,
   "metadata": {
    "tags": []
   },
   "outputs": [],
   "source": [
    "# https://github.com/zambujo/p3data/issues/1\n",
    "# remove ending project_number >> remove ending separator(s)\n",
    "grants['string_code'] = (\n",
    "    grants.project_number_string.\n",
    "        str.replace('([0-9]+)$', '').\n",
    "        str.replace('[^a-zA-Z0-9]+$', ''))\n",
    "grants = grants.drop('project_number_string', 1)"
   ]
  },
  {
   "cell_type": "code",
   "execution_count": 14,
   "metadata": {},
   "outputs": [],
   "source": [
    "# string_code vs funding_instrument\n",
    "# grants.groupby([\"string_code\", \"funding_instrument\"]).size().reset_index().rename(columns={0: \"count\"}).sort_values(by='count', ascending=False)"
   ]
  },
  {
   "cell_type": "code",
   "execution_count": 15,
   "metadata": {},
   "outputs": [],
   "source": [
    "# https://github.com/zambujo/p3data/issues/6\n",
    "grants['approved_amount'] = pd.to_numeric(grants['approved_amount'], errors='coerce')\n",
    "grants['start_date'] = pd.to_datetime(grants.start_date)\n",
    "grants['end_date'] = pd.to_datetime(grants.end_date)\n",
    "\n",
    "assert grants.approved_amount.dtype.name == 'float64', 'approved amount column not a float'\n",
    "assert grants.start_date.dtype.name == 'datetime64[ns]', 'start_date column not datetime type'\n",
    "assert grants.end_date.dtype.name == 'datetime64[ns]', 'end_date column not datetime type'"
   ]
  },
  {
   "cell_type": "code",
   "execution_count": 16,
   "metadata": {},
   "outputs": [],
   "source": [
    "# https://github.com/zambujo/p3data/issues/13\n",
    "grants=grants.dropna(subset=['start_date'])\n",
    "grants=grants.dropna(subset=['end_date']) # to be on safe side\n",
    "\n",
    "assert all(pd.isna(grants.start_date) == False), 'NA values in grants.start_date'\n",
    "assert all(pd.isna(grants.end_date) == False), 'NA values in grants.end_date'"
   ]
  },
  {
   "cell_type": "code",
   "execution_count": 17,
   "metadata": {},
   "outputs": [],
   "source": [
    "grants[['domain','topic']] = grants.discipline_name_hierarchy.str.split(';', expand=True)\n",
    "grants[['programme', 'programme_details', 'programme_specifics']] = grants.funding_instrument_hierarchy.str.split(';', expand=True)\n",
    "grants = grants[['project_number', 'programme', 'funding_instrument', 'domain', 'topic', 'discipline_name', 'discipline_number', 'start_date', 'end_date', 'approved_amount']]"
   ]
  },
  {
   "cell_type": "code",
   "execution_count": 18,
   "metadata": {},
   "outputs": [],
   "source": [
    "conn = sqlite3.connect('../data/p3.db')\n",
    "c = conn.cursor()"
   ]
  },
  {
   "cell_type": "code",
   "execution_count": 19,
   "metadata": {},
   "outputs": [],
   "source": [
    "c.execute('''\n",
    "CREATE TABLE IF NOT EXISTS \"grants\" (\n",
    "  \"project_number\" INTEGER,\n",
    "  \"programme\" TEXT,\n",
    "  \"funding_instrument\" TEXT,\n",
    "  \"domain\" TEXT,\n",
    "  \"topic\" TEXT,\n",
    "  \"discipline_name\" TEXT,\n",
    "  \"discipline_number\" INTEGER,\n",
    "  \"start_date\" DATETIME,\n",
    "  \"end_date\" DATETIME,\n",
    "  \"approved_amount\" FLOAT,\n",
    "  PRIMARY KEY(\"project_number\")\n",
    ");\n",
    "''')\n",
    "conn.commit()"
   ]
  },
  {
   "cell_type": "code",
   "execution_count": 20,
   "metadata": {},
   "outputs": [],
   "source": [
    "c.execute('''\n",
    "CREATE TABLE IF NOT EXISTS \"people\" (\n",
    "  \"person_id_snsf\" INTEGER,\n",
    "  \"gender\" TEXT,\n",
    "  \"first_name\" TEXT,\n",
    "  \"last_name\" TEXT,\n",
    "  PRIMARY KEY(\"person_id_snsf\")\n",
    ");\n",
    "''')\n",
    "conn.commit()"
   ]
  },
  {
   "cell_type": "code",
   "execution_count": 21,
   "metadata": {},
   "outputs": [
    {
     "ename": "OperationalError",
     "evalue": "expressions prohibited in PRIMARY KEY and UNIQUE constraints",
     "output_type": "error",
     "traceback": [
      "\u001b[0;31m---------------------------------------------------------------------------\u001b[0m",
      "\u001b[0;31mOperationalError\u001b[0m                          Traceback (most recent call last)",
      "\u001b[0;32m<ipython-input-21-4fbb3fcc01a9>\u001b[0m in \u001b[0;36m<module>\u001b[0;34m\u001b[0m\n\u001b[0;32m----> 1\u001b[0;31m c.execute('''\n\u001b[0m\u001b[1;32m      2\u001b[0m CREATE TABLE IF NOT EXISTS \"role_in_grants\" (\n\u001b[1;32m      3\u001b[0m   \u001b[0;34m\"person_id_snsf\"\u001b[0m \u001b[0mINTEGER\u001b[0m\u001b[0;34m,\u001b[0m\u001b[0;34m\u001b[0m\u001b[0;34m\u001b[0m\u001b[0m\n\u001b[1;32m      4\u001b[0m   \u001b[0;34m\"role\"\u001b[0m \u001b[0mTEXT\u001b[0m\u001b[0;34m,\u001b[0m\u001b[0;34m\u001b[0m\u001b[0;34m\u001b[0m\u001b[0m\n\u001b[1;32m      5\u001b[0m   \u001b[0;34m\"project_number\"\u001b[0m \u001b[0mINTEGER\u001b[0m\u001b[0;34m,\u001b[0m\u001b[0;34m\u001b[0m\u001b[0;34m\u001b[0m\u001b[0m\n",
      "\u001b[0;31mOperationalError\u001b[0m: expressions prohibited in PRIMARY KEY and UNIQUE constraints"
     ]
    }
   ],
   "source": [
    "c.execute('''\n",
    "CREATE TABLE IF NOT EXISTS \"role_in_grants\" (\n",
    "  \"id\" INTEGER,\n",
    "  \"person_id_snsf\" INTEGER,\n",
    "  \"role\" TEXT,\n",
    "  \"project_number\" INTEGER,\n",
    "  PRIMARY KEY(\"id\"),\n",
    "  FOREIGN KEY(\"person_id_snsf\") REFERENCES \"people\"(\"person_id_snsf\"),\n",
    "  FOREIGN KEY(\"project_number\") REFERENCES \"grants\"(\"project_number\")\n",
    ");\n",
    "''')\n",
    "conn.commit()"
   ]
  },
  {
   "cell_type": "code",
   "execution_count": null,
   "metadata": {},
   "outputs": [],
   "source": [
    "grants.to_sql('grants', con=conn, if_exists='replace', index=False)\n",
    "people.to_sql('people', con=conn, if_exists='replace', index=False)\n",
    "role_in_grants.to_sql('role_in_grants', con=conn, if_exists='replace', index=False)"
   ]
  },
  {
   "cell_type": "code",
   "execution_count": null,
   "metadata": {},
   "outputs": [],
   "source": []
  }
 ],
 "metadata": {
  "kernelspec": {
   "display_name": "Python 3",
   "language": "python",
   "name": "python3"
  },
  "language_info": {
   "codemirror_mode": {
    "name": "ipython",
    "version": 3
   },
   "file_extension": ".py",
   "mimetype": "text/x-python",
   "name": "python",
   "nbconvert_exporter": "python",
   "pygments_lexer": "ipython3",
   "version": "3.8.3"
  }
 },
 "nbformat": 4,
 "nbformat_minor": 4
}
