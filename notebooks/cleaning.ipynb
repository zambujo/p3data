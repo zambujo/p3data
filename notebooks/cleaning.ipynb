{
 "cells": [
  {
   "cell_type": "markdown",
   "metadata": {},
   "source": [
    "# Preprocessing SNSF Public Data"
   ]
  },
  {
   "cell_type": "code",
   "execution_count": 1,
   "metadata": {},
   "outputs": [],
   "source": [
    "import os\n",
    "import sqlite3\n",
    "\n",
    "import numpy as np\n",
    "import pandas as pd\n",
    "\n",
    "RAW_DATA_FOLDER = '../rawdata'\n",
    "DATA_FOLDER = '../data/'"
   ]
  },
  {
   "cell_type": "code",
   "execution_count": 2,
   "metadata": {},
   "outputs": [],
   "source": [
    "# file_names = os.listdir(RAW_DATA_FOLDER) # file_names[0], file_names[1]\n",
    "project = pd.read_csv(os.path.join(RAW_DATA_FOLDER, 'P3_GrantExport.csv'), sep=';')\n",
    "person = pd.read_csv(os.path.join(RAW_DATA_FOLDER, 'P3_PersonExport.csv'), sep=';')"
   ]
  },
  {
   "cell_type": "markdown",
   "metadata": {},
   "source": [
    "## Assess"
   ]
  },
  {
   "cell_type": "code",
   "execution_count": 3,
   "metadata": {},
   "outputs": [
    {
     "output_type": "execute_result",
     "data": {
      "text/plain": [
       "       Project Number Project Number String  \\\n",
       "62252          162718         CR12I1_162718   \n",
       "26241           59268           2000-059268   \n",
       "43031          122837         B-0010-122837   \n",
       "\n",
       "                                           Project Title  \\\n",
       "62252  ‘How to grow: Planning for sustainable land us...   \n",
       "26241  Propriétés optoélectroniques de semiconducteur...   \n",
       "43031  Tugend und Rechtfertigung. Peter Martyr Vermig...   \n",
       "\n",
       "                                   Project Title English  \\\n",
       "62252  ‘How to grow: Planning for sustainable land us...   \n",
       "26241                                                NaN   \n",
       "43031  Virtue and Justification. Peter Martyr Vermigl...   \n",
       "\n",
       "      Responsible Applicant            Funding Instrument  \\\n",
       "62252        Eberle Dietmar    Interdisciplinary projects   \n",
       "26241      Zuppiroli Libero  Project funding (Div. I-III)   \n",
       "43031         Baschera Luca            Publication grants   \n",
       "\n",
       "      Funding Instrument Hierarchy  \\\n",
       "62252              Project funding   \n",
       "26241              Project funding   \n",
       "43031        Science communication   \n",
       "\n",
       "                                             Institution Institution Country  \\\n",
       "62252     Departement Architektur ETH Zürich Hönggerberg         Switzerland   \n",
       "26241  Material Science and Engineering École Polytec...         Switzerland   \n",
       "43031  Inst. für Schweiz. Reformationsgeschichte Univ...         Switzerland   \n",
       "\n",
       "                      University  Discipline Number  \\\n",
       "62252          ETH Zurich - ETHZ              10407   \n",
       "26241        EPF Lausanne - EPFL              20404   \n",
       "43031  University of Zurich - ZH              10101   \n",
       "\n",
       "                             Discipline Name  \\\n",
       "62252  Architecture and Social urban science   \n",
       "26241               Condensed Matter Physics   \n",
       "43031                             Philosophy   \n",
       "\n",
       "                               Discipline Name Hierarchy All disciplines  \\\n",
       "62252  Humanities and Social Sciences;Art studies, mu...     10407/10205   \n",
       "26241  Mathematics, Natural- and Engineering Sciences...           20404   \n",
       "43031  Humanities and Social Sciences;Linguistics and...     10101/10103   \n",
       "\n",
       "       Start Date    End Date Approved Amount  \\\n",
       "62252  01.06.2016  30.11.2020       450502.00   \n",
       "26241  01.07.2000  30.09.2002       416461.00   \n",
       "43031  01.06.2008  30.06.2008         3200.00   \n",
       "\n",
       "                                                Keywords  \n",
       "62252  urban analytics; urban design; building design...  \n",
       "26241  DYES; ORGANIC SEMI-CONDUCTORS; CONJUGATED POLY...  \n",
       "43031  Aristoteles; Ethik; Reformation; Vermigli; Str...  "
      ],
      "text/html": "<div>\n<style scoped>\n    .dataframe tbody tr th:only-of-type {\n        vertical-align: middle;\n    }\n\n    .dataframe tbody tr th {\n        vertical-align: top;\n    }\n\n    .dataframe thead th {\n        text-align: right;\n    }\n</style>\n<table border=\"1\" class=\"dataframe\">\n  <thead>\n    <tr style=\"text-align: right;\">\n      <th></th>\n      <th>Project Number</th>\n      <th>Project Number String</th>\n      <th>Project Title</th>\n      <th>Project Title English</th>\n      <th>Responsible Applicant</th>\n      <th>Funding Instrument</th>\n      <th>Funding Instrument Hierarchy</th>\n      <th>Institution</th>\n      <th>Institution Country</th>\n      <th>University</th>\n      <th>Discipline Number</th>\n      <th>Discipline Name</th>\n      <th>Discipline Name Hierarchy</th>\n      <th>All disciplines</th>\n      <th>Start Date</th>\n      <th>End Date</th>\n      <th>Approved Amount</th>\n      <th>Keywords</th>\n    </tr>\n  </thead>\n  <tbody>\n    <tr>\n      <th>62252</th>\n      <td>162718</td>\n      <td>CR12I1_162718</td>\n      <td>‘How to grow: Planning for sustainable land us...</td>\n      <td>‘How to grow: Planning for sustainable land us...</td>\n      <td>Eberle Dietmar</td>\n      <td>Interdisciplinary projects</td>\n      <td>Project funding</td>\n      <td>Departement Architektur ETH Zürich Hönggerberg</td>\n      <td>Switzerland</td>\n      <td>ETH Zurich - ETHZ</td>\n      <td>10407</td>\n      <td>Architecture and Social urban science</td>\n      <td>Humanities and Social Sciences;Art studies, mu...</td>\n      <td>10407/10205</td>\n      <td>01.06.2016</td>\n      <td>30.11.2020</td>\n      <td>450502.00</td>\n      <td>urban analytics; urban design; building design...</td>\n    </tr>\n    <tr>\n      <th>26241</th>\n      <td>59268</td>\n      <td>2000-059268</td>\n      <td>Propriétés optoélectroniques de semiconducteur...</td>\n      <td>NaN</td>\n      <td>Zuppiroli Libero</td>\n      <td>Project funding (Div. I-III)</td>\n      <td>Project funding</td>\n      <td>Material Science and Engineering École Polytec...</td>\n      <td>Switzerland</td>\n      <td>EPF Lausanne - EPFL</td>\n      <td>20404</td>\n      <td>Condensed Matter Physics</td>\n      <td>Mathematics, Natural- and Engineering Sciences...</td>\n      <td>20404</td>\n      <td>01.07.2000</td>\n      <td>30.09.2002</td>\n      <td>416461.00</td>\n      <td>DYES; ORGANIC SEMI-CONDUCTORS; CONJUGATED POLY...</td>\n    </tr>\n    <tr>\n      <th>43031</th>\n      <td>122837</td>\n      <td>B-0010-122837</td>\n      <td>Tugend und Rechtfertigung. Peter Martyr Vermig...</td>\n      <td>Virtue and Justification. Peter Martyr Vermigl...</td>\n      <td>Baschera Luca</td>\n      <td>Publication grants</td>\n      <td>Science communication</td>\n      <td>Inst. für Schweiz. Reformationsgeschichte Univ...</td>\n      <td>Switzerland</td>\n      <td>University of Zurich - ZH</td>\n      <td>10101</td>\n      <td>Philosophy</td>\n      <td>Humanities and Social Sciences;Linguistics and...</td>\n      <td>10101/10103</td>\n      <td>01.06.2008</td>\n      <td>30.06.2008</td>\n      <td>3200.00</td>\n      <td>Aristoteles; Ethik; Reformation; Vermigli; Str...</td>\n    </tr>\n  </tbody>\n</table>\n</div>"
     },
     "metadata": {},
     "execution_count": 3
    }
   ],
   "source": [
    "project.sample(3)"
   ]
  },
  {
   "cell_type": "code",
   "execution_count": 4,
   "metadata": {
    "tags": []
   },
   "outputs": [
    {
     "output_type": "stream",
     "name": "stdout",
     "text": [
      "<class 'pandas.core.frame.DataFrame'>\nRangeIndex: 74807 entries, 0 to 74806\nData columns (total 18 columns):\n #   Column                        Non-Null Count  Dtype \n---  ------                        --------------  ----- \n 0   Project Number                74807 non-null  int64 \n 1   Project Number String         74807 non-null  object\n 2   Project Title                 74807 non-null  object\n 3   Project Title English         31553 non-null  object\n 4   Responsible Applicant         74807 non-null  object\n 5   Funding Instrument            74807 non-null  object\n 6   Funding Instrument Hierarchy  74767 non-null  object\n 7   Institution                   69131 non-null  object\n 8   Institution Country           69066 non-null  object\n 9   University                    74802 non-null  object\n 10  Discipline Number             74807 non-null  int64 \n 11  Discipline Name               74807 non-null  object\n 12  Discipline Name Hierarchy     74303 non-null  object\n 13  All disciplines               74807 non-null  object\n 14  Start Date                    74805 non-null  object\n 15  End Date                      74805 non-null  object\n 16  Approved Amount               74807 non-null  object\n 17  Keywords                      49697 non-null  object\ndtypes: int64(2), object(16)\nmemory usage: 10.3+ MB\n"
     ]
    }
   ],
   "source": [
    "project.info()"
   ]
  },
  {
   "cell_type": "code",
   "execution_count": 5,
   "metadata": {},
   "outputs": [
    {
     "output_type": "execute_result",
     "data": {
      "text/plain": [
       "      Last Name First Name  Gender        Institute Name Institute Place  \\\n",
       "93312       Six       Emma  female                   NaN             NaN   \n",
       "43620   Hofmann     Markus    male  Neue Zürcher Zeitung          Zürich   \n",
       "37508   Gritsch     Stefan    male                   NaN             NaN   \n",
       "\n",
       "       Person ID SNSF OCRID Projects as responsible Applicant  \\\n",
       "93312          716580   NaN                               NaN   \n",
       "43620           53758   NaN                               NaN   \n",
       "37508          533546   NaN                            145692   \n",
       "\n",
       "      Projects as Applicant Projects as Partner Projects as Practice Partner  \\\n",
       "93312                   NaN                 NaN                          NaN   \n",
       "43620                   NaN                 NaN                          NaN   \n",
       "37508                   NaN                 NaN                          NaN   \n",
       "\n",
       "      Projects as Employee Projects as Contact Person  \n",
       "93312               160140                        NaN  \n",
       "43620          36078;45901                        NaN  \n",
       "37508                  NaN                        NaN  "
      ],
      "text/html": "<div>\n<style scoped>\n    .dataframe tbody tr th:only-of-type {\n        vertical-align: middle;\n    }\n\n    .dataframe tbody tr th {\n        vertical-align: top;\n    }\n\n    .dataframe thead th {\n        text-align: right;\n    }\n</style>\n<table border=\"1\" class=\"dataframe\">\n  <thead>\n    <tr style=\"text-align: right;\">\n      <th></th>\n      <th>Last Name</th>\n      <th>First Name</th>\n      <th>Gender</th>\n      <th>Institute Name</th>\n      <th>Institute Place</th>\n      <th>Person ID SNSF</th>\n      <th>OCRID</th>\n      <th>Projects as responsible Applicant</th>\n      <th>Projects as Applicant</th>\n      <th>Projects as Partner</th>\n      <th>Projects as Practice Partner</th>\n      <th>Projects as Employee</th>\n      <th>Projects as Contact Person</th>\n    </tr>\n  </thead>\n  <tbody>\n    <tr>\n      <th>93312</th>\n      <td>Six</td>\n      <td>Emma</td>\n      <td>female</td>\n      <td>NaN</td>\n      <td>NaN</td>\n      <td>716580</td>\n      <td>NaN</td>\n      <td>NaN</td>\n      <td>NaN</td>\n      <td>NaN</td>\n      <td>NaN</td>\n      <td>160140</td>\n      <td>NaN</td>\n    </tr>\n    <tr>\n      <th>43620</th>\n      <td>Hofmann</td>\n      <td>Markus</td>\n      <td>male</td>\n      <td>Neue Zürcher Zeitung</td>\n      <td>Zürich</td>\n      <td>53758</td>\n      <td>NaN</td>\n      <td>NaN</td>\n      <td>NaN</td>\n      <td>NaN</td>\n      <td>NaN</td>\n      <td>36078;45901</td>\n      <td>NaN</td>\n    </tr>\n    <tr>\n      <th>37508</th>\n      <td>Gritsch</td>\n      <td>Stefan</td>\n      <td>male</td>\n      <td>NaN</td>\n      <td>NaN</td>\n      <td>533546</td>\n      <td>NaN</td>\n      <td>145692</td>\n      <td>NaN</td>\n      <td>NaN</td>\n      <td>NaN</td>\n      <td>NaN</td>\n      <td>NaN</td>\n    </tr>\n  </tbody>\n</table>\n</div>"
     },
     "metadata": {},
     "execution_count": 5
    }
   ],
   "source": [
    "person.sample(3)"
   ]
  },
  {
   "cell_type": "code",
   "execution_count": 6,
   "metadata": {},
   "outputs": [
    {
     "output_type": "stream",
     "name": "stdout",
     "text": [
      "<class 'pandas.core.frame.DataFrame'>\nRangeIndex: 112476 entries, 0 to 112475\nData columns (total 13 columns):\n #   Column                             Non-Null Count   Dtype \n---  ------                             --------------   ----- \n 0   Last Name                          112476 non-null  object\n 1   First Name                         112469 non-null  object\n 2   Gender                             112476 non-null  object\n 3   Institute Name                     54497 non-null   object\n 4   Institute Place                    54393 non-null   object\n 5   Person ID SNSF                     112476 non-null  int64 \n 6   OCRID                              7328 non-null    object\n 7   Projects as responsible Applicant  29056 non-null   object\n 8   Projects as Applicant              18969 non-null   object\n 9   Projects as Partner                5460 non-null    object\n 10  Projects as Practice Partner       735 non-null     object\n 11  Projects as Employee               82415 non-null   object\n 12  Projects as Contact Person         766 non-null     object\ndtypes: int64(1), object(12)\nmemory usage: 11.2+ MB\n"
     ]
    }
   ],
   "source": [
    "person.info()"
   ]
  },
  {
   "cell_type": "markdown",
   "metadata": {},
   "source": [
    "### Tidiness\n",
    "\n",
    "#### `project` (ie. `GrantExport`) table\n",
    "\n",
    "- `Funding Instrument`, `Funding Instrument Hierarchy` are confusing\n",
    "- `Discipline`, ... `Discipline Name Hierarchy` are confusing\n",
    "- Details about `Institute` out of scope\n",
    "- `University` contains both long and short names: details out of scope\n",
    "\n",
    "#### `person` (ie. `PersonExport`) table\n",
    "\n",
    "- [x]`Project as...` contain mixed variables and observations for grant and role\n",
    "- Details about `Institute` out of scope\n",
    "\n",
    "#### Quality\n",
    "\n",
    "- [x] spaces in column names\n",
    "\n",
    "##### `project` (ie. `GrantExport`) table\n",
    "\n",
    "- [x] `Project Number` and `Project Number String` are redundant\n",
    "- [x] `Project Number String` encodes division information?\n",
    "- [x] `Responsible Applicant` not an uid\n",
    "- [x] `Start Date` and `End Date` string, not date type\n",
    "- [x] `Aproved Amount` not numeric\n",
    "- [x] 2 observations without `start_date` or `end_date`\n",
    "- `Project Title English` often redundant or null\n",
    "- `Institution` free text? if yes, is it relevant? better named as department?\n",
    "- `Keywords` not consistent (see keyword extraction from abstracts)\n",
    "\n",
    "##### `person` (ie. `PersonExport`) table\n",
    "\n",
    "- typo in col name for `ORCID`\n",
    "- gender not categorical variable\n",
    "- make sure `person_id_snsf` is unique"
   ]
  },
  {
   "cell_type": "markdown",
   "metadata": {},
   "source": [
    "## Clean"
   ]
  },
  {
   "cell_type": "code",
   "execution_count": 7,
   "metadata": {},
   "outputs": [],
   "source": [
    "# Fix column names\n",
    "project.columns = project.columns.str.lower().str.replace(' ', '_')\n",
    "person.columns = person.columns.str.lower().str.replace(' ', '_')\n",
    "\n",
    "assert all(project.columns.str.contains(' ') == False), 'Space in project column names'\n",
    "assert all(person.columns.str.contains(' ') == False), 'Space in person column names'\n",
    "assert all(project.columns == project.columns.str.lower()), 'Uppercase in project column names'\n",
    "assert all(person.columns == person.columns.str.lower()), 'Uppercase in person column names'"
   ]
  },
  {
   "cell_type": "code",
   "execution_count": 8,
   "metadata": {},
   "outputs": [],
   "source": [
    "# https://github.com/zambujo/p3data/issues/4\n",
    "role_types = np.array(person.columns[person.columns.str.contains('projects_as_')])\n",
    "hr = (person\n",
    "        .melt('person_id_snsf', \n",
    "              var_name='role', \n",
    "              value_name='project_number', \n",
    "              value_vars=role_types).dropna())\n",
    "hr = (hr\n",
    "        .assign(project_number=hr\n",
    "        .project_number.str.split(';'))\n",
    "        .explode('project_number')\n",
    "        .reset_index(drop=True))\n",
    "hr['role'] = hr.role.str[12:] # remove 'projects_as_'\n",
    "hr['project_number'] = pd.to_numeric(hr['project_number'], errors='coerce')\n",
    "hr=hr.dropna()\n",
    "hr['project_number'] = hr['project_number'].astype(int)\n",
    "hr.drop_duplicates(inplace=True)\n",
    "\n",
    "# hr.role.value_counts()\n",
    "assert hr.project_number.dtype.name == 'int64', 'project number column not an integer'"
   ]
  },
  {
   "cell_type": "code",
   "execution_count": 9,
   "metadata": {},
   "outputs": [],
   "source": [
    "# hr table\n",
    "hr.reset_index(inplace=True)\n",
    "hr = hr.rename(columns = {'index':'id',\n",
    "                          'project_number':'project_id', \n",
    "                          'person_id_snsf':'person_id'})\n",
    "hr = hr[['id', 'project_id', 'person_id', 'role']]\n",
    "\n",
    "assert all(hr.id.duplicated() == False), 'id contains duplicates'"
   ]
  },
  {
   "cell_type": "code",
   "execution_count": 10,
   "metadata": {
    "tags": []
   },
   "outputs": [],
   "source": [
    "# person table\n",
    "person = person.rename(columns = {'person_id_snsf':'id'})\n",
    "person = person[['id', 'gender', 'first_name', 'last_name']]\n",
    "person = person.drop_duplicates()\n",
    "\n",
    "assert all(person.id.duplicated() == False), 'id contains duplicates'"
   ]
  },
  {
   "cell_type": "code",
   "execution_count": 11,
   "metadata": {
    "tags": []
   },
   "outputs": [],
   "source": [
    "# https://github.com/zambujo/p3data/issues/1\n",
    "# remove ending project_number >> remove ending separator(s)\n",
    "project['string_code'] = (\n",
    "    project.project_number_string.\n",
    "        str.replace('([0-9]+)$', '').\n",
    "        str.replace('[^a-zA-Z0-9]+$', ''))\n",
    "project = project.drop('project_number_string', 1)"
   ]
  },
  {
   "cell_type": "code",
   "execution_count": 12,
   "metadata": {},
   "outputs": [],
   "source": [
    "# string_code vs funding_instrument\n",
    "# grants.groupby([\"string_code\", \"funding_instrument\"]).size().reset_index().rename(columns={0: \"count\"}).sort_values(by='count', ascending=False)"
   ]
  },
  {
   "cell_type": "code",
   "execution_count": 13,
   "metadata": {},
   "outputs": [],
   "source": [
    "# https://github.com/zambujo/p3data/issues/6\n",
    "project['approved_amount'] = pd.to_numeric(project['approved_amount'], errors='coerce')\n",
    "project['start_date'] = pd.to_datetime(project.start_date)\n",
    "project['end_date'] = pd.to_datetime(project.end_date)\n",
    "\n",
    "assert project.approved_amount.dtype.name == 'float64', 'approved amount column not a float'\n",
    "assert project.start_date.dtype.name == 'datetime64[ns]', 'start_date column not datetime type'\n",
    "assert project.end_date.dtype.name == 'datetime64[ns]', 'end_date column not datetime type'"
   ]
  },
  {
   "cell_type": "code",
   "execution_count": 14,
   "metadata": {},
   "outputs": [],
   "source": [
    "# https://github.com/zambujo/p3data/issues/13\n",
    "project=project.dropna(subset=['start_date'])\n",
    "project=project.dropna(subset=['end_date']) # to be on safe side\n",
    "\n",
    "assert all(pd.isna(project.start_date) == False), 'NA values in project.start_date'\n",
    "assert all(pd.isna(project.end_date) == False), 'NA values in project.end_date'"
   ]
  },
  {
   "cell_type": "code",
   "execution_count": 15,
   "metadata": {},
   "outputs": [],
   "source": [
    "# project table\n",
    "project[['domain','topic']] = project.discipline_name_hierarchy.str.split(';', expand=True)\n",
    "project[['programme', 'programme_details', 'programme_specifics']] = project.funding_instrument_hierarchy.str.split(';', expand=True)\n",
    "\n",
    "project = project.rename(columns = {'project_number':'id'})\n",
    "project = project[['id', 'programme', 'funding_instrument', 'domain', 'topic', 'discipline_name', 'start_date', 'end_date', 'approved_amount']]\n",
    "\n",
    "assert all(project.id.duplicated() == False), 'id contains duplicates'"
   ]
  },
  {
   "cell_type": "code",
   "execution_count": 16,
   "metadata": {},
   "outputs": [],
   "source": [
    "conn = sqlite3.connect('../data/p3.db')\n",
    "c = conn.cursor()"
   ]
  },
  {
   "cell_type": "code",
   "execution_count": 17,
   "metadata": {},
   "outputs": [],
   "source": [
    "c.execute('''\n",
    "CREATE TABLE IF NOT EXISTS \"project\" (\n",
    "  \"id\" INTEGER,\n",
    "  \"programme\" TEXT,\n",
    "  \"funding_instrument\" TEXT,\n",
    "  \"domain\" TEXT,\n",
    "  \"topic\" TEXT,\n",
    "  \"discipline_name\" TEXT,\n",
    "  \"start_date\" DATETIME,\n",
    "  \"end_date\" DATETIME,\n",
    "  \"approved_amount\" FLOAT,\n",
    "  PRIMARY KEY(\"id\")\n",
    ");\n",
    "''')\n",
    "conn.commit()"
   ]
  },
  {
   "cell_type": "code",
   "execution_count": 18,
   "metadata": {},
   "outputs": [],
   "source": [
    "c.execute('''\n",
    "CREATE TABLE IF NOT EXISTS \"person\" (\n",
    "  \"id\" INTEGER,\n",
    "  \"gender\" TEXT,\n",
    "  \"first_name\" TEXT,\n",
    "  \"last_name\" TEXT,\n",
    "  PRIMARY KEY(\"id\")\n",
    ");\n",
    "''')\n",
    "conn.commit()"
   ]
  },
  {
   "cell_type": "code",
   "execution_count": 19,
   "metadata": {},
   "outputs": [],
   "source": [
    "c.execute('''\n",
    "CREATE TABLE IF NOT EXISTS \"hr\" (\n",
    "  \"id\" INTEGER,\n",
    "  \"project_id\" INTEGER,\n",
    "  \"person_id\" INTEGER,\n",
    "  \"role\" TEXT,\n",
    "  PRIMARY KEY(\"id\"),\n",
    "  FOREIGN KEY(\"project_id\") REFERENCES \"project\"(\"id\"),\n",
    "  FOREIGN KEY(\"person_id\") REFERENCES \"person\"(\"id\")\n",
    ");\n",
    "''')\n",
    "conn.commit()"
   ]
  },
  {
   "cell_type": "code",
   "execution_count": 20,
   "metadata": {},
   "outputs": [],
   "source": [
    "project.to_sql('project', con=conn, if_exists='replace', index=False)\n",
    "person.to_sql('person', con=conn, if_exists='replace', index=False)\n",
    "hr.to_sql('hr', con=conn, if_exists='replace', index=False)"
   ]
  }
 ],
 "metadata": {
  "kernelspec": {
   "display_name": "Python 3",
   "language": "python",
   "name": "python3"
  },
  "language_info": {
   "codemirror_mode": {
    "name": "ipython",
    "version": 3
   },
   "file_extension": ".py",
   "mimetype": "text/x-python",
   "name": "python",
   "nbconvert_exporter": "python",
   "pygments_lexer": "ipython3",
   "version": "3.8.5-final"
  }
 },
 "nbformat": 4,
 "nbformat_minor": 4
}