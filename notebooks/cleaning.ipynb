{
 "cells": [
  {
   "cell_type": "markdown",
   "metadata": {},
   "source": [
    "# Preprocessing SNSF Public Data"
   ]
  },
  {
   "cell_type": "code",
   "execution_count": 1,
   "metadata": {
    "execution": {
     "iopub.execute_input": "2020-10-06T08:53:27.641081Z",
     "iopub.status.busy": "2020-10-06T08:53:27.640415Z",
     "iopub.status.idle": "2020-10-06T08:53:27.903790Z",
     "shell.execute_reply": "2020-10-06T08:53:27.904361Z"
    }
   },
   "outputs": [],
   "source": [
    "import os\n",
    "import sqlite3\n",
    "\n",
    "import numpy as np\n",
    "import pandas as pd\n",
    "\n",
    "RAW_DATA_FOLDER = '../rawdata'\n",
    "DATA_FOLDER = '../data/'"
   ]
  },
  {
   "cell_type": "code",
   "execution_count": 2,
   "metadata": {
    "execution": {
     "iopub.execute_input": "2020-10-06T08:53:27.909352Z",
     "iopub.status.busy": "2020-10-06T08:53:27.908713Z",
     "iopub.status.idle": "2020-10-06T08:53:28.683547Z",
     "shell.execute_reply": "2020-10-06T08:53:28.684008Z"
    }
   },
   "outputs": [],
   "source": [
    "# file_names = os.listdir(RAW_DATA_FOLDER) # file_names[0], file_names[1]\n",
    "grants_raw = pd.read_csv(os.path.join(RAW_DATA_FOLDER, 'P3_GrantExport.csv'), sep=';')\n",
    "people_raw = pd.read_csv(os.path.join(RAW_DATA_FOLDER, 'P3_PersonExport.csv'), sep=';')"
   ]
  },
  {
   "cell_type": "markdown",
   "metadata": {},
   "source": [
    "## Assess"
   ]
  },
  {
   "cell_type": "code",
   "execution_count": 3,
   "metadata": {
    "execution": {
     "iopub.execute_input": "2020-10-06T08:53:28.700209Z",
     "iopub.status.busy": "2020-10-06T08:53:28.689068Z",
     "iopub.status.idle": "2020-10-06T08:53:28.710093Z",
     "shell.execute_reply": "2020-10-06T08:53:28.710673Z"
    }
   },
   "outputs": [
    {
     "data": {
      "text/html": [
       "<div>\n",
       "<style scoped>\n",
       "    .dataframe tbody tr th:only-of-type {\n",
       "        vertical-align: middle;\n",
       "    }\n",
       "\n",
       "    .dataframe tbody tr th {\n",
       "        vertical-align: top;\n",
       "    }\n",
       "\n",
       "    .dataframe thead th {\n",
       "        text-align: right;\n",
       "    }\n",
       "</style>\n",
       "<table border=\"1\" class=\"dataframe\">\n",
       "  <thead>\n",
       "    <tr style=\"text-align: right;\">\n",
       "      <th></th>\n",
       "      <th>Project Number</th>\n",
       "      <th>Project Number String</th>\n",
       "      <th>Project Title</th>\n",
       "      <th>Project Title English</th>\n",
       "      <th>Responsible Applicant</th>\n",
       "      <th>Funding Instrument</th>\n",
       "      <th>Funding Instrument Hierarchy</th>\n",
       "      <th>Institution</th>\n",
       "      <th>Institution Country</th>\n",
       "      <th>University</th>\n",
       "      <th>Discipline Number</th>\n",
       "      <th>Discipline Name</th>\n",
       "      <th>Discipline Name Hierarchy</th>\n",
       "      <th>All disciplines</th>\n",
       "      <th>Start Date</th>\n",
       "      <th>End Date</th>\n",
       "      <th>Approved Amount</th>\n",
       "      <th>Keywords</th>\n",
       "    </tr>\n",
       "  </thead>\n",
       "  <tbody>\n",
       "    <tr>\n",
       "      <th>9852</th>\n",
       "      <td>20686</td>\n",
       "      <td>81FR-020686</td>\n",
       "      <td>Die EG-Direktive über die Produktehaftpflicht ...</td>\n",
       "      <td>NaN</td>\n",
       "      <td>Henninger Anton</td>\n",
       "      <td>Fellowships for prospective researchers</td>\n",
       "      <td>Careers;Fellowships</td>\n",
       "      <td>UNI: University of Cambridgeoffe di    GB</td>\n",
       "      <td>Great Britain and Northern Ireland</td>\n",
       "      <td>Institution abroad - IACH</td>\n",
       "      <td>10205</td>\n",
       "      <td>Legal sciences</td>\n",
       "      <td>Humanities and Social Sciences;Economics, law</td>\n",
       "      <td>10205</td>\n",
       "      <td>01.01.1989</td>\n",
       "      <td>31.12.1989</td>\n",
       "      <td>data not included in P3</td>\n",
       "      <td>NaN</td>\n",
       "    </tr>\n",
       "    <tr>\n",
       "      <th>21563</th>\n",
       "      <td>48977</td>\n",
       "      <td>3234-048977</td>\n",
       "      <td>Identification of antigens expressed by P. viv...</td>\n",
       "      <td>NaN</td>\n",
       "      <td>Romero F. Jackeline</td>\n",
       "      <td>Marie Heim-Voegtlin grants</td>\n",
       "      <td>Careers;Academic and research careers (non-pro...</td>\n",
       "      <td>Centre Integratif de Genomique Faculté de Biol...</td>\n",
       "      <td>Switzerland</td>\n",
       "      <td>University of Lausanne - LA</td>\n",
       "      <td>30102</td>\n",
       "      <td>Molecular Biology</td>\n",
       "      <td>Biology and Medicine;Basic Biological Research</td>\n",
       "      <td>30102/30403</td>\n",
       "      <td>01.01.1997</td>\n",
       "      <td>31.12.2000</td>\n",
       "      <td>154650.00</td>\n",
       "      <td>NaN</td>\n",
       "    </tr>\n",
       "    <tr>\n",
       "      <th>46512</th>\n",
       "      <td>129828</td>\n",
       "      <td>310030_129828</td>\n",
       "      <td>Investigating the primary immune response agai...</td>\n",
       "      <td>Investigating the primary immune response agai...</td>\n",
       "      <td>Pichler Werner Joseph</td>\n",
       "      <td>Project funding (Div. I-III)</td>\n",
       "      <td>Project funding</td>\n",
       "      <td>Universitätsklinik für Rheumatologie, Immunolo...</td>\n",
       "      <td>Switzerland</td>\n",
       "      <td>University of Berne - BE</td>\n",
       "      <td>30718</td>\n",
       "      <td>Clinical Immunology and Immunopathology</td>\n",
       "      <td>Biology and Medicine;Clinical Medicine</td>\n",
       "      <td>30718</td>\n",
       "      <td>01.05.2010</td>\n",
       "      <td>31.10.2013</td>\n",
       "      <td>484520.00</td>\n",
       "      <td>drug hypersensitivity; p-i concept; prediction...</td>\n",
       "    </tr>\n",
       "  </tbody>\n",
       "</table>\n",
       "</div>"
      ],
      "text/plain": [
       "       Project Number Project Number String  \\\n",
       "9852            20686           81FR-020686   \n",
       "21563           48977           3234-048977   \n",
       "46512          129828         310030_129828   \n",
       "\n",
       "                                           Project Title  \\\n",
       "9852   Die EG-Direktive über die Produktehaftpflicht ...   \n",
       "21563  Identification of antigens expressed by P. viv...   \n",
       "46512  Investigating the primary immune response agai...   \n",
       "\n",
       "                                   Project Title English  \\\n",
       "9852                                                 NaN   \n",
       "21563                                                NaN   \n",
       "46512  Investigating the primary immune response agai...   \n",
       "\n",
       "       Responsible Applicant                       Funding Instrument  \\\n",
       "9852         Henninger Anton  Fellowships for prospective researchers   \n",
       "21563    Romero F. Jackeline               Marie Heim-Voegtlin grants   \n",
       "46512  Pichler Werner Joseph             Project funding (Div. I-III)   \n",
       "\n",
       "                            Funding Instrument Hierarchy  \\\n",
       "9852                                 Careers;Fellowships   \n",
       "21563  Careers;Academic and research careers (non-pro...   \n",
       "46512                                    Project funding   \n",
       "\n",
       "                                             Institution  \\\n",
       "9852           UNI: University of Cambridgeoffe di    GB   \n",
       "21563  Centre Integratif de Genomique Faculté de Biol...   \n",
       "46512  Universitätsklinik für Rheumatologie, Immunolo...   \n",
       "\n",
       "                      Institution Country                   University  \\\n",
       "9852   Great Britain and Northern Ireland    Institution abroad - IACH   \n",
       "21563                         Switzerland  University of Lausanne - LA   \n",
       "46512                         Switzerland     University of Berne - BE   \n",
       "\n",
       "       Discipline Number                          Discipline Name  \\\n",
       "9852               10205                           Legal sciences   \n",
       "21563              30102                        Molecular Biology   \n",
       "46512              30718  Clinical Immunology and Immunopathology   \n",
       "\n",
       "                            Discipline Name Hierarchy All disciplines  \\\n",
       "9852    Humanities and Social Sciences;Economics, law           10205   \n",
       "21563  Biology and Medicine;Basic Biological Research     30102/30403   \n",
       "46512          Biology and Medicine;Clinical Medicine           30718   \n",
       "\n",
       "       Start Date    End Date          Approved Amount  \\\n",
       "9852   01.01.1989  31.12.1989  data not included in P3   \n",
       "21563  01.01.1997  31.12.2000                154650.00   \n",
       "46512  01.05.2010  31.10.2013                484520.00   \n",
       "\n",
       "                                                Keywords  \n",
       "9852                                                 NaN  \n",
       "21563                                                NaN  \n",
       "46512  drug hypersensitivity; p-i concept; prediction...  "
      ]
     },
     "execution_count": 1,
     "metadata": {},
     "output_type": "execute_result"
    }
   ],
   "source": [
    "grants_raw.sample(3)"
   ]
  },
  {
   "cell_type": "code",
   "execution_count": 4,
   "metadata": {
    "execution": {
     "iopub.execute_input": "2020-10-06T08:53:28.716718Z",
     "iopub.status.busy": "2020-10-06T08:53:28.716007Z",
     "iopub.status.idle": "2020-10-06T08:53:28.728381Z",
     "shell.execute_reply": "2020-10-06T08:53:28.728838Z"
    }
   },
   "outputs": [
    {
     "data": {
      "text/html": [
       "<div>\n",
       "<style scoped>\n",
       "    .dataframe tbody tr th:only-of-type {\n",
       "        vertical-align: middle;\n",
       "    }\n",
       "\n",
       "    .dataframe tbody tr th {\n",
       "        vertical-align: top;\n",
       "    }\n",
       "\n",
       "    .dataframe thead th {\n",
       "        text-align: right;\n",
       "    }\n",
       "</style>\n",
       "<table border=\"1\" class=\"dataframe\">\n",
       "  <thead>\n",
       "    <tr style=\"text-align: right;\">\n",
       "      <th></th>\n",
       "      <th>Last Name</th>\n",
       "      <th>First Name</th>\n",
       "      <th>Gender</th>\n",
       "      <th>Institute Name</th>\n",
       "      <th>Institute Place</th>\n",
       "      <th>Person ID SNSF</th>\n",
       "      <th>OCRID</th>\n",
       "      <th>Projects as responsible Applicant</th>\n",
       "      <th>Projects as Applicant</th>\n",
       "      <th>Projects as Partner</th>\n",
       "      <th>Projects as Practice Partner</th>\n",
       "      <th>Projects as Employee</th>\n",
       "      <th>Projects as Contact Person</th>\n",
       "    </tr>\n",
       "  </thead>\n",
       "  <tbody>\n",
       "    <tr>\n",
       "      <th>19030</th>\n",
       "      <td>Colldeweih</td>\n",
       "      <td>Rachael Marie</td>\n",
       "      <td>female</td>\n",
       "      <td>NaN</td>\n",
       "      <td>NaN</td>\n",
       "      <td>681504</td>\n",
       "      <td>NaN</td>\n",
       "      <td>NaN</td>\n",
       "      <td>NaN</td>\n",
       "      <td>NaN</td>\n",
       "      <td>NaN</td>\n",
       "      <td>144288;162967</td>\n",
       "      <td>NaN</td>\n",
       "    </tr>\n",
       "    <tr>\n",
       "      <th>45316</th>\n",
       "      <td>Hunziker</td>\n",
       "      <td>Patrick</td>\n",
       "      <td>male</td>\n",
       "      <td>Klinik für Intensivmedizin Universitätsspital ...</td>\n",
       "      <td>Basel</td>\n",
       "      <td>81176</td>\n",
       "      <td>NaN</td>\n",
       "      <td>59517;108486;121208;125653;126078;131653;160178</td>\n",
       "      <td>59817;137194</td>\n",
       "      <td>NaN</td>\n",
       "      <td>NaN</td>\n",
       "      <td>NaN</td>\n",
       "      <td>NaN</td>\n",
       "    </tr>\n",
       "    <tr>\n",
       "      <th>65240</th>\n",
       "      <td>Merendino</td>\n",
       "      <td>Maura</td>\n",
       "      <td>female</td>\n",
       "      <td>NaN</td>\n",
       "      <td>NaN</td>\n",
       "      <td>18930</td>\n",
       "      <td>NaN</td>\n",
       "      <td>NaN</td>\n",
       "      <td>NaN</td>\n",
       "      <td>NaN</td>\n",
       "      <td>NaN</td>\n",
       "      <td>11057;11072</td>\n",
       "      <td>NaN</td>\n",
       "    </tr>\n",
       "  </tbody>\n",
       "</table>\n",
       "</div>"
      ],
      "text/plain": [
       "        Last Name     First Name  Gender  \\\n",
       "19030  Colldeweih  Rachael Marie  female   \n",
       "45316    Hunziker        Patrick    male   \n",
       "65240   Merendino          Maura  female   \n",
       "\n",
       "                                          Institute Name Institute Place  \\\n",
       "19030                                                NaN             NaN   \n",
       "45316  Klinik für Intensivmedizin Universitätsspital ...           Basel   \n",
       "65240                                                NaN             NaN   \n",
       "\n",
       "       Person ID SNSF OCRID                Projects as responsible Applicant  \\\n",
       "19030          681504   NaN                                              NaN   \n",
       "45316           81176   NaN  59517;108486;121208;125653;126078;131653;160178   \n",
       "65240           18930   NaN                                              NaN   \n",
       "\n",
       "      Projects as Applicant Projects as Partner Projects as Practice Partner  \\\n",
       "19030                   NaN                 NaN                          NaN   \n",
       "45316          59817;137194                 NaN                          NaN   \n",
       "65240                   NaN                 NaN                          NaN   \n",
       "\n",
       "      Projects as Employee Projects as Contact Person  \n",
       "19030        144288;162967                        NaN  \n",
       "45316                  NaN                        NaN  \n",
       "65240          11057;11072                        NaN  "
      ]
     },
     "execution_count": 1,
     "metadata": {},
     "output_type": "execute_result"
    }
   ],
   "source": [
    "people_raw.sample(3)"
   ]
  },
  {
   "cell_type": "code",
   "execution_count": 5,
   "metadata": {
    "execution": {
     "iopub.execute_input": "2020-10-06T08:53:28.774508Z",
     "iopub.status.busy": "2020-10-06T08:53:28.773840Z",
     "iopub.status.idle": "2020-10-06T08:53:28.834922Z",
     "shell.execute_reply": "2020-10-06T08:53:28.835367Z"
    },
    "tags": []
   },
   "outputs": [
    {
     "name": "stdout",
     "output_type": "stream",
     "text": [
      "<class 'pandas.core.frame.DataFrame'>\n",
      "RangeIndex: 74807 entries, 0 to 74806\n",
      "Data columns (total 18 columns):\n",
      " #   Column                        Non-Null Count  Dtype \n",
      "---  ------                        --------------  ----- \n",
      " 0   Project Number                74807 non-null  int64 \n",
      " 1   Project Number String         74807 non-null  object\n",
      " 2   Project Title                 74807 non-null  object\n",
      " 3   Project Title English         31553 non-null  object\n",
      " 4   Responsible Applicant         74807 non-null  object\n",
      " 5   Funding Instrument            74807 non-null  object\n",
      " 6   Funding Instrument Hierarchy  74767 non-null  object\n",
      " 7   Institution                   69131 non-null  object\n",
      " 8   Institution Country           69066 non-null  object\n",
      " 9   University                    74802 non-null  object\n",
      " 10  Discipline Number             74807 non-null  int64 \n",
      " 11  Discipline Name               74807 non-null  object\n",
      " 12  Discipline Name Hierarchy     74303 non-null  object\n",
      " 13  All disciplines               74807 non-null  object\n",
      " 14  Start Date                    74805 non-null  object\n",
      " 15  End Date                      74805 non-null  object\n",
      " 16  Approved Amount               74807 non-null  object\n",
      " 17  Keywords                      49697 non-null  object\n",
      "dtypes: int64(2), object(16)\n",
      "memory usage: 10.3+ MB\n",
      "            =====================================\n",
      "<class 'pandas.core.frame.DataFrame'>\n",
      "RangeIndex: 112476 entries, 0 to 112475\n",
      "Data columns (total 13 columns):\n",
      " #   Column                             Non-Null Count   Dtype \n",
      "---  ------                             --------------   ----- \n",
      " 0   Last Name                          112476 non-null  object\n",
      " 1   First Name                         112469 non-null  object\n",
      " 2   Gender                             112476 non-null  object\n",
      " 3   Institute Name                     54497 non-null   object\n",
      " 4   Institute Place                    54393 non-null   object\n",
      " 5   Person ID SNSF                     112476 non-null  int64 \n",
      " 6   OCRID                              7328 non-null    object\n",
      " 7   Projects as responsible Applicant  29056 non-null   object\n",
      " 8   Projects as Applicant              18969 non-null   object\n",
      " 9   Projects as Partner                5460 non-null    object\n",
      " 10  Projects as Practice Partner       735 non-null     object\n",
      " 11  Projects as Employee               82415 non-null   object\n",
      " 12  Projects as Contact Person         766 non-null     object\n",
      "dtypes: int64(1), object(12)\n",
      "memory usage: 11.2+ MB\n"
     ]
    }
   ],
   "source": [
    "grants_raw.info()\n",
    "print('            =====================================')\n",
    "people_raw.info()"
   ]
  },
  {
   "cell_type": "markdown",
   "metadata": {},
   "source": [
    "### Tidiness\n",
    "\n",
    "#### `grants_raw` (ie. `GrantExport`) table\n",
    "\n",
    "- `Funding Instrument`, `Funding Instrument Hierarchy` are confusing\n",
    "- `Discipline`, ... `Discipline Name Hierarchy` are confusing\n",
    "- Details about `Institute` out of scope\n",
    "- `University` contains both long and short names: details out of scope\n",
    "\n",
    "#### `people_raw` (ie. `PersonExport`) table\n",
    "\n",
    "- **`Project as...` contain mixed variables and observations for grant and role**\n",
    "- Details about `Institute` out of scope\n",
    "\n",
    "#### Quality\n",
    "\n",
    "- spaces in column names\n",
    "\n",
    "##### `grants_raw` (ie. `GrantExport`) table\n",
    "\n",
    "- **`Project Number` and `Project Number String` are redundant**\n",
    "- **`Project Number String` encodes division information?**\n",
    "- **`Responsible Applicant` not an uid**\n",
    "- **`Start Date` and `End Date` string, not date type**\n",
    "- **`Aproved Amount` not numeric**\n",
    "- **2 observations without `start_date` or `end_date`**\n",
    "- `Project Title English` often redundant or null\n",
    "- `Institution` free text? if yes, is it relevant? better named as department?\n",
    "- `Keywords` not consistent (see keyword extraction from abstracts)\n",
    "\n",
    "##### `people_raw` (ie. `PersonExport`) table\n",
    "\n",
    "- typo in col name for `ORCID`\n",
    "- gender not categorical variable\n",
    "- make sure `person_id_snsf` is unique"
   ]
  },
  {
   "cell_type": "markdown",
   "metadata": {},
   "source": [
    "## Clean"
   ]
  },
  {
   "cell_type": "code",
   "execution_count": 6,
   "metadata": {
    "execution": {
     "iopub.execute_input": "2020-10-06T08:53:28.851090Z",
     "iopub.status.busy": "2020-10-06T08:53:28.850349Z",
     "iopub.status.idle": "2020-10-06T08:53:28.863843Z",
     "shell.execute_reply": "2020-10-06T08:53:28.864296Z"
    },
    "tags": []
   },
   "outputs": [],
   "source": [
    "# good practice\n",
    "grants = grants_raw.copy()\n",
    "grants.columns = grants.columns.str.lower().str.replace(' ', '_')\n",
    "people = people_raw.copy()\n",
    "people.columns = people.columns.str.lower().str.replace(' ', '_')"
   ]
  },
  {
   "cell_type": "code",
   "execution_count": 7,
   "metadata": {
    "execution": {
     "iopub.execute_input": "2020-10-06T08:53:28.908679Z",
     "iopub.status.busy": "2020-10-06T08:53:28.907802Z",
     "iopub.status.idle": "2020-10-06T08:53:29.747180Z",
     "shell.execute_reply": "2020-10-06T08:53:29.747637Z"
    }
   },
   "outputs": [],
   "source": [
    "# https://github.com/zambujo/p3data/issues/4\n",
    "# role_in_grants table\n",
    "role_in_grants = (people\n",
    "    .melt('person_id_snsf', \n",
    "          var_name='role', \n",
    "          value_name='project_number', \n",
    "          value_vars=['projects_as_responsible_applicant', \n",
    "                      'projects_as_applicant', \n",
    "                      'projects_as_partner', \n",
    "                      'projects_as_practice_partner', \n",
    "                      'projects_as_employee', \n",
    "                      'projects_as_contact_person']).dropna())\n",
    "role_in_grants = role_in_grants.assign(project_number=role_in_grants.project_number.str.split(';')).explode('project_number').reset_index(drop=True)\n",
    "role_in_grants['role'] = role_in_grants.role.str[12:]\n",
    "role_in_grants.drop_duplicates(inplace=True)\n",
    "role_in_grants['project_number'] = pd.to_numeric(role_in_grants['project_number'], errors='coerce')\n",
    "role_in_grants=role_in_grants.dropna()\n",
    "role_in_grants['project_number'] = role_in_grants['project_number'].astype(int)\n",
    "assert role_in_grants.project_number.dtype.name == 'int64', 'project number column not an integer'"
   ]
  },
  {
   "cell_type": "code",
   "execution_count": 8,
   "metadata": {
    "execution": {
     "iopub.execute_input": "2020-10-06T08:53:29.762323Z",
     "iopub.status.busy": "2020-10-06T08:53:29.761625Z",
     "iopub.status.idle": "2020-10-06T08:53:29.826463Z",
     "shell.execute_reply": "2020-10-06T08:53:29.826973Z"
    },
    "tags": []
   },
   "outputs": [],
   "source": [
    "# people table\n",
    "people = people[['person_id_snsf', 'gender', 'first_name', 'last_name']]\n",
    "people = people.drop_duplicates()\n",
    "assert all(people.person_id_snsf.duplicated() == False), 'person_id_snsf contains duplicates'"
   ]
  },
  {
   "cell_type": "code",
   "execution_count": 9,
   "metadata": {
    "execution": {
     "iopub.execute_input": "2020-10-06T08:53:29.831480Z",
     "iopub.status.busy": "2020-10-06T08:53:29.830725Z",
     "iopub.status.idle": "2020-10-06T08:53:29.869298Z",
     "shell.execute_reply": "2020-10-06T08:53:29.869754Z"
    },
    "tags": []
   },
   "outputs": [
    {
     "name": "stdout",
     "output_type": "stream",
     "text": [
      "<class 'pandas.core.frame.DataFrame'>\n",
      "Int64Index: 256654 entries, 0 to 259956\n",
      "Data columns (total 3 columns):\n",
      " #   Column          Non-Null Count   Dtype \n",
      "---  ------          --------------   ----- \n",
      " 0   person_id_snsf  256654 non-null  int64 \n",
      " 1   role            256654 non-null  object\n",
      " 2   project_number  256654 non-null  int64 \n",
      "dtypes: int64(2), object(1)\n",
      "memory usage: 7.8+ MB\n",
      "    =====================================\n",
      "<class 'pandas.core.frame.DataFrame'>\n",
      "Int64Index: 111690 entries, 0 to 112475\n",
      "Data columns (total 4 columns):\n",
      " #   Column          Non-Null Count   Dtype \n",
      "---  ------          --------------   ----- \n",
      " 0   person_id_snsf  111690 non-null  int64 \n",
      " 1   gender          111690 non-null  object\n",
      " 2   first_name      111683 non-null  object\n",
      " 3   last_name       111690 non-null  object\n",
      "dtypes: int64(1), object(3)\n",
      "memory usage: 4.3+ MB\n"
     ]
    }
   ],
   "source": [
    "role_in_grants.info()\n",
    "print('    =====================================')\n",
    "people.info()"
   ]
  },
  {
   "cell_type": "code",
   "execution_count": 10,
   "metadata": {
    "execution": {
     "iopub.execute_input": "2020-10-06T08:53:29.897084Z",
     "iopub.status.busy": "2020-10-06T08:53:29.876437Z",
     "iopub.status.idle": "2020-10-06T08:53:30.016297Z",
     "shell.execute_reply": "2020-10-06T08:53:30.016761Z"
    },
    "tags": []
   },
   "outputs": [],
   "source": [
    "# https://github.com/zambujo/p3data/issues/1\n",
    "grants['string_code'] = grants.project_number_string.str[:-6]\n",
    "grants['string_code'] = grants.string_code.str.replace('[-_ ]', '')\n",
    "grants = grants.drop('project_number_string', 1)\n",
    "\n",
    "# TODO test"
   ]
  },
  {
   "cell_type": "code",
   "execution_count": 11,
   "metadata": {
    "execution": {
     "iopub.execute_input": "2020-10-06T08:53:30.024629Z",
     "iopub.status.busy": "2020-10-06T08:53:30.023951Z",
     "iopub.status.idle": "2020-10-06T08:53:30.061317Z",
     "shell.execute_reply": "2020-10-06T08:53:30.061778Z"
    }
   },
   "outputs": [],
   "source": [
    "# https://github.com/zambujo/p3data/issues/13\n",
    "grants=grants.dropna(subset=['start_date'])\n",
    "\n",
    "assert all(pd.isna(grants.start_date) == False), 'NA values in grants.start_date'\n",
    "assert all(pd.isna(grants.end_date) == False), 'NA values in grants.end_date'"
   ]
  },
  {
   "cell_type": "code",
   "execution_count": 12,
   "metadata": {
    "execution": {
     "iopub.execute_input": "2020-10-06T08:53:30.069234Z",
     "iopub.status.busy": "2020-10-06T08:53:30.068565Z",
     "iopub.status.idle": "2020-10-06T08:53:30.087588Z",
     "shell.execute_reply": "2020-10-06T08:53:30.088040Z"
    }
   },
   "outputs": [
    {
     "data": {
      "text/html": [
       "<div>\n",
       "<style scoped>\n",
       "    .dataframe tbody tr th:only-of-type {\n",
       "        vertical-align: middle;\n",
       "    }\n",
       "\n",
       "    .dataframe tbody tr th {\n",
       "        vertical-align: top;\n",
       "    }\n",
       "\n",
       "    .dataframe thead th {\n",
       "        text-align: right;\n",
       "    }\n",
       "</style>\n",
       "<table border=\"1\" class=\"dataframe\">\n",
       "  <thead>\n",
       "    <tr style=\"text-align: right;\">\n",
       "      <th></th>\n",
       "      <th>string_code</th>\n",
       "      <th>funding_instrument</th>\n",
       "      <th>count</th>\n",
       "    </tr>\n",
       "  </thead>\n",
       "  <tbody>\n",
       "    <tr>\n",
       "      <th>181</th>\n",
       "      <td>2000</td>\n",
       "      <td>Project funding (Div. I-III)</td>\n",
       "      <td>6072</td>\n",
       "    </tr>\n",
       "    <tr>\n",
       "      <th>286</th>\n",
       "      <td>3100</td>\n",
       "      <td>Project funding (Div. I-III)</td>\n",
       "      <td>4997</td>\n",
       "    </tr>\n",
       "    <tr>\n",
       "      <th>183</th>\n",
       "      <td>200020</td>\n",
       "      <td>Project funding (Div. I-III)</td>\n",
       "      <td>3512</td>\n",
       "    </tr>\n",
       "    <tr>\n",
       "      <th>188</th>\n",
       "      <td>200021</td>\n",
       "      <td>Project funding (Div. I-III)</td>\n",
       "      <td>3318</td>\n",
       "    </tr>\n",
       "    <tr>\n",
       "      <th>292</th>\n",
       "      <td>31003A</td>\n",
       "      <td>Project funding (Div. I-III)</td>\n",
       "      <td>2677</td>\n",
       "    </tr>\n",
       "  </tbody>\n",
       "</table>\n",
       "</div>"
      ],
      "text/plain": [
       "    string_code            funding_instrument  count\n",
       "181        2000  Project funding (Div. I-III)   6072\n",
       "286        3100  Project funding (Div. I-III)   4997\n",
       "183      200020  Project funding (Div. I-III)   3512\n",
       "188      200021  Project funding (Div. I-III)   3318\n",
       "292      31003A  Project funding (Div. I-III)   2677"
      ]
     },
     "execution_count": 1,
     "metadata": {},
     "output_type": "execute_result"
    }
   ],
   "source": [
    "# not clear what to test... [TODO]\n",
    "grants.groupby([\"string_code\", \"funding_instrument\"]).size().reset_index().rename(columns={0: \"count\"}).sort_values(by='count', ascending=False).head()"
   ]
  },
  {
   "cell_type": "code",
   "execution_count": 13,
   "metadata": {
    "execution": {
     "iopub.execute_input": "2020-10-06T08:53:30.132173Z",
     "iopub.status.busy": "2020-10-06T08:53:30.131158Z",
     "iopub.status.idle": "2020-10-06T08:53:30.189181Z",
     "shell.execute_reply": "2020-10-06T08:53:30.189638Z"
    }
   },
   "outputs": [],
   "source": [
    "# https://github.com/zambujo/p3data/issues/6\n",
    "grants['approved_amount'] = pd.to_numeric(grants['approved_amount'], errors='coerce')\n",
    "grants['start_date'] = pd.to_datetime(grants.start_date)\n",
    "grants['end_date'] = pd.to_datetime(grants.end_date)\n",
    "\n",
    "assert grants.approved_amount.dtype.name == 'float64', 'approved amount column not a float'\n",
    "assert grants.start_date.dtype.name == 'datetime64[ns]', 'start_date column not datetime type'\n",
    "assert grants.end_date.dtype.name == 'datetime64[ns]', 'end_date column not datetime type'"
   ]
  },
  {
   "cell_type": "code",
   "execution_count": 14,
   "metadata": {
    "execution": {
     "iopub.execute_input": "2020-10-06T08:53:30.314187Z",
     "iopub.status.busy": "2020-10-06T08:53:30.271137Z",
     "iopub.status.idle": "2020-10-06T08:53:30.548764Z",
     "shell.execute_reply": "2020-10-06T08:53:30.548268Z"
    }
   },
   "outputs": [],
   "source": [
    "grants[['domain','topic']] = grants.discipline_name_hierarchy.str.split(';', expand=True)\n",
    "grants[['programme', 'programme_details', 'programme_specifics']] = grants.funding_instrument_hierarchy.str.split(';', expand=True)\n",
    "grants = grants[['project_number', 'programme', 'funding_instrument', 'domain', 'topic', 'discipline_name', 'discipline_number', 'start_date', 'end_date', 'approved_amount']]"
   ]
  },
  {
   "cell_type": "code",
   "execution_count": 15,
   "metadata": {
    "execution": {
     "iopub.execute_input": "2020-10-06T08:53:30.552442Z",
     "iopub.status.busy": "2020-10-06T08:53:30.551796Z",
     "iopub.status.idle": "2020-10-06T08:53:30.554248Z",
     "shell.execute_reply": "2020-10-06T08:53:30.554705Z"
    }
   },
   "outputs": [],
   "source": [
    "conn = sqlite3.connect('../data/p3.db')\n",
    "c = conn.cursor()"
   ]
  },
  {
   "cell_type": "code",
   "execution_count": 16,
   "metadata": {
    "execution": {
     "iopub.execute_input": "2020-10-06T08:53:30.558610Z",
     "iopub.status.busy": "2020-10-06T08:53:30.557942Z",
     "iopub.status.idle": "2020-10-06T08:53:30.560521Z",
     "shell.execute_reply": "2020-10-06T08:53:30.560968Z"
    }
   },
   "outputs": [],
   "source": [
    "c.execute('''\n",
    "CREATE TABLE IF NOT EXISTS \"grants\" (\n",
    "  \"project_number\" INTEGER,\n",
    "  \"programme\" TEXT,\n",
    "  \"funding_instrument\" TEXT,\n",
    "  \"domain\" TEXT,\n",
    "  \"topic\" TEXT,\n",
    "  \"discipline_name\" TEXT,\n",
    "  \"discipline_number\" INTEGER,\n",
    "  \"start_date\" DATETIME,\n",
    "  \"end_date\" DATETIME,\n",
    "  \"approved_amount\" FLOAT,\n",
    "  PRIMARY KEY(\"project_number\")\n",
    ");\n",
    "''')\n",
    "conn.commit()"
   ]
  },
  {
   "cell_type": "code",
   "execution_count": 17,
   "metadata": {
    "execution": {
     "iopub.execute_input": "2020-10-06T08:53:30.564690Z",
     "iopub.status.busy": "2020-10-06T08:53:30.564034Z",
     "iopub.status.idle": "2020-10-06T08:53:30.566677Z",
     "shell.execute_reply": "2020-10-06T08:53:30.567198Z"
    }
   },
   "outputs": [],
   "source": [
    "c.execute('''\n",
    "CREATE TABLE IF NOT EXISTS \"people\" (\n",
    "  \"person_id_snsf\" INTEGER,\n",
    "  \"gender\" TEXT,\n",
    "  \"first_name\" TEXT,\n",
    "  \"last_name\" TEXT,\n",
    "  PRIMARY KEY(\"person_id_snsf\")\n",
    ");\n",
    "''')\n",
    "conn.commit()"
   ]
  },
  {
   "cell_type": "code",
   "execution_count": 18,
   "metadata": {
    "execution": {
     "iopub.execute_input": "2020-10-06T08:53:30.571005Z",
     "iopub.status.busy": "2020-10-06T08:53:30.570338Z",
     "iopub.status.idle": "2020-10-06T08:53:30.572921Z",
     "shell.execute_reply": "2020-10-06T08:53:30.573365Z"
    }
   },
   "outputs": [],
   "source": [
    "c.execute('''\n",
    "CREATE TABLE IF NOT EXISTS \"role_in_grants\" (\n",
    "  \"person_id_snsf\" INTEGER,\n",
    "  \"role\" TEXT,\n",
    "  \"project_number\" INTEGER,\n",
    "  FOREIGN KEY(\"person_id_snsf\") REFERENCES \"people\"(\"person_id_snsf\"),\n",
    "  FOREIGN KEY(\"project_number\") REFERENCES \"grants\"(\"project_number\")\n",
    ");\n",
    "''')\n",
    "conn.commit()"
   ]
  },
  {
   "cell_type": "code",
   "execution_count": 19,
   "metadata": {
    "execution": {
     "iopub.execute_input": "2020-10-06T08:53:30.577610Z",
     "iopub.status.busy": "2020-10-06T08:53:30.576962Z",
     "iopub.status.idle": "2020-10-06T08:53:32.078926Z",
     "shell.execute_reply": "2020-10-06T08:53:32.079379Z"
    }
   },
   "outputs": [],
   "source": [
    "grants.to_sql('grants', con=conn, if_exists='replace', index=False)\n",
    "people.to_sql('people', con=conn, if_exists='replace', index=False)\n",
    "role_in_grants.to_sql('role_in_grants', con=conn, if_exists='replace', index=False)"
   ]
  }
 ],
 "metadata": {
  "kernelspec": {
   "display_name": "Python 3",
   "language": "python",
   "name": "python3"
  },
  "language_info": {
   "codemirror_mode": {
    "name": "ipython",
    "version": 3
   },
   "file_extension": ".py",
   "mimetype": "text/x-python",
   "name": "python",
   "nbconvert_exporter": "python",
   "pygments_lexer": "ipython3",
   "version": "3.8.3"
  }
 },
 "nbformat": 4,
 "nbformat_minor": 4
}
