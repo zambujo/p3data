{
 "cells": [
  {
   "cell_type": "markdown",
   "metadata": {},
   "source": [
    "# Preprocessing SNSF Public Data"
   ]
  },
  {
   "cell_type": "code",
   "execution_count": 1,
   "metadata": {
    "execution": {
     "iopub.execute_input": "2020-10-18T16:50:16.599977Z",
     "iopub.status.busy": "2020-10-18T16:50:16.599010Z",
     "iopub.status.idle": "2020-10-18T16:50:17.133261Z",
     "shell.execute_reply": "2020-10-18T16:50:17.132688Z"
    }
   },
   "outputs": [],
   "source": [
    "import os\n",
    "import sqlite3\n",
    "from sqlite3 import Error\n",
    "\n",
    "import numpy as np\n",
    "import pandas as pd\n",
    "\n",
    "RAW_DATA_FOLDER = '../rawdata'\n",
    "DATA_FOLDER = '../data/'"
   ]
  },
  {
   "cell_type": "code",
   "execution_count": 2,
   "metadata": {
    "execution": {
     "iopub.execute_input": "2020-10-18T16:50:17.140904Z",
     "iopub.status.busy": "2020-10-18T16:50:17.139561Z",
     "iopub.status.idle": "2020-10-18T16:50:18.053226Z",
     "shell.execute_reply": "2020-10-18T16:50:18.053835Z"
    }
   },
   "outputs": [],
   "source": [
    "# file_names = os.listdir(RAW_DATA_FOLDER) # file_names[0], file_names[1]\n",
    "project = pd.read_csv(os.path.join(RAW_DATA_FOLDER, 'P3_GrantExport.csv'), sep=';')\n",
    "person = pd.read_csv(os.path.join(RAW_DATA_FOLDER, 'P3_PersonExport.csv'), sep=';')"
   ]
  },
  {
   "cell_type": "markdown",
   "metadata": {},
   "source": [
    "## Assess"
   ]
  },
  {
   "cell_type": "code",
   "execution_count": 3,
   "metadata": {
    "execution": {
     "iopub.execute_input": "2020-10-18T16:50:18.071339Z",
     "iopub.status.busy": "2020-10-18T16:50:18.059145Z",
     "iopub.status.idle": "2020-10-18T16:50:18.083434Z",
     "shell.execute_reply": "2020-10-18T16:50:18.083880Z"
    }
   },
   "outputs": [
    {
     "data": {
      "text/html": [
       "<div>\n",
       "<style scoped>\n",
       "    .dataframe tbody tr th:only-of-type {\n",
       "        vertical-align: middle;\n",
       "    }\n",
       "\n",
       "    .dataframe tbody tr th {\n",
       "        vertical-align: top;\n",
       "    }\n",
       "\n",
       "    .dataframe thead th {\n",
       "        text-align: right;\n",
       "    }\n",
       "</style>\n",
       "<table border=\"1\" class=\"dataframe\">\n",
       "  <thead>\n",
       "    <tr style=\"text-align: right;\">\n",
       "      <th></th>\n",
       "      <th>Project Number</th>\n",
       "      <th>Project Number String</th>\n",
       "      <th>Project Title</th>\n",
       "      <th>Project Title English</th>\n",
       "      <th>Responsible Applicant</th>\n",
       "      <th>Funding Instrument</th>\n",
       "      <th>Funding Instrument Hierarchy</th>\n",
       "      <th>Institution</th>\n",
       "      <th>Institution Country</th>\n",
       "      <th>University</th>\n",
       "      <th>Discipline Number</th>\n",
       "      <th>Discipline Name</th>\n",
       "      <th>Discipline Name Hierarchy</th>\n",
       "      <th>All disciplines</th>\n",
       "      <th>Start Date</th>\n",
       "      <th>End Date</th>\n",
       "      <th>Approved Amount</th>\n",
       "      <th>Keywords</th>\n",
       "    </tr>\n",
       "  </thead>\n",
       "  <tbody>\n",
       "    <tr>\n",
       "      <th>72173</th>\n",
       "      <td>186507</td>\n",
       "      <td>IZSEZ0_186507</td>\n",
       "      <td>The use of I-129 as a tracer of Atlantic Water...</td>\n",
       "      <td>NaN</td>\n",
       "      <td>Casacuberta Arola Nuria</td>\n",
       "      <td>Scientific Exchanges</td>\n",
       "      <td>Science communication</td>\n",
       "      <td>Institut für Teilchen- und Astrophysik ETH Zürich</td>\n",
       "      <td>Switzerland</td>\n",
       "      <td>ETH Zurich - ETHZ</td>\n",
       "      <td>20706</td>\n",
       "      <td>Oceanography</td>\n",
       "      <td>Mathematics, Natural- and Engineering Sciences...</td>\n",
       "      <td>20706</td>\n",
       "      <td>01.05.2019</td>\n",
       "      <td>31.07.2019</td>\n",
       "      <td>5100.00</td>\n",
       "      <td>tracer; model; Arctic; ocean; climate</td>\n",
       "    </tr>\n",
       "    <tr>\n",
       "      <th>63003</th>\n",
       "      <td>164532</td>\n",
       "      <td>PMPDP2_164532</td>\n",
       "      <td>Enhanced Rayleigh scattering towards low thres...</td>\n",
       "      <td>NaN</td>\n",
       "      <td>Yao Can</td>\n",
       "      <td>Marie Heim-Voegtlin grants</td>\n",
       "      <td>Careers;Academic and research careers (non-pro...</td>\n",
       "      <td>Laboratoire de systèmes photoniques EPFL - STI...</td>\n",
       "      <td>Switzerland</td>\n",
       "      <td>EPF Lausanne - EPFL</td>\n",
       "      <td>20504</td>\n",
       "      <td>Electrical Engineering</td>\n",
       "      <td>Mathematics, Natural- and Engineering Sciences...</td>\n",
       "      <td>20504</td>\n",
       "      <td>01.09.2016</td>\n",
       "      <td>31.08.2018</td>\n",
       "      <td>234567.00</td>\n",
       "      <td>Random; fiber; laser; Optical; fiber; sensing;...</td>\n",
       "    </tr>\n",
       "    <tr>\n",
       "      <th>72343</th>\n",
       "      <td>186889</td>\n",
       "      <td>IZSEZ0_186889</td>\n",
       "      <td>Marginalisierte Quartiere und Stadtentwicklung...</td>\n",
       "      <td>NaN</td>\n",
       "      <td>Guhl Jutta</td>\n",
       "      <td>Scientific Exchanges</td>\n",
       "      <td>Science communication</td>\n",
       "      <td>Institut Sozialplanung u. Stadtentwicklung Hoc...</td>\n",
       "      <td>Switzerland</td>\n",
       "      <td>University of Applied Sciences and Arts Northw...</td>\n",
       "      <td>10601</td>\n",
       "      <td>Social work</td>\n",
       "      <td>Humanities and Social Sciences;Sociology, soci...</td>\n",
       "      <td>10601/10201/10202</td>\n",
       "      <td>01.05.2019</td>\n",
       "      <td>31.07.2019</td>\n",
       "      <td>5390.00</td>\n",
       "      <td>Stadtentwicklung; Soziale Arbeit; Quartier; Be...</td>\n",
       "    </tr>\n",
       "  </tbody>\n",
       "</table>\n",
       "</div>"
      ],
      "text/plain": [
       "       Project Number Project Number String  \\\n",
       "72173          186507         IZSEZ0_186507   \n",
       "63003          164532         PMPDP2_164532   \n",
       "72343          186889         IZSEZ0_186889   \n",
       "\n",
       "                                           Project Title  \\\n",
       "72173  The use of I-129 as a tracer of Atlantic Water...   \n",
       "63003  Enhanced Rayleigh scattering towards low thres...   \n",
       "72343  Marginalisierte Quartiere und Stadtentwicklung...   \n",
       "\n",
       "      Project Title English    Responsible Applicant  \\\n",
       "72173                   NaN  Casacuberta Arola Nuria   \n",
       "63003                   NaN                  Yao Can   \n",
       "72343                   NaN               Guhl Jutta   \n",
       "\n",
       "               Funding Instrument  \\\n",
       "72173        Scientific Exchanges   \n",
       "63003  Marie Heim-Voegtlin grants   \n",
       "72343        Scientific Exchanges   \n",
       "\n",
       "                            Funding Instrument Hierarchy  \\\n",
       "72173                              Science communication   \n",
       "63003  Careers;Academic and research careers (non-pro...   \n",
       "72343                              Science communication   \n",
       "\n",
       "                                             Institution Institution Country  \\\n",
       "72173  Institut für Teilchen- und Astrophysik ETH Zürich         Switzerland   \n",
       "63003  Laboratoire de systèmes photoniques EPFL - STI...         Switzerland   \n",
       "72343  Institut Sozialplanung u. Stadtentwicklung Hoc...         Switzerland   \n",
       "\n",
       "                                              University  Discipline Number  \\\n",
       "72173                                  ETH Zurich - ETHZ              20706   \n",
       "63003                                EPF Lausanne - EPFL              20504   \n",
       "72343  University of Applied Sciences and Arts Northw...              10601   \n",
       "\n",
       "              Discipline Name  \\\n",
       "72173            Oceanography   \n",
       "63003  Electrical Engineering   \n",
       "72343             Social work   \n",
       "\n",
       "                               Discipline Name Hierarchy    All disciplines  \\\n",
       "72173  Mathematics, Natural- and Engineering Sciences...              20706   \n",
       "63003  Mathematics, Natural- and Engineering Sciences...              20504   \n",
       "72343  Humanities and Social Sciences;Sociology, soci...  10601/10201/10202   \n",
       "\n",
       "       Start Date    End Date Approved Amount  \\\n",
       "72173  01.05.2019  31.07.2019         5100.00   \n",
       "63003  01.09.2016  31.08.2018       234567.00   \n",
       "72343  01.05.2019  31.07.2019         5390.00   \n",
       "\n",
       "                                                Keywords  \n",
       "72173              tracer; model; Arctic; ocean; climate  \n",
       "63003  Random; fiber; laser; Optical; fiber; sensing;...  \n",
       "72343  Stadtentwicklung; Soziale Arbeit; Quartier; Be...  "
      ]
     },
     "execution_count": 3,
     "metadata": {},
     "output_type": "execute_result"
    }
   ],
   "source": [
    "project.sample(3)"
   ]
  },
  {
   "cell_type": "code",
   "execution_count": 4,
   "metadata": {
    "execution": {
     "iopub.execute_input": "2020-10-18T16:50:18.129128Z",
     "iopub.status.busy": "2020-10-18T16:50:18.128407Z",
     "iopub.status.idle": "2020-10-18T16:50:18.141781Z",
     "shell.execute_reply": "2020-10-18T16:50:18.142569Z"
    },
    "tags": []
   },
   "outputs": [
    {
     "name": "stdout",
     "output_type": "stream",
     "text": [
      "<class 'pandas.core.frame.DataFrame'>\n",
      "RangeIndex: 74807 entries, 0 to 74806\n",
      "Data columns (total 18 columns):\n",
      " #   Column                        Non-Null Count  Dtype \n",
      "---  ------                        --------------  ----- \n",
      " 0   Project Number                74807 non-null  int64 \n",
      " 1   Project Number String         74807 non-null  object\n",
      " 2   Project Title                 74807 non-null  object\n",
      " 3   Project Title English         31553 non-null  object\n",
      " 4   Responsible Applicant         74807 non-null  object\n",
      " 5   Funding Instrument            74807 non-null  object\n",
      " 6   Funding Instrument Hierarchy  74767 non-null  object\n",
      " 7   Institution                   69131 non-null  object\n",
      " 8   Institution Country           69066 non-null  object\n",
      " 9   University                    74802 non-null  object\n",
      " 10  Discipline Number             74807 non-null  int64 \n",
      " 11  Discipline Name               74807 non-null  object\n",
      " 12  Discipline Name Hierarchy     74303 non-null  object\n",
      " 13  All disciplines               74807 non-null  object\n",
      " 14  Start Date                    74805 non-null  object\n",
      " 15  End Date                      74805 non-null  object\n",
      " 16  Approved Amount               74807 non-null  object\n",
      " 17  Keywords                      49697 non-null  object\n",
      "dtypes: int64(2), object(16)\n",
      "memory usage: 10.3+ MB\n"
     ]
    }
   ],
   "source": [
    "project.info()"
   ]
  },
  {
   "cell_type": "code",
   "execution_count": 5,
   "metadata": {
    "execution": {
     "iopub.execute_input": "2020-10-18T16:50:18.158245Z",
     "iopub.status.busy": "2020-10-18T16:50:18.148137Z",
     "iopub.status.idle": "2020-10-18T16:50:18.161554Z",
     "shell.execute_reply": "2020-10-18T16:50:18.162028Z"
    }
   },
   "outputs": [
    {
     "data": {
      "text/html": [
       "<div>\n",
       "<style scoped>\n",
       "    .dataframe tbody tr th:only-of-type {\n",
       "        vertical-align: middle;\n",
       "    }\n",
       "\n",
       "    .dataframe tbody tr th {\n",
       "        vertical-align: top;\n",
       "    }\n",
       "\n",
       "    .dataframe thead th {\n",
       "        text-align: right;\n",
       "    }\n",
       "</style>\n",
       "<table border=\"1\" class=\"dataframe\">\n",
       "  <thead>\n",
       "    <tr style=\"text-align: right;\">\n",
       "      <th></th>\n",
       "      <th>Last Name</th>\n",
       "      <th>First Name</th>\n",
       "      <th>Gender</th>\n",
       "      <th>Institute Name</th>\n",
       "      <th>Institute Place</th>\n",
       "      <th>Person ID SNSF</th>\n",
       "      <th>OCRID</th>\n",
       "      <th>Projects as responsible Applicant</th>\n",
       "      <th>Projects as Applicant</th>\n",
       "      <th>Projects as Partner</th>\n",
       "      <th>Projects as Practice Partner</th>\n",
       "      <th>Projects as Employee</th>\n",
       "      <th>Projects as Contact Person</th>\n",
       "    </tr>\n",
       "  </thead>\n",
       "  <tbody>\n",
       "    <tr>\n",
       "      <th>51365</th>\n",
       "      <td>Kirchhoffer</td>\n",
       "      <td>Olivier</td>\n",
       "      <td>male</td>\n",
       "      <td>NaN</td>\n",
       "      <td>NaN</td>\n",
       "      <td>764330</td>\n",
       "      <td>NaN</td>\n",
       "      <td>NaN</td>\n",
       "      <td>NaN</td>\n",
       "      <td>NaN</td>\n",
       "      <td>NaN</td>\n",
       "      <td>189921</td>\n",
       "      <td>NaN</td>\n",
       "    </tr>\n",
       "    <tr>\n",
       "      <th>54718</th>\n",
       "      <td>Kunz</td>\n",
       "      <td>Pierre</td>\n",
       "      <td>male</td>\n",
       "      <td>Service Cantonal de Protection de l'Air</td>\n",
       "      <td>Genève 8</td>\n",
       "      <td>16627</td>\n",
       "      <td>NaN</td>\n",
       "      <td>34552</td>\n",
       "      <td>58603</td>\n",
       "      <td>NaN</td>\n",
       "      <td>NaN</td>\n",
       "      <td>4755;5571;34552</td>\n",
       "      <td>NaN</td>\n",
       "    </tr>\n",
       "    <tr>\n",
       "      <th>47778</th>\n",
       "      <td>Jequier Gygax</td>\n",
       "      <td>Marine</td>\n",
       "      <td>female</td>\n",
       "      <td>Service des Troubles du Spectre de l'Autisme D...</td>\n",
       "      <td>Lausanne</td>\n",
       "      <td>564781</td>\n",
       "      <td>0000-0003-1266-6873</td>\n",
       "      <td>129421;137095</td>\n",
       "      <td>NaN</td>\n",
       "      <td>NaN</td>\n",
       "      <td>NaN</td>\n",
       "      <td>NaN</td>\n",
       "      <td>NaN</td>\n",
       "    </tr>\n",
       "  </tbody>\n",
       "</table>\n",
       "</div>"
      ],
      "text/plain": [
       "           Last Name First Name  Gender  \\\n",
       "51365    Kirchhoffer    Olivier    male   \n",
       "54718           Kunz     Pierre    male   \n",
       "47778  Jequier Gygax     Marine  female   \n",
       "\n",
       "                                          Institute Name Institute Place  \\\n",
       "51365                                                NaN             NaN   \n",
       "54718            Service Cantonal de Protection de l'Air        Genève 8   \n",
       "47778  Service des Troubles du Spectre de l'Autisme D...        Lausanne   \n",
       "\n",
       "       Person ID SNSF                OCRID Projects as responsible Applicant  \\\n",
       "51365          764330                  NaN                               NaN   \n",
       "54718           16627                  NaN                             34552   \n",
       "47778          564781  0000-0003-1266-6873                     129421;137095   \n",
       "\n",
       "      Projects as Applicant Projects as Partner Projects as Practice Partner  \\\n",
       "51365                   NaN                 NaN                          NaN   \n",
       "54718                 58603                 NaN                          NaN   \n",
       "47778                   NaN                 NaN                          NaN   \n",
       "\n",
       "      Projects as Employee Projects as Contact Person  \n",
       "51365               189921                        NaN  \n",
       "54718      4755;5571;34552                        NaN  \n",
       "47778                  NaN                        NaN  "
      ]
     },
     "execution_count": 5,
     "metadata": {},
     "output_type": "execute_result"
    }
   ],
   "source": [
    "person.sample(3)"
   ]
  },
  {
   "cell_type": "code",
   "execution_count": 6,
   "metadata": {
    "execution": {
     "iopub.execute_input": "2020-10-18T16:50:18.210820Z",
     "iopub.status.busy": "2020-10-18T16:50:18.209399Z",
     "iopub.status.idle": "2020-10-18T16:50:18.221686Z",
     "shell.execute_reply": "2020-10-18T16:50:18.222158Z"
    }
   },
   "outputs": [
    {
     "name": "stdout",
     "output_type": "stream",
     "text": [
      "<class 'pandas.core.frame.DataFrame'>\n",
      "RangeIndex: 112476 entries, 0 to 112475\n",
      "Data columns (total 13 columns):\n",
      " #   Column                             Non-Null Count   Dtype \n",
      "---  ------                             --------------   ----- \n",
      " 0   Last Name                          112476 non-null  object\n",
      " 1   First Name                         112469 non-null  object\n",
      " 2   Gender                             112476 non-null  object\n",
      " 3   Institute Name                     54497 non-null   object\n",
      " 4   Institute Place                    54393 non-null   object\n",
      " 5   Person ID SNSF                     112476 non-null  int64 \n",
      " 6   OCRID                              7328 non-null    object\n",
      " 7   Projects as responsible Applicant  29056 non-null   object\n",
      " 8   Projects as Applicant              18969 non-null   object\n",
      " 9   Projects as Partner                5460 non-null    object\n",
      " 10  Projects as Practice Partner       735 non-null     object\n",
      " 11  Projects as Employee               82415 non-null   object\n",
      " 12  Projects as Contact Person         766 non-null     object\n",
      "dtypes: int64(1), object(12)\n",
      "memory usage: 11.2+ MB\n"
     ]
    }
   ],
   "source": [
    "person.info()"
   ]
  },
  {
   "cell_type": "markdown",
   "metadata": {},
   "source": [
    "### Tidiness\n",
    "\n",
    "#### `project` (ie. `GrantExport`) table\n",
    "\n",
    "- `Funding Instrument`, `Funding Instrument Hierarchy` are confusing\n",
    "- `Discipline`, ... `Discipline Name Hierarchy` are confusing\n",
    "- Details about `Institute` out of scope\n",
    "- `University` contains both long and short names: details out of scope\n",
    "\n",
    "#### `person` (ie. `PersonExport`) table\n",
    "\n",
    "- [x]`Project as...` contain mixed variables and observations for grant and role\n",
    "- Details about `Institute` out of scope\n",
    "\n",
    "#### Quality\n",
    "\n",
    "- [x] spaces in column names\n",
    "\n",
    "##### `project` (ie. `GrantExport`) table\n",
    "\n",
    "- [x] `Project Number` and `Project Number String` are redundant\n",
    "- [x] `Project Number String` encodes division information?\n",
    "- [x] `Responsible Applicant` not an uid\n",
    "- [x] `Start Date` and `End Date` string, not date type\n",
    "- [x] `Aproved Amount` not numeric\n",
    "- [x] 2 observations without `start_date` or `end_date`\n",
    "- `Project Title English` often redundant or null\n",
    "- `Institution` free text? if yes, is it relevant? better named as department?\n",
    "- `Keywords` not consistent (see keyword extraction from abstracts)\n",
    "\n",
    "##### `person` (ie. `PersonExport`) table\n",
    "\n",
    "- typo in col name for `ORCID`\n",
    "- gender not categorical variable\n",
    "- make sure `person_id_snsf` is unique"
   ]
  },
  {
   "cell_type": "markdown",
   "metadata": {},
   "source": [
    "## Clean"
   ]
  },
  {
   "cell_type": "code",
   "execution_count": 7,
   "metadata": {
    "execution": {
     "iopub.execute_input": "2020-10-18T16:50:18.230545Z",
     "iopub.status.busy": "2020-10-18T16:50:18.229882Z",
     "iopub.status.idle": "2020-10-18T16:50:18.231882Z",
     "shell.execute_reply": "2020-10-18T16:50:18.232326Z"
    }
   },
   "outputs": [],
   "source": [
    "# Fix column names\n",
    "project.columns = project.columns.str.lower().str.replace(' ', '_')\n",
    "person.columns = person.columns.str.lower().str.replace(' ', '_')\n",
    "\n",
    "assert all(project.columns.str.contains(' ') == False), 'Space in project column names'\n",
    "assert all(person.columns.str.contains(' ') == False), 'Space in person column names'\n",
    "assert all(project.columns == project.columns.str.lower()), 'Uppercase in project column names'\n",
    "assert all(person.columns == person.columns.str.lower()), 'Uppercase in person column names'"
   ]
  },
  {
   "cell_type": "code",
   "execution_count": 8,
   "metadata": {
    "execution": {
     "iopub.execute_input": "2020-10-18T16:50:18.278965Z",
     "iopub.status.busy": "2020-10-18T16:50:18.278115Z",
     "iopub.status.idle": "2020-10-18T16:50:19.165795Z",
     "shell.execute_reply": "2020-10-18T16:50:19.166333Z"
    }
   },
   "outputs": [],
   "source": [
    "# https://github.com/zambujo/p3data/issues/4\n",
    "role_types = np.array(person.columns[person.columns.str.contains('projects_as_')])\n",
    "hr = (person\n",
    "        .melt('person_id_snsf', \n",
    "              var_name='role', \n",
    "              value_name='project_number', \n",
    "              value_vars=role_types).dropna())\n",
    "hr = (hr\n",
    "        .assign(project_number=hr\n",
    "        .project_number.str.split(';'))\n",
    "        .explode('project_number')\n",
    "        .reset_index(drop=True))\n",
    "hr['role'] = hr.role.str[12:] # remove 'projects_as_'\n",
    "hr['project_number'] = pd.to_numeric(hr['project_number'], errors='coerce')\n",
    "hr=hr.dropna()\n",
    "hr['project_number'] = hr['project_number'].astype(int)\n",
    "hr.drop_duplicates(inplace=True)\n",
    "\n",
    "# hr.role.value_counts()\n",
    "assert hr.project_number.dtype.name == 'int64', 'project number column not an integer'"
   ]
  },
  {
   "cell_type": "code",
   "execution_count": 9,
   "metadata": {
    "execution": {
     "iopub.execute_input": "2020-10-18T16:50:19.171340Z",
     "iopub.status.busy": "2020-10-18T16:50:19.170318Z",
     "iopub.status.idle": "2020-10-18T16:50:19.235195Z",
     "shell.execute_reply": "2020-10-18T16:50:19.235692Z"
    }
   },
   "outputs": [],
   "source": [
    "# hr table\n",
    "hr.reset_index(inplace=True)\n",
    "hr = hr.rename(columns = {'index':'id',\n",
    "                          'project_number':'project_id', \n",
    "                          'person_id_snsf':'person_id'})\n",
    "hr = hr[['id', 'project_id', 'person_id', 'role']]\n",
    "\n",
    "assert all(hr.id.duplicated() == False), 'id contains duplicates'"
   ]
  },
  {
   "cell_type": "code",
   "execution_count": 10,
   "metadata": {
    "execution": {
     "iopub.execute_input": "2020-10-18T16:50:19.240740Z",
     "iopub.status.busy": "2020-10-18T16:50:19.239854Z",
     "iopub.status.idle": "2020-10-18T16:50:19.348308Z",
     "shell.execute_reply": "2020-10-18T16:50:19.348760Z"
    },
    "tags": []
   },
   "outputs": [],
   "source": [
    "# person table\n",
    "person = person.rename(columns = {'person_id_snsf':'id'})\n",
    "person = person[['id', 'gender', 'first_name', 'last_name']]\n",
    "person = person.drop_duplicates()\n",
    "\n",
    "assert all(person.id.duplicated() == False), 'id contains duplicates'"
   ]
  },
  {
   "cell_type": "code",
   "execution_count": 11,
   "metadata": {
    "execution": {
     "iopub.execute_input": "2020-10-18T16:50:19.430207Z",
     "iopub.status.busy": "2020-10-18T16:50:19.389703Z",
     "iopub.status.idle": "2020-10-18T16:50:19.559048Z",
     "shell.execute_reply": "2020-10-18T16:50:19.559501Z"
    },
    "tags": []
   },
   "outputs": [],
   "source": [
    "# https://github.com/zambujo/p3data/issues/1\n",
    "# remove ending project_number >> remove ending separator(s)\n",
    "project['string_code'] = (\n",
    "    project.project_number_string.\n",
    "        str.replace('([0-9]+)$', '').\n",
    "        str.replace('[^a-zA-Z0-9]+$', ''))\n",
    "project = project.drop('project_number_string', 1)"
   ]
  },
  {
   "cell_type": "code",
   "execution_count": 12,
   "metadata": {
    "execution": {
     "iopub.execute_input": "2020-10-18T16:50:19.563169Z",
     "iopub.status.busy": "2020-10-18T16:50:19.562483Z",
     "iopub.status.idle": "2020-10-18T16:50:19.564169Z",
     "shell.execute_reply": "2020-10-18T16:50:19.564600Z"
    }
   },
   "outputs": [],
   "source": [
    "# string_code vs funding_instrument\n",
    "# grants.groupby([\"string_code\", \"funding_instrument\"]).size().reset_index().rename(columns={0: \"count\"}).sort_values(by='count', ascending=False)"
   ]
  },
  {
   "cell_type": "code",
   "execution_count": 13,
   "metadata": {
    "execution": {
     "iopub.execute_input": "2020-10-18T16:50:19.597114Z",
     "iopub.status.busy": "2020-10-18T16:50:19.596075Z",
     "iopub.status.idle": "2020-10-18T16:50:19.658325Z",
     "shell.execute_reply": "2020-10-18T16:50:19.658950Z"
    }
   },
   "outputs": [],
   "source": [
    "# https://github.com/zambujo/p3data/issues/6\n",
    "project['approved_amount'] = pd.to_numeric(project['approved_amount'], errors='coerce')\n",
    "project['start_date'] = pd.to_datetime(project.start_date)\n",
    "project['end_date'] = pd.to_datetime(project.end_date)\n",
    "\n",
    "assert project.approved_amount.dtype.name == 'float64', 'approved amount column not a float'\n",
    "assert project.start_date.dtype.name == 'datetime64[ns]', 'start_date column not datetime type'\n",
    "assert project.end_date.dtype.name == 'datetime64[ns]', 'end_date column not datetime type'"
   ]
  },
  {
   "cell_type": "code",
   "execution_count": 14,
   "metadata": {
    "execution": {
     "iopub.execute_input": "2020-10-18T16:50:19.664539Z",
     "iopub.status.busy": "2020-10-18T16:50:19.663861Z",
     "iopub.status.idle": "2020-10-18T16:50:19.721018Z",
     "shell.execute_reply": "2020-10-18T16:50:19.721485Z"
    }
   },
   "outputs": [],
   "source": [
    "# https://github.com/zambujo/p3data/issues/13\n",
    "project=project.dropna(subset=['start_date'])\n",
    "project=project.dropna(subset=['end_date']) # to be on safe side\n",
    "\n",
    "assert all(pd.isna(project.start_date) == False), 'NA values in project.start_date'\n",
    "assert all(pd.isna(project.end_date) == False), 'NA values in project.end_date'"
   ]
  },
  {
   "cell_type": "code",
   "execution_count": 15,
   "metadata": {
    "execution": {
     "iopub.execute_input": "2020-10-18T16:50:19.753170Z",
     "iopub.status.busy": "2020-10-18T16:50:19.728224Z",
     "iopub.status.idle": "2020-10-18T16:50:20.210902Z",
     "shell.execute_reply": "2020-10-18T16:50:20.211505Z"
    }
   },
   "outputs": [],
   "source": [
    "# project table\n",
    "project[['domain','topic']] = project.discipline_name_hierarchy.str.split(';', expand=True)\n",
    "project[['programme', 'programme_details', 'programme_specifics']] = project.funding_instrument_hierarchy.str.split(';', expand=True)\n",
    "\n",
    "project = project.rename(columns = {'project_number':'id'})\n",
    "project = project[['id', 'programme', 'funding_instrument', 'domain', 'topic', 'discipline_name', 'start_date', 'end_date', 'approved_amount']]\n",
    "\n",
    "assert all(project.id.duplicated() == False), 'id contains duplicates'"
   ]
  },
  {
   "cell_type": "code",
   "execution_count": 16,
   "metadata": {
    "execution": {
     "iopub.execute_input": "2020-10-18T16:50:20.215680Z",
     "iopub.status.busy": "2020-10-18T16:50:20.214993Z",
     "iopub.status.idle": "2020-10-18T16:50:20.219000Z",
     "shell.execute_reply": "2020-10-18T16:50:20.219454Z"
    }
   },
   "outputs": [],
   "source": [
    "# create a database connection and a cursor object to a SQLite database\n",
    "conn = None\n",
    "try:\n",
    "    conn = sqlite3.connect('../data/p3.db')\n",
    "    c = conn.cursor()\n",
    "except Error as e:\n",
    "    print(e)"
   ]
  },
  {
   "cell_type": "code",
   "execution_count": 17,
   "metadata": {
    "execution": {
     "iopub.execute_input": "2020-10-18T16:50:20.226282Z",
     "iopub.status.busy": "2020-10-18T16:50:20.225427Z",
     "iopub.status.idle": "2020-10-18T16:50:20.612719Z",
     "shell.execute_reply": "2020-10-18T16:50:20.613354Z"
    }
   },
   "outputs": [],
   "source": [
    "sql_drop_project_table = 'DROP TABLE IF EXISTS project;'\n",
    "sql_drop_person_table =  'DROP TABLE IF EXISTS person;'\n",
    "sql_drop_hr_table =  'DROP TABLE IF EXISTS hr;'\n",
    "\n",
    "sql_create_project_table = '''\n",
    "CREATE TABLE IF NOT EXISTS project (\n",
    "  id integer PRIMARY KEY,\n",
    "  programme text,\n",
    "  funding_instrument text,\n",
    "  domain text,\n",
    "  topic text,\n",
    "  discipline_name text,\n",
    "  start_date datetime,\n",
    "  end_date datetime,\n",
    "  approved_amount float\n",
    ");'''\n",
    "\n",
    "sql_create_person_table = '''\n",
    "CREATE TABLE IF NOT EXISTS person (\n",
    "  id integer PRIMARY KEY,\n",
    "  gender text,\n",
    "  first_name text,\n",
    "  last_name text\n",
    ");'''\n",
    "\n",
    "sql_create_hr_table = '''\n",
    "CREATE TABLE IF NOT EXISTS hr (\n",
    "  id integer PRIMARY KEY,\n",
    "  project_id integer,\n",
    "  person_id integer,\n",
    "  role text,\n",
    "  FOREIGN KEY (project_id) REFERENCES project (id),\n",
    "  FOREIGN KEY (person_id) REFERENCES person (id)\n",
    ");'''\n",
    "\n",
    "def manipulate_table(conn, sql_command):\n",
    "    try:\n",
    "        c = conn.cursor()\n",
    "        c.execute(sql_command)\n",
    "        # conn.commit()\n",
    "    except Error as e:\n",
    "        print(e)\n",
    "\n",
    "if conn is not None:\n",
    "    manipulate_table(conn, sql_drop_project_table)\n",
    "    manipulate_table(conn, sql_drop_person_table)\n",
    "    manipulate_table(conn, sql_drop_hr_table)\n",
    "    manipulate_table(conn, sql_create_project_table)\n",
    "    manipulate_table(conn, sql_create_person_table)\n",
    "    manipulate_table(conn, sql_create_hr_table)\n",
    "else:\n",
    "    print(\"Problem with connection to database.\")"
   ]
  },
  {
   "cell_type": "code",
   "execution_count": 18,
   "metadata": {
    "execution": {
     "iopub.execute_input": "2020-10-18T16:50:20.620067Z",
     "iopub.status.busy": "2020-10-18T16:50:20.619102Z",
     "iopub.status.idle": "2020-10-18T16:50:22.253755Z",
     "shell.execute_reply": "2020-10-18T16:50:22.254208Z"
    }
   },
   "outputs": [],
   "source": [
    "project.to_sql('project', con=conn, if_exists='append', index=False)\n",
    "person.to_sql('person', con=conn, if_exists='append', index=False)\n",
    "hr.to_sql('hr', con=conn, if_exists='append', index=False)"
   ]
  },
  {
   "cell_type": "code",
   "execution_count": 19,
   "metadata": {
    "execution": {
     "iopub.execute_input": "2020-10-18T16:50:22.258752Z",
     "iopub.status.busy": "2020-10-18T16:50:22.257923Z",
     "iopub.status.idle": "2020-10-18T16:50:22.260330Z",
     "shell.execute_reply": "2020-10-18T16:50:22.260774Z"
    }
   },
   "outputs": [],
   "source": [
    "if conn is not None:\n",
    "    conn.close()\n",
    "else:\n",
    "    print(\"Problem with connection to database.\")"
   ]
  }
 ],
 "metadata": {
  "kernelspec": {
   "display_name": "Python 3",
   "language": "python",
   "name": "python3"
  },
  "language_info": {
   "codemirror_mode": {
    "name": "ipython",
    "version": 3
   },
   "file_extension": ".py",
   "mimetype": "text/x-python",
   "name": "python",
   "nbconvert_exporter": "python",
   "pygments_lexer": "ipython3",
   "version": "3.7.9"
  },
  "nteract": {
   "version": "nteract-on-jupyter@2.1.3"
  }
 },
 "nbformat": 4,
 "nbformat_minor": 4
}
