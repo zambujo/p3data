{
 "cells": [
  {
   "cell_type": "markdown",
   "metadata": {
    "slideshow": {
     "slide_type": "-"
    }
   },
   "source": [
    "# Women scientists funding in Switzerland\n",
    "\n",
    "---\n",
    "\n",
    "by Joao Martins"
   ]
  },
  {
   "cell_type": "code",
   "execution_count": 1,
   "metadata": {
    "slideshow": {
     "slide_type": "skip"
    }
   },
   "outputs": [],
   "source": [
    "# boilerplate\n",
    "import numpy as np\n",
    "import pandas as pd\n",
    "import datetime as dt\n",
    "import matplotlib.pyplot as plt\n",
    "import seaborn as sns\n",
    "sns.set(rc={'figure.figsize':(10, 7)})\n",
    "\n",
    "# tidy datasets\n",
    "grants=pd.read_feather('data/project.feather')\n",
    "grantees=pd.read_feather('data/grantee.feather')\n",
    "people=pd.read_feather('data/person.feather')\n",
    "\n",
    "# $jupyter nbconvert slide_deck.ipynb --to slides --post serve --template assets/style/output_toggle.tlp\n",
    "# not needed given that we can skip cells with Slide Type 'Skip'"
   ]
  },
  {
   "cell_type": "markdown",
   "metadata": {
    "slideshow": {
     "slide_type": "slide"
    }
   },
   "source": [
    "## Leaky pipeline for women scientists\n",
    "\n",
    "Academic careers are known for leaking more women than men.\n",
    "\n",
    "[Leaky pipeline for women scientists dries up after they win first big grant](https://www.nature.com/articles/d41586-018-05759-w)\n",
    "\n",
    "[A Leak in the Academic Pipeline: Identity and Health Among Postdoctoral Women](https://www.frontiersin.org/articles/10.3389/fpsyg.2019.01297/full)"
   ]
  },
  {
   "cell_type": "markdown",
   "metadata": {
    "slideshow": {
     "slide_type": "slide"
    }
   },
   "source": [
    "## Swiss science funding data\n",
    "\n",
    "below a code fragment of this slide"
   ]
  }
 ],
 "metadata": {
  "celltoolbar": "Slideshow",
  "kernelspec": {
   "display_name": "Python 3",
   "language": "python",
   "name": "python3"
  },
  "language_info": {
   "codemirror_mode": {
    "name": "ipython",
    "version": 3
   },
   "file_extension": ".py",
   "mimetype": "text/x-python",
   "name": "python",
   "nbconvert_exporter": "python",
   "pygments_lexer": "ipython3",
   "version": "3.8.5"
  }
 },
 "nbformat": 4,
 "nbformat_minor": 2
}
