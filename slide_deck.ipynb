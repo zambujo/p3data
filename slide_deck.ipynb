{
 "cells": [
  {
   "cell_type": "markdown",
   "metadata": {
    "slideshow": {
     "slide_type": "-"
    }
   },
   "source": [
    "# Leadership gap for women scientists in Switzerland\n",
    "\n",
    "_work-in-progress_\n",
    "\n",
    "[Joao Martins](https://github.com/zambujo)"
   ]
  },
  {
   "cell_type": "code",
   "execution_count": null,
   "metadata": {
    "slideshow": {
     "slide_type": "skip"
    }
   },
   "outputs": [],
   "source": [
    "import numpy as np\n",
    "import pandas as pd\n",
    "import datetime as dt\n",
    "import matplotlib as mpl\n",
    "import matplotlib.pyplot as plt\n",
    "import seaborn as sns\n",
    "sns.set(rc={'figure.figsize':(10, 6)})\n",
    "\n",
    "# data\n",
    "grants=pd.read_feather('data/project.feather')\n",
    "grants=grants.dropna(subset=['start_date'])\n",
    "grants['year'] = grants['start_date'].dt.year\n",
    "grantees=pd.read_feather('data/grantee.feather')\n",
    "people=pd.read_feather('data/person.feather')\n",
    "\n",
    "# project leaders + project employees + gender + their projects\n",
    "df=(grantees\n",
    "      .query('role in [\"employee\", \"responsible_applicant\"]')\n",
    "      .merge(people[['person_id_snsf', 'gender']], on='person_id_snsf')\n",
    "      .merge(grants, on='project_number'))\n",
    "# ...\n",
    "df = df.drop(['index_x', 'index_y'], axis=1)\n",
    "# to prevent error on pivoting\n",
    "df['gender'] = df.gender.astype(str) # for pivoting later\n",
    "df['role'] = df.role.astype(str) # for pivo"
   ]
  },
  {
   "cell_type": "markdown",
   "metadata": {
    "slideshow": {
     "slide_type": "slide"
    }
   },
   "source": [
    "## The \"leaky\" pipeline\n",
    "\n",
    "It is well-known that women are underrepresented in leadership positions.  Science is no exception. The \"leaky\" pipeline refers to the overly disproportionate loss of women throughout careers in science.\n",
    "\n",
    "**If science careers are a \"leaky\" pipeline for women scientists, then the share of women leading science projects is expected to be lower than the share of women employed in science projects.**\n",
    "\n",
    "---"
   ]
  },
  {
   "cell_type": "markdown",
   "metadata": {
    "slideshow": {
     "slide_type": "fragment"
    }
   },
   "source": [
    "See also: \n",
    "1. [Leaky pipeline for women scientists dries up after they win first big grant](https://www.nature.com/articles/d41586-018-05759-w), _in Nature, 2018_\n",
    "2. [A Leak in the Academic Pipeline](https://www.frontiersin.org/articles/10.3389/fpsyg.2019.01297/full), _in Frontiers, 2019_"
   ]
  },
  {
   "cell_type": "markdown",
   "metadata": {
    "slideshow": {
     "slide_type": "slide"
    }
   },
   "source": [
    "## Looking for evidence\n",
    "\n",
    "The leading public science funding agency in Switzerland makes its data freely available:  \n",
    " - over 70k science projects, spanning across 50 years  \n",
    " - over 100k scientists  \n",
    " - function and gender of each scientist\n",
    " \n",
    "Source: [p3.snf.ch](http://p3.snf.ch/Pages/DataAndDocumentation.aspx)"
   ]
  },
  {
   "cell_type": "code",
   "execution_count": null,
   "metadata": {
    "slideshow": {
     "slide_type": "skip"
    }
   },
   "outputs": [],
   "source": [
    "# counts by year between 2000 and 2019\n",
    "counts = (df\n",
    "            .query('(year > 1999) & (year < 2020)')\n",
    "            .groupby(['year', 'role', 'gender']).size()\n",
    "            .reset_index().rename(columns={0:'count'}))\n",
    "counts = counts.pivot_table(index=['year', 'role'], columns='gender', values='count', fill_value=0)\n",
    "counts['both'] = (counts['male'] + counts['female'])\n",
    "counts['percent_women'] = 100 * counts['female'] / counts['both']\n",
    "counts['percent_men'] = 100 * counts['male'] / counts['both']"
   ]
  },
  {
   "cell_type": "code",
   "execution_count": null,
   "metadata": {
    "slideshow": {
     "slide_type": "skip"
    }
   },
   "outputs": [],
   "source": [
    "counts.query('role==\"employee\"')"
   ]
  },
  {
   "cell_type": "code",
   "execution_count": null,
   "metadata": {
    "slideshow": {
     "slide_type": "skip"
    }
   },
   "outputs": [],
   "source": [
    "sns.set_style(\"whitegrid\")\n",
    "plt.box(on=None)\n",
    "g=sns.barplot(x='year', y='percent_women', color='#3f72af', data=counts.query('role == \"employee\"').reset_index())\n",
    "g.set_xlabel('')\n",
    "g.set_ylabel('')\n",
    "g.set(ylim=(0, 100))\n",
    "g.axhline(50, linestyle='--', alpha=.7)\n",
    "g.set_title('Percentage of women employed in science projects', fontsize = 16, x=.28, y=1.05)\n",
    "fig = g.get_figure()\n",
    "fig.savefig(\"docs/img/plot1.svg\")"
   ]
  },
  {
   "cell_type": "markdown",
   "metadata": {
    "slideshow": {
     "slide_type": "slide"
    }
   },
   "source": [
    "## Share of women employed in science projects\n",
    "\n",
    "\n",
    "![plot 1](./img/plot1.svg \"Percentage of women employed in science projects\")\n",
    "\n",
    "The share of women employed in science projects raised from 38% in 2000 to 46% in 2019."
   ]
  },
  {
   "cell_type": "code",
   "execution_count": null,
   "metadata": {
    "slideshow": {
     "slide_type": "skip"
    }
   },
   "outputs": [],
   "source": [
    "counts.query('role==\"responsible_applicant\"')"
   ]
  },
  {
   "cell_type": "code",
   "execution_count": null,
   "metadata": {
    "slideshow": {
     "slide_type": "skip"
    }
   },
   "outputs": [],
   "source": [
    "plt.box(on=None)\n",
    "sns.set_style(\"whitegrid\")\n",
    "g=sns.barplot(x='year', y='percent_women', color='#3f72af', data=counts.query('role == \"responsible_applicant\"').reset_index())\n",
    "g.set_xlabel('')\n",
    "g.set_ylabel('')\n",
    "g.set(ylim=(0, 100))\n",
    "g.axhline(50, linestyle='--', alpha=.7)\n",
    "g.set_title('Percentage of women leading science projects', fontsize = 16, x=.25, y=1.05)\n",
    "fig = g.get_figure()\n",
    "fig.savefig(\"docs/img/plot2.svg\")"
   ]
  },
  {
   "cell_type": "markdown",
   "metadata": {
    "slideshow": {
     "slide_type": "slide"
    }
   },
   "source": [
    "## Share of women leading science projects\n",
    "\n",
    "\n",
    "![plot 2](./img/plot2.svg \"Percentage of women leading science projects\")\n",
    "\n",
    "The share of women leading science projects raised from 15% in 2000 to 33% in 2019."
   ]
  },
  {
   "cell_type": "code",
   "execution_count": null,
   "metadata": {
    "slideshow": {
     "slide_type": "skip"
    }
   },
   "outputs": [],
   "source": [
    "gap_women = counts.pivot_table(index=['year'], columns='role', values='percent_women', fill_value=0)\n",
    "gap_women['ratio'] = gap_women['responsible_applicant'] / gap_women['employee']\n",
    "gap_men = counts.pivot_table(index=['year'], columns='role', values='percent_men', fill_value=0)\n",
    "gap_men['ratio'] = gap_men['responsible_applicant'] / gap_men['employee']\n",
    "gap = pd.concat([gap_women, gap_men], keys=['women', 'men'])\n",
    "gap = gap.reset_index().rename(columns={'level_0':'gender'})"
   ]
  },
  {
   "cell_type": "code",
   "execution_count": null,
   "metadata": {
    "slideshow": {
     "slide_type": "skip"
    }
   },
   "outputs": [],
   "source": [
    "# custom lineplot with matplotlib\n",
    "mpl.rcParams['lines.linewidth']=3\n",
    "plt.rcParams['figure.figsize']=(10, 6)\n",
    "plt.gcf().set_size_inches(10, 6)\n",
    "plt.style.use('seaborn-whitegrid')\n",
    "plt.plot(gap.query('gender==\"women\"').year, \n",
    "         gap.query('gender==\"women\"').ratio,\n",
    "         '-o',\n",
    "         markersize=8,\n",
    "         markerfacecolor='white',\n",
    "         markeredgewidth=3)\n",
    "plt.plot(gap.query('gender==\"men\"').year, \n",
    "         gap.query('gender==\"men\"').ratio,\n",
    "         '-o',\n",
    "         markersize=8,\n",
    "         markerfacecolor='white',\n",
    "         markeredgewidth=3)\n",
    "plt.figtext(.85, .18, \n",
    "            u'Women', ha='left', va='bottom', \n",
    "            color='#1f77b4', fontsize='large', fontweight='semibold')\n",
    "plt.figtext(.85, .6, \n",
    "            u'Men', ha='left', va='bottom', \n",
    "            color='#ff7f0e', fontsize='large', fontweight='semibold')\n",
    "plt.axhline(y=1, color='black', linestyle='-', linewidth=3, alpha=.15)\n",
    "plt.xlim(1998, 2021)\n",
    "plt.ylim(.35, 1.55)\n",
    "plt.title('Ratio between leaders and employees in science projects', fontsize='x-large', fontweight='light', x = .3)\n",
    "plt.box(on=None)\n",
    "plt.tight_layout()\n",
    "plt.savefig(\"docs/img/plot3.svg\")"
   ]
  },
  {
   "cell_type": "markdown",
   "metadata": {
    "slideshow": {
     "slide_type": "slide"
    }
   },
   "source": [
    "## Leadership gap between men and women\n",
    "\n",
    "![plot 3](./img/plot3.svg \"Ratio bewteen people leading and employed in science projects\")\n",
    "\n",
    "The leadership gap between men and women appears to be steadily closing."
   ]
  },
  {
   "cell_type": "markdown",
   "metadata": {
    "slideshow": {
     "slide_type": "slide"
    }
   },
   "source": [
    "## Discussion\n",
    "\n",
    "Steady decrease of the gap between the share of women leading science projects and the share of women employed in science projects.\n",
    "\n",
    "Next steps: (1) domain-by-domain figures, (2) exclude one-person programmes.\n",
    "\n",
    "---"
   ]
  },
  {
   "cell_type": "markdown",
   "metadata": {
    "slideshow": {
     "slide_type": "fragment"
    }
   },
   "source": [
    "Further reading:  \n",
    "- [Promotion of women by the SNSF](http://www.snf.ch/en/researchinFocus/newsroom/Pages/news-181004-promotion-of-women-by-the-snsf.aspx)  \n",
    "- [Fix the leaky pipeline](https://www.fix-the-leaky-pipeline.ch)\n"
   ]
  }
 ],
 "metadata": {
  "celltoolbar": "Slideshow",
  "kernelspec": {
   "display_name": "Python 3",
   "language": "python",
   "name": "python3"
  },
  "language_info": {
   "codemirror_mode": {
    "name": "ipython",
    "version": 3
   },
   "file_extension": ".py",
   "mimetype": "text/x-python",
   "name": "python",
   "nbconvert_exporter": "python",
   "pygments_lexer": "ipython3",
   "version": "3.8.5"
  }
 },
 "nbformat": 4,
 "nbformat_minor": 2
}
